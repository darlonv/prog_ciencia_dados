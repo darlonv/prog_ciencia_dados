{
 "cells": [
  {
   "cell_type": "markdown",
   "id": "5b6d4a93",
   "metadata": {},
   "source": [
    "# Exemplo de aplicação streamlit\n",
    "\n",
    "Neste exemplo, desenvolveremos uma ferramenta que apresenta informações sobre apartamentos no Rio de Janeiro.\n",
    "\n",
    "Serão realizadas diversas versões, onde cada uma aprimora a versão anterior."
   ]
  },
  {
   "cell_type": "markdown",
   "id": "8f6dabbb",
   "metadata": {},
   "source": [
    "# Versão 01 - Apresenta base\n",
    "\n",
    "Na primeira versão, apenas leremos a base e a apresentaremos na página."
   ]
  },
  {
   "cell_type": "markdown",
   "id": "e8d41470",
   "metadata": {},
   "source": [
    "### Importação de bibliotecas\n",
    "\n",
    "```python\n",
    "#Importa bibliotecas\n",
    "import streamlit as st\n",
    "import pandas as pd\n",
    "```"
   ]
  },
  {
   "cell_type": "markdown",
   "id": "a8cdf103",
   "metadata": {},
   "source": [
    "## Apresentação \n",
    "\n",
    "```python\n",
    "#Título na página\n",
    "st.title('Apartamentos na cidade do Rio de Janeiro')\n",
    "```"
   ]
  },
  {
   "cell_type": "markdown",
   "id": "1807aeb8",
   "metadata": {},
   "source": [
    "## Carregamento da base\n",
    "```python\n",
    "#Carrega a base\n",
    "rioAptos = pd.read_csv('https://raw.githubusercontent.com/mvinoba/notebooks-for-binder/master/dados.csv')\n",
    "base = rioAptos.copy()\n",
    "```"
   ]
  },
  {
   "cell_type": "markdown",
   "id": "7ede3daa",
   "metadata": {},
   "source": [
    "## Apresentando a base\n",
    "```python\n",
    "#Mostra a base\n",
    "st.dataframe(base)\n",
    "```"
   ]
  },
  {
   "cell_type": "markdown",
   "id": "821b52f4",
   "metadata": {},
   "source": [
    "Código final V01:\n",
    "```python\n",
    "#Importa bibliotecas\n",
    "import streamlit as st\n",
    "import pandas as pd\n",
    "\n",
    "\n",
    "#Título na página\n",
    "st.title('Apartamentos na cidade do Rio de Janeiro')\n",
    "\n",
    "#Carrega a base\n",
    "rioAptos = pd.read_csv('https://raw.githubusercontent.com/mvinoba/notebooks-for-binder/master/dados.csv')\n",
    "base = rioAptos.copy()\n",
    "\n",
    "#Mostra a base\n",
    "st.dataframe(base)\n",
    "```"
   ]
  },
  {
   "cell_type": "markdown",
   "id": "e7aa8db7",
   "metadata": {},
   "source": [
    "# Versão 02 - Escolhendo bairros\n",
    "\n",
    "Nesta versão faremos com que seja possível escolher o bairro, e apresentaremos apenas os apartamentos do bairro escolhido\n"
   ]
  },
  {
   "cell_type": "markdown",
   "id": "94ee93c0",
   "metadata": {},
   "source": [
    "## Escolhendo bairros\n",
    "Incluiremos um radio button, para seleção do bairro.\n",
    "\n",
    "Antes de mostrar a base, inclua:\n",
    "```python\n",
    "#Escolha do bairro\n",
    "bairros = ['Botafogo','Tijuca']\n",
    "bairro = st.radio('Escolha o bairro', bairros )\n",
    "st.write('Bairro escolhido:', bairro)\n",
    "```\n",
    "\n",
    "Ainda precisamos informar a base que deve mostrar apenas os apartamentos no bairro escolhido. Para isso, podemos filtrar a base:\n",
    "```python\n",
    "#Filtra de acordo com o bairro escolhido\n",
    "base = base[base['bairro']==bairro]\n",
    "```\n"
   ]
  },
  {
   "cell_type": "markdown",
   "id": "e5d97b74",
   "metadata": {},
   "source": [
    "Da forma como está implementado até o momento, cada bairro deve ser incluído na lista de escolhas. Faremos com que todos os bairros da base estejam disponíveis para escolha.\n",
    "\n",
    "Altere o código na escolha do bairro para:\n",
    "```python\n",
    "#Escolha do bairro\n",
    "bairros = base['bairros'].unique() #Obtém todos os bairros presentes na base\n",
    "bairro = st.radio('Escolha o bairro', bairros )\n",
    "# st.write('Bairro escolhido:', bairro) #Esta linha não é mais necessária. A opção escolhida já é visível\n",
    "\n",
    "#Filtra de acordo com o bairro escolhido\n",
    "base = base[base['bairro']==bairro]\n",
    "```"
   ]
  },
  {
   "cell_type": "markdown",
   "id": "50aa5752",
   "metadata": {},
   "source": [
    "Código final  v02:\n",
    "```python\n",
    "#Importa bibliotecas\n",
    "import streamlit as st\n",
    "import pandas as pd\n",
    "\n",
    "\n",
    "#Título na página\n",
    "st.title('Apartamentos na cidade do Rio de Janeiro')\n",
    "\n",
    "#Carrega a base\n",
    "rioAptos = pd.read_csv('https://raw.githubusercontent.com/mvinoba/notebooks-for-binder/master/dados.csv')\n",
    "base = rioAptos.copy()\n",
    "\n",
    "#Escolha do bairro\n",
    "bairros = base['bairro'].unique()\n",
    "bairro = st.radio('Escolha o bairro', bairros )\n",
    "\n",
    "#Filtra de acordo com o bairro escolhido\n",
    "base = base[base['bairro']==bairro]\n",
    "\n",
    "#Mostra a base\n",
    "st.dataframe(base)\n",
    "```"
   ]
  },
  {
   "cell_type": "markdown",
   "id": "6da372bc",
   "metadata": {},
   "source": [
    "# Versão 03 - Escolhendo mais de um bairro"
   ]
  },
  {
   "cell_type": "markdown",
   "id": "1756891d",
   "metadata": {},
   "source": [
    "Outra opção além do radio button para seleção o `.selectbox()`. Ele opera da mesma maneira, porém apresenta um menu para escolha.\n",
    "\n",
    "Substitua a linha da escolha de bairros:\n",
    "```python\n",
    "#Escolha do bairro\n",
    "bairros = base['bairro'].unique()\n",
    "bairro = st.selectbox('Escolha o bairro', bairros )\n",
    "```\n",
    "\n",
    "Observe que é o mesmo comportamento."
   ]
  },
  {
   "cell_type": "markdown",
   "id": "d8d88219",
   "metadata": {},
   "source": [
    "Para que possamos escolher diversos apartamentos, utilizaremos o `.multiselect()`, que retorna uma lista com as escolhas. Tendo as escolhas, é necessário filtrar a base utilizando o método `.isin()`.\n",
    "\n",
    "```python\n",
    "#Escolha do bairro\n",
    "bairros = base['bairro'].unique()\n",
    "bairro = st.multiselect('Escolha o bairro', bairros ) #Uso do multiselect\n",
    "\n",
    "#Filtra de acordo com o bairro escolhido\n",
    "base = base[base['bairro'].isin(bairro)] #Filtra pelos nomes de bairro que estiverem na lista\n",
    "```"
   ]
  },
  {
   "cell_type": "markdown",
   "id": "09b0d355",
   "metadata": {},
   "source": [
    "Código final v03:\n",
    "\n",
    "```python\n",
    "#Importa bibliotecas\n",
    "import streamlit as st\n",
    "import pandas as pd\n",
    "\n",
    "\n",
    "#Título na página\n",
    "st.title('Apartamentos na cidade do Rio de Janeiro')\n",
    "\n",
    "#Carrega a base\n",
    "rioAptos = pd.read_csv('https://raw.githubusercontent.com/mvinoba/notebooks-for-binder/master/dados.csv')\n",
    "base = rioAptos.copy()\n",
    "\n",
    "#Escolha do bairro\n",
    "bairros = base['bairro'].unique()\n",
    "bairro = st.multiselect('Escolha o bairro', bairros ) #Uso do multiselect\n",
    "\n",
    "#Filtra de acordo com o bairro escolhido\n",
    "base = base[base['bairro'].isin(bairro)] #Filtra pelos nomes de bairro que estiverem na lista\n",
    "\n",
    "#Mostra a base\n",
    "st.dataframe(base)\n",
    "```"
   ]
  },
  {
   "cell_type": "markdown",
   "id": "7c67ceb3",
   "metadata": {},
   "source": [
    "# Versão 04 - Filtrando valores\n",
    "\n",
    "Agora aplicaremos um segundo filtro, em que sejam apresentados apenas apartamentos em um uma determinada faixa de valores.\n",
    "\n",
    "Para tal, utilizaremos um slider. Após o filtro da base de acordo com a escolha do bairro, inclua:\n",
    "\n",
    "```python\n",
    "# Escolha dos valores\n",
    "faixa = st.slider('Faixa de valor (R$)', 100000, 200000, 150000) #Valor inicial e final\n",
    "st.write(faixa)\n",
    "```\n",
    "\n",
    "Modifique para haja 2 valores padrão, utilizando uma lista\n",
    "```python\n",
    "# Escolha dos valores\n",
    "faixa = st.slider('Faixa de valor (R$)', 100000, 200000, [140000,160000]) #Valor inicial e final\n",
    "st.write(faixa)\n",
    "```"
   ]
  },
  {
   "cell_type": "markdown",
   "id": "29f70fb1",
   "metadata": {},
   "source": [
    "Agora, atualizaremos os possíveis valores a serem escolhidos de acordo os valores existentes na base.\n",
    "\n",
    "```python\n",
    "# Escolha dos valores\n",
    "menor = base['preco'].min() #Obtem o menor preço\n",
    "maior = base['preco'].max()#Obtem o maior preço\n",
    "faixa = st.slider('Faixa de valor (R$)', menor, maior, [menor,maior]) #Valor inicial e final\n",
    "st.write(faixa)\n",
    "```"
   ]
  },
  {
   "cell_type": "markdown",
   "id": "ec6c0f51",
   "metadata": {},
   "source": [
    "Finalmente, realizaremos o filtro na base de acordo com os valores selecionados\n",
    "\n",
    "```python\n",
    "# Escolha dos valores\n",
    "menor = int(base['preco'].min()) #Obtem o menor preço\n",
    "maior = int(base['preco'].max()) #Obtem o maior preço\n",
    "\n",
    "faixa = st.slider('Faixa de valor (R$)', menor, maior, [menor, maior]) #Valor inicial e final\n",
    "st.write(faixa) #Já pode ser removido\n",
    "\n",
    "#Filtra a base pelos valores escolhidos\n",
    "base = base[base['preco']>=faixa[0]] #Apenas preços acima do menor escolhido\n",
    "base = base[base['preco']<=faixa[1]] #Apenas preços abaixo do maior escolhido\n",
    "```"
   ]
  },
  {
   "cell_type": "markdown",
   "id": "1a1fa4f2",
   "metadata": {},
   "source": [
    "Código final v03:\n",
    "```python\n",
    "#Importa bibliotecas\n",
    "import streamlit as st\n",
    "import pandas as pd\n",
    "\n",
    "\n",
    "#Título na página\n",
    "st.title('Apartamentos na cidade do Rio de Janeiro')\n",
    "\n",
    "#Carrega a base\n",
    "rioAptos = pd.read_csv('https://raw.githubusercontent.com/mvinoba/notebooks-for-binder/master/dados.csv')\n",
    "base = rioAptos.copy()\n",
    "\n",
    "#Escolha do bairro\n",
    "bairros = base['bairro'].unique()\n",
    "bairro = st.multiselect('Escolha o bairro', bairros )\n",
    "\n",
    "#Filtra de acordo com o bairro escolhido\n",
    "base = base[base['bairro'].isin(bairro)]\n",
    "\n",
    "# Escolha dos valores\n",
    "menor = int(base['preco'].min()) #Obtem o menor preço\n",
    "maior = int(base['preco'].max()) #Obtem o maior preço\n",
    "\n",
    "faixa = st.slider('Faixa de valor (R$)', menor, maior, [menor, maior]) #Valor inicial e final\n",
    "\n",
    "#Filtra a base pelos valores escolhidos\n",
    "base = base[base['preco']>=faixa[0]] #Apenas preços acima do menor escolhido\n",
    "base = base[base['preco']<=faixa[1]] #Apenas preços abaixo do maior escolhido\n",
    "\n",
    "#Mostra a base\n",
    "st.dataframe(base)\n",
    "```"
   ]
  },
  {
   "cell_type": "markdown",
   "id": "3c37c1f1",
   "metadata": {},
   "source": [
    "# Versão 04 - Apresentando valores médios\n",
    "\n",
    "Nesta versão, destacaremos os valores médios de condomínio, preço e área do apartemento."
   ]
  },
  {
   "cell_type": "markdown",
   "id": "7628a4d3",
   "metadata": {},
   "source": [
    "Ao final, utilizaremos `.metric()` para apresentar os valores médios."
   ]
  },
  {
   "cell_type": "markdown",
   "id": "287d043f",
   "metadata": {},
   "source": [
    "Valor médio do condomínio:\n",
    "```python\n",
    "#Valor médio do condomínio\n",
    "cond_med = base['condominio'].mean()\n",
    "st.metric('Valor médio do condomínio (R$)', round(cond_med))\n",
    "```"
   ]
  },
  {
   "cell_type": "markdown",
   "id": "31d5e726",
   "metadata": {},
   "source": [
    "Preço médio:\n",
    "```python\n",
    "#Preço médio\n",
    "preco_med = base['preco'].mean()\n",
    "st.metric('Preço médio (R$)', round(preco_med))\n",
    "```"
   ]
  },
  {
   "cell_type": "markdown",
   "id": "c7785d88",
   "metadata": {},
   "source": [
    "```python\n",
    "#Área média\n",
    "area_med = base['area'].mean()\n",
    "st.metric('Área média (M2)', round(area_med))\n",
    "```"
   ]
  },
  {
   "cell_type": "markdown",
   "id": "1d7fc7f0",
   "metadata": {},
   "source": [
    "Código final v04:\n",
    "```python\n",
    "#Importa bibliotecas\n",
    "import streamlit as st\n",
    "import pandas as pd\n",
    "\n",
    "#Título na página\n",
    "st.title('Apartamentos na cidade do Rio de Janeiro')\n",
    "\n",
    "#Carrega a base\n",
    "rioAptos = pd.read_csv('https://raw.githubusercontent.com/mvinoba/notebooks-for-binder/master/dados.csv')\n",
    "base = rioAptos.copy()\n",
    "\n",
    "#Escolha do bairro\n",
    "bairros = base['bairro'].unique()\n",
    "bairro = st.multiselect('Escolha o bairro', bairros )\n",
    "\n",
    "#Filtra de acordo com o bairro escolhido\n",
    "base = base[base['bairro'].isin(bairro)]\n",
    "\n",
    "# Escolha dos valores\n",
    "menor = int(base['preco'].min()) #Obtem o menor preço\n",
    "maior = int(base['preco'].max()) #Obtem o maior preço\n",
    "\n",
    "faixa = st.slider('Faixa de valor', menor, maior, [menor, maior]) #Valor inicial e final\n",
    "\n",
    "#Filtra a base pelos valores escolhidos\n",
    "base = base[base['preco']>=faixa[0]] #Apenas preços acima do menor escolhido\n",
    "base = base[base['preco']<=faixa[1]] #Apenas preços abaixo do maior escolhido\n",
    "\n",
    "#Mostra a base\n",
    "st.dataframe(base)\n",
    "\n",
    "#Valores médios\n",
    "#Valor médio do condomínio\n",
    "cond_med = base['condominio'].mean()\n",
    "st.metric('Valor médio do condomínio (R$)', round(cond_med))\n",
    "#Preço médio\n",
    "preco_med = base['preco'].mean()\n",
    "st.metric('Preço médio (R$)', round(preco_med))\n",
    "#Área média\n",
    "area_med = base['area'].mean()\n",
    "st.metric('Área média (M2)', round(area_med))\n",
    "```\n"
   ]
  },
  {
   "cell_type": "markdown",
   "id": "2ece65bc",
   "metadata": {},
   "source": [
    "# Versão 05 - Valores médios em colunas\n",
    "\n",
    "Os valores em destaque podem ser organizados lado a lado. Para tal, utilizaremos o método `.columns()`, com 3 colunas\n",
    "\n",
    "```python\n",
    "#Valores médios\n",
    "cond_med = base['condominio'].mean() #Valor médio do condomínio\n",
    "preco_med = base['preco'].mean() #Preço médio\n",
    "area_med = base['area'].mean() #Área média\n",
    "\n",
    "st.write('Valores médios')\n",
    "c1,c2, c3 = st.columns(3) # Cria as 3 colunas\n",
    "c1.metric('Condomínio (R$)', round(cond_med)) #1ra coluna: condomínio\n",
    "c2.metric('Preço (R$)', round(preco_med)) #2da coluna: preço\n",
    "c3.metric('Área(M2)', round(area_med)) #4ra coluna: área\n",
    "```"
   ]
  },
  {
   "cell_type": "markdown",
   "id": "7b35e83f",
   "metadata": {},
   "source": [
    "Código final v05:\n",
    "\n",
    "```python\n",
    "#Importa bibliotecas\n",
    "import streamlit as st\n",
    "import pandas as pd\n",
    "\n",
    "#Título na página\n",
    "st.title('Apartamentos na cidade do Rio de Janeiro')\n",
    "\n",
    "#Carrega a base\n",
    "rioAptos = pd.read_csv('https://raw.githubusercontent.com/mvinoba/notebooks-for-binder/master/dados.csv')\n",
    "base = rioAptos.copy()\n",
    "\n",
    "#Escolha do bairro\n",
    "bairros = base['bairro'].unique()\n",
    "bairro = st.multiselect('Escolha o bairro', bairros )\n",
    "\n",
    "#Filtra de acordo com o bairro escolhido\n",
    "base = base[base['bairro'].isin(bairro)]\n",
    "\n",
    "# Escolha dos valores\n",
    "menor = int(base['preco'].min()) #Obtem o menor preço\n",
    "maior = int(base['preco'].max()) #Obtem o maior preço\n",
    "\n",
    "faixa = st.slider('Faixa de valor', menor, maior, [menor, maior]) #Valor inicial e final\n",
    "\n",
    "#Filtra a base pelos valores escolhidos\n",
    "base = base[base['preco']>=faixa[0]] #Apenas preços acima do menor escolhido\n",
    "base = base[base['preco']<=faixa[1]] #Apenas preços abaixo do maior escolhido\n",
    "\n",
    "#Mostra a base\n",
    "st.dataframe(base)\n",
    "\n",
    "#Valores médios\n",
    "cond_med = base['condominio'].mean() #Valor médio do condomínio\n",
    "preco_med = base['preco'].mean() #Preço médio\n",
    "area_med = base['area'].mean() #Área média\n",
    "\n",
    "st.write('Valores médios')\n",
    "c1,c2, c3 = st.columns(3) # Cria as 3 colunas\n",
    "c1.metric('Condomínio (R$)', round(cond_med)) #1ra coluna: condomínio\n",
    "c2.metric('Preço (R$)', round(preco_med)) #2da coluna: preço\n",
    "c3.metric('Área(M2)', round(area_med)) #4ra coluna: área\n",
    "\n",
    "```"
   ]
  },
  {
   "cell_type": "markdown",
   "id": "cdb57c3b",
   "metadata": {},
   "source": [
    "# Versão 06 - Barra lateral\n",
    "\n",
    "De maneira a apresentar os dados melhor visualmente, colocaremos os elementos interativos em uma barra lateral. Para isso precisaremos modificar as linhas de código onde onde há a entrada de dados pelo usuário, incluindo `.sidebar` nos métodos `.multiselect()` e `.slider()`.\n",
    "\n",
    "Na escolha do bairro:\n",
    "```python\n",
    "bairro = st.sidebar.multiselect('Escolha o bairro', bairros )\n",
    "```\n",
    "\n",
    "Na escolha dos valores:\n",
    "```python\n",
    "faixa = st.sidebar.slider('Faixa de valor', menor, maior, [menor, maior]) #Valor inicial e final\n",
    "```"
   ]
  },
  {
   "cell_type": "markdown",
   "id": "05984395",
   "metadata": {},
   "source": [
    "Código final v06:\n",
    "\n",
    "```python\n",
    "#Importa bibliotecas\n",
    "import streamlit as st\n",
    "import pandas as pd\n",
    "\n",
    "#Título na página\n",
    "st.title('Apartamentos na cidade do Rio de Janeiro')\n",
    "\n",
    "#Carrega a base\n",
    "rioAptos = pd.read_csv('https://raw.githubusercontent.com/mvinoba/notebooks-for-binder/master/dados.csv')\n",
    "base = rioAptos.copy()\n",
    "\n",
    "#Escolha do bairro\n",
    "bairros = base['bairro'].unique()\n",
    "bairro = st.sidebar.multiselect('Escolha o bairro', bairros )\n",
    "\n",
    "#Filtra de acordo com o bairro escolhido\n",
    "base = base[base['bairro'].isin(bairro)]\n",
    "\n",
    "# Escolha dos valores\n",
    "menor = int(base['preco'].min()) #Obtem o menor preço\n",
    "maior = int(base['preco'].max()) #Obtem o maior preço\n",
    "\n",
    "faixa = st.sidebar.slider('Faixa de valor', menor, maior, [menor, maior]) #Valor inicial e final\n",
    "\n",
    "#Filtra a base pelos valores escolhidos\n",
    "base = base[base['preco']>=faixa[0]] #Apenas preços acima do menor escolhido\n",
    "base = base[base['preco']<=faixa[1]] #Apenas preços abaixo do maior escolhido\n",
    "\n",
    "#Mostra a base\n",
    "st.dataframe(base)\n",
    "\n",
    "#Valores médios\n",
    "cond_med = base['condominio'].mean() #Valor médio do condomínio\n",
    "preco_med = base['preco'].mean() #Preço médio\n",
    "area_med = base['area'].mean() #Área média\n",
    "\n",
    "st.write('Valores médios')\n",
    "c1,c2, c3 = st.columns(3) # Cria as 3 colunas\n",
    "c1.metric('Condomínio (R$)', round(cond_med)) #1ra coluna: condomínio\n",
    "c2.metric('Preço (R$)', round(preco_med)) #2da coluna: preço\n",
    "c3.metric('Área(M2)', round(area_med)) #4ra coluna: área\n",
    "\n",
    "```"
   ]
  },
  {
   "cell_type": "markdown",
   "id": "ce4bc884",
   "metadata": {},
   "source": [
    "## Referências\n",
    "\n",
    "FIGUEIREDO, V. Base de dados com apartamentos do Rio de Janeiro. Disponível em: <https://github.com/mvinoba/notebooks-for-binder>. Acesso em 27 ago 2021.  \n",
    "\n",
    "[STREAMLIT. Streamlit API Reference.](http://docs.streamlit.io/en/stable/api.html). Acesso em 27 ago 2021.\n",
    "\n",
    "### Outros materiais\n",
    "FIGUEIREDO, V. Seus primeiros passos como Data Scientist: Introdução ao Pandas!. Blog Data Hackers, via Medium.com. Disponível em <https://medium.com/data-hackers/uma-introdução-simples-ao-pandas-1e15eea37fa1>. Acesso em 27 ago 2021."
   ]
  }
 ],
 "metadata": {
  "kernelspec": {
   "display_name": "Python 3",
   "language": "python",
   "name": "python3"
  },
  "language_info": {
   "codemirror_mode": {
    "name": "ipython",
    "version": 3
   },
   "file_extension": ".py",
   "mimetype": "text/x-python",
   "name": "python",
   "nbconvert_exporter": "python",
   "pygments_lexer": "ipython3",
   "version": "3.6.8"
  }
 },
 "nbformat": 4,
 "nbformat_minor": 5
}
