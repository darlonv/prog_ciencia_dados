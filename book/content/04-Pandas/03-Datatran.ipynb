{
 "cells": [
  {
   "cell_type": "markdown",
   "id": "74b7da2e",
   "metadata": {},
   "source": [
    "A Polícia Rodoviária Federal (PRF) disponibiliza dados sobre os acidentes de trânsito ocorridos em rodovias federais.\n",
    "\n",
    "[DATATRAN](https://www.gov.br/prf/pt-br/acesso-a-informacao/dados-abertos/dados-abertos-acidentes)"
   ]
  },
  {
   "cell_type": "code",
   "execution_count": null,
   "id": "b03328ce",
   "metadata": {},
   "outputs": [],
   "source": [
    "import pandas as pd"
   ]
  },
  {
   "cell_type": "markdown",
   "id": "e5e04974",
   "metadata": {},
   "source": [
    "Download da base:\n",
    "\n",
    "```python\n",
    "print('Realizando download...')\n",
    "!wget -q --show-progress -O base_2021.zip 'http://arquivos.prf.gov.br/arquivos/index.php/s/n1T3lymvIdDOzzb/download'\n",
    "print('Descompactando...')\n",
    "!unzip -q -o base_2021.zip\n",
    "print('Removendo arquivo compactado...')\n",
    "!rm base_2021.zip\n",
    "!ls *.csv\n",
    "```"
   ]
  },
  {
   "cell_type": "code",
   "execution_count": null,
   "id": "fff08855",
   "metadata": {},
   "outputs": [],
   "source": [
    "print('Realizando download...')\n",
    "!wget -q --show-progress -O base_2021.zip 'http://arquivos.prf.gov.br/arquivos/index.php/s/n1T3lymvIdDOzzb/download'\n",
    "print('Descompactando...')\n",
    "!unzip -q -o base_2021.zip\n",
    "print('Removendo arquivo compactado...')\n",
    "!rm base_2021.zip\n",
    "!ls *.csv"
   ]
  },
  {
   "cell_type": "markdown",
   "id": "7d16d03c",
   "metadata": {},
   "source": [
    "Para abrir a base:\n",
    "\n",
    "```python\n",
    "fonte='./datatran2021.csv'\n",
    "base_21 = pd.read_csv(fonte, \n",
    "                      encoding='latin-1',\n",
    "                      sep=';')\n",
    "```"
   ]
  },
  {
   "cell_type": "code",
   "execution_count": null,
   "id": "c01ec435",
   "metadata": {},
   "outputs": [],
   "source": [
    "fonte='./datatran2021.csv'\n",
    "base = pd.read_csv(fonte, \n",
    "                      encoding='latin-1',\n",
    "                      sep=';')"
   ]
  },
  {
   "cell_type": "code",
   "execution_count": null,
   "id": "244c25b1",
   "metadata": {},
   "outputs": [],
   "source": [
    "base.head()"
   ]
  },
  {
   "cell_type": "code",
   "execution_count": null,
   "id": "02412571",
   "metadata": {},
   "outputs": [],
   "source": [
    "base.shape #Mostra o número de linhas e colunas na base"
   ]
  },
  {
   "cell_type": "code",
   "execution_count": null,
   "id": "72ce5088",
   "metadata": {},
   "outputs": [],
   "source": [
    "base.info() #Mostra informações sobre a base"
   ]
  },
  {
   "cell_type": "code",
   "execution_count": null,
   "id": "b69c12fd",
   "metadata": {},
   "outputs": [],
   "source": []
  },
  {
   "cell_type": "markdown",
   "id": "3dfabe12",
   "metadata": {},
   "source": [
    "**Item 01**  \n",
    "- Qual é o estado que mais teve o maior número de acidentes?"
   ]
  },
  {
   "cell_type": "code",
   "execution_count": null,
   "id": "de6c36e7",
   "metadata": {},
   "outputs": [],
   "source": []
  },
  {
   "cell_type": "markdown",
   "id": "075caa69",
   "metadata": {},
   "source": [
    "**Item 02**  \n",
    "- Apresente a quantidade de acidentes por dia da semana."
   ]
  },
  {
   "cell_type": "code",
   "execution_count": null,
   "id": "cbc9bb11",
   "metadata": {},
   "outputs": [],
   "source": []
  },
  {
   "cell_type": "markdown",
   "id": "d23451df",
   "metadata": {},
   "source": [
    "**Item 03**  \n",
    "- Apresente a quantidade de acidentes por estado."
   ]
  },
  {
   "cell_type": "code",
   "execution_count": null,
   "id": "e6bcfdc1",
   "metadata": {},
   "outputs": [],
   "source": []
  },
  {
   "cell_type": "markdown",
   "id": "dbcec716",
   "metadata": {},
   "source": [
    "**Item 04**  \n",
    "- De acordo com a quantidade de acidentes, quais são as 5 rodovias mais perigosas?"
   ]
  },
  {
   "cell_type": "code",
   "execution_count": null,
   "id": "a6354848",
   "metadata": {},
   "outputs": [],
   "source": []
  },
  {
   "cell_type": "markdown",
   "id": "844a1286",
   "metadata": {},
   "source": [
    "**Item 05**  \n",
    "- Considerando apenas acidentes com vítimas fatais, qual rodovia é a mais perigosa?"
   ]
  },
  {
   "cell_type": "code",
   "execution_count": null,
   "id": "449a59a0",
   "metadata": {},
   "outputs": [],
   "source": []
  },
  {
   "cell_type": "markdown",
   "id": "6caa9421",
   "metadata": {},
   "source": [
    "**Item 06**  \n",
    "- No Paraná, quais são as 10 cidades do interior que possuiram o maior número de acidentes?"
   ]
  },
  {
   "cell_type": "code",
   "execution_count": null,
   "id": "572a8543",
   "metadata": {},
   "outputs": [],
   "source": []
  },
  {
   "cell_type": "markdown",
   "id": "2105aea6",
   "metadata": {},
   "source": [
    "**Item 07**  \n",
    "- Os acidentes com vítimas fatais ocorrem em sua maioria em trechos de curvas ou de reta?"
   ]
  },
  {
   "cell_type": "code",
   "execution_count": null,
   "id": "2193b668",
   "metadata": {},
   "outputs": [],
   "source": []
  },
  {
   "cell_type": "markdown",
   "id": "9dacb09f",
   "metadata": {},
   "source": [
    "**Item 08**  \n",
    "- Quais são as 10 maiores causas de acidentes?"
   ]
  },
  {
   "cell_type": "code",
   "execution_count": null,
   "id": "f6ca9130",
   "metadata": {},
   "outputs": [],
   "source": []
  },
  {
   "cell_type": "markdown",
   "id": "c0b3b841",
   "metadata": {},
   "source": [
    "**Item 09**  \n",
    "- Em que estado ocorre o maior núemro de acidentes em que a causa foi animais na pista?"
   ]
  },
  {
   "cell_type": "code",
   "execution_count": null,
   "id": "30ed813b",
   "metadata": {},
   "outputs": [],
   "source": []
  },
  {
   "cell_type": "markdown",
   "id": "fc9e97e0",
   "metadata": {},
   "source": [
    "**Item 10**  \n",
    "- Em Cascavel, no Paraná, qual são as rodovias que existem na base de dados?"
   ]
  },
  {
   "cell_type": "code",
   "execution_count": null,
   "id": "590a7480",
   "metadata": {},
   "outputs": [],
   "source": []
  },
  {
   "cell_type": "markdown",
   "id": "440ae4b2",
   "metadata": {},
   "source": [
    "**Item 11**  \n",
    "- Em Cascavel, no Paraná, qual é a rodovia que mais possui acidentes?"
   ]
  },
  {
   "cell_type": "code",
   "execution_count": null,
   "id": "f753a2d6",
   "metadata": {},
   "outputs": [],
   "source": []
  },
  {
   "cell_type": "markdown",
   "id": "705b4d56",
   "metadata": {},
   "source": [
    "**Item 12**  \n",
    "- Em Cascavel, no Paraná, em qual kilômetro da rodovia BR 277 ocorreram o maior número de acidentes com vítimas fatais? Obs: por padrão a coluna `br` está com valores do tipo `float`. (`277.0`)."
   ]
  },
  {
   "cell_type": "code",
   "execution_count": null,
   "id": "c8eef201",
   "metadata": {},
   "outputs": [],
   "source": []
  },
  {
   "cell_type": "markdown",
   "id": "abbfa781",
   "metadata": {},
   "source": [
    "**Item 13**  \n",
    "- O que mais pode ser explorado na base?"
   ]
  },
  {
   "cell_type": "code",
   "execution_count": null,
   "id": "3ca953c6",
   "metadata": {},
   "outputs": [],
   "source": []
  }
 ],
 "metadata": {
  "kernelspec": {
   "display_name": "Python 3 (ipykernel)",
   "language": "python",
   "name": "python3"
  },
  "language_info": {
   "codemirror_mode": {
    "name": "ipython",
    "version": 3
   },
   "file_extension": ".py",
   "mimetype": "text/x-python",
   "name": "python",
   "nbconvert_exporter": "python",
   "pygments_lexer": "ipython3",
   "version": "3.8.10"
  }
 },
 "nbformat": 4,
 "nbformat_minor": 5
}
