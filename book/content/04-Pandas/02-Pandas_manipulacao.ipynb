{
 "cells": [
  {
   "cell_type": "markdown",
   "id": "4da8d3bc",
   "metadata": {},
   "source": [
    "Pandas"
   ]
  },
  {
   "cell_type": "markdown",
   "id": "0fc0da6f",
   "metadata": {},
   "source": [
    "Adicionando colunas"
   ]
  },
  {
   "cell_type": "markdown",
   "id": "ab986ff7",
   "metadata": {},
   "source": []
  },
  {
   "cell_type": "markdown",
   "id": "8e4e7477",
   "metadata": {},
   "source": [
    "Alterando colunas"
   ]
  },
  {
   "cell_type": "markdown",
   "id": "8c9796a7",
   "metadata": {},
   "source": []
  },
  {
   "cell_type": "markdown",
   "id": "feb8da6c",
   "metadata": {},
   "source": [
    "Alterações em dataframes\n",
    "\n",
    "- substituindo uma coluna"
   ]
  },
  {
   "cell_type": "markdown",
   "id": "23058267",
   "metadata": {},
   "source": [
    "Removendo colunas\n",
    "- drop"
   ]
  },
  {
   "cell_type": "markdown",
   "id": "c71eb63e",
   "metadata": {},
   "source": [
    "Copia de dataframes\n",
    "- .copy()"
   ]
  },
  {
   "cell_type": "markdown",
   "id": "8ffa4800",
   "metadata": {},
   "source": []
  },
  {
   "cell_type": "markdown",
   "id": "1ed8a2ef",
   "metadata": {},
   "source": [
    "Filtro por valores que estão em uma lista"
   ]
  },
  {
   "cell_type": "markdown",
   "id": "64d5bbb9",
   "metadata": {},
   "source": []
  },
  {
   "cell_type": "markdown",
   "id": "d2d96166",
   "metadata": {},
   "source": [
    "Alterando o índice"
   ]
  },
  {
   "cell_type": "markdown",
   "id": "6b2c89d6",
   "metadata": {},
   "source": []
  },
  {
   "cell_type": "markdown",
   "id": "372d3bca",
   "metadata": {},
   "source": [
    "Removendo colunas duplicadas"
   ]
  },
  {
   "cell_type": "markdown",
   "id": "a7a5cdda",
   "metadata": {},
   "source": []
  },
  {
   "cell_type": "markdown",
   "id": "29de50b3",
   "metadata": {},
   "source": [
    "Acessando posições sem valores\n",
    "- operacoes sobre colunas sem valores\n",
    "- identificando registros sem valores\n",
    "- retirando\n",
    "- definindo valores"
   ]
  },
  {
   "cell_type": "markdown",
   "id": "2756a1f7",
   "metadata": {},
   "source": []
  },
  {
   "cell_type": "markdown",
   "id": "aab21c14",
   "metadata": {},
   "source": [
    "Manipulação de data e hora"
   ]
  },
  {
   "cell_type": "markdown",
   "id": "941a406d",
   "metadata": {},
   "source": [
    "Salvando dataframes"
   ]
  },
  {
   "cell_type": "markdown",
   "id": "624bb557",
   "metadata": {},
   "source": [
    "Obtendo valores de outros dataframes\n",
    "- colunas com base em outros valores"
   ]
  },
  {
   "cell_type": "markdown",
   "id": "19695d92",
   "metadata": {},
   "source": []
  },
  {
   "cell_type": "markdown",
   "id": "a422d49a",
   "metadata": {},
   "source": []
  },
  {
   "cell_type": "markdown",
   "id": "415efd8d",
   "metadata": {},
   "source": []
  },
  {
   "cell_type": "markdown",
   "id": "65f31d89",
   "metadata": {},
   "source": []
  },
  {
   "cell_type": "markdown",
   "id": "88472f92",
   "metadata": {},
   "source": []
  },
  {
   "cell_type": "markdown",
   "id": "e6df0731",
   "metadata": {},
   "source": []
  },
  {
   "cell_type": "markdown",
   "id": "0325a9b6",
   "metadata": {},
   "source": []
  },
  {
   "cell_type": "markdown",
   "id": "71d846f5",
   "metadata": {},
   "source": []
  }
 ],
 "metadata": {
  "kernelspec": {
   "display_name": "Python 3",
   "language": "python",
   "name": "python3"
  },
  "language_info": {
   "codemirror_mode": {
    "name": "ipython",
    "version": 3
   },
   "file_extension": ".py",
   "mimetype": "text/x-python",
   "name": "python",
   "nbconvert_exporter": "python",
   "pygments_lexer": "ipython3",
   "version": "3.9.4"
  }
 },
 "nbformat": 4,
 "nbformat_minor": 5
}
