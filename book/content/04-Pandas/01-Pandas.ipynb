{
 "cells": [
  {
   "cell_type": "markdown",
   "metadata": {},
   "source": [
    "# Pandas"
   ]
  },
  {
   "cell_type": "markdown",
   "metadata": {},
   "source": [
    "Pandas é uma biblioteca para análise e manipulação de dados amplamente utilizada. Com ela, é possível operar sobre dados de maneira organizada.\n",
    "\n",
    "Na API da biblioteca é possível acessar todas as operações disponíveis.  \n",
    "[API](https://pandas.pydata.org/pandas-docs/stable/reference/index.html)\n"
   ]
  },
  {
   "cell_type": "markdown",
   "metadata": {},
   "source": [
    "Para importar a biblioteca:\n",
    "\n",
    "```python\n",
    "import pandas as pd\n",
    "```"
   ]
  },
  {
   "cell_type": "code",
   "execution_count": 3,
   "metadata": {},
   "outputs": [],
   "source": [
    "import pandas as pd\n",
    "import numpy as np"
   ]
  },
  {
   "cell_type": "markdown",
   "metadata": {},
   "source": [
    "A bibioteca Pandas é composta por dois tipos de dados principais, as **Series** e os **Dataframes**."
   ]
  },
  {
   "cell_type": "code",
   "execution_count": 4,
   "metadata": {},
   "outputs": [],
   "source": [
    "#Biblioteca names, para geração de dados de exemplo\n",
    "!pip install names==0.3.0 >/dev/null 2>&1\n",
    "import names"
   ]
  },
  {
   "cell_type": "markdown",
   "metadata": {},
   "source": [
    "## Series\n",
    "\n",
    "Uma Series opera da mesma maneira que um *array* unidimensional. Cada elemento presente na Series possui um *index* (índice), que funciona como um rótulo para cada elemento.\n",
    "\n",
    "**Exemplo**\n",
    "\n",
    "Utilizaremos como exemplo uma Series para armazenar as alturas de um determinado grupo de pessoas.\n",
    "\n",
    "```python\n",
    "alturas = pd.Series([175,182,160,156])\n",
    "```"
   ]
  },
  {
   "cell_type": "code",
   "execution_count": null,
   "metadata": {},
   "outputs": [],
   "source": []
  },
  {
   "cell_type": "markdown",
   "metadata": {},
   "source": [
    "Observe também o tipo de dado utilizado, utilizando a função `type()`\n",
    "```python\n",
    "type(alturas)\n",
    "```"
   ]
  },
  {
   "cell_type": "code",
   "execution_count": null,
   "metadata": {},
   "outputs": [],
   "source": []
  },
  {
   "cell_type": "markdown",
   "metadata": {},
   "source": [
    "Observe os valores armazenados na Series, com a função `print()`\n",
    "```python\n",
    "print(alturas)\n",
    "```"
   ]
  },
  {
   "cell_type": "code",
   "execution_count": null,
   "metadata": {},
   "outputs": [],
   "source": []
  },
  {
   "cell_type": "markdown",
   "metadata": {},
   "source": [
    "Repare na saída do comando que a primeira coluna apresenta o *index*, e a segunda coluna os valores inseridos."
   ]
  },
  {
   "cell_type": "markdown",
   "metadata": {},
   "source": [
    "Na Series `alturas`, não foi especificado qual seria o *index* utilizado. Por padrão, é utilizado uma sequência de números inteiros positivos crescente, iniciada pelo valor `0`."
   ]
  },
  {
   "cell_type": "markdown",
   "metadata": {},
   "source": [
    "Podemos obter essas informações de maneira separada. Para acessar os **valores**, pode-se utilizar o atributo `values`.\n",
    "\n",
    "**Exemplo**\n",
    "\n",
    "```python\n",
    "alturas.values\n",
    "```"
   ]
  },
  {
   "cell_type": "code",
   "execution_count": null,
   "metadata": {},
   "outputs": [],
   "source": []
  },
  {
   "cell_type": "markdown",
   "metadata": {},
   "source": [
    "E para obter os **índices**, pode-se utilizar o atributo `index`.\n",
    "\n",
    "**Exemplo**\n",
    "\n",
    "```python\n",
    "alturas.index\n",
    "```"
   ]
  },
  {
   "cell_type": "code",
   "execution_count": null,
   "metadata": {},
   "outputs": [],
   "source": []
  },
  {
   "cell_type": "markdown",
   "metadata": {},
   "source": [
    "Supondo que gostaríamos de adicionar como índice o nome das pessoas a que cada altura corresponde, pode ser utilizado o parâmetro `index` na criação da Series.\n",
    "\n",
    "```python\n",
    "alturas = pd.Series([175, 182,160,156], index=[\"Maria\", \"José\", \"Eduarda\", \"Sergio\"])\n",
    "```"
   ]
  },
  {
   "cell_type": "code",
   "execution_count": null,
   "metadata": {},
   "outputs": [],
   "source": []
  },
  {
   "cell_type": "markdown",
   "metadata": {},
   "source": [
    "Agora, observe os **valores** da Series `altura` e os **índices** utilizados."
   ]
  },
  {
   "cell_type": "code",
   "execution_count": null,
   "metadata": {},
   "outputs": [],
   "source": []
  },
  {
   "cell_type": "code",
   "execution_count": null,
   "metadata": {},
   "outputs": [],
   "source": []
  },
  {
   "cell_type": "markdown",
   "metadata": {},
   "source": [
    "Utilizando as Series, é possível que os dados sejam acessados a partir de seu índice.\n",
    "\n",
    "```python\n",
    "alturas[\"Eduarda\"]\n",
    "```"
   ]
  },
  {
   "cell_type": "code",
   "execution_count": null,
   "metadata": {},
   "outputs": [],
   "source": []
  },
  {
   "cell_type": "code",
   "execution_count": null,
   "metadata": {},
   "outputs": [],
   "source": []
  },
  {
   "cell_type": "markdown",
   "metadata": {},
   "source": [
    "Uma Series possibilita que dados estatísticos básicos sejam calculados a partir de seus dados, diretamente com a chamada de métodos.\n",
    "\n",
    "**Exemplo**\n",
    "\n",
    "Para mostrar o número de elementos\n",
    "```python\n",
    "alturas.count()\n",
    "```\n",
    "\n",
    "Alguns métodos que também podem ser utilizados:\n",
    "- `.count()` - número de elementos\n",
    "- `.mean()` - média\n",
    "- `.std()` - desvio padrão\n",
    "- `.min()` - valor mínimo\n",
    "- `.max()` - valor máximo\n",
    "- `.value_counts()` - mostra quantas vezes aparece cada um dos elementos\n",
    "- `.unique()` - mostra os elementos existentes, sem repetições\n",
    "\n",
    "\n",
    "**Atividade**\n",
    "\n",
    "- Qual é a altura média das pessoas?"
   ]
  },
  {
   "cell_type": "code",
   "execution_count": null,
   "metadata": {},
   "outputs": [],
   "source": []
  },
  {
   "cell_type": "markdown",
   "metadata": {},
   "source": [
    "É possível observar todos esses valores de uma única vez, utilizando o método `.describe()`"
   ]
  },
  {
   "cell_type": "code",
   "execution_count": null,
   "metadata": {},
   "outputs": [],
   "source": []
  },
  {
   "cell_type": "markdown",
   "metadata": {},
   "source": [
    "## Operações sobre todos os valores\n",
    "Em uma Series, é possível aplicar operações matemáticas sobre todos os valores de uma única vez.\n",
    "\n",
    "**Exemplo**\n",
    "\n",
    "Para converter a altura de centímetros para metros, basta dividir os valores por 100.\n",
    "```python\n",
    "alturas/100\n",
    "```\n"
   ]
  },
  {
   "cell_type": "code",
   "execution_count": null,
   "metadata": {},
   "outputs": [],
   "source": []
  },
  {
   "cell_type": "markdown",
   "metadata": {},
   "source": [
    "A series não é afetada. Para tornar o resultado permamente, é necessário salvar o valor.  \n",
    "\n",
    "**Exemplo**  \n",
    "\n",
    "```python\n",
    "alturasMetros = alturas/100\n",
    "\n",
    "print('Alturas em metros:')\n",
    "print(alturasMetros)\n",
    "print('\\nAlturas em centímetros:')\n",
    "print(alturas)\n",
    "```"
   ]
  },
  {
   "cell_type": "code",
   "execution_count": null,
   "metadata": {},
   "outputs": [],
   "source": []
  },
  {
   "cell_type": "markdown",
   "metadata": {},
   "source": [
    "**Atividade**\n",
    "\n",
    "Utilize o código abaixo para gerar uma Series que corresponde a conceitos (notas de A a D) de uma lista de alunos:\n",
    "```python\n",
    "n = 50\n",
    "seed = 42\n",
    "\n",
    "vals = ['A','B','C','D']\n",
    "names.random.seed(seed)\n",
    "\n",
    "conceitos = pd.Series(\n",
    "    [np.random.choice(vals) for _ in range(n)], #Conceitos de A a D\n",
    "    index = [names.get_full_name() for _ in range(n)] #Nomes como índice da series\n",
    ")\n",
    "print(conceitos)\n",
    "```"
   ]
  },
  {
   "cell_type": "code",
   "execution_count": null,
   "metadata": {},
   "outputs": [],
   "source": []
  },
  {
   "cell_type": "markdown",
   "metadata": {},
   "source": [
    "Sobre a Series `conceitos`, responda:\n",
    "- Quantos conceitos existem?"
   ]
  },
  {
   "cell_type": "code",
   "execution_count": null,
   "metadata": {},
   "outputs": [],
   "source": []
  },
  {
   "cell_type": "markdown",
   "metadata": {},
   "source": [
    "- Qual é o tipo de dado armazenado?"
   ]
  },
  {
   "cell_type": "code",
   "execution_count": null,
   "metadata": {},
   "outputs": [],
   "source": []
  },
  {
   "cell_type": "markdown",
   "metadata": {},
   "source": [
    "- Quais são os conceitos diferentes que estão armazenados?"
   ]
  },
  {
   "cell_type": "code",
   "execution_count": null,
   "metadata": {},
   "outputs": [],
   "source": []
  },
  {
   "cell_type": "markdown",
   "metadata": {},
   "source": [
    "- Quantos valores existem de cada conceito?"
   ]
  },
  {
   "cell_type": "code",
   "execution_count": null,
   "metadata": {},
   "outputs": [],
   "source": []
  },
  {
   "cell_type": "markdown",
   "metadata": {},
   "source": [
    "- Qual é o conceito da aluna 'Heather Morris'?"
   ]
  },
  {
   "cell_type": "code",
   "execution_count": null,
   "metadata": {},
   "outputs": [],
   "source": []
  },
  {
   "cell_type": "markdown",
   "metadata": {},
   "source": [
    "## DataFrame\n",
    "\n",
    "O DataFrame é uma das principais estruturas do Pandas. É composto por uma estrutura bidimensional, que em sua apresentação se assemelha a uma planilha. Um Dataframe é formado por diversas Series, que compartilham um mesmo índice.\n",
    "\n",
    "**Exemplo**\n",
    "- Gere um Dataframe contendo informações aleatórias de Nome, Sexo, Altura e Idade de pessoas.\n",
    "\n",
    "```python\n",
    "n = 50\n",
    "seed = 42\n",
    "names.random.seed(seed)\n",
    "np.random.seed(seed)\n",
    "\n",
    "alturas = pd.Series([np.random.randint(158, 188) for _ in range(n)]) #series de alturas\n",
    "sexos   = pd.Series([np.random.choice(['male','female']) for _ in range(n)]) #series de sexos\n",
    "nomes   = pd.Series([names.get_full_name(gender=g) for g in sexos]) # Series de nomes\n",
    "idades  = pd.Series([np.random.randint(20, 64) for _ in range(n) ]) #Series com idades\n",
    "\n",
    "#Gera um dataframe a partir das series\n",
    "pessoas = pd.DataFrame(\n",
    "    {'Nome': nomes, #Coluna com nomes\n",
    "     'Altura': alturas,\n",
    "      'Idade': idades,\n",
    "      'Sexo': sexos\n",
    "    })\n",
    "```"
   ]
  },
  {
   "cell_type": "code",
   "execution_count": null,
   "metadata": {},
   "outputs": [],
   "source": []
  },
  {
   "cell_type": "code",
   "execution_count": 5,
   "metadata": {},
   "outputs": [],
   "source": [
    "n = 50\n",
    "seed = 42\n",
    "names.random.seed(seed)\n",
    "np.random.seed(seed)\n",
    "\n",
    "alturas = pd.Series([np.random.randint(158, 188) for _ in range(n)]) #series de alturas\n",
    "sexos   = pd.Series([np.random.choice(['male','female']) for _ in range(n)]) #series de sexos\n",
    "nomes   = pd.Series([names.get_full_name(gender=g) for g in sexos]) # Series de nomes\n",
    "idades  = pd.Series([np.random.randint(20, 64) for _ in range(n) ]) #Series com idades\n",
    "\n",
    "#Gera um dataframe a partir das series\n",
    "pessoas = pd.DataFrame(\n",
    "    {'Nome': nomes, #Coluna com nomes\n",
    "     'Altura': alturas,\n",
    "      'Idade': idades,\n",
    "      'Sexo': sexos\n",
    "    })"
   ]
  },
  {
   "cell_type": "markdown",
   "metadata": {},
   "source": [
    "Para observar o dataframe:\n",
    "```python\n",
    "pessoas\n",
    "```"
   ]
  },
  {
   "cell_type": "code",
   "execution_count": 6,
   "metadata": {},
   "outputs": [
    {
     "data": {
      "text/html": [
       "<div>\n",
       "<style scoped>\n",
       "    .dataframe tbody tr th:only-of-type {\n",
       "        vertical-align: middle;\n",
       "    }\n",
       "\n",
       "    .dataframe tbody tr th {\n",
       "        vertical-align: top;\n",
       "    }\n",
       "\n",
       "    .dataframe thead th {\n",
       "        text-align: right;\n",
       "    }\n",
       "</style>\n",
       "<table border=\"1\" class=\"dataframe\">\n",
       "  <thead>\n",
       "    <tr style=\"text-align: right;\">\n",
       "      <th></th>\n",
       "      <th>Nome</th>\n",
       "      <th>Altura</th>\n",
       "      <th>Idade</th>\n",
       "      <th>Sexo</th>\n",
       "    </tr>\n",
       "  </thead>\n",
       "  <tbody>\n",
       "    <tr>\n",
       "      <th>0</th>\n",
       "      <td>Vanessa Williams</td>\n",
       "      <td>164</td>\n",
       "      <td>63</td>\n",
       "      <td>female</td>\n",
       "    </tr>\n",
       "    <tr>\n",
       "      <th>1</th>\n",
       "      <td>Daniel Gibson</td>\n",
       "      <td>177</td>\n",
       "      <td>53</td>\n",
       "      <td>male</td>\n",
       "    </tr>\n",
       "    <tr>\n",
       "      <th>2</th>\n",
       "      <td>Katrina Bunker</td>\n",
       "      <td>186</td>\n",
       "      <td>29</td>\n",
       "      <td>female</td>\n",
       "    </tr>\n",
       "    <tr>\n",
       "      <th>3</th>\n",
       "      <td>Kaye Garcia</td>\n",
       "      <td>172</td>\n",
       "      <td>55</td>\n",
       "      <td>female</td>\n",
       "    </tr>\n",
       "    <tr>\n",
       "      <th>4</th>\n",
       "      <td>Larry Jones</td>\n",
       "      <td>168</td>\n",
       "      <td>33</td>\n",
       "      <td>male</td>\n",
       "    </tr>\n",
       "    <tr>\n",
       "      <th>5</th>\n",
       "      <td>Charles Whaley</td>\n",
       "      <td>165</td>\n",
       "      <td>50</td>\n",
       "      <td>male</td>\n",
       "    </tr>\n",
       "    <tr>\n",
       "      <th>6</th>\n",
       "      <td>James Washington</td>\n",
       "      <td>186</td>\n",
       "      <td>34</td>\n",
       "      <td>male</td>\n",
       "    </tr>\n",
       "    <tr>\n",
       "      <th>7</th>\n",
       "      <td>Philip Coulter</td>\n",
       "      <td>178</td>\n",
       "      <td>27</td>\n",
       "      <td>male</td>\n",
       "    </tr>\n",
       "    <tr>\n",
       "      <th>8</th>\n",
       "      <td>Charles Weathers</td>\n",
       "      <td>164</td>\n",
       "      <td>33</td>\n",
       "      <td>male</td>\n",
       "    </tr>\n",
       "    <tr>\n",
       "      <th>9</th>\n",
       "      <td>Brett Smith</td>\n",
       "      <td>183</td>\n",
       "      <td>42</td>\n",
       "      <td>male</td>\n",
       "    </tr>\n",
       "    <tr>\n",
       "      <th>10</th>\n",
       "      <td>Gene Bechtel</td>\n",
       "      <td>176</td>\n",
       "      <td>59</td>\n",
       "      <td>male</td>\n",
       "    </tr>\n",
       "    <tr>\n",
       "      <th>11</th>\n",
       "      <td>Edward Morris</td>\n",
       "      <td>180</td>\n",
       "      <td>40</td>\n",
       "      <td>male</td>\n",
       "    </tr>\n",
       "    <tr>\n",
       "      <th>12</th>\n",
       "      <td>Bea Weber</td>\n",
       "      <td>168</td>\n",
       "      <td>35</td>\n",
       "      <td>female</td>\n",
       "    </tr>\n",
       "    <tr>\n",
       "      <th>13</th>\n",
       "      <td>Maria Rodriguez</td>\n",
       "      <td>168</td>\n",
       "      <td>37</td>\n",
       "      <td>female</td>\n",
       "    </tr>\n",
       "    <tr>\n",
       "      <th>14</th>\n",
       "      <td>Clayton Nieto</td>\n",
       "      <td>181</td>\n",
       "      <td>43</td>\n",
       "      <td>male</td>\n",
       "    </tr>\n",
       "    <tr>\n",
       "      <th>15</th>\n",
       "      <td>Meghan Sartin</td>\n",
       "      <td>178</td>\n",
       "      <td>45</td>\n",
       "      <td>female</td>\n",
       "    </tr>\n",
       "    <tr>\n",
       "      <th>16</th>\n",
       "      <td>Marjorie Ny</td>\n",
       "      <td>161</td>\n",
       "      <td>44</td>\n",
       "      <td>female</td>\n",
       "    </tr>\n",
       "    <tr>\n",
       "      <th>17</th>\n",
       "      <td>Ashley Triplett</td>\n",
       "      <td>165</td>\n",
       "      <td>60</td>\n",
       "      <td>female</td>\n",
       "    </tr>\n",
       "    <tr>\n",
       "      <th>18</th>\n",
       "      <td>Patrice Vu</td>\n",
       "      <td>181</td>\n",
       "      <td>48</td>\n",
       "      <td>female</td>\n",
       "    </tr>\n",
       "    <tr>\n",
       "      <th>19</th>\n",
       "      <td>Julian Mccloud</td>\n",
       "      <td>160</td>\n",
       "      <td>34</td>\n",
       "      <td>male</td>\n",
       "    </tr>\n",
       "    <tr>\n",
       "      <th>20</th>\n",
       "      <td>Marsha Davis</td>\n",
       "      <td>179</td>\n",
       "      <td>20</td>\n",
       "      <td>female</td>\n",
       "    </tr>\n",
       "    <tr>\n",
       "      <th>21</th>\n",
       "      <td>Joseph Bishop</td>\n",
       "      <td>178</td>\n",
       "      <td>44</td>\n",
       "      <td>male</td>\n",
       "    </tr>\n",
       "    <tr>\n",
       "      <th>22</th>\n",
       "      <td>Jennifer Tucker</td>\n",
       "      <td>159</td>\n",
       "      <td>26</td>\n",
       "      <td>female</td>\n",
       "    </tr>\n",
       "    <tr>\n",
       "      <th>23</th>\n",
       "      <td>Susan Peters</td>\n",
       "      <td>181</td>\n",
       "      <td>28</td>\n",
       "      <td>female</td>\n",
       "    </tr>\n",
       "    <tr>\n",
       "      <th>24</th>\n",
       "      <td>Laurie Osborne</td>\n",
       "      <td>169</td>\n",
       "      <td>43</td>\n",
       "      <td>female</td>\n",
       "    </tr>\n",
       "    <tr>\n",
       "      <th>25</th>\n",
       "      <td>Anthony Myers</td>\n",
       "      <td>187</td>\n",
       "      <td>20</td>\n",
       "      <td>male</td>\n",
       "    </tr>\n",
       "    <tr>\n",
       "      <th>26</th>\n",
       "      <td>Virginia Delung</td>\n",
       "      <td>163</td>\n",
       "      <td>63</td>\n",
       "      <td>female</td>\n",
       "    </tr>\n",
       "    <tr>\n",
       "      <th>27</th>\n",
       "      <td>Sean Greco</td>\n",
       "      <td>159</td>\n",
       "      <td>27</td>\n",
       "      <td>male</td>\n",
       "    </tr>\n",
       "    <tr>\n",
       "      <th>28</th>\n",
       "      <td>Carol Hazlett</td>\n",
       "      <td>185</td>\n",
       "      <td>43</td>\n",
       "      <td>female</td>\n",
       "    </tr>\n",
       "    <tr>\n",
       "      <th>29</th>\n",
       "      <td>William Drake</td>\n",
       "      <td>178</td>\n",
       "      <td>30</td>\n",
       "      <td>male</td>\n",
       "    </tr>\n",
       "    <tr>\n",
       "      <th>30</th>\n",
       "      <td>Elinore Mull</td>\n",
       "      <td>158</td>\n",
       "      <td>36</td>\n",
       "      <td>female</td>\n",
       "    </tr>\n",
       "    <tr>\n",
       "      <th>31</th>\n",
       "      <td>Samuel Carswell</td>\n",
       "      <td>169</td>\n",
       "      <td>27</td>\n",
       "      <td>male</td>\n",
       "    </tr>\n",
       "    <tr>\n",
       "      <th>32</th>\n",
       "      <td>Cody Patnode</td>\n",
       "      <td>183</td>\n",
       "      <td>54</td>\n",
       "      <td>male</td>\n",
       "    </tr>\n",
       "    <tr>\n",
       "      <th>33</th>\n",
       "      <td>Cynthia Jones</td>\n",
       "      <td>179</td>\n",
       "      <td>54</td>\n",
       "      <td>female</td>\n",
       "    </tr>\n",
       "    <tr>\n",
       "      <th>34</th>\n",
       "      <td>George Cunningham</td>\n",
       "      <td>186</td>\n",
       "      <td>52</td>\n",
       "      <td>male</td>\n",
       "    </tr>\n",
       "    <tr>\n",
       "      <th>35</th>\n",
       "      <td>Deborah Fanno</td>\n",
       "      <td>169</td>\n",
       "      <td>24</td>\n",
       "      <td>female</td>\n",
       "    </tr>\n",
       "    <tr>\n",
       "      <th>36</th>\n",
       "      <td>Flossie Curtis</td>\n",
       "      <td>182</td>\n",
       "      <td>61</td>\n",
       "      <td>female</td>\n",
       "    </tr>\n",
       "    <tr>\n",
       "      <th>37</th>\n",
       "      <td>Lucy Acosta</td>\n",
       "      <td>174</td>\n",
       "      <td>58</td>\n",
       "      <td>female</td>\n",
       "    </tr>\n",
       "    <tr>\n",
       "      <th>38</th>\n",
       "      <td>Marybeth Travis</td>\n",
       "      <td>184</td>\n",
       "      <td>60</td>\n",
       "      <td>female</td>\n",
       "    </tr>\n",
       "    <tr>\n",
       "      <th>39</th>\n",
       "      <td>Virginia Robertson</td>\n",
       "      <td>184</td>\n",
       "      <td>47</td>\n",
       "      <td>female</td>\n",
       "    </tr>\n",
       "    <tr>\n",
       "      <th>40</th>\n",
       "      <td>April Willis</td>\n",
       "      <td>167</td>\n",
       "      <td>26</td>\n",
       "      <td>female</td>\n",
       "    </tr>\n",
       "    <tr>\n",
       "      <th>41</th>\n",
       "      <td>Bertha Scaffidi</td>\n",
       "      <td>185</td>\n",
       "      <td>28</td>\n",
       "      <td>female</td>\n",
       "    </tr>\n",
       "    <tr>\n",
       "      <th>42</th>\n",
       "      <td>Christina Reynolds</td>\n",
       "      <td>185</td>\n",
       "      <td>27</td>\n",
       "      <td>female</td>\n",
       "    </tr>\n",
       "    <tr>\n",
       "      <th>43</th>\n",
       "      <td>Sherice Winston</td>\n",
       "      <td>173</td>\n",
       "      <td>31</td>\n",
       "      <td>female</td>\n",
       "    </tr>\n",
       "    <tr>\n",
       "      <th>44</th>\n",
       "      <td>Maria Miller</td>\n",
       "      <td>172</td>\n",
       "      <td>53</td>\n",
       "      <td>female</td>\n",
       "    </tr>\n",
       "    <tr>\n",
       "      <th>45</th>\n",
       "      <td>Margaret Burney</td>\n",
       "      <td>187</td>\n",
       "      <td>52</td>\n",
       "      <td>female</td>\n",
       "    </tr>\n",
       "    <tr>\n",
       "      <th>46</th>\n",
       "      <td>Clyde Decker</td>\n",
       "      <td>187</td>\n",
       "      <td>42</td>\n",
       "      <td>male</td>\n",
       "    </tr>\n",
       "    <tr>\n",
       "      <th>47</th>\n",
       "      <td>John Norton</td>\n",
       "      <td>172</td>\n",
       "      <td>43</td>\n",
       "      <td>male</td>\n",
       "    </tr>\n",
       "    <tr>\n",
       "      <th>48</th>\n",
       "      <td>Clelia Kaplan</td>\n",
       "      <td>187</td>\n",
       "      <td>56</td>\n",
       "      <td>female</td>\n",
       "    </tr>\n",
       "    <tr>\n",
       "      <th>49</th>\n",
       "      <td>Vanesa Bacote</td>\n",
       "      <td>176</td>\n",
       "      <td>54</td>\n",
       "      <td>female</td>\n",
       "    </tr>\n",
       "  </tbody>\n",
       "</table>\n",
       "</div>"
      ],
      "text/plain": [
       "                  Nome  Altura  Idade    Sexo\n",
       "0     Vanessa Williams     164     63  female\n",
       "1        Daniel Gibson     177     53    male\n",
       "2       Katrina Bunker     186     29  female\n",
       "3          Kaye Garcia     172     55  female\n",
       "4          Larry Jones     168     33    male\n",
       "5       Charles Whaley     165     50    male\n",
       "6     James Washington     186     34    male\n",
       "7       Philip Coulter     178     27    male\n",
       "8     Charles Weathers     164     33    male\n",
       "9          Brett Smith     183     42    male\n",
       "10        Gene Bechtel     176     59    male\n",
       "11       Edward Morris     180     40    male\n",
       "12           Bea Weber     168     35  female\n",
       "13     Maria Rodriguez     168     37  female\n",
       "14       Clayton Nieto     181     43    male\n",
       "15       Meghan Sartin     178     45  female\n",
       "16         Marjorie Ny     161     44  female\n",
       "17     Ashley Triplett     165     60  female\n",
       "18          Patrice Vu     181     48  female\n",
       "19      Julian Mccloud     160     34    male\n",
       "20        Marsha Davis     179     20  female\n",
       "21       Joseph Bishop     178     44    male\n",
       "22     Jennifer Tucker     159     26  female\n",
       "23        Susan Peters     181     28  female\n",
       "24      Laurie Osborne     169     43  female\n",
       "25       Anthony Myers     187     20    male\n",
       "26     Virginia Delung     163     63  female\n",
       "27          Sean Greco     159     27    male\n",
       "28       Carol Hazlett     185     43  female\n",
       "29       William Drake     178     30    male\n",
       "30        Elinore Mull     158     36  female\n",
       "31     Samuel Carswell     169     27    male\n",
       "32        Cody Patnode     183     54    male\n",
       "33       Cynthia Jones     179     54  female\n",
       "34   George Cunningham     186     52    male\n",
       "35       Deborah Fanno     169     24  female\n",
       "36      Flossie Curtis     182     61  female\n",
       "37         Lucy Acosta     174     58  female\n",
       "38     Marybeth Travis     184     60  female\n",
       "39  Virginia Robertson     184     47  female\n",
       "40        April Willis     167     26  female\n",
       "41     Bertha Scaffidi     185     28  female\n",
       "42  Christina Reynolds     185     27  female\n",
       "43     Sherice Winston     173     31  female\n",
       "44        Maria Miller     172     53  female\n",
       "45     Margaret Burney     187     52  female\n",
       "46        Clyde Decker     187     42    male\n",
       "47         John Norton     172     43    male\n",
       "48       Clelia Kaplan     187     56  female\n",
       "49       Vanesa Bacote     176     54  female"
      ]
     },
     "execution_count": 6,
     "metadata": {},
     "output_type": "execute_result"
    }
   ],
   "source": [
    "pessoas"
   ]
  },
  {
   "cell_type": "markdown",
   "metadata": {},
   "source": [
    "É possível observar diversas informações sobre o DataFrame, utilizando o método `.info()`. O número de colunas, número de linhas, quantidades de valores não-nulos presentes em cada coluna e a quantidade de memória utilizada pelo DataFrame podem ser observados com esse método.  \n",
    "\n",
    "**Exemplo**  \n",
    "\n",
    "```python\n",
    "pessoas.info()\n",
    "```"
   ]
  },
  {
   "cell_type": "code",
   "execution_count": null,
   "metadata": {},
   "outputs": [],
   "source": []
  },
  {
   "cell_type": "markdown",
   "metadata": {},
   "source": [
    "Cada coluna pode possuir seu tipo de dado, que pode ser visto acessando o atributo `.dtypes`, acrônimo de *data types*.  \n",
    "\n",
    "**Exemplo**  \n",
    "\n",
    "```python\n",
    "pessoas.dtypes\n",
    "```"
   ]
  },
  {
   "cell_type": "code",
   "execution_count": null,
   "metadata": {},
   "outputs": [],
   "source": []
  },
  {
   "cell_type": "markdown",
   "metadata": {},
   "source": [
    "As estatísticas de cada coluna, assim como na Series, podem ser obtidas com o método `.describe()`.  \n",
    "\n",
    "**Exemplo**  \n",
    "\n",
    "```python\n",
    "pessoas.describe()\n",
    "```"
   ]
  },
  {
   "cell_type": "code",
   "execution_count": null,
   "metadata": {},
   "outputs": [],
   "source": []
  },
  {
   "cell_type": "markdown",
   "metadata": {},
   "source": [
    "**Atividade**\n",
    "\n",
    "- Por que não aparecem as colunas com os dados de *Nome* e *Sexo* na saída do método `describe()`?"
   ]
  },
  {
   "cell_type": "code",
   "execution_count": null,
   "metadata": {},
   "outputs": [],
   "source": []
  },
  {
   "cell_type": "markdown",
   "metadata": {},
   "source": [
    "## Seleção de colunas"
   ]
  },
  {
   "cell_type": "markdown",
   "metadata": {},
   "source": [
    "A identificação de cada coluna pode ser utilizada para acessar os dados de colunas específicas, como se fosse uma 'posição'.\n",
    "\n",
    "**Exemplo**\n",
    "\n",
    "```python\n",
    "pessoas['Nome']\n",
    "```"
   ]
  },
  {
   "cell_type": "code",
   "execution_count": null,
   "metadata": {},
   "outputs": [],
   "source": []
  },
  {
   "cell_type": "markdown",
   "metadata": {},
   "source": [
    "Observe o tipo dado que é retornado:\n",
    "```python\n",
    "type(pessoas['Nome'])\n",
    "```\n",
    "Perceba que selecionar uma única coluna retorna uma **Series**."
   ]
  },
  {
   "cell_type": "code",
   "execution_count": null,
   "metadata": {},
   "outputs": [],
   "source": []
  },
  {
   "cell_type": "markdown",
   "metadata": {},
   "source": [
    "Também é possível observar mais de uma coluna de um dataframe, mostrando apenas as colunas desejadas.  \n",
    "\n",
    "**Exemplo**  \n",
    "\n",
    "```python\n",
    "pessoas[['Nome', 'Altura']]\n",
    "```\n",
    "Observe que passar obter mais de uma coluna, como índice para o Dataframe é passado uma **lista** de valores."
   ]
  },
  {
   "cell_type": "code",
   "execution_count": null,
   "metadata": {},
   "outputs": [],
   "source": []
  },
  {
   "cell_type": "markdown",
   "metadata": {},
   "source": [
    "Observe o tipo dado que é retornado:\n",
    "```python\n",
    "type(pessoas[['Nome', 'Altura']])\n",
    "```\n",
    "Perceba que observar várias colunas retorna um **DataFrame**."
   ]
  },
  {
   "cell_type": "code",
   "execution_count": null,
   "metadata": {},
   "outputs": [],
   "source": []
  },
  {
   "cell_type": "markdown",
   "metadata": {},
   "source": [
    "**Atividade**\n",
    "\n",
    "Execute os códigos 1 e 2 abaixo, compare-os e explique as diferenças, respondendo: \n",
    "    - os dados são os mesmos?\n",
    "    - as estruturas retornadas possuem o mesmo tipo de dado?\n",
    "    - Por quê?\n",
    "    - Qual é a diferença na escolha de colunas a serem mostradas?"
   ]
  },
  {
   "cell_type": "markdown",
   "metadata": {},
   "source": [
    "Código 1:\n",
    "```python\n",
    "pessoas['Nome']\n",
    "```"
   ]
  },
  {
   "cell_type": "code",
   "execution_count": null,
   "metadata": {},
   "outputs": [],
   "source": []
  },
  {
   "cell_type": "markdown",
   "metadata": {},
   "source": [
    "Código 2:\n",
    "```python\n",
    "pessoas[['Nome']]\n",
    "```"
   ]
  },
  {
   "cell_type": "code",
   "execution_count": null,
   "metadata": {},
   "outputs": [],
   "source": []
  },
  {
   "cell_type": "markdown",
   "metadata": {},
   "source": [
    "## Colunas de DataFrames como Series\n",
    "Ao selecionar uma única coluna temos uma Series, e seus atributos podem ser aplicados.\n",
    "\n",
    "**Exemplo**  \n",
    "\n",
    "Para observar a quantidade de pessoas de cada sexo\n",
    "```python\n",
    "pessoas['Sexo'].value_counts()\n",
    "```"
   ]
  },
  {
   "cell_type": "code",
   "execution_count": null,
   "metadata": {
    "scrolled": false
   },
   "outputs": [],
   "source": []
  },
  {
   "cell_type": "markdown",
   "metadata": {},
   "source": [
    "## Seleção de linhas"
   ]
  },
  {
   "cell_type": "markdown",
   "metadata": {},
   "source": [
    "Uma outra forma de selecionar elementos é utilizando os índices (linhas) como referência, utilizando o método `.loc[]`\n",
    "\n",
    "**Exemplo**\n",
    "\n",
    "```python\n",
    "pessoas.loc[[2]]\n",
    "pessoas.loc[[2,4]]\n",
    "pessoas.loc[2:4]\n",
    "```\n",
    "Neste caso, utilizou o **conteúdo** do índice como referência."
   ]
  },
  {
   "cell_type": "code",
   "execution_count": null,
   "metadata": {},
   "outputs": [],
   "source": []
  },
  {
   "cell_type": "markdown",
   "metadata": {},
   "source": [
    "Pode-se também obter a partir o índice da posição, com o método `.iloc[]`. \n",
    "\n",
    "**Exemplo**\n",
    "\n",
    "\n",
    "```python\n",
    "pessoas.iloc[[2]]\n",
    "pessoas.iloc[[2,4]]\n",
    "pessoas.iloc[2:4]\n",
    "```\n",
    "\n",
    "Para este exemplo, como os índices são numéricos, não há diferença nos resultados."
   ]
  },
  {
   "cell_type": "code",
   "execution_count": 17,
   "metadata": {},
   "outputs": [
    {
     "data": {
      "text/plain": [
       "2    29\n",
       "Name: Idade, dtype: int64"
      ]
     },
     "execution_count": 17,
     "metadata": {},
     "output_type": "execute_result"
    }
   ],
   "source": []
  },
  {
   "cell_type": "code",
   "execution_count": null,
   "metadata": {},
   "outputs": [],
   "source": []
  },
  {
   "cell_type": "markdown",
   "metadata": {},
   "source": [
    "**Atividade**\n",
    "\n",
    "- Explique cada parâmetro passado no método `.iloc[]` nos exemplos abaixo, em relação com a saída obtida. Compare as diferenças entre eles.  \n",
    "\n",
    "```python\n",
    "pessoas.iloc[2]\n",
    "```"
   ]
  },
  {
   "cell_type": "code",
   "execution_count": 24,
   "metadata": {},
   "outputs": [
    {
     "data": {
      "text/plain": [
       "Nome      Katrina Bunker\n",
       "Altura               186\n",
       "Idade                 29\n",
       "Sexo              female\n",
       "Name: 2, dtype: object"
      ]
     },
     "execution_count": 24,
     "metadata": {},
     "output_type": "execute_result"
    }
   ],
   "source": [
    "pessoas.iloc[2]"
   ]
  },
  {
   "cell_type": "markdown",
   "metadata": {},
   "source": [
    "```python\n",
    "pessoas.iloc[[2]]\n",
    "```"
   ]
  },
  {
   "cell_type": "code",
   "execution_count": 25,
   "metadata": {},
   "outputs": [
    {
     "data": {
      "text/html": [
       "<div>\n",
       "<style scoped>\n",
       "    .dataframe tbody tr th:only-of-type {\n",
       "        vertical-align: middle;\n",
       "    }\n",
       "\n",
       "    .dataframe tbody tr th {\n",
       "        vertical-align: top;\n",
       "    }\n",
       "\n",
       "    .dataframe thead th {\n",
       "        text-align: right;\n",
       "    }\n",
       "</style>\n",
       "<table border=\"1\" class=\"dataframe\">\n",
       "  <thead>\n",
       "    <tr style=\"text-align: right;\">\n",
       "      <th></th>\n",
       "      <th>Nome</th>\n",
       "      <th>Altura</th>\n",
       "      <th>Idade</th>\n",
       "      <th>Sexo</th>\n",
       "    </tr>\n",
       "  </thead>\n",
       "  <tbody>\n",
       "    <tr>\n",
       "      <th>2</th>\n",
       "      <td>Katrina Bunker</td>\n",
       "      <td>186</td>\n",
       "      <td>29</td>\n",
       "      <td>female</td>\n",
       "    </tr>\n",
       "  </tbody>\n",
       "</table>\n",
       "</div>"
      ],
      "text/plain": [
       "             Nome  Altura  Idade    Sexo\n",
       "2  Katrina Bunker     186     29  female"
      ]
     },
     "execution_count": 25,
     "metadata": {},
     "output_type": "execute_result"
    }
   ],
   "source": []
  },
  {
   "cell_type": "markdown",
   "metadata": {},
   "source": [
    "```python\n",
    "pessoas.iloc[[2,10]]\n",
    "```"
   ]
  },
  {
   "cell_type": "code",
   "execution_count": 28,
   "metadata": {},
   "outputs": [
    {
     "data": {
      "text/html": [
       "<div>\n",
       "<style scoped>\n",
       "    .dataframe tbody tr th:only-of-type {\n",
       "        vertical-align: middle;\n",
       "    }\n",
       "\n",
       "    .dataframe tbody tr th {\n",
       "        vertical-align: top;\n",
       "    }\n",
       "\n",
       "    .dataframe thead th {\n",
       "        text-align: right;\n",
       "    }\n",
       "</style>\n",
       "<table border=\"1\" class=\"dataframe\">\n",
       "  <thead>\n",
       "    <tr style=\"text-align: right;\">\n",
       "      <th></th>\n",
       "      <th>Nome</th>\n",
       "      <th>Altura</th>\n",
       "      <th>Idade</th>\n",
       "      <th>Sexo</th>\n",
       "    </tr>\n",
       "  </thead>\n",
       "  <tbody>\n",
       "    <tr>\n",
       "      <th>2</th>\n",
       "      <td>Katrina Bunker</td>\n",
       "      <td>186</td>\n",
       "      <td>29</td>\n",
       "      <td>female</td>\n",
       "    </tr>\n",
       "    <tr>\n",
       "      <th>10</th>\n",
       "      <td>Gene Bechtel</td>\n",
       "      <td>176</td>\n",
       "      <td>59</td>\n",
       "      <td>male</td>\n",
       "    </tr>\n",
       "  </tbody>\n",
       "</table>\n",
       "</div>"
      ],
      "text/plain": [
       "              Nome  Altura  Idade    Sexo\n",
       "2   Katrina Bunker     186     29  female\n",
       "10    Gene Bechtel     176     59    male"
      ]
     },
     "execution_count": 28,
     "metadata": {},
     "output_type": "execute_result"
    }
   ],
   "source": []
  },
  {
   "cell_type": "markdown",
   "metadata": {},
   "source": [
    "```python\n",
    "pessoas.iloc[2:10]\n",
    "```"
   ]
  },
  {
   "cell_type": "code",
   "execution_count": 29,
   "metadata": {},
   "outputs": [
    {
     "data": {
      "text/html": [
       "<div>\n",
       "<style scoped>\n",
       "    .dataframe tbody tr th:only-of-type {\n",
       "        vertical-align: middle;\n",
       "    }\n",
       "\n",
       "    .dataframe tbody tr th {\n",
       "        vertical-align: top;\n",
       "    }\n",
       "\n",
       "    .dataframe thead th {\n",
       "        text-align: right;\n",
       "    }\n",
       "</style>\n",
       "<table border=\"1\" class=\"dataframe\">\n",
       "  <thead>\n",
       "    <tr style=\"text-align: right;\">\n",
       "      <th></th>\n",
       "      <th>Nome</th>\n",
       "      <th>Altura</th>\n",
       "      <th>Idade</th>\n",
       "      <th>Sexo</th>\n",
       "    </tr>\n",
       "  </thead>\n",
       "  <tbody>\n",
       "    <tr>\n",
       "      <th>2</th>\n",
       "      <td>Katrina Bunker</td>\n",
       "      <td>186</td>\n",
       "      <td>29</td>\n",
       "      <td>female</td>\n",
       "    </tr>\n",
       "    <tr>\n",
       "      <th>3</th>\n",
       "      <td>Kaye Garcia</td>\n",
       "      <td>172</td>\n",
       "      <td>55</td>\n",
       "      <td>female</td>\n",
       "    </tr>\n",
       "    <tr>\n",
       "      <th>4</th>\n",
       "      <td>Larry Jones</td>\n",
       "      <td>168</td>\n",
       "      <td>33</td>\n",
       "      <td>male</td>\n",
       "    </tr>\n",
       "    <tr>\n",
       "      <th>5</th>\n",
       "      <td>Charles Whaley</td>\n",
       "      <td>165</td>\n",
       "      <td>50</td>\n",
       "      <td>male</td>\n",
       "    </tr>\n",
       "    <tr>\n",
       "      <th>6</th>\n",
       "      <td>James Washington</td>\n",
       "      <td>186</td>\n",
       "      <td>34</td>\n",
       "      <td>male</td>\n",
       "    </tr>\n",
       "    <tr>\n",
       "      <th>7</th>\n",
       "      <td>Philip Coulter</td>\n",
       "      <td>178</td>\n",
       "      <td>27</td>\n",
       "      <td>male</td>\n",
       "    </tr>\n",
       "    <tr>\n",
       "      <th>8</th>\n",
       "      <td>Charles Weathers</td>\n",
       "      <td>164</td>\n",
       "      <td>33</td>\n",
       "      <td>male</td>\n",
       "    </tr>\n",
       "    <tr>\n",
       "      <th>9</th>\n",
       "      <td>Brett Smith</td>\n",
       "      <td>183</td>\n",
       "      <td>42</td>\n",
       "      <td>male</td>\n",
       "    </tr>\n",
       "  </tbody>\n",
       "</table>\n",
       "</div>"
      ],
      "text/plain": [
       "               Nome  Altura  Idade    Sexo\n",
       "2    Katrina Bunker     186     29  female\n",
       "3       Kaye Garcia     172     55  female\n",
       "4       Larry Jones     168     33    male\n",
       "5    Charles Whaley     165     50    male\n",
       "6  James Washington     186     34    male\n",
       "7    Philip Coulter     178     27    male\n",
       "8  Charles Weathers     164     33    male\n",
       "9       Brett Smith     183     42    male"
      ]
     },
     "execution_count": 29,
     "metadata": {},
     "output_type": "execute_result"
    }
   ],
   "source": []
  },
  {
   "cell_type": "markdown",
   "metadata": {},
   "source": [
    "Usando `.loc` é possível também definir, além das linhas, quais colunas se deseja selecionar.\n",
    "\n",
    "```python\n",
    "pessoas.loc[2:10,'Nome']\n",
    "```"
   ]
  },
  {
   "cell_type": "code",
   "execution_count": 37,
   "metadata": {},
   "outputs": [
    {
     "data": {
      "text/plain": [
       "2       Katrina Bunker\n",
       "3          Kaye Garcia\n",
       "4          Larry Jones\n",
       "5       Charles Whaley\n",
       "6     James Washington\n",
       "7       Philip Coulter\n",
       "8     Charles Weathers\n",
       "9          Brett Smith\n",
       "10        Gene Bechtel\n",
       "Name: Nome, dtype: object"
      ]
     },
     "execution_count": 37,
     "metadata": {},
     "output_type": "execute_result"
    }
   ],
   "source": []
  },
  {
   "cell_type": "markdown",
   "metadata": {},
   "source": [
    "```python\n",
    "pessoas.loc[2:10,['Nome']]\n",
    "```"
   ]
  },
  {
   "cell_type": "code",
   "execution_count": 38,
   "metadata": {},
   "outputs": [
    {
     "data": {
      "text/html": [
       "<div>\n",
       "<style scoped>\n",
       "    .dataframe tbody tr th:only-of-type {\n",
       "        vertical-align: middle;\n",
       "    }\n",
       "\n",
       "    .dataframe tbody tr th {\n",
       "        vertical-align: top;\n",
       "    }\n",
       "\n",
       "    .dataframe thead th {\n",
       "        text-align: right;\n",
       "    }\n",
       "</style>\n",
       "<table border=\"1\" class=\"dataframe\">\n",
       "  <thead>\n",
       "    <tr style=\"text-align: right;\">\n",
       "      <th></th>\n",
       "      <th>Nome</th>\n",
       "    </tr>\n",
       "  </thead>\n",
       "  <tbody>\n",
       "    <tr>\n",
       "      <th>2</th>\n",
       "      <td>Katrina Bunker</td>\n",
       "    </tr>\n",
       "    <tr>\n",
       "      <th>3</th>\n",
       "      <td>Kaye Garcia</td>\n",
       "    </tr>\n",
       "    <tr>\n",
       "      <th>4</th>\n",
       "      <td>Larry Jones</td>\n",
       "    </tr>\n",
       "    <tr>\n",
       "      <th>5</th>\n",
       "      <td>Charles Whaley</td>\n",
       "    </tr>\n",
       "    <tr>\n",
       "      <th>6</th>\n",
       "      <td>James Washington</td>\n",
       "    </tr>\n",
       "    <tr>\n",
       "      <th>7</th>\n",
       "      <td>Philip Coulter</td>\n",
       "    </tr>\n",
       "    <tr>\n",
       "      <th>8</th>\n",
       "      <td>Charles Weathers</td>\n",
       "    </tr>\n",
       "    <tr>\n",
       "      <th>9</th>\n",
       "      <td>Brett Smith</td>\n",
       "    </tr>\n",
       "    <tr>\n",
       "      <th>10</th>\n",
       "      <td>Gene Bechtel</td>\n",
       "    </tr>\n",
       "  </tbody>\n",
       "</table>\n",
       "</div>"
      ],
      "text/plain": [
       "                Nome\n",
       "2     Katrina Bunker\n",
       "3        Kaye Garcia\n",
       "4        Larry Jones\n",
       "5     Charles Whaley\n",
       "6   James Washington\n",
       "7     Philip Coulter\n",
       "8   Charles Weathers\n",
       "9        Brett Smith\n",
       "10      Gene Bechtel"
      ]
     },
     "execution_count": 38,
     "metadata": {},
     "output_type": "execute_result"
    }
   ],
   "source": []
  },
  {
   "cell_type": "markdown",
   "metadata": {},
   "source": [
    "```python\n",
    "pessoas.loc[2:10,['Nome']]\n",
    "```"
   ]
  },
  {
   "cell_type": "code",
   "execution_count": 36,
   "metadata": {},
   "outputs": [
    {
     "data": {
      "text/html": [
       "<div>\n",
       "<style scoped>\n",
       "    .dataframe tbody tr th:only-of-type {\n",
       "        vertical-align: middle;\n",
       "    }\n",
       "\n",
       "    .dataframe tbody tr th {\n",
       "        vertical-align: top;\n",
       "    }\n",
       "\n",
       "    .dataframe thead th {\n",
       "        text-align: right;\n",
       "    }\n",
       "</style>\n",
       "<table border=\"1\" class=\"dataframe\">\n",
       "  <thead>\n",
       "    <tr style=\"text-align: right;\">\n",
       "      <th></th>\n",
       "      <th>Nome</th>\n",
       "      <th>Idade</th>\n",
       "    </tr>\n",
       "  </thead>\n",
       "  <tbody>\n",
       "    <tr>\n",
       "      <th>3</th>\n",
       "      <td>Kaye Garcia</td>\n",
       "      <td>55</td>\n",
       "    </tr>\n",
       "    <tr>\n",
       "      <th>4</th>\n",
       "      <td>Larry Jones</td>\n",
       "      <td>33</td>\n",
       "    </tr>\n",
       "  </tbody>\n",
       "</table>\n",
       "</div>"
      ],
      "text/plain": [
       "          Nome  Idade\n",
       "3  Kaye Garcia     55\n",
       "4  Larry Jones     33"
      ]
     },
     "execution_count": 36,
     "metadata": {},
     "output_type": "execute_result"
    }
   ],
   "source": []
  },
  {
   "cell_type": "code",
   "execution_count": null,
   "metadata": {},
   "outputs": [],
   "source": []
  },
  {
   "cell_type": "markdown",
   "metadata": {},
   "source": [
    "## Amostras das linhas do Dataframe\n",
    "Os métodos `.head()` e `.tail()` servem para obter as linhas iniciais ou finais de um DataFrame. Tais métodos são úteis para observar amostras dos dados, principalmente quando tratamos de DataFrames com muitas linhas.\n",
    "\n",
    "**Exemplo**\n",
    "\n",
    "```python\n",
    "pessoas.head(2)\n",
    "```"
   ]
  },
  {
   "cell_type": "code",
   "execution_count": null,
   "metadata": {},
   "outputs": [],
   "source": []
  },
  {
   "cell_type": "markdown",
   "metadata": {},
   "source": [
    "**Atividade**\n",
    "\n",
    "- Qual é o valor padrão de linhas para o método `.head()`, caso o parâmetro seja omitido?"
   ]
  },
  {
   "cell_type": "code",
   "execution_count": null,
   "metadata": {},
   "outputs": [],
   "source": []
  },
  {
   "cell_type": "markdown",
   "metadata": {},
   "source": [
    "Outro método para obter amostras é o `.sample()`, que retorna linhas selecionadas aleatoriamente.\n",
    "\n",
    "```python\n",
    "pessoas.sample(7)\n",
    "```"
   ]
  },
  {
   "cell_type": "code",
   "execution_count": null,
   "metadata": {},
   "outputs": [],
   "source": []
  },
  {
   "cell_type": "markdown",
   "metadata": {},
   "source": [
    "## Ordenação\n",
    "É possível ordenar os dados por uma coluna específica, utilizando o método `.sort_values()`.\n",
    "\n",
    "**Exemplo**\n",
    "\n",
    "```python\n",
    "pessoas.sort_values('Idade')\n",
    "```"
   ]
  },
  {
   "cell_type": "code",
   "execution_count": null,
   "metadata": {},
   "outputs": [],
   "source": []
  },
  {
   "cell_type": "markdown",
   "metadata": {},
   "source": [
    "Observe novamente o Dataframe `pessoas`, e verifique que se os dados continuam ordenados pelo nome."
   ]
  },
  {
   "cell_type": "code",
   "execution_count": null,
   "metadata": {
    "scrolled": true
   },
   "outputs": [],
   "source": []
  },
  {
   "cell_type": "markdown",
   "metadata": {},
   "source": [
    "Para que a alteração seja permanente, é necessário sobrescrever o Datraframe.  \n",
    "\n",
    "**Exemplo**  \n",
    "\n",
    "```python\n",
    "pessoas = pessoas.sort_values('Idade')\n",
    "pessoas\n",
    "```"
   ]
  },
  {
   "cell_type": "code",
   "execution_count": null,
   "metadata": {},
   "outputs": [],
   "source": []
  },
  {
   "cell_type": "code",
   "execution_count": null,
   "metadata": {},
   "outputs": [],
   "source": []
  },
  {
   "cell_type": "markdown",
   "metadata": {},
   "source": [
    "## Utilizando Series como índices\n",
    "\n",
    "É possível utilizar Series como índices em Dataframes.\n",
    "\n",
    "**Exemplo**\n",
    "\n",
    "Observe a saída:\n",
    "```python\n",
    "pessoas['Sexo'] == 'm'\n",
    "```\n",
    "\n",
    "Nesta saída o resultado é uma Series composta por valores do tipo *boolean*. Esta Series pode ser utilizada como índice, em que determinada operação será aplicada apenas aos elementos nas posições em que o índice possua valor `True`.\n"
   ]
  },
  {
   "cell_type": "code",
   "execution_count": null,
   "metadata": {},
   "outputs": [],
   "source": []
  },
  {
   "cell_type": "markdown",
   "metadata": {},
   "source": [
    "**Exemplo**\n",
    "\n",
    "```python\n",
    "idx=pessoas['Sexo'] == 'male' # A Series pessoas['Sexo'] == 'male' é armazenada em idx\n",
    "homens=pessoas[idx]        # A Series idx é utilizada como índice, e o DataFrame resultante é salvo como homens\n",
    "homens                     # Mostra o DataFrame Homens\n",
    "```\n",
    "\n",
    "Para estas operações, diversos operadores relacionais como `<`, `<=`, `>`, `>=` ou `==` podem utilizados. Desta forma, estas operações acabam funcionando como um filtro ou máscara, para as opearações aplicadas."
   ]
  },
  {
   "cell_type": "code",
   "execution_count": null,
   "metadata": {},
   "outputs": [],
   "source": []
  },
  {
   "cell_type": "code",
   "execution_count": null,
   "metadata": {},
   "outputs": [],
   "source": []
  },
  {
   "cell_type": "markdown",
   "metadata": {},
   "source": [
    "**Atividade**\n",
    "\n",
    "- Filtre o DataFrame pessoas, mostrando apenas as mulheres."
   ]
  },
  {
   "cell_type": "code",
   "execution_count": null,
   "metadata": {},
   "outputs": [],
   "source": []
  },
  {
   "cell_type": "markdown",
   "metadata": {},
   "source": [
    "**Atividade**\n",
    "\n",
    "- Qual a altura média dos homens?\n",
    "- Qual a altura média das mulheres?\n",
    "- Quem são as pessoas que possuem altura acima da média (do conjunto de dados)?"
   ]
  },
  {
   "cell_type": "code",
   "execution_count": null,
   "metadata": {},
   "outputs": [],
   "source": []
  },
  {
   "cell_type": "code",
   "execution_count": null,
   "metadata": {},
   "outputs": [],
   "source": []
  },
  {
   "cell_type": "code",
   "execution_count": null,
   "metadata": {},
   "outputs": [],
   "source": []
  },
  {
   "cell_type": "markdown",
   "metadata": {},
   "source": [
    "## Carregando e salvando bases de dados"
   ]
  },
  {
   "cell_type": "markdown",
   "metadata": {},
   "source": [
    "A biblioteca Pandas possibilita que um DataFrame pode ser carregado a partir de bases já existentes, em diversos formatos, como:\n",
    "- **csv**\n",
    "    - *Comma Separated Values*\n",
    "    - formato em que os dados estão organizados em linha, e cada campo é separado por vírgula\n",
    "    - método para carregar\n",
    "        - `.read_csv()`\n",
    "            - Parâmetro de entrada pode ser um caminho para arquivo csv local ou uma URL para um arquivo csv, disponível online.\n",
    "    - Exemplo\n",
    "```python\n",
    "#Carrega um arquivo csv local\n",
    "pd.read_csv('bases/alunos.csv')\n",
    "```\n",
    "    - [Documentação](https://pandas.pydata.org/pandas-docs/stable/reference/io.html#flat-file)\n",
    "- **xls**: \n",
    "    - planilha do Microsoft Excel\n",
    "    - método:\n",
    "        - `.read_excel()`\n",
    "    - Exemplo\n",
    "```python\n",
    "#Carrega um arquivo xls local\n",
    "pd.read_csv('bases/alunos.xls')\n",
    "```\n",
    "    - [Documentação](https://pandas.pydata.org/pandas-docs/stable/reference/io.html#excel)\n",
    "- **sql**\n",
    "    - tabelas e resultados de consultas a bancos de dados\n",
    "    - método para carregar:\n",
    "        - `.read_sql_table()`\n",
    "        - `.read_sql_query()`\n",
    "    - [Documentação](https://pandas.pydata.org/pandas-docs/stable/reference/io.html#sql)\n",
    "    "
   ]
  },
  {
   "cell_type": "markdown",
   "metadata": {},
   "source": [
    "Para salvar um DataFrame em arquivo para ser carregado posteriormente:\n",
    "- **csv**\n",
    "    - `.to_csv()`\n",
    "        - Método do DataFrame\n",
    "    - Exemplo\n",
    "```python\n",
    "#salvando o DataFrame pessoas no diretório local\n",
    "pessoas.to_csv('pessoas.csv')\n",
    "```"
   ]
  },
  {
   "cell_type": "markdown",
   "metadata": {},
   "source": [
    "## Exercício\n",
    "\n",
    "Carregue o DataFrame **rioAptos** com informações sobre apartamentos na cidade do Rio de Janeiro. Para carregar, execute:\n",
    "\n",
    "```python\n",
    "rioAptos = pd.read_csv('https://raw.githubusercontent.com/mvinoba/notebooks-for-binder/master/dados.csv')\n",
    "```"
   ]
  },
  {
   "cell_type": "code",
   "execution_count": null,
   "metadata": {},
   "outputs": [],
   "source": []
  },
  {
   "cell_type": "markdown",
   "metadata": {},
   "source": [
    "Observe quais são as colunas presentes na base de dados:"
   ]
  },
  {
   "cell_type": "code",
   "execution_count": null,
   "metadata": {},
   "outputs": [],
   "source": []
  },
  {
   "cell_type": "markdown",
   "metadata": {},
   "source": [
    "Observe os dados presentes nas primeiras linhas:"
   ]
  },
  {
   "cell_type": "code",
   "execution_count": null,
   "metadata": {},
   "outputs": [],
   "source": []
  },
  {
   "cell_type": "markdown",
   "metadata": {},
   "source": [
    "- Qual é o valor do apartamento mais barato?"
   ]
  },
  {
   "cell_type": "code",
   "execution_count": null,
   "metadata": {},
   "outputs": [],
   "source": []
  },
  {
   "cell_type": "markdown",
   "metadata": {},
   "source": [
    "- Qual é o valor do apartamento mais caro?"
   ]
  },
  {
   "cell_type": "code",
   "execution_count": null,
   "metadata": {},
   "outputs": [],
   "source": []
  },
  {
   "cell_type": "markdown",
   "metadata": {},
   "source": [
    "- Qual é o valor do metro quadrado mais barato?"
   ]
  },
  {
   "cell_type": "code",
   "execution_count": null,
   "metadata": {},
   "outputs": [],
   "source": []
  },
  {
   "cell_type": "markdown",
   "metadata": {},
   "source": [
    "- Qual é o valor do metro quadrado mais caro?"
   ]
  },
  {
   "cell_type": "code",
   "execution_count": null,
   "metadata": {},
   "outputs": [],
   "source": []
  },
  {
   "cell_type": "markdown",
   "metadata": {},
   "source": [
    "- Em qual bairro está o apartamento mais barato?"
   ]
  },
  {
   "cell_type": "code",
   "execution_count": null,
   "metadata": {},
   "outputs": [],
   "source": []
  },
  {
   "cell_type": "markdown",
   "metadata": {},
   "source": [
    "- Em qual bairro está o apartamento mais caro?"
   ]
  },
  {
   "cell_type": "code",
   "execution_count": null,
   "metadata": {},
   "outputs": [],
   "source": []
  },
  {
   "cell_type": "markdown",
   "metadata": {},
   "source": [
    "- Na base de dados, quantos apartamentos há em cada bairro?"
   ]
  },
  {
   "cell_type": "code",
   "execution_count": null,
   "metadata": {},
   "outputs": [],
   "source": []
  },
  {
   "cell_type": "markdown",
   "metadata": {},
   "source": [
    "- Qual é o tamanho médio dos apartamentos nos seguintes bairros:\n",
    "    - Copacabana\n",
    "    - Botafogo\n",
    "    - Tijuca"
   ]
  },
  {
   "cell_type": "code",
   "execution_count": null,
   "metadata": {},
   "outputs": [],
   "source": []
  },
  {
   "cell_type": "markdown",
   "metadata": {},
   "source": [
    "- Quais são os apartamentos com preços acima da média?"
   ]
  },
  {
   "cell_type": "code",
   "execution_count": null,
   "metadata": {},
   "outputs": [],
   "source": []
  },
  {
   "cell_type": "markdown",
   "metadata": {},
   "source": [
    "Qual a porcentagem de apartamentos em Copacabana que possuem valores acima da média dos demais bairros?"
   ]
  },
  {
   "cell_type": "code",
   "execution_count": null,
   "metadata": {},
   "outputs": [],
   "source": []
  },
  {
   "cell_type": "markdown",
   "metadata": {},
   "source": [
    "## Referências\n",
    "\n",
    "[MCKINNEY, Wes et al. Data structures for statistical computing in python. In: Proceedings of the 9th Python in Science Conference. 2010. p. 51-56.](http://conference.scipy.org/proceedings/scipy2010/pdfs/mckinney.pdf)  \n",
    "\n",
    "\n",
    "### Outros materiais\n",
    "- [Data Hackers: Seus primeiros passos como Data Scientist: Introdução ao Pandas](https://medium.com/data-hackers/uma-introdução-simples-ao-pandas-1e15eea37fa1)  \n",
    "- [Pandas API Reference](https://pandas.pydata.org/pandas-docs/stable/reference/index.html)"
   ]
  },
  {
   "cell_type": "markdown",
   "metadata": {},
   "source": [
    " "
   ]
  }
 ],
 "metadata": {
  "kernelspec": {
   "display_name": "Python 3 (ipykernel)",
   "language": "python",
   "name": "python3"
  },
  "language_info": {
   "codemirror_mode": {
    "name": "ipython",
    "version": 3
   },
   "file_extension": ".py",
   "mimetype": "text/x-python",
   "name": "python",
   "nbconvert_exporter": "python",
   "pygments_lexer": "ipython3",
   "version": "3.8.10"
  }
 },
 "nbformat": 4,
 "nbformat_minor": 2
}
