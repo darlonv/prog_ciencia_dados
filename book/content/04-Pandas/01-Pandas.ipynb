{
 "cells": [
  {
   "cell_type": "markdown",
   "metadata": {},
   "source": [
    "# Pandas"
   ]
  },
  {
   "cell_type": "markdown",
   "metadata": {},
   "source": [
    "Pandas é uma biblioteca para análise e manipulação de dados amplamente utilizada. Com ela, é possível operar sobre dados de maneira organizada.\n",
    "\n",
    "Na API da biblioteca é possível acessar todas as operações disponíveis.  \n",
    "[API](https://pandas.pydata.org/pandas-docs/stable/reference/index.html)\n"
   ]
  },
  {
   "cell_type": "markdown",
   "metadata": {},
   "source": [
    "Para importar a biblioteca:\n",
    "\n",
    "```python\n",
    "import pandas as pd\n",
    "```"
   ]
  },
  {
   "cell_type": "code",
   "execution_count": null,
   "metadata": {},
   "outputs": [],
   "source": []
  },
  {
   "cell_type": "markdown",
   "metadata": {},
   "source": [
    "A bibioteca Pandas é composta por dois tipos de dados principais, as **Series** e os **Dataframes**."
   ]
  },
  {
   "cell_type": "markdown",
   "metadata": {},
   "source": [
    "## Series\n",
    "\n",
    "Uma Series opera da mesma maneira que um *array* unidimensional. Cada elemento presente na Series possui um *index* (índice), que funciona como um rótulo para cada elemento.\n",
    "\n",
    "**Exemplo**\n",
    "\n",
    "Utilizaremos como exemplo uma Series para armazenar as alturas de um determinado grupo de pessoas.\n",
    "\n",
    "```python\n",
    "alturas = pd.Series([175,182,160,156])\n",
    "```"
   ]
  },
  {
   "cell_type": "code",
   "execution_count": null,
   "metadata": {},
   "outputs": [],
   "source": []
  },
  {
   "cell_type": "markdown",
   "metadata": {},
   "source": [
    "Observe também o tipo de dado utilizado, utilizando a função `type()`\n",
    "```python\n",
    "type(alturas)\n",
    "```"
   ]
  },
  {
   "cell_type": "code",
   "execution_count": null,
   "metadata": {},
   "outputs": [],
   "source": []
  },
  {
   "cell_type": "markdown",
   "metadata": {},
   "source": [
    "Observe os valores armazenados na Series, com a função `print()`\n",
    "```python\n",
    "print(alturas)\n",
    "```"
   ]
  },
  {
   "cell_type": "code",
   "execution_count": null,
   "metadata": {},
   "outputs": [],
   "source": []
  },
  {
   "cell_type": "markdown",
   "metadata": {},
   "source": [
    "Repare na saída do comando que a primeira coluna apresenta o *index*, e a segunda coluna os valores inseridos."
   ]
  },
  {
   "cell_type": "markdown",
   "metadata": {},
   "source": [
    "Na Series `alturas`, não foi especificado qual seria o *index* utilizado. Por padrão, é utilizado uma sequência de números inteiros positivos crescente, iniciada pelo valor `0`."
   ]
  },
  {
   "cell_type": "markdown",
   "metadata": {},
   "source": [
    "Podemos obter essas informações de maneira separada. Para acessar os **valores**, pode-se utilizar o atributo `values`.\n",
    "\n",
    "**Exemplo**\n",
    "\n",
    "```python\n",
    "alturas.values\n",
    "```"
   ]
  },
  {
   "cell_type": "code",
   "execution_count": null,
   "metadata": {},
   "outputs": [],
   "source": []
  },
  {
   "cell_type": "markdown",
   "metadata": {},
   "source": [
    "E para obter os **índices**, pode-se utilizar o atributo `index`.\n",
    "\n",
    "**Exemplo**\n",
    "\n",
    "```python\n",
    "alturas.index\n",
    "```"
   ]
  },
  {
   "cell_type": "code",
   "execution_count": null,
   "metadata": {},
   "outputs": [],
   "source": []
  },
  {
   "cell_type": "markdown",
   "metadata": {},
   "source": [
    "Supondo que gostaríamos de adicionar como índice o nome das pessoas a que cada altura corresponde, pode ser utilizado o parâmetro `index` na criação da Series.\n",
    "\n",
    "```python\n",
    "alturas = pd.Series([175, 182,160,156], index=[\"Maria\", \"José\", \"Eduarda\", \"Sergio\"])\n",
    "```"
   ]
  },
  {
   "cell_type": "code",
   "execution_count": null,
   "metadata": {},
   "outputs": [],
   "source": []
  },
  {
   "cell_type": "markdown",
   "metadata": {},
   "source": [
    "Agora, observe os **valores** da Series `altura` e os **índices** utilizados."
   ]
  },
  {
   "cell_type": "code",
   "execution_count": null,
   "metadata": {},
   "outputs": [],
   "source": []
  },
  {
   "cell_type": "code",
   "execution_count": null,
   "metadata": {},
   "outputs": [],
   "source": []
  },
  {
   "cell_type": "markdown",
   "metadata": {},
   "source": [
    "Utilizando as Series, é possível que os dados sejam acessados a partir de seu índice.\n",
    "\n",
    "```python\n",
    "alturas[\"Eduarda\"]\n",
    "```"
   ]
  },
  {
   "cell_type": "code",
   "execution_count": null,
   "metadata": {},
   "outputs": [],
   "source": []
  },
  {
   "cell_type": "code",
   "execution_count": null,
   "metadata": {},
   "outputs": [],
   "source": []
  },
  {
   "cell_type": "markdown",
   "metadata": {},
   "source": [
    "Uma Series possibilita que dados estatísticos básicos sejam calculados a partir de seus dados, diretamente com a chamada de métodos.\n",
    "\n",
    "**Exemplo**\n",
    "\n",
    "Para mostrar o número de elementos\n",
    "```python\n",
    "alturas.count()\n",
    "```\n",
    "\n",
    "Alguns métodos que também podem ser utilizados:\n",
    "- `.count()` - número de elementos\n",
    "- `.mean()` - média\n",
    "- `.std()` - desvio padrão\n",
    "- `.min()` - valor mínimo\n",
    "- `.max()` - valor máximo\n",
    "- `.value_counts()` - mostra quantas vezes aparece cada um dos elementos\n",
    "- `.unique()` - mostra os elementos existentes, sem repetições\n",
    "\n",
    "\n",
    "**Atividade**\n",
    "\n",
    "- Qual é a altura média das pessoas?"
   ]
  },
  {
   "cell_type": "code",
   "execution_count": null,
   "metadata": {},
   "outputs": [],
   "source": []
  },
  {
   "cell_type": "markdown",
   "metadata": {},
   "source": [
    "É possível observar todos esses valores de uma única vez, utilizando o método `.describe()`"
   ]
  },
  {
   "cell_type": "code",
   "execution_count": null,
   "metadata": {},
   "outputs": [],
   "source": []
  },
  {
   "cell_type": "markdown",
   "metadata": {},
   "source": [
    "## Operações sobre todos os valores\n",
    "Em uma Series, é possível aplicar operações matemáticas sobre todos os valores de uma única vez.\n",
    "\n",
    "**Exemplo**\n",
    "\n",
    "Para converter a altura de centímetros para metros, basta dividir os valores por 100.\n",
    "```python\n",
    "alturas/100\n",
    "```\n"
   ]
  },
  {
   "cell_type": "code",
   "execution_count": null,
   "metadata": {},
   "outputs": [],
   "source": []
  },
  {
   "cell_type": "markdown",
   "metadata": {},
   "source": [
    "A series não é afetada. Para tornar o resultado permamente, é necessário salvar o valor.  \n",
    "\n",
    "**Exemplo**  \n",
    "\n",
    "```python\n",
    "alturasMetros = alturas/100\n",
    "\n",
    "print('Alturas em metros:')\n",
    "print(alturasMetros)\n",
    "print('\\nAlturas em centímetros:')\n",
    "print(alturas)\n",
    "```"
   ]
  },
  {
   "cell_type": "code",
   "execution_count": null,
   "metadata": {},
   "outputs": [],
   "source": []
  },
  {
   "cell_type": "markdown",
   "metadata": {},
   "source": [
    "**Atividade**\n",
    "\n",
    "Crie a Series apresentada abaixo:\n",
    "```python\n",
    "conceitos = pd.Series(\n",
    "    ['A','B','B','A','C','D','A','B','B','C','C','A'],\n",
    "    index=\n",
    "    ['Maria', 'José', 'Eduarda', 'Sofia', 'Sergio', 'Baltazar', 'Oswaldo', 'Joana', 'Felisberto', 'Brigite', 'Filomena', 'Natalicio'])\n",
    "```"
   ]
  },
  {
   "cell_type": "code",
   "execution_count": null,
   "metadata": {},
   "outputs": [],
   "source": []
  },
  {
   "cell_type": "markdown",
   "metadata": {},
   "source": [
    "Sobre a Series `conceitos`, responda:\n",
    "- Quantos conceitos existem?"
   ]
  },
  {
   "cell_type": "code",
   "execution_count": null,
   "metadata": {},
   "outputs": [],
   "source": []
  },
  {
   "cell_type": "markdown",
   "metadata": {},
   "source": [
    "- Quais são os conceitos diferentes que estão armazenados?"
   ]
  },
  {
   "cell_type": "code",
   "execution_count": null,
   "metadata": {},
   "outputs": [],
   "source": []
  },
  {
   "cell_type": "markdown",
   "metadata": {},
   "source": [
    "- Quantos valores existem de cada conceito?"
   ]
  },
  {
   "cell_type": "code",
   "execution_count": null,
   "metadata": {},
   "outputs": [],
   "source": []
  },
  {
   "cell_type": "markdown",
   "metadata": {},
   "source": [
    "- Qual é o conceito da aluna 'Sofia'?"
   ]
  },
  {
   "cell_type": "code",
   "execution_count": null,
   "metadata": {},
   "outputs": [],
   "source": []
  },
  {
   "cell_type": "markdown",
   "metadata": {},
   "source": [
    "## DataFrame\n",
    "\n",
    "O DataFrame é uma das principais estruturas do Pandas. É composto por uma estrutura bidimensional, que em sua apresentação se assemelha a uma planilha. Um Dataframe é formado por diversas Series, que compartilham um mesmo índice.\n",
    "\n",
    "**Exemplo**\n",
    "\n",
    "```python\n",
    "pessoas = pd.DataFrame({'Nome': [\"Maria\", \"José\", \"Eduarda\", \"Sergio\", \"Julia\", 'Baltazar', 'Sofia'],\n",
    "                        'Altura': [175, 182,160,156, 180, 158, 175],\n",
    "                        'Idade': [21, 40, 41, 30, 25, 23, 29], \n",
    "                        'Sexo': ['f', 'm', 'f', 'm', 'f', 'm', 'f']\n",
    "                        })\n",
    "```\n"
   ]
  },
  {
   "cell_type": "code",
   "execution_count": null,
   "metadata": {},
   "outputs": [],
   "source": []
  },
  {
   "cell_type": "markdown",
   "metadata": {},
   "source": [
    "Para observar o dataframe:\n",
    "```python\n",
    "pessoas\n",
    "```"
   ]
  },
  {
   "cell_type": "code",
   "execution_count": null,
   "metadata": {},
   "outputs": [],
   "source": []
  },
  {
   "cell_type": "markdown",
   "metadata": {},
   "source": [
    "É possível observar diversas informações sobre o DataFrame, utilizando o método `.info()`. O número de colunas, número de linhas, quantidades de valores não-nulos presentes em cada coluna e a quantidade de memória utilizada pelo DataFrame podem ser observados com esse método.  \n",
    "\n",
    "**Exemplo**  \n",
    "\n",
    "```python\n",
    "pessoas.info()\n",
    "```"
   ]
  },
  {
   "cell_type": "code",
   "execution_count": null,
   "metadata": {},
   "outputs": [],
   "source": []
  },
  {
   "cell_type": "markdown",
   "metadata": {},
   "source": [
    "Cada coluna pode possuir seu tipo de dado, que pode ser visto acessando o atributo `.dtypes`, acrônimo de *data types*.  \n",
    "\n",
    "**Exemplo**  \n",
    "\n",
    "```python\n",
    "pessoas.dtypes\n",
    "```"
   ]
  },
  {
   "cell_type": "code",
   "execution_count": null,
   "metadata": {},
   "outputs": [],
   "source": []
  },
  {
   "cell_type": "markdown",
   "metadata": {},
   "source": [
    "As estatísticas de cada coluna, assim como na Series, podem ser obtidas com o método `.describe()`.  \n",
    "\n",
    "**Exemplo**  \n",
    "\n",
    "```python\n",
    "pessoas.describe()\n",
    "```"
   ]
  },
  {
   "cell_type": "code",
   "execution_count": null,
   "metadata": {},
   "outputs": [],
   "source": []
  },
  {
   "cell_type": "markdown",
   "metadata": {},
   "source": [
    "**Atividade**\n",
    "\n",
    "- Para pensar:\n",
    "    - Por que não aparecem as colunas com os dados de *Nome* e *Sexo* na saída do método `describe()`?"
   ]
  },
  {
   "cell_type": "code",
   "execution_count": null,
   "metadata": {},
   "outputs": [],
   "source": []
  },
  {
   "cell_type": "markdown",
   "metadata": {},
   "source": [
    "## Seleção de colunas"
   ]
  },
  {
   "cell_type": "markdown",
   "metadata": {},
   "source": [
    "A identificação de cada coluna pode ser utilizada para acessar os dados de colunas específicas, como se fosse uma 'posição'.\n",
    "\n",
    "**Exemplo**\n",
    "\n",
    "```python\n",
    "pessoas['Nome']\n",
    "```"
   ]
  },
  {
   "cell_type": "code",
   "execution_count": null,
   "metadata": {},
   "outputs": [],
   "source": []
  },
  {
   "cell_type": "markdown",
   "metadata": {},
   "source": [
    "Observe o tipo dado que é retornado:\n",
    "```python\n",
    "type(pessoas['Nome'])\n",
    "```\n",
    "Perceba que selecionar uma única coluna retorna uma **Series**."
   ]
  },
  {
   "cell_type": "code",
   "execution_count": null,
   "metadata": {},
   "outputs": [],
   "source": []
  },
  {
   "cell_type": "markdown",
   "metadata": {},
   "source": [
    "Também é possível observar mais de uma coluna de um dataframe, mostrando apenas as colunas desejadas.  \n",
    "\n",
    "**Exemplo**  \n",
    "\n",
    "```python\n",
    "pessoas[['Nome', 'Altura']]\n",
    "```\n",
    "Observe que passar obter mais de uma coluna, como índice para o Dataframe é passado uma **lista** de valores."
   ]
  },
  {
   "cell_type": "code",
   "execution_count": null,
   "metadata": {},
   "outputs": [],
   "source": []
  },
  {
   "cell_type": "markdown",
   "metadata": {},
   "source": [
    "Observe o tipo dado que é retornado:\n",
    "```python\n",
    "type(pessoas[['Nome', 'Altura']])\n",
    "```\n",
    "Perceba que observar várias colunas retorna um **DataFrame**."
   ]
  },
  {
   "cell_type": "code",
   "execution_count": null,
   "metadata": {},
   "outputs": [],
   "source": []
  },
  {
   "cell_type": "markdown",
   "metadata": {},
   "source": [
    "**Atividade**\n",
    "\n",
    "Execute os códigos 1 e 2 abaixo, compare-os e explique as diferenças, respondendo: \n",
    "    - os dados são os mesmos?\n",
    "    - as estruturas retornadas possuem o mesmo tipo de dado?\n",
    "    - Por quê?\n",
    "    - Qual é a diferença na escolha de colunas a serem mostradas?"
   ]
  },
  {
   "cell_type": "markdown",
   "metadata": {},
   "source": [
    "Código 1:\n",
    "```python\n",
    "pessoas['Nome']\n",
    "```"
   ]
  },
  {
   "cell_type": "code",
   "execution_count": null,
   "metadata": {},
   "outputs": [],
   "source": []
  },
  {
   "cell_type": "markdown",
   "metadata": {},
   "source": [
    "Código 2:\n",
    "```python\n",
    "pessoas[['Nome']]\n",
    "```"
   ]
  },
  {
   "cell_type": "code",
   "execution_count": null,
   "metadata": {},
   "outputs": [],
   "source": []
  },
  {
   "cell_type": "markdown",
   "metadata": {},
   "source": [
    "## Colunas de DataFrames como Series\n",
    "Ao selecionar uma única coluna temos uma Series, e seus atributos podem ser aplicados.\n",
    "\n",
    "**Exemplo**  \n",
    "\n",
    "Para observar a quantidade de pessoas de cada sexo\n",
    "```python\n",
    "pessoas['Sexo'].value_counts()\n",
    "```"
   ]
  },
  {
   "cell_type": "code",
   "execution_count": null,
   "metadata": {
    "scrolled": false
   },
   "outputs": [],
   "source": []
  },
  {
   "cell_type": "markdown",
   "metadata": {},
   "source": [
    "## Seleção de linhas"
   ]
  },
  {
   "cell_type": "markdown",
   "metadata": {},
   "source": [
    "Uma outra forma de selecionar elementos é utilizando os índices (linhas) como referência, utilizando o método `.loc[]`\n",
    "\n",
    "**Exemplo**\n",
    "\n",
    "```python\n",
    "pessoas.loc[[2]]\n",
    "pessoas.loc[[2,4]]\n",
    "pessoas.loc[2:4]\n",
    "```\n",
    "Neste caso, utilizou o **conteúdo** do índice como referência."
   ]
  },
  {
   "cell_type": "code",
   "execution_count": null,
   "metadata": {},
   "outputs": [],
   "source": []
  },
  {
   "cell_type": "markdown",
   "metadata": {},
   "source": [
    "Pode-se também obter a partir o índice da posição, com o método `.iloc[]`. \n",
    "\n",
    "**Exemplo**\n",
    "\n",
    "\n",
    "```python\n",
    "pessoas.iloc[[2]]\n",
    "pessoas.iloc[[2,4]]\n",
    "pessoas.iloc[2:4]\n",
    "```\n",
    "\n",
    "Para este exemplo, como os índices são numéricos, não há diferença nos resultados."
   ]
  },
  {
   "cell_type": "code",
   "execution_count": null,
   "metadata": {},
   "outputs": [],
   "source": []
  },
  {
   "cell_type": "markdown",
   "metadata": {},
   "source": [
    "**Atividade**\n",
    "\n",
    "- Explique cada parâmetro passado no método `.iloc[]` nos exemplos abaixo, em relação com a saída obtida. Compare as diferenças entre eles.  \n",
    "\n",
    "```python\n",
    "pessoas.iloc[2]\n",
    "```"
   ]
  },
  {
   "cell_type": "code",
   "execution_count": null,
   "metadata": {},
   "outputs": [],
   "source": []
  },
  {
   "cell_type": "markdown",
   "metadata": {},
   "source": [
    "```python\n",
    "pessoas.iloc[[2]]\n",
    "```"
   ]
  },
  {
   "cell_type": "code",
   "execution_count": null,
   "metadata": {},
   "outputs": [],
   "source": []
  },
  {
   "cell_type": "markdown",
   "metadata": {},
   "source": [
    "```python\n",
    "pessoas.iloc[[2,4]]\n",
    "```"
   ]
  },
  {
   "cell_type": "code",
   "execution_count": null,
   "metadata": {},
   "outputs": [],
   "source": []
  },
  {
   "cell_type": "markdown",
   "metadata": {},
   "source": [
    "```python\n",
    "pessoas.iloc[2:4]\n",
    "```"
   ]
  },
  {
   "cell_type": "code",
   "execution_count": null,
   "metadata": {},
   "outputs": [],
   "source": []
  },
  {
   "cell_type": "markdown",
   "metadata": {},
   "source": [
    "## Amostras das linhas do Dataframe\n",
    "Os métodos `.head()` e `.tail()` servem para obter as linhas iniciais ou finais de um DataFrame. Tais métodos são úteis para observar amostras dos dados, principalmente quando tratamos de DataFrames com muitas linhas.\n",
    "\n",
    "**Exemplo**\n",
    "\n",
    "```python\n",
    "pessoas.head(2)\n",
    "```"
   ]
  },
  {
   "cell_type": "code",
   "execution_count": null,
   "metadata": {},
   "outputs": [],
   "source": []
  },
  {
   "cell_type": "markdown",
   "metadata": {},
   "source": [
    "**Atividade**\n",
    "\n",
    "- Qual é o valor padrão de linhas para o método `.head()`, caso o parâmetro seja omitido?"
   ]
  },
  {
   "cell_type": "code",
   "execution_count": null,
   "metadata": {},
   "outputs": [],
   "source": []
  },
  {
   "cell_type": "markdown",
   "metadata": {},
   "source": [
    "## Ordenação\n",
    "É possível ordenar os dados por uma coluna específica, utilizando o método `.sort_values()`.\n",
    "\n",
    "**Exemplo**\n",
    "\n",
    "```python\n",
    "pessoas.sort_values('Idade')\n",
    "```"
   ]
  },
  {
   "cell_type": "code",
   "execution_count": null,
   "metadata": {},
   "outputs": [],
   "source": []
  },
  {
   "cell_type": "markdown",
   "metadata": {},
   "source": [
    "Observe novamente o Dataframe `pessoas`, e verifique que se os dados continuam ordenados pelo nome."
   ]
  },
  {
   "cell_type": "code",
   "execution_count": null,
   "metadata": {
    "scrolled": true
   },
   "outputs": [],
   "source": []
  },
  {
   "cell_type": "markdown",
   "metadata": {},
   "source": [
    "Para que a alteração seja permanente, é necessário sobrescrever o Datraframe.  \n",
    "\n",
    "**Exemplo**  \n",
    "\n",
    "```python\n",
    "pessoas = pessoas.sort_values('Idade')\n",
    "pessoas\n",
    "```"
   ]
  },
  {
   "cell_type": "code",
   "execution_count": null,
   "metadata": {},
   "outputs": [],
   "source": []
  },
  {
   "cell_type": "code",
   "execution_count": null,
   "metadata": {},
   "outputs": [],
   "source": []
  },
  {
   "cell_type": "markdown",
   "metadata": {},
   "source": [
    "## Utilizando Series como índices\n",
    "\n",
    "É possível utilizar Series como índices em Dataframes.\n",
    "\n",
    "**Exemplo**\n",
    "\n",
    "Observe a saída:\n",
    "```python\n",
    "pessoas['Sexo'] == 'm'\n",
    "```\n",
    "\n",
    "Nesta saída o resultado é uma Series composta por valores do tipo *boolean*. Esta Series pode ser utilizada como índice, em que determinada operação será aplicada apenas aos elementos nas posições em que o índice possua valor `True`.\n"
   ]
  },
  {
   "cell_type": "code",
   "execution_count": null,
   "metadata": {},
   "outputs": [],
   "source": []
  },
  {
   "cell_type": "markdown",
   "metadata": {},
   "source": [
    "**Exemplo**\n",
    "\n",
    "```python\n",
    "idx=pessoas['Sexo'] == 'm' # A Series pessoas['Sexo'] == 'm' é armazenada em idx\n",
    "homens=pessoas[idx]        # A Series idx é utilizada como índice, e o DataFrame resultante é salvo como homens\n",
    "homens                     # Mostra o DataFrame Homens\n",
    "```\n",
    "\n",
    "Para estas operações, diversos operadores relacionais como `<`, `<=`, `>`, `>=` ou `==` podem utilizados. Desta forma, estas operações acabam funcionando como um filtro ou máscara, para as opearações aplicadas."
   ]
  },
  {
   "cell_type": "code",
   "execution_count": null,
   "metadata": {},
   "outputs": [],
   "source": []
  },
  {
   "cell_type": "code",
   "execution_count": null,
   "metadata": {},
   "outputs": [],
   "source": []
  },
  {
   "cell_type": "markdown",
   "metadata": {},
   "source": [
    "**Atividade**\n",
    "\n",
    "- Filtre o DataFrame pessoas, mostrando apenas as mulheres."
   ]
  },
  {
   "cell_type": "code",
   "execution_count": null,
   "metadata": {},
   "outputs": [],
   "source": []
  },
  {
   "cell_type": "markdown",
   "metadata": {},
   "source": [
    "**Atividade**\n",
    "\n",
    "- Qual a altura média dos homens?\n",
    "- Qual a altura média das mulheres?\n",
    "- Quem são as pessoas que possuem altura acima da média (do conjunto de dados)?"
   ]
  },
  {
   "cell_type": "code",
   "execution_count": null,
   "metadata": {},
   "outputs": [],
   "source": []
  },
  {
   "cell_type": "code",
   "execution_count": null,
   "metadata": {},
   "outputs": [],
   "source": []
  },
  {
   "cell_type": "code",
   "execution_count": null,
   "metadata": {},
   "outputs": [],
   "source": []
  },
  {
   "cell_type": "markdown",
   "metadata": {},
   "source": [
    "## Carregando e salvando bases de dados"
   ]
  },
  {
   "cell_type": "markdown",
   "metadata": {},
   "source": [
    "A biblioteca Pandas possibilita que um DataFrame pode ser carregado a partir de bases já existentes, em diversos formatos, como:\n",
    "- **csv**\n",
    "    - *Comma Separated Values*\n",
    "    - formato em que os dados estão organizados em linha, e cada campo é separado por vírgula\n",
    "    - método para carregar\n",
    "        - `.read_csv()`\n",
    "            - Parâmetro de entrada pode ser um caminho para arquivo csv local ou uma URL para um arquivo csv, disponível online.\n",
    "    - Exemplo\n",
    "```python\n",
    "#Carrega um arquivo csv local\n",
    "pd.read_csv('bases/alunos.csv')\n",
    "```\n",
    "    - [Documentação](https://pandas.pydata.org/pandas-docs/stable/reference/io.html#flat-file)\n",
    "- **xls**: \n",
    "    - planilha do Microsoft Excel\n",
    "    - método:\n",
    "        - `.read_excel()`\n",
    "    - Exemplo\n",
    "```python\n",
    "#Carrega um arquivo xls local\n",
    "pd.read_csv('bases/alunos.xls')\n",
    "```\n",
    "    - [Documentação](https://pandas.pydata.org/pandas-docs/stable/reference/io.html#excel)\n",
    "- **sql**\n",
    "    - tabelas e resultados de consultas a bancos de dados\n",
    "    - método para carregar:\n",
    "        - `.read_sql_table()`\n",
    "        - `.read_sql_query()`\n",
    "    - [Documentação](https://pandas.pydata.org/pandas-docs/stable/reference/io.html#sql)\n",
    "    "
   ]
  },
  {
   "cell_type": "markdown",
   "metadata": {},
   "source": [
    "Para salvar um DataFrame em arquivo para ser carregado posteriormente:\n",
    "- **csv**\n",
    "    - `.to_csv()`\n",
    "        - Método do DataFrame\n",
    "    - Exemplo\n",
    "```python\n",
    "#salvando o DataFrame pessoas no diretório local\n",
    "pessoas.to_csv('pessoas.csv')\n",
    "```"
   ]
  },
  {
   "cell_type": "markdown",
   "metadata": {},
   "source": [
    "## Exercício\n",
    "\n",
    "Carregue o DataFrame **rioAptos** com informações sobre apartamentos na cidade do Rio de Janeiro. Para carregar, execute:\n",
    "\n",
    "```python\n",
    "rioAptos = pd.read_csv('https://raw.githubusercontent.com/mvinoba/notebooks-for-binder/master/dados.csv')\n",
    "```"
   ]
  },
  {
   "cell_type": "code",
   "execution_count": null,
   "metadata": {},
   "outputs": [],
   "source": []
  },
  {
   "cell_type": "markdown",
   "metadata": {},
   "source": [
    "Observe quais são as colunas presentes na base de dados:"
   ]
  },
  {
   "cell_type": "code",
   "execution_count": null,
   "metadata": {},
   "outputs": [],
   "source": []
  },
  {
   "cell_type": "markdown",
   "metadata": {},
   "source": [
    "Observe os dados presentes nas primeiras linhas:"
   ]
  },
  {
   "cell_type": "code",
   "execution_count": null,
   "metadata": {},
   "outputs": [],
   "source": []
  },
  {
   "cell_type": "markdown",
   "metadata": {},
   "source": [
    "- Qual é o valor do apartamento mais barato?"
   ]
  },
  {
   "cell_type": "code",
   "execution_count": null,
   "metadata": {},
   "outputs": [],
   "source": []
  },
  {
   "cell_type": "markdown",
   "metadata": {},
   "source": [
    "- Qual é o valor do apartamento mais caro?"
   ]
  },
  {
   "cell_type": "code",
   "execution_count": null,
   "metadata": {},
   "outputs": [],
   "source": []
  },
  {
   "cell_type": "markdown",
   "metadata": {},
   "source": [
    "- Qual é o valor do metro quadrado mais barato?"
   ]
  },
  {
   "cell_type": "code",
   "execution_count": null,
   "metadata": {},
   "outputs": [],
   "source": []
  },
  {
   "cell_type": "markdown",
   "metadata": {},
   "source": [
    "- Qual é o valor do metro quadrado mais caro?"
   ]
  },
  {
   "cell_type": "code",
   "execution_count": null,
   "metadata": {},
   "outputs": [],
   "source": []
  },
  {
   "cell_type": "markdown",
   "metadata": {},
   "source": [
    "- Em qual bairro está o apartamento mais barato?"
   ]
  },
  {
   "cell_type": "code",
   "execution_count": null,
   "metadata": {},
   "outputs": [],
   "source": []
  },
  {
   "cell_type": "markdown",
   "metadata": {},
   "source": [
    "- Em qual bairro está o apartamento mais caro?"
   ]
  },
  {
   "cell_type": "code",
   "execution_count": null,
   "metadata": {},
   "outputs": [],
   "source": []
  },
  {
   "cell_type": "markdown",
   "metadata": {},
   "source": [
    "- Na base de dados, quantos apartamentos há em cada bairro?"
   ]
  },
  {
   "cell_type": "code",
   "execution_count": null,
   "metadata": {},
   "outputs": [],
   "source": []
  },
  {
   "cell_type": "markdown",
   "metadata": {},
   "source": [
    "- Qual é o tamanho médio dos apartamentos nos seguintes bairros:\n",
    "    - Copacabana\n",
    "    - Botafogo\n",
    "    - Tijuca"
   ]
  },
  {
   "cell_type": "code",
   "execution_count": null,
   "metadata": {},
   "outputs": [],
   "source": []
  },
  {
   "cell_type": "markdown",
   "metadata": {},
   "source": [
    "- Quais são os apartamentos com preços acima da média?"
   ]
  },
  {
   "cell_type": "code",
   "execution_count": null,
   "metadata": {},
   "outputs": [],
   "source": []
  },
  {
   "cell_type": "markdown",
   "metadata": {},
   "source": [
    "Qual a porcentagem de apartamentos em Copacabana que possuem valores acima da média dos demais bairros?"
   ]
  },
  {
   "cell_type": "code",
   "execution_count": null,
   "metadata": {},
   "outputs": [],
   "source": []
  },
  {
   "cell_type": "markdown",
   "metadata": {},
   "source": [
    "## Referências\n",
    "\n",
    "[MCKINNEY, Wes et al. Data structures for statistical computing in python. In: Proceedings of the 9th Python in Science Conference. 2010. p. 51-56.](http://conference.scipy.org/proceedings/scipy2010/pdfs/mckinney.pdf)  \n",
    "\n",
    "\n",
    "### Outros materiais\n",
    "- [Data Hackers: Seus primeiros passos como Data Scientist: Introdução ao Pandas](https://medium.com/data-hackers/uma-introdução-simples-ao-pandas-1e15eea37fa1)  \n",
    "- [Pandas API Reference](https://pandas.pydata.org/pandas-docs/stable/reference/index.html)"
   ]
  },
  {
   "cell_type": "markdown",
   "metadata": {},
   "source": [
    " "
   ]
  }
 ],
 "metadata": {
  "kernelspec": {
   "display_name": "Python 3 (ipykernel)",
   "language": "python",
   "name": "python3"
  },
  "language_info": {
   "codemirror_mode": {
    "name": "ipython",
    "version": 3
   },
   "file_extension": ".py",
   "mimetype": "text/x-python",
   "name": "python",
   "nbconvert_exporter": "python",
   "pygments_lexer": "ipython3",
   "version": "3.8.10"
  }
 },
 "nbformat": 4,
 "nbformat_minor": 2
}
