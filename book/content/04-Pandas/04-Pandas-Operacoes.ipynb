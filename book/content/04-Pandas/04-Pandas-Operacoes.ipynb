{
 "cells": [
  {
   "cell_type": "markdown",
   "id": "9db17db0",
   "metadata": {},
   "source": [
    "# Pandas - Operações"
   ]
  },
  {
   "cell_type": "code",
   "execution_count": 1,
   "id": "8fe64228",
   "metadata": {},
   "outputs": [],
   "source": [
    "import numpy as np\n",
    "import pandas as pd"
   ]
  },
  {
   "cell_type": "markdown",
   "id": "620f8a18",
   "metadata": {},
   "source": [
    "### Abrindo bases de dados\n",
    "\n",
    "Um método bastante utilizado para carregar bases de dados é o `.read_csv()`. Entre seus parâmetros, temos:\n",
    "- `path`: Caminho para a base. Pode ser um arquivo ou URL\n",
    "- `sep`: Separador utilizado no arquivo. Padrão: `,`\n",
    "- `encoding`: Codificação da base. Padrão: `UTF-8`. É comum a utilização do `latin-1`, para abrir bases que possuam caracteres com acentuação.\n",
    "\n",
    "**Exemplo**  \n",
    "\n",
    "- Base de alunos do IFPR (Aprox. 22 MiB)\n",
    "\n",
    "```python\n",
    "url = 'https://reitoria.ifpr.edu.br/wp-content/uploads/2022/01/alunos-matriculas-e-cursos.csv'\n",
    "df_alunos = pd.read_csv(url, sep=';')\n",
    "df_alunos.head(2) #Mostra as 2 primeiras linhas\n",
    "```\n",
    "\n",
    "Fonte da base: [Dados.gov.br](https://dados.gov.br/dataset/alunos-ifpr)."
   ]
  },
  {
   "cell_type": "code",
   "execution_count": null,
   "id": "1be6fc95",
   "metadata": {},
   "outputs": [],
   "source": []
  },
  {
   "cell_type": "markdown",
   "id": "82cc05a0",
   "metadata": {},
   "source": [
    "Caso o ambiente utilizado seja o Google Colaboratory, é possível acessar bases de dados armazenadas no Google Drive. Para tal, basta montar o ponto de acesso ao Google Drive, e abrir o arquivo passando o caminho para o arquivo que contém a base.\n",
    "\n",
    "Para montar:\n",
    "\n",
    "```python\n",
    "from google.colab import drive\n",
    "drive.mount('/content/drive/')\n",
    "```"
   ]
  },
  {
   "cell_type": "code",
   "execution_count": null,
   "id": "88f49076",
   "metadata": {},
   "outputs": [],
   "source": []
  },
  {
   "cell_type": "markdown",
   "id": "eb76cf20",
   "metadata": {},
   "source": [
    "Para observar o diretório montado:\n",
    "```bash\n",
    "!ls drive/Shareddrives/bases_dados/IFPR/alunos-matriculas-e-cursos.csv\n",
    "```"
   ]
  },
  {
   "cell_type": "code",
   "execution_count": null,
   "id": "01e023ca",
   "metadata": {},
   "outputs": [],
   "source": []
  },
  {
   "cell_type": "markdown",
   "id": "62610907",
   "metadata": {},
   "source": [
    "Para abrir a base de dados:\n",
    "\n",
    "```python\n",
    "file_path = 'drive/Shareddrives/bases_dados/IFPR/alunos-matriculas-e-cursos.csv'\n",
    "df_alunos = pd.read_csv(file_path, sep=';')\n",
    "df_alunos.head(2) #Mostra as 2 primeiras linhas\n",
    "```"
   ]
  },
  {
   "cell_type": "markdown",
   "id": "b9f3d03a",
   "metadata": {},
   "source": []
  },
  {
   "cell_type": "markdown",
   "id": "325ec3bc",
   "metadata": {},
   "source": [
    "### Alterando nomes de colunas\n",
    "Para ver quais são as colunas, pode-se utilizar o atributo `columns`, do DataFrame.\n",
    "\n",
    "**Exemplo**  \n",
    "```python\n",
    "df_alunos.columns\n",
    "```"
   ]
  },
  {
   "cell_type": "code",
   "execution_count": null,
   "id": "67895c7a",
   "metadata": {},
   "outputs": [],
   "source": []
  },
  {
   "cell_type": "markdown",
   "id": "c91cdfac",
   "metadata": {},
   "source": [
    "Vamos modificar o nome da coluna `SUBTITPO DE CURSO` para `SUBTIPO DE CURSO`"
   ]
  },
  {
   "cell_type": "code",
   "execution_count": null,
   "id": "3369e961",
   "metadata": {},
   "outputs": [],
   "source": []
  },
  {
   "cell_type": "markdown",
   "id": "59f2ea0d",
   "metadata": {},
   "source": [
    "Em seguida, podemos atribuir essa lista novamente aos nomes das colunas do DataFrame.\n",
    "\n",
    "**Exemplo**  \n",
    "```python\n",
    "df_alunos.columns = nomes\n",
    "df_alunos.head(3) #Visualiza uma amostra\n",
    "```"
   ]
  },
  {
   "cell_type": "code",
   "execution_count": null,
   "id": "e98aced1",
   "metadata": {},
   "outputs": [],
   "source": []
  },
  {
   "cell_type": "markdown",
   "id": "c456a305",
   "metadata": {},
   "source": [
    "### Mostrando valores únicos\n",
    "\n",
    "Para observar os valores de uma coluna, podemos utilizar o método `.unique()` das Series:\n",
    "\n",
    "**Exemplo**  \n",
    "- Quais são os campi que tem registro na base?\n",
    "\n",
    "```python\n",
    "df_alunos['CAMPUS'].unique()\n",
    "```"
   ]
  },
  {
   "cell_type": "code",
   "execution_count": 2,
   "id": "4cfae43b",
   "metadata": {},
   "outputs": [
    {
     "ename": "NameError",
     "evalue": "name 'df_alunos' is not defined",
     "output_type": "error",
     "traceback": [
      "\u001b[0;31m---------------------------------------------------------------------------\u001b[0m",
      "\u001b[0;31mNameError\u001b[0m                                 Traceback (most recent call last)",
      "Cell \u001b[0;32mIn [2], line 1\u001b[0m\n\u001b[0;32m----> 1\u001b[0m df_alunos[\u001b[38;5;124m'\u001b[39m\u001b[38;5;124mCAMPUS\u001b[39m\u001b[38;5;124m'\u001b[39m]\u001b[38;5;241m.\u001b[39munique()\n",
      "\u001b[0;31mNameError\u001b[0m: name 'df_alunos' is not defined"
     ]
    }
   ],
   "source": [
    "df_alunos['CAMPUS'].unique()"
   ]
  },
  {
   "cell_type": "markdown",
   "id": "b49e27e5",
   "metadata": {},
   "source": [
    "### Filtrando por valores em um conjunto\n",
    "\n",
    "É possível filtrar linhas por valores que estejam presentes em um conjunto.\n",
    "\n",
    "**Exemplo**  \n",
    "- Alunos dos cursos de graduação\n",
    "\n",
    "```python\n",
    "graduacao = ['LICENCIATURA', 'BACHARELADO']\n",
    "idx = df_alunos['SUBTIPO DE CURSO'].isin(graduacao)\n",
    "df_alunos[idx]\n",
    "```"
   ]
  },
  {
   "cell_type": "code",
   "execution_count": null,
   "id": "db2af3e0",
   "metadata": {},
   "outputs": [],
   "source": []
  },
  {
   "cell_type": "markdown",
   "id": "9391d580",
   "metadata": {},
   "source": [
    "\n"
   ]
  },
  {
   "cell_type": "markdown",
   "id": "b1bfec9f",
   "metadata": {},
   "source": [
    "### Adicionando colunas\n",
    "Para adicionar ou substituir valores em uma coluna, pode-se utilizar diretamente a atribuição com o valor ou então uma Series.\n",
    "\n",
    "**Exemplo**   \n",
    "```python\n",
    "graduacao = ['LICENCIATURA', 'BACHARELADO']\n",
    "is_graduacao = df_alunos['SUBTITPO DE CURSO'].isin(graduacao)\n",
    "df_alunos['GRADUACAO'] = is_graduacao\n",
    "df_alunos\n",
    "```"
   ]
  },
  {
   "cell_type": "code",
   "execution_count": null,
   "id": "749bcf81",
   "metadata": {},
   "outputs": [],
   "source": []
  },
  {
   "cell_type": "markdown",
   "id": "d4ed2eee",
   "metadata": {},
   "source": [
    "### Manipulação de *strings*\n",
    "\n",
    "Os métodos presentes nas *strings* podem ser acessados, visando transformações nesses tipos de valores. Para tal, pode-se utilizar o método `.str()`\n",
    "\n",
    "**Exemplo**\n",
    "- Deixar a primeira letras dos nomes em maiusculas\n",
    "```python\n",
    "df_alunos['NOME'] = df_alunos['ALUNO'].str.title()\n",
    "```"
   ]
  },
  {
   "cell_type": "code",
   "execution_count": null,
   "id": "79b5bdec",
   "metadata": {},
   "outputs": [],
   "source": []
  },
  {
   "cell_type": "markdown",
   "id": "d3636392",
   "metadata": {},
   "source": [
    "**Exemplo**  \n",
    "- Separar os campos de dia, mês e ano\n",
    "\n",
    "```python\n",
    "#Split pela '/' e inclui cada resultado em uma coluna\n",
    "df_alunos[['INICIO_DIA','INICIO_MES','INICIO_ANO']] = df_alunos['DATA INICIO'].str.split('/',expand=True)\n",
    "#Observa as colunas\n",
    "df_alunos[['NOME','DATA INICIO', 'INICIO_DIA','INICIO_MES','INICIO_ANO']]\n",
    "```"
   ]
  },
  {
   "cell_type": "code",
   "execution_count": null,
   "id": "59c0542b",
   "metadata": {},
   "outputs": [],
   "source": []
  },
  {
   "cell_type": "markdown",
   "id": "3ed31328",
   "metadata": {},
   "source": [
    "### Amostras\n",
    "\n",
    "Para visualizar amostras da base, podemos utilizar:\n",
    "- `.head(n)`: Mostra as `n` primeiras linhas da base (*default*: 5)\n",
    "- `.tail(n)`: Mostra as últimas `n` linhas (*default*: 5)\n",
    "- `sample(n)`: Mostra linhas aleatórias (*default*: 1)\n",
    "\n"
   ]
  },
  {
   "cell_type": "markdown",
   "id": "734e0c69",
   "metadata": {},
   "source": [
    "**Exemplo**  \n",
    "\n",
    "```python\n",
    "df_alunos.head(6)\n",
    "```"
   ]
  },
  {
   "cell_type": "code",
   "execution_count": null,
   "id": "c1e11fdf",
   "metadata": {},
   "outputs": [],
   "source": []
  },
  {
   "cell_type": "markdown",
   "id": "8761207f",
   "metadata": {},
   "source": [
    "**Exemplo**  \n",
    "\n",
    "```python\n",
    "df_alunos.tail(2)\n",
    "```"
   ]
  },
  {
   "cell_type": "code",
   "execution_count": null,
   "id": "114336ab",
   "metadata": {},
   "outputs": [],
   "source": []
  },
  {
   "cell_type": "markdown",
   "id": "f7a2f427",
   "metadata": {},
   "source": [
    "**Exemplo**  \n",
    "\n",
    "```python\n",
    "df_alunos.sample(8)\n",
    "```"
   ]
  },
  {
   "cell_type": "code",
   "execution_count": null,
   "id": "a87b44ee",
   "metadata": {},
   "outputs": [],
   "source": []
  },
  {
   "cell_type": "markdown",
   "id": "9df00fd8",
   "metadata": {},
   "source": [
    "### Formato dos dados nas colunas\n",
    "\n",
    "É possível alterar o tipo de todos os dados em uma coluna.\n",
    "\n",
    "**Exemplo**  \n",
    "- Observe os tipos dos dados de todas as colunas\n",
    "\n",
    "```python\n",
    "df_alunos.info()\n",
    "```\n",
    "\n",
    "- Quais são os tipos das colunas `INICIO_DIA`, `INICIO_MES` e `INICIO_ANO`?"
   ]
  },
  {
   "cell_type": "code",
   "execution_count": null,
   "id": "9da42d05",
   "metadata": {},
   "outputs": [],
   "source": [
    "df_alunos.info()"
   ]
  },
  {
   "cell_type": "markdown",
   "id": "454b7426",
   "metadata": {},
   "source": [
    "Para modificar, podemos alterar o tipo utilizando o método `.astype`:\n",
    "\n",
    "**Exemplo**  \n",
    "```python\n",
    "df_alunos['INICIO_DIA'] = df_alunos['INICIO_DIA'].astype(int)\n",
    "df_alunos.info()\n",
    "```"
   ]
  },
  {
   "cell_type": "code",
   "execution_count": null,
   "id": "fda71426",
   "metadata": {},
   "outputs": [],
   "source": []
  },
  {
   "cell_type": "markdown",
   "id": "81cc990f",
   "metadata": {},
   "source": [
    "Ou então, todas as colunas podem ser modificadas de uma única vez:\n",
    "```python\n",
    "df_alunos[['INICIO_DIA','INICIO_MES','INICIO_ANO']] = \\\n",
    "df_alunos[['INICIO_DIA','INICIO_MES','INICIO_ANO']].astype(np.int64)\n",
    "df_alunos.info() #Observa o resultado\n",
    "```"
   ]
  },
  {
   "cell_type": "code",
   "execution_count": null,
   "id": "bac0036c",
   "metadata": {},
   "outputs": [],
   "source": []
  },
  {
   "cell_type": "markdown",
   "id": "83eeb8bb",
   "metadata": {},
   "source": [
    "### Encontrando e preenchendo valores nulos\n",
    "\n",
    "Utilizando `.info()`, podemos observar quais são as colunas que pussuem valores faltantes.\n",
    "\n",
    "\n",
    "**Exemplo**  \n",
    "- Quais colunas possuem dados faltantes?\n",
    "```python\n",
    "df_alunos.info()\n",
    "```"
   ]
  },
  {
   "cell_type": "code",
   "execution_count": null,
   "id": "fb7eab0c",
   "metadata": {},
   "outputs": [],
   "source": []
  },
  {
   "cell_type": "markdown",
   "id": "a0f8aa7a",
   "metadata": {},
   "source": [
    "Os métodos `.isna()` e `fillna()` permitem visualizar e preencher dados faltantes em uma base de dados.\n",
    "\n",
    "**Exemplo**  \n",
    "- Quais são as linhas que possuem valores faltantes na coluna `TIPO DE OFERTA`?\n",
    "\n",
    "```python\n",
    "idx = df_alunos['TIPO DE OFERTA'].isna()\n",
    "df_alunos[idx]\n",
    "```"
   ]
  },
  {
   "cell_type": "code",
   "execution_count": null,
   "id": "ef31b3fd",
   "metadata": {},
   "outputs": [],
   "source": []
  },
  {
   "cell_type": "markdown",
   "id": "2d5843f4",
   "metadata": {},
   "source": [
    "**Exercício**\n",
    "- Quais são subtipos de cusros em que o valor `TIPO DE OFERTA` é `nan`?\n",
    "\n"
   ]
  },
  {
   "cell_type": "code",
   "execution_count": null,
   "id": "8b6a7840",
   "metadata": {
    "scrolled": false
   },
   "outputs": [],
   "source": []
  },
  {
   "cell_type": "markdown",
   "id": "21d979d5",
   "metadata": {},
   "source": [
    "Como o índice utilizado é um *array* de valores booleanos, é possível aplicar a negação nesse *array*, utilizando o operador `~`\n",
    "\n",
    "**Exercício**\n",
    "\n",
    "- Quais são subtipos de cusros em que o valor `TIPO DE OFERTA` **não** é `nan`?"
   ]
  },
  {
   "cell_type": "code",
   "execution_count": null,
   "id": "545478f8",
   "metadata": {},
   "outputs": [],
   "source": []
  },
  {
   "cell_type": "markdown",
   "id": "bd02899b",
   "metadata": {},
   "source": [
    "Podemos substituir os valores faltantes utilizando o método `.fillna()`\n",
    "\n",
    "**Exemplo**  \n",
    "- Substituir os valores faltantes de `TIPO DE OFERTA` para `\"NAO SE APLICA\"`\n",
    "\n",
    "```python\n",
    "df_alunos['TIPO DE OFERTA'] = df_alunos['TIPO DE OFERTA'].fillna('NAO SE APLICA')\n",
    "\n",
    "```"
   ]
  },
  {
   "cell_type": "code",
   "execution_count": null,
   "id": "805aac09",
   "metadata": {},
   "outputs": [],
   "source": []
  },
  {
   "cell_type": "markdown",
   "id": "287726a1",
   "metadata": {},
   "source": [
    "Para visualizar o DataFrame após as alterações:\n",
    "\n",
    "```python\n",
    "idx = df_alunos['TIPO DE OFERTA'].isna()\n",
    "df_alunos[idx]\n",
    "```"
   ]
  },
  {
   "cell_type": "code",
   "execution_count": null,
   "id": "8f31d79c",
   "metadata": {},
   "outputs": [],
   "source": []
  },
  {
   "cell_type": "markdown",
   "id": "9494f4f9",
   "metadata": {},
   "source": [
    "### Joins"
   ]
  },
  {
   "cell_type": "markdown",
   "id": "df44556f",
   "metadata": {},
   "source": [
    "É possível juntar diversas bases de dados de acordo com um valor em comum nas linhas.\n",
    "\n",
    "Como exemplo, tentaremos inserir na base uma coluna com o código do IBGE referente ao município.\n",
    "\n",
    "Obteremos a base com os municípios do brasil a partir da biblioteca `geopandas` e base `geobr`. Podemos instalar e importar as bibliotecas executando:\n",
    "```python\n",
    "!pip3 -q install geopandas==0.10.1 geobr\n",
    "import geopandas, geobr\n",
    "\n",
    "#Download da base com os municípios\n",
    "municipios = geobr.read_municipality()\n",
    "\n",
    "#Prepara os dados\n",
    "municipios = municipios[['code_muni','name_muni','abbrev_state']] #Seleciona apenas algumas colunas da base\n",
    "municipios['code_muni'] = municipios['code_muni'].astype(int) #Converte o código do município para inteiro\n",
    "municipios['name_muni'] = municipios['name_muni'].str.upper() #Converte os nomes dos municípios para maiúsculas\n",
    "municipios.columns = ['CODIGO','CAMPUS','ESTADO'] #Renomeia os nomes das colunas\n",
    "\n",
    "#Mostra a base com todos os municípios brasileiros\n",
    "municipios.sample(5)\n",
    "```"
   ]
  },
  {
   "cell_type": "code",
   "execution_count": null,
   "id": "77ba8d3f",
   "metadata": {},
   "outputs": [],
   "source": []
  },
  {
   "cell_type": "markdown",
   "id": "59c31233",
   "metadata": {},
   "source": [
    "Para agrupar as bases de acordo com coluna em comum `CAMPUS`  \n",
    "\n",
    "```python\n",
    "df_alunos = pd.merge(df_alunos,municipios, on='CAMPUS')\n",
    "```\n"
   ]
  },
  {
   "cell_type": "code",
   "execution_count": null,
   "id": "c3c155be",
   "metadata": {},
   "outputs": [],
   "source": []
  },
  {
   "cell_type": "markdown",
   "id": "be4d30e9",
   "metadata": {},
   "source": [
    "### Ordenação"
   ]
  },
  {
   "cell_type": "markdown",
   "id": "5988838c",
   "metadata": {},
   "source": [
    "A ordenação pode ser realizada pelo índice (`.sort_index()`) ou de acordo com os valores de alguma coluna, com o `.sort_values()`. O parâmetro passado ao `sort_values` determina qual será a coluna utilizada, e também pode ser passada uma lista contendo diversas colunas.\n",
    "\n",
    "**Exemplo**  \n",
    "- Base ordenada pelo nome do campus\n",
    "```python\n",
    "df_alunos.sort_values('CAMPUS')\n",
    "```"
   ]
  },
  {
   "cell_type": "code",
   "execution_count": null,
   "id": "33c86993",
   "metadata": {},
   "outputs": [],
   "source": []
  },
  {
   "cell_type": "markdown",
   "id": "55db47f9",
   "metadata": {},
   "source": [
    "**Exemplo**  \n",
    "- Base ordenada de acordo com o campus e em seguida pelo nome do aluno.\n",
    "```python\n",
    "df_alunos.sort_values(['CAMPUS','ALUNO'])\n",
    "```"
   ]
  },
  {
   "cell_type": "code",
   "execution_count": null,
   "id": "33c2e775",
   "metadata": {},
   "outputs": [],
   "source": []
  },
  {
   "cell_type": "markdown",
   "id": "b9dc55cb",
   "metadata": {},
   "source": [
    "### Groupby\n",
    "\n",
    "Com o `.groupby()` é possível a criação de grupos de acordo com a combinação de variáveis. \n",
    "\n",
    "**Exemplo**  \n",
    "- Número de alunos que já estudaram em cada subtipo de curso de cada campus\n",
    "```python\n",
    "df_alunos.groupby(['CAMPUS','SUBTIPO DE CURSO']).size()\n",
    "```"
   ]
  },
  {
   "cell_type": "code",
   "execution_count": null,
   "id": "584b5e1a",
   "metadata": {},
   "outputs": [],
   "source": []
  },
  {
   "cell_type": "markdown",
   "id": "c06d476b",
   "metadata": {},
   "source": [
    "Com `groupby` também é possível realizar operações específicas\n",
    "\n",
    "**Exemplo**\n",
    "- Exemplo sem sentido semântico, porém sintaticamente correto\n",
    "```python\n",
    "df_alunos.groupby('CAMPUS').agg({'INICIO_DIA':np.mean, \"INICIO_ANO\":min})\n",
    "```\n",
    "Observe que é passado um dicionário, onde a chave corresponde à coluna e o valor a uma função a ser aplicada a todos os valores da coluna, já filtrados de acordo com o grupo associado (`CAMPUS`)."
   ]
  },
  {
   "cell_type": "code",
   "execution_count": null,
   "id": "d496b711",
   "metadata": {},
   "outputs": [],
   "source": []
  },
  {
   "cell_type": "markdown",
   "id": "5ae764ba",
   "metadata": {},
   "source": [
    "### Aplicando funções"
   ]
  },
  {
   "cell_type": "markdown",
   "id": "e3dcef3e",
   "metadata": {},
   "source": []
  },
  {
   "cell_type": "markdown",
   "id": "4cecb7fa",
   "metadata": {},
   "source": [
    "### Linhas duplicadas\n",
    "\n",
    "Para encontrar linhas duplicadas na base, podemos utilizar o método `.duplicated()`.\n",
    "\n",
    "**Exemplo**\n",
    "```python\n",
    "idx = df_alunos.duplicated()\n",
    "df_alunos[idx]\n",
    "```"
   ]
  },
  {
   "cell_type": "code",
   "execution_count": null,
   "id": "51797dae",
   "metadata": {},
   "outputs": [],
   "source": []
  },
  {
   "cell_type": "markdown",
   "id": "8c86e4e1",
   "metadata": {},
   "source": [
    "Observe que o nome de um mesmo aluno aparece mais de uma vez."
   ]
  },
  {
   "cell_type": "code",
   "execution_count": null,
   "id": "94fa8084",
   "metadata": {},
   "outputs": [],
   "source": []
  },
  {
   "cell_type": "markdown",
   "id": "4ab58930",
   "metadata": {},
   "source": [
    "Para remover as linhas duplicadas, `.drop_duplicates()`.\n",
    "\n",
    "```python\n",
    "df_alunos = df_alunos.drop_duplicates()\n",
    "```\n"
   ]
  },
  {
   "cell_type": "code",
   "execution_count": null,
   "id": "395e4a9c",
   "metadata": {},
   "outputs": [],
   "source": [
    "df_alunos = df_alunos.drop_duplicates()"
   ]
  },
  {
   "cell_type": "markdown",
   "id": "716dad7a",
   "metadata": {},
   "source": [
    "**Exercício**  \n",
    "- Após aplicar o `.drop_duplicates`, confirme se realmente não há nenhuma linha repetida\n",
    "- Qual seria a diferença entre utilizar o `.drop_duplicates` ou usar a o não booleano (`~`) às linhas duplicadas?"
   ]
  },
  {
   "cell_type": "code",
   "execution_count": null,
   "id": "8076ab7e",
   "metadata": {},
   "outputs": [],
   "source": []
  },
  {
   "cell_type": "markdown",
   "id": "a9a29294",
   "metadata": {},
   "source": [
    "### Quantidades de valores"
   ]
  },
  {
   "cell_type": "markdown",
   "id": "5675346d",
   "metadata": {},
   "source": [
    "Para observar a quantidade de vezes que cada valor aparece em uma coluna, podemos utilizar o `.value_counts()`, presente nas Series.\n",
    "\n",
    "**Exemplo**  \n",
    "- Qual é a quantidade de alunos por curso?"
   ]
  },
  {
   "cell_type": "code",
   "execution_count": null,
   "id": "90b37145",
   "metadata": {},
   "outputs": [],
   "source": []
  },
  {
   "cell_type": "markdown",
   "id": "b2b7103c",
   "metadata": {},
   "source": [
    "**Exercício**\n",
    "- Quais são as modalidades que possuem mais alunos?"
   ]
  },
  {
   "cell_type": "code",
   "execution_count": null,
   "id": "df3552df",
   "metadata": {},
   "outputs": [],
   "source": []
  },
  {
   "cell_type": "markdown",
   "id": "1d55c67a",
   "metadata": {},
   "source": [
    "### Redefinindo índices"
   ]
  },
  {
   "cell_type": "markdown",
   "id": "22262507",
   "metadata": {},
   "source": []
  },
  {
   "cell_type": "markdown",
   "id": "ba8575b3",
   "metadata": {},
   "source": [
    "### Cross-tabulation\n",
    "\n",
    "É possível realizar a contagem de ocorrências em que aparecem combinações todos com todos, utilizand `crosstab`."
   ]
  },
  {
   "cell_type": "markdown",
   "id": "b4bfd8c1",
   "metadata": {},
   "source": [
    "**Exemplo**\n",
    "- Quantos alunos há em cada curso, diferenciando-os por modalidade?"
   ]
  },
  {
   "cell_type": "code",
   "execution_count": null,
   "id": "332c8cd3",
   "metadata": {
    "scrolled": true
   },
   "outputs": [],
   "source": []
  },
  {
   "cell_type": "markdown",
   "id": "5c6fa1a1",
   "metadata": {},
   "source": []
  },
  {
   "cell_type": "markdown",
   "id": "31c919aa",
   "metadata": {},
   "source": [
    "### Pivôs\n",
    "\n",
    "Utilizar pivôs em tabelas significa gerar um novo dataframe que relaciona linhas e colunas, e aplica uma função onde a combinação destes valores ocorre. Por padrão, é calculada média dos valores referentes à combinação, mas outra função de agregação pode ser utilizada. No exemplo, é utilizada a função de moda.\n",
    "\n",
    "**Exemplo**\n",
    "- Mostre o status da matricula de alunos, organizando os cursos em colunas\n",
    "\n",
    "```python\n",
    "pd.pivot_table(df_alunos.sample(5), \\ #Base a ser utilizada\n",
    "               index=['ALUNO'], \\            #Coluna que servirá como linha\n",
    "               columns=['NOME DO CURSO'], \\  #Coluna que servirá como coluna na tabela pivô\n",
    "               values='STATUS MATRICULA', \\  #Valor que será colocado onde ocorrer aluno x curso\n",
    "               fill_value='', \\              #Valor a ser preenchido quando não houver correspondências\n",
    "               aggfunc = lambda x: x.mode()) #Função de agregação a ser aplicada.\n",
    "```"
   ]
  },
  {
   "cell_type": "code",
   "execution_count": null,
   "id": "751fdfcb",
   "metadata": {},
   "outputs": [],
   "source": []
  }
 ],
 "metadata": {
  "kernelspec": {
   "display_name": "Python 3 (ipykernel)",
   "language": "python",
   "name": "python3"
  },
  "language_info": {
   "codemirror_mode": {
    "name": "ipython",
    "version": 3
   },
   "file_extension": ".py",
   "mimetype": "text/x-python",
   "name": "python",
   "nbconvert_exporter": "python",
   "pygments_lexer": "ipython3",
   "version": "3.8.10"
  }
 },
 "nbformat": 4,
 "nbformat_minor": 5
}
