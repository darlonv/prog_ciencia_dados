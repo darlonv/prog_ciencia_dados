{
 "cells": [
  {
   "cell_type": "markdown",
   "id": "9db17db0",
   "metadata": {},
   "source": [
    "# Pandas - Operações"
   ]
  },
  {
   "cell_type": "code",
   "execution_count": 1,
   "id": "8fe64228",
   "metadata": {},
   "outputs": [],
   "source": [
    "import numpy as np\n",
    "import pandas as pd"
   ]
  },
  {
   "cell_type": "markdown",
   "id": "620f8a18",
   "metadata": {},
   "source": [
    "### Abrindo bases de dados\n",
    "\n",
    "Um método bastante utilizado para carregar bases de dados é o `.read_csv()`. Entre seus parâmetros, temos:\n",
    "- `path`: Caminho para a base. Pode ser um arquivo ou URL\n",
    "- `sep`: Separador utilizado no arquivo. Padrão: `,`\n",
    "- `encoding`: Codificação da base. Padrão: `UTF-8`. É comum a utilização do `latin-1`, para abrir bases que possuam caracteres com acentuação.\n",
    "\n",
    "**Exemplo**  \n",
    "\n",
    "- Base de alunos do IFPR (Aprox. 22 MiB)\n",
    "\n",
    "```python\n",
    "url = 'https://reitoria.ifpr.edu.br/wp-content/uploads/2022/01/alunos-matriculas-e-cursos.csv'\n",
    "df_alunos = pd.read_csv(url, sep=';')\n",
    "df_alunos.head(2) #Mostra as 2 primeiras linhas\n",
    "```\n",
    "\n",
    "Fonte da base: [Dados.gov.br](https://dados.gov.br/dataset/alunos-ifpr)."
   ]
  },
  {
   "cell_type": "code",
   "execution_count": 113,
   "id": "1be6fc95",
   "metadata": {},
   "outputs": [
    {
     "data": {
      "text/html": [
       "<div>\n",
       "<style scoped>\n",
       "    .dataframe tbody tr th:only-of-type {\n",
       "        vertical-align: middle;\n",
       "    }\n",
       "\n",
       "    .dataframe tbody tr th {\n",
       "        vertical-align: top;\n",
       "    }\n",
       "\n",
       "    .dataframe thead th {\n",
       "        text-align: right;\n",
       "    }\n",
       "</style>\n",
       "<table border=\"1\" class=\"dataframe\">\n",
       "  <thead>\n",
       "    <tr style=\"text-align: right;\">\n",
       "      <th></th>\n",
       "      <th>CAMPUS</th>\n",
       "      <th>ALUNO</th>\n",
       "      <th>DATA INICIO</th>\n",
       "      <th>DATA FIM PREVISTO</th>\n",
       "      <th>NOME DO CURSO</th>\n",
       "      <th>SUBTITPO DE CURSO</th>\n",
       "      <th>MODALIDADE</th>\n",
       "      <th>TIPO DE OFERTA</th>\n",
       "      <th>STATUS MATRICULA</th>\n",
       "    </tr>\n",
       "  </thead>\n",
       "  <tbody>\n",
       "    <tr>\n",
       "      <th>0</th>\n",
       "      <td>ASSIS CHATEAUBRIAND</td>\n",
       "      <td>ABNER NATTA JORGE</td>\n",
       "      <td>07/02/2019</td>\n",
       "      <td>31/12/2021</td>\n",
       "      <td>TÉCNICO EM AGROPECUÁRIA</td>\n",
       "      <td>TÉCNICO</td>\n",
       "      <td>EDUCAÇÃO PRESENCIAL</td>\n",
       "      <td>INTEGRADO</td>\n",
       "      <td>EM_CURSO</td>\n",
       "    </tr>\n",
       "    <tr>\n",
       "      <th>1</th>\n",
       "      <td>ASSIS CHATEAUBRIAND</td>\n",
       "      <td>AMANDA APARECIDA PEREIRA</td>\n",
       "      <td>07/02/2019</td>\n",
       "      <td>31/12/2021</td>\n",
       "      <td>TÉCNICO EM AGROPECUÁRIA</td>\n",
       "      <td>TÉCNICO</td>\n",
       "      <td>EDUCAÇÃO PRESENCIAL</td>\n",
       "      <td>INTEGRADO</td>\n",
       "      <td>TRANSF_EXT</td>\n",
       "    </tr>\n",
       "    <tr>\n",
       "      <th>2</th>\n",
       "      <td>ASSIS CHATEAUBRIAND</td>\n",
       "      <td>BEATRIZ FERRARI GOMES</td>\n",
       "      <td>07/02/2019</td>\n",
       "      <td>31/12/2021</td>\n",
       "      <td>TÉCNICO EM AGROPECUÁRIA</td>\n",
       "      <td>TÉCNICO</td>\n",
       "      <td>EDUCAÇÃO PRESENCIAL</td>\n",
       "      <td>INTEGRADO</td>\n",
       "      <td>EM_CURSO</td>\n",
       "    </tr>\n",
       "    <tr>\n",
       "      <th>3</th>\n",
       "      <td>ASSIS CHATEAUBRIAND</td>\n",
       "      <td>BEATRIZ FREITAS MESTRINER</td>\n",
       "      <td>07/02/2019</td>\n",
       "      <td>31/12/2021</td>\n",
       "      <td>TÉCNICO EM AGROPECUÁRIA</td>\n",
       "      <td>TÉCNICO</td>\n",
       "      <td>EDUCAÇÃO PRESENCIAL</td>\n",
       "      <td>INTEGRADO</td>\n",
       "      <td>EM_CURSO</td>\n",
       "    </tr>\n",
       "    <tr>\n",
       "      <th>4</th>\n",
       "      <td>ASSIS CHATEAUBRIAND</td>\n",
       "      <td>BEATRIZ MAYUMI BRITO TAKAHASHI</td>\n",
       "      <td>07/02/2019</td>\n",
       "      <td>31/12/2021</td>\n",
       "      <td>TÉCNICO EM AGROPECUÁRIA</td>\n",
       "      <td>TÉCNICO</td>\n",
       "      <td>EDUCAÇÃO PRESENCIAL</td>\n",
       "      <td>INTEGRADO</td>\n",
       "      <td>EM_CURSO</td>\n",
       "    </tr>\n",
       "  </tbody>\n",
       "</table>\n",
       "</div>"
      ],
      "text/plain": [
       "                CAMPUS                           ALUNO DATA INICIO  \\\n",
       "0  ASSIS CHATEAUBRIAND               ABNER NATTA JORGE  07/02/2019   \n",
       "1  ASSIS CHATEAUBRIAND        AMANDA APARECIDA PEREIRA  07/02/2019   \n",
       "2  ASSIS CHATEAUBRIAND           BEATRIZ FERRARI GOMES  07/02/2019   \n",
       "3  ASSIS CHATEAUBRIAND       BEATRIZ FREITAS MESTRINER  07/02/2019   \n",
       "4  ASSIS CHATEAUBRIAND  BEATRIZ MAYUMI BRITO TAKAHASHI  07/02/2019   \n",
       "\n",
       "  DATA FIM PREVISTO            NOME DO CURSO SUBTITPO DE CURSO  \\\n",
       "0        31/12/2021  TÉCNICO EM AGROPECUÁRIA           TÉCNICO   \n",
       "1        31/12/2021  TÉCNICO EM AGROPECUÁRIA           TÉCNICO   \n",
       "2        31/12/2021  TÉCNICO EM AGROPECUÁRIA           TÉCNICO   \n",
       "3        31/12/2021  TÉCNICO EM AGROPECUÁRIA           TÉCNICO   \n",
       "4        31/12/2021  TÉCNICO EM AGROPECUÁRIA           TÉCNICO   \n",
       "\n",
       "            MODALIDADE TIPO DE OFERTA STATUS MATRICULA  \n",
       "0  EDUCAÇÃO PRESENCIAL      INTEGRADO         EM_CURSO  \n",
       "1  EDUCAÇÃO PRESENCIAL      INTEGRADO       TRANSF_EXT  \n",
       "2  EDUCAÇÃO PRESENCIAL      INTEGRADO         EM_CURSO  \n",
       "3  EDUCAÇÃO PRESENCIAL      INTEGRADO         EM_CURSO  \n",
       "4  EDUCAÇÃO PRESENCIAL      INTEGRADO         EM_CURSO  "
      ]
     },
     "execution_count": 113,
     "metadata": {},
     "output_type": "execute_result"
    }
   ],
   "source": [
    "url = 'https://reitoria.ifpr.edu.br/wp-content/uploads/2022/01/alunos-matriculas-e-cursos.csv'\n",
    "df_alunos = pd.read_csv(url, sep=';')\n",
    "df_alunos.head()"
   ]
  },
  {
   "cell_type": "markdown",
   "id": "82cc05a0",
   "metadata": {},
   "source": [
    "Caso o ambiente utilizado seja o Google Colaboratory, é possível acessar bases de dados armazenadas no Google Drive. Para tal, basta montar o ponto de acesso ao Google Drive, e abrir o arquivo passando o caminho para o arquivo que contém a base.\n",
    "\n",
    "Para montar:\n",
    "\n",
    "```python\n",
    "from google.colab import drive\n",
    "drive.mount('/content/drive/')\n",
    "```"
   ]
  },
  {
   "cell_type": "code",
   "execution_count": null,
   "id": "88f49076",
   "metadata": {},
   "outputs": [],
   "source": []
  },
  {
   "cell_type": "markdown",
   "id": "eb76cf20",
   "metadata": {},
   "source": [
    "Para observar o diretório montado:\n",
    "```bash\n",
    "!ls drive/Shareddrives/bases_dados/IFPR/alunos-matriculas-e-cursos.csv\n",
    "```"
   ]
  },
  {
   "cell_type": "code",
   "execution_count": null,
   "id": "01e023ca",
   "metadata": {},
   "outputs": [],
   "source": []
  },
  {
   "cell_type": "markdown",
   "id": "62610907",
   "metadata": {},
   "source": [
    "Para abrir a base de dados:\n",
    "\n",
    "```python\n",
    "file_path = 'drive/Shareddrives/bases_dados/IFPR/alunos-matriculas-e-cursos.csv'\n",
    "df_alunos = pd.read_csv(file_path, sep=';')\n",
    "df_alunos.head(2) #Mostra as 2 primeiras linhas\n",
    "```"
   ]
  },
  {
   "cell_type": "markdown",
   "id": "b9f3d03a",
   "metadata": {},
   "source": []
  },
  {
   "cell_type": "markdown",
   "id": "325ec3bc",
   "metadata": {},
   "source": [
    "### Alterando nomes de colunas\n",
    "Para ver quais são as colunas, pode-se utilizar o atributo `columns`, do DataFrame.\n",
    "\n",
    "**Exemplo**  \n",
    "```python\n",
    "df_alunos.columns\n",
    "```"
   ]
  },
  {
   "cell_type": "markdown",
   "id": "af512269",
   "metadata": {},
   "source": [
    "df_alunos.cols"
   ]
  },
  {
   "cell_type": "code",
   "execution_count": 89,
   "id": "67895c7a",
   "metadata": {},
   "outputs": [
    {
     "data": {
      "text/plain": [
       "Index(['CAMPUS', 'ALUNO', 'DATA INICIO', 'DATA FIM PREVISTO', 'NOME DO CURSO',\n",
       "       'SUBTITPO DE CURSO', 'MODALIDADE', 'TIPO DE OFERTA', 'STATUS MATRICULA',\n",
       "       'GRADUACAO', 'NOME', 'INICIO_DIA', 'INICIO_MES', 'INICIO_ANO'],\n",
       "      dtype='object')"
      ]
     },
     "execution_count": 89,
     "metadata": {},
     "output_type": "execute_result"
    }
   ],
   "source": [
    "df_alunos.columns"
   ]
  },
  {
   "cell_type": "markdown",
   "id": "c91cdfac",
   "metadata": {},
   "source": [
    "Vamos modificar o nome da coluna `SUBTITPO DE CURSO` para `SUBTIPO DE CURSO`"
   ]
  },
  {
   "cell_type": "code",
   "execution_count": 97,
   "id": "3369e961",
   "metadata": {},
   "outputs": [
    {
     "data": {
      "text/plain": [
       "['CAMPUS',\n",
       " 'ALUNO',\n",
       " 'DATA INICIO',\n",
       " 'DATA FIM PREVISTO',\n",
       " 'NOME DO CURSO',\n",
       " 'SUBTIPO DE CURSO',\n",
       " 'MODALIDADE',\n",
       " 'TIPO DE OFERTA',\n",
       " 'STATUS MATRICULA',\n",
       " 'GRADUACAO',\n",
       " 'NOME',\n",
       " 'INICIO_DIA',\n",
       " 'INICIO_MES',\n",
       " 'INICIO_ANO']"
      ]
     },
     "execution_count": 97,
     "metadata": {},
     "output_type": "execute_result"
    }
   ],
   "source": [
    "nomes = df_alunos.columns.tolist()\n",
    "nomes[nomes.index('SUBTITPO DE CURSO')] = 'SUBTIPO DE CURSO'\n",
    "nomes"
   ]
  },
  {
   "cell_type": "markdown",
   "id": "59f2ea0d",
   "metadata": {},
   "source": [
    "Em seguida, podemos atribuir essa lista novamente aos nomes das colunas do DataFrame.\n",
    "\n",
    "**Exemplo**  \n",
    "```python\n",
    "df_alunos.columns = nomes\n",
    "df_alunos.head(3) #Visualiza uma amostra\n",
    "```"
   ]
  },
  {
   "cell_type": "code",
   "execution_count": null,
   "id": "e98aced1",
   "metadata": {},
   "outputs": [],
   "source": []
  },
  {
   "cell_type": "markdown",
   "id": "c456a305",
   "metadata": {},
   "source": [
    "### Mostrando valores únicos\n",
    "\n",
    "Para observar os valores de uma coluna, podemos utilizar o método `.unique()` das Series:\n",
    "\n",
    "**Exemplo**  \n",
    "- Quais são os campi que tem registro na base?\n",
    "\n",
    "```python\n",
    "df_alunos['CAMPUS'].unique()\n",
    "```"
   ]
  },
  {
   "cell_type": "code",
   "execution_count": null,
   "id": "4cfae43b",
   "metadata": {},
   "outputs": [],
   "source": [
    "df_alunos['CAMPUS'].unique()"
   ]
  },
  {
   "cell_type": "code",
   "execution_count": 19,
   "id": "5c046752",
   "metadata": {},
   "outputs": [
    {
     "data": {
      "text/plain": [
       "array(['TÉCNICO', 'FORMAÇÃO CONTINUADA', 'TECNOLOGIA',\n",
       "       'ESPECIALIZAÇÃO (LATO SENSU)', 'LICENCIATURA', 'FORMAÇÃO INICIAL',\n",
       "       'BACHARELADO', 'MULHERES MIL', 'ENSINO MÉDIO',\n",
       "       'MESTRADO PROFISSIONAL', 'MESTRADO'], dtype=object)"
      ]
     },
     "execution_count": 19,
     "metadata": {},
     "output_type": "execute_result"
    }
   ],
   "source": [
    "df_alunos['SUBTIPO DE CURSO'].unique()"
   ]
  },
  {
   "cell_type": "markdown",
   "id": "b49e27e5",
   "metadata": {},
   "source": [
    "### Filtrando por valores em um conjunto\n",
    "\n",
    "É possível filtrar linhas por valores que estejam presentes em um conjunto.\n",
    "\n",
    "**Exemplo**  \n",
    "- Alunos dos cursos de graduação\n",
    "\n",
    "```python\n",
    "graduacao = ['LICENCIATURA', 'BACHARELADO']\n",
    "idx = df_alunos['SUBTIPO DE CURSO'].isin(graduacao)\n",
    "df_alunos[idx]\n",
    "```"
   ]
  },
  {
   "cell_type": "markdown",
   "id": "9391d580",
   "metadata": {},
   "source": [
    "\n"
   ]
  },
  {
   "cell_type": "markdown",
   "id": "d8095cd1",
   "metadata": {},
   "source": [
    "### Criando dataframes e colunas"
   ]
  },
  {
   "cell_type": "markdown",
   "id": "a57cd880",
   "metadata": {},
   "source": []
  },
  {
   "cell_type": "markdown",
   "id": "b1bfec9f",
   "metadata": {},
   "source": [
    "### Adicionando colunas\n",
    "Para adicionar ou substituir valores em uma coluna, pode-se utilizar diretamente a atribuição com o valor ou então uma Series.\n",
    "\n",
    "**Exemplo**   \n",
    "```python\n",
    "graduacao = ['LICENCIATURA', 'BACHARELADO']\n",
    "is_graduacao = df_alunos['SUBTITPO DE CURSO'].isin(graduacao)\n",
    "df_alunos['GRADUACAO'] = is_graduacao\n",
    "df_alunos\n",
    "```"
   ]
  },
  {
   "cell_type": "code",
   "execution_count": null,
   "id": "749bcf81",
   "metadata": {},
   "outputs": [],
   "source": []
  },
  {
   "cell_type": "markdown",
   "id": "d4ed2eee",
   "metadata": {},
   "source": [
    "### Manipulação de *strings*\n",
    "\n",
    "Os métodos presentes nas *strings* podem ser acessados, visando transformações nesses tipos de valores. Para tal, pode-se utilizar o método `.str()`\n",
    "\n",
    "**Exemplo**\n",
    "- Deixar a primeira letras dos nomes em maiusculas\n",
    "```python\n",
    "df_alunos['NOME'] = df_alunos['ALUNO'].str.title()\n",
    "```"
   ]
  },
  {
   "cell_type": "code",
   "execution_count": null,
   "id": "79b5bdec",
   "metadata": {},
   "outputs": [],
   "source": []
  },
  {
   "cell_type": "markdown",
   "id": "d3636392",
   "metadata": {},
   "source": [
    "**Exemplo**  \n",
    "- Separar os campos de dia, mês e ano\n",
    "\n",
    "```python\n",
    "#Split pela '/' e inclui cada resultado em uma coluna\n",
    "df_alunos[['INICIO_DIA','INICIO_MES','INICIO_ANO']] = df_alunos['DATA INICIO'].str.split('/',expand=True)\n",
    "#Observa as colunas\n",
    "df_alunos[['NOME','DATA INICIO', 'INICIO_DIA','INICIO_MES','INICIO_ANO']]\n",
    "```"
   ]
  },
  {
   "cell_type": "code",
   "execution_count": 46,
   "id": "d57a6a1c",
   "metadata": {},
   "outputs": [
    {
     "data": {
      "text/html": [
       "<div>\n",
       "<style scoped>\n",
       "    .dataframe tbody tr th:only-of-type {\n",
       "        vertical-align: middle;\n",
       "    }\n",
       "\n",
       "    .dataframe tbody tr th {\n",
       "        vertical-align: top;\n",
       "    }\n",
       "\n",
       "    .dataframe thead th {\n",
       "        text-align: right;\n",
       "    }\n",
       "</style>\n",
       "<table border=\"1\" class=\"dataframe\">\n",
       "  <thead>\n",
       "    <tr style=\"text-align: right;\">\n",
       "      <th></th>\n",
       "      <th>NOME</th>\n",
       "      <th>DATA INICIO</th>\n",
       "      <th>INICIO_DIA</th>\n",
       "      <th>INICIO_MES</th>\n",
       "      <th>INICIO_ANO</th>\n",
       "    </tr>\n",
       "  </thead>\n",
       "  <tbody>\n",
       "    <tr>\n",
       "      <th>0</th>\n",
       "      <td>Abner Natta Jorge</td>\n",
       "      <td>07/02/2019</td>\n",
       "      <td>07</td>\n",
       "      <td>02</td>\n",
       "      <td>2019</td>\n",
       "    </tr>\n",
       "    <tr>\n",
       "      <th>1</th>\n",
       "      <td>Amanda Aparecida Pereira</td>\n",
       "      <td>07/02/2019</td>\n",
       "      <td>07</td>\n",
       "      <td>02</td>\n",
       "      <td>2019</td>\n",
       "    </tr>\n",
       "    <tr>\n",
       "      <th>2</th>\n",
       "      <td>Beatriz Ferrari Gomes</td>\n",
       "      <td>07/02/2019</td>\n",
       "      <td>07</td>\n",
       "      <td>02</td>\n",
       "      <td>2019</td>\n",
       "    </tr>\n",
       "    <tr>\n",
       "      <th>3</th>\n",
       "      <td>Beatriz Freitas Mestriner</td>\n",
       "      <td>07/02/2019</td>\n",
       "      <td>07</td>\n",
       "      <td>02</td>\n",
       "      <td>2019</td>\n",
       "    </tr>\n",
       "    <tr>\n",
       "      <th>4</th>\n",
       "      <td>Beatriz Mayumi Brito Takahashi</td>\n",
       "      <td>07/02/2019</td>\n",
       "      <td>07</td>\n",
       "      <td>02</td>\n",
       "      <td>2019</td>\n",
       "    </tr>\n",
       "    <tr>\n",
       "      <th>...</th>\n",
       "      <td>...</td>\n",
       "      <td>...</td>\n",
       "      <td>...</td>\n",
       "      <td>...</td>\n",
       "      <td>...</td>\n",
       "    </tr>\n",
       "    <tr>\n",
       "      <th>166480</th>\n",
       "      <td>Joao Pedro Grenat</td>\n",
       "      <td>17/05/2021</td>\n",
       "      <td>17</td>\n",
       "      <td>05</td>\n",
       "      <td>2021</td>\n",
       "    </tr>\n",
       "    <tr>\n",
       "      <th>166481</th>\n",
       "      <td>Sibeli Janiszewski</td>\n",
       "      <td>17/05/2021</td>\n",
       "      <td>17</td>\n",
       "      <td>05</td>\n",
       "      <td>2021</td>\n",
       "    </tr>\n",
       "    <tr>\n",
       "      <th>166482</th>\n",
       "      <td>Kauana Paola Krebs</td>\n",
       "      <td>17/05/2021</td>\n",
       "      <td>17</td>\n",
       "      <td>05</td>\n",
       "      <td>2021</td>\n",
       "    </tr>\n",
       "    <tr>\n",
       "      <th>166483</th>\n",
       "      <td>Carlos Evandro Bartmann</td>\n",
       "      <td>17/05/2021</td>\n",
       "      <td>17</td>\n",
       "      <td>05</td>\n",
       "      <td>2021</td>\n",
       "    </tr>\n",
       "    <tr>\n",
       "      <th>166484</th>\n",
       "      <td>Gabriel Pietrowski Nagurniak</td>\n",
       "      <td>17/05/2021</td>\n",
       "      <td>17</td>\n",
       "      <td>05</td>\n",
       "      <td>2021</td>\n",
       "    </tr>\n",
       "  </tbody>\n",
       "</table>\n",
       "<p>166485 rows × 5 columns</p>\n",
       "</div>"
      ],
      "text/plain": [
       "                                  NOME DATA INICIO INICIO_DIA INICIO_MES  \\\n",
       "0                    Abner Natta Jorge  07/02/2019         07         02   \n",
       "1             Amanda Aparecida Pereira  07/02/2019         07         02   \n",
       "2                Beatriz Ferrari Gomes  07/02/2019         07         02   \n",
       "3            Beatriz Freitas Mestriner  07/02/2019         07         02   \n",
       "4       Beatriz Mayumi Brito Takahashi  07/02/2019         07         02   \n",
       "...                                ...         ...        ...        ...   \n",
       "166480               Joao Pedro Grenat  17/05/2021         17         05   \n",
       "166481              Sibeli Janiszewski  17/05/2021         17         05   \n",
       "166482              Kauana Paola Krebs  17/05/2021         17         05   \n",
       "166483         Carlos Evandro Bartmann  17/05/2021         17         05   \n",
       "166484    Gabriel Pietrowski Nagurniak  17/05/2021         17         05   \n",
       "\n",
       "       INICIO_ANO  \n",
       "0            2019  \n",
       "1            2019  \n",
       "2            2019  \n",
       "3            2019  \n",
       "4            2019  \n",
       "...           ...  \n",
       "166480       2021  \n",
       "166481       2021  \n",
       "166482       2021  \n",
       "166483       2021  \n",
       "166484       2021  \n",
       "\n",
       "[166485 rows x 5 columns]"
      ]
     },
     "execution_count": 46,
     "metadata": {},
     "output_type": "execute_result"
    }
   ],
   "source": [
    "df_alunos[['INICIO_DIA','INICIO_MES','INICIO_ANO']] = df_alunos['DATA INICIO'].str.split('/',expand=True)\n",
    "df_alunos[['NOME','DATA INICIO', 'INICIO_DIA','INICIO_MES','INICIO_ANO']]"
   ]
  },
  {
   "cell_type": "code",
   "execution_count": null,
   "id": "59c0542b",
   "metadata": {},
   "outputs": [],
   "source": []
  },
  {
   "cell_type": "markdown",
   "id": "3ed31328",
   "metadata": {},
   "source": [
    "### Amostras\n",
    "\n",
    "Para visualizar amostras da base, podemos utilizar:\n",
    "- `.head(n)`: Mostra as `n` primeiras linhas da base (*default*: 5)\n",
    "- `.tail(n)`: Mostra as últimas `n` linhas (*default*: 5)\n",
    "- `sample(n)`: Mostra linhas aleatórias (*default*: 1)\n",
    "\n"
   ]
  },
  {
   "cell_type": "markdown",
   "id": "734e0c69",
   "metadata": {},
   "source": [
    "**Exemplo**  \n",
    "\n",
    "```python\n",
    "df_alunos.head(6)\n",
    "```"
   ]
  },
  {
   "cell_type": "code",
   "execution_count": null,
   "id": "c1e11fdf",
   "metadata": {},
   "outputs": [],
   "source": []
  },
  {
   "cell_type": "markdown",
   "id": "8761207f",
   "metadata": {},
   "source": [
    "**Exemplo**  \n",
    "\n",
    "```python\n",
    "df_alunos.tail(2)\n",
    "```"
   ]
  },
  {
   "cell_type": "code",
   "execution_count": null,
   "id": "114336ab",
   "metadata": {},
   "outputs": [],
   "source": []
  },
  {
   "cell_type": "markdown",
   "id": "f7a2f427",
   "metadata": {},
   "source": [
    "**Exemplo**  \n",
    "\n",
    "```python\n",
    "df_alunos.sample(8)\n",
    "```"
   ]
  },
  {
   "cell_type": "code",
   "execution_count": 49,
   "id": "c662cebe",
   "metadata": {},
   "outputs": [
    {
     "data": {
      "text/html": [
       "<div>\n",
       "<style scoped>\n",
       "    .dataframe tbody tr th:only-of-type {\n",
       "        vertical-align: middle;\n",
       "    }\n",
       "\n",
       "    .dataframe tbody tr th {\n",
       "        vertical-align: top;\n",
       "    }\n",
       "\n",
       "    .dataframe thead th {\n",
       "        text-align: right;\n",
       "    }\n",
       "</style>\n",
       "<table border=\"1\" class=\"dataframe\">\n",
       "  <thead>\n",
       "    <tr style=\"text-align: right;\">\n",
       "      <th></th>\n",
       "      <th>CAMPUS</th>\n",
       "      <th>ALUNO</th>\n",
       "      <th>DATA INICIO</th>\n",
       "      <th>DATA FIM PREVISTO</th>\n",
       "      <th>NOME DO CURSO</th>\n",
       "      <th>SUBTITPO DE CURSO</th>\n",
       "      <th>MODALIDADE</th>\n",
       "      <th>TIPO DE OFERTA</th>\n",
       "      <th>STATUS MATRICULA</th>\n",
       "      <th>GRADUACAO</th>\n",
       "      <th>NOME</th>\n",
       "      <th>INICIO_DIA</th>\n",
       "      <th>INICIO_MES</th>\n",
       "      <th>INICIO_ANO</th>\n",
       "    </tr>\n",
       "  </thead>\n",
       "  <tbody>\n",
       "    <tr>\n",
       "      <th>7494</th>\n",
       "      <td>AVANÇADO CORONEL VIVIDA</td>\n",
       "      <td>RENAN FELIPE OLDONI</td>\n",
       "      <td>04/06/2019</td>\n",
       "      <td>07/11/2019</td>\n",
       "      <td>CIÊNCIAS,TECNOLOGIAS E SOCIEDADE</td>\n",
       "      <td>FORMAÇÃO CONTINUADA</td>\n",
       "      <td>EDUCAÇÃO PRESENCIAL</td>\n",
       "      <td>CONCOMITANTE</td>\n",
       "      <td>EM_CURSO</td>\n",
       "      <td>False</td>\n",
       "      <td>Renan Felipe Oldoni</td>\n",
       "      <td>04</td>\n",
       "      <td>06</td>\n",
       "      <td>2019</td>\n",
       "    </tr>\n",
       "    <tr>\n",
       "      <th>98377</th>\n",
       "      <td>CURITIBA</td>\n",
       "      <td>ZAIRE LUIZ WALTER                             ...</td>\n",
       "      <td>25/08/2011</td>\n",
       "      <td>12/09/2013</td>\n",
       "      <td>TÉCNICO EM LOGÍSTICA</td>\n",
       "      <td>TÉCNICO</td>\n",
       "      <td>EDUCAÇÃO A DISTÂNCIA</td>\n",
       "      <td>SUBSEQUENTE</td>\n",
       "      <td>ABANDONO</td>\n",
       "      <td>False</td>\n",
       "      <td>Zaire Luiz Walter                             ...</td>\n",
       "      <td>25</td>\n",
       "      <td>08</td>\n",
       "      <td>2011</td>\n",
       "    </tr>\n",
       "    <tr>\n",
       "      <th>27959</th>\n",
       "      <td>CURITIBA</td>\n",
       "      <td>IVONE ALVES DOS SANTOS</td>\n",
       "      <td>01/12/2011</td>\n",
       "      <td>01/06/2012</td>\n",
       "      <td>MULHERES MIL</td>\n",
       "      <td>MULHERES MIL</td>\n",
       "      <td>EDUCAÇÃO PRESENCIAL</td>\n",
       "      <td>NaN</td>\n",
       "      <td>CONCLUÍDA</td>\n",
       "      <td>False</td>\n",
       "      <td>Ivone Alves Dos Santos</td>\n",
       "      <td>01</td>\n",
       "      <td>12</td>\n",
       "      <td>2011</td>\n",
       "    </tr>\n",
       "    <tr>\n",
       "      <th>44111</th>\n",
       "      <td>CURITIBA</td>\n",
       "      <td>ANDREIA RIBEIRO DOS SANTOS PEREIRA</td>\n",
       "      <td>17/11/2010</td>\n",
       "      <td>30/11/2012</td>\n",
       "      <td>TÉCNICO EM SECRETARIADO</td>\n",
       "      <td>TÉCNICO</td>\n",
       "      <td>EDUCAÇÃO A DISTÂNCIA</td>\n",
       "      <td>SUBSEQUENTE</td>\n",
       "      <td>DESLIGADO</td>\n",
       "      <td>False</td>\n",
       "      <td>Andreia Ribeiro Dos Santos Pereira</td>\n",
       "      <td>17</td>\n",
       "      <td>11</td>\n",
       "      <td>2010</td>\n",
       "    </tr>\n",
       "    <tr>\n",
       "      <th>155469</th>\n",
       "      <td>TELÊMACO BORBA</td>\n",
       "      <td>PEDRO HENRIQUE DREVENIACKI</td>\n",
       "      <td>10/02/2014</td>\n",
       "      <td>22/12/2017</td>\n",
       "      <td>TÉCNICO EM AUTOMAÇÃO INDUSTRIAL</td>\n",
       "      <td>TÉCNICO</td>\n",
       "      <td>EDUCAÇÃO PRESENCIAL</td>\n",
       "      <td>INTEGRADO</td>\n",
       "      <td>CONCLUÍDA</td>\n",
       "      <td>False</td>\n",
       "      <td>Pedro Henrique Dreveniacki</td>\n",
       "      <td>10</td>\n",
       "      <td>02</td>\n",
       "      <td>2014</td>\n",
       "    </tr>\n",
       "    <tr>\n",
       "      <th>27711</th>\n",
       "      <td>CURITIBA</td>\n",
       "      <td>JULIANA ALBERTI GOMES</td>\n",
       "      <td>05/10/2011</td>\n",
       "      <td>17/04/2013</td>\n",
       "      <td>TÉCNICO EM EVENTOS</td>\n",
       "      <td>TÉCNICO</td>\n",
       "      <td>EDUCAÇÃO A DISTÂNCIA</td>\n",
       "      <td>SUBSEQUENTE</td>\n",
       "      <td>DESLIGADO</td>\n",
       "      <td>False</td>\n",
       "      <td>Juliana Alberti Gomes</td>\n",
       "      <td>05</td>\n",
       "      <td>10</td>\n",
       "      <td>2011</td>\n",
       "    </tr>\n",
       "    <tr>\n",
       "      <th>50338</th>\n",
       "      <td>CURITIBA</td>\n",
       "      <td>CLAUDINEI FRANCISCO DE OLIVEIRA</td>\n",
       "      <td>22/08/2011</td>\n",
       "      <td>22/11/2013</td>\n",
       "      <td>TÉCNICO EM MEIO AMBIENTE</td>\n",
       "      <td>TÉCNICO</td>\n",
       "      <td>EDUCAÇÃO A DISTÂNCIA</td>\n",
       "      <td>SUBSEQUENTE</td>\n",
       "      <td>CONCLUÍDA</td>\n",
       "      <td>False</td>\n",
       "      <td>Claudinei Francisco De Oliveira</td>\n",
       "      <td>22</td>\n",
       "      <td>08</td>\n",
       "      <td>2011</td>\n",
       "    </tr>\n",
       "    <tr>\n",
       "      <th>38477</th>\n",
       "      <td>CURITIBA</td>\n",
       "      <td>ACASSIO MORAES OLIVEIRA                       ...</td>\n",
       "      <td>24/08/2011</td>\n",
       "      <td>06/06/2014</td>\n",
       "      <td>TÉCNICO EM SEGURANÇA DO TRABALHO</td>\n",
       "      <td>TÉCNICO</td>\n",
       "      <td>EDUCAÇÃO A DISTÂNCIA</td>\n",
       "      <td>SUBSEQUENTE</td>\n",
       "      <td>ABANDONO</td>\n",
       "      <td>False</td>\n",
       "      <td>Acassio Moraes Oliveira                       ...</td>\n",
       "      <td>24</td>\n",
       "      <td>08</td>\n",
       "      <td>2011</td>\n",
       "    </tr>\n",
       "  </tbody>\n",
       "</table>\n",
       "</div>"
      ],
      "text/plain": [
       "                         CAMPUS  \\\n",
       "7494    AVANÇADO CORONEL VIVIDA   \n",
       "98377                  CURITIBA   \n",
       "27959                  CURITIBA   \n",
       "44111                  CURITIBA   \n",
       "155469           TELÊMACO BORBA   \n",
       "27711                  CURITIBA   \n",
       "50338                  CURITIBA   \n",
       "38477                  CURITIBA   \n",
       "\n",
       "                                                    ALUNO DATA INICIO  \\\n",
       "7494                                  RENAN FELIPE OLDONI  04/06/2019   \n",
       "98377   ZAIRE LUIZ WALTER                             ...  25/08/2011   \n",
       "27959                              IVONE ALVES DOS SANTOS  01/12/2011   \n",
       "44111                  ANDREIA RIBEIRO DOS SANTOS PEREIRA  17/11/2010   \n",
       "155469                         PEDRO HENRIQUE DREVENIACKI  10/02/2014   \n",
       "27711                               JULIANA ALBERTI GOMES  05/10/2011   \n",
       "50338                     CLAUDINEI FRANCISCO DE OLIVEIRA  22/08/2011   \n",
       "38477   ACASSIO MORAES OLIVEIRA                       ...  24/08/2011   \n",
       "\n",
       "       DATA FIM PREVISTO                     NOME DO CURSO  \\\n",
       "7494          07/11/2019  CIÊNCIAS,TECNOLOGIAS E SOCIEDADE   \n",
       "98377         12/09/2013              TÉCNICO EM LOGÍSTICA   \n",
       "27959         01/06/2012                      MULHERES MIL   \n",
       "44111         30/11/2012           TÉCNICO EM SECRETARIADO   \n",
       "155469        22/12/2017   TÉCNICO EM AUTOMAÇÃO INDUSTRIAL   \n",
       "27711         17/04/2013                TÉCNICO EM EVENTOS   \n",
       "50338         22/11/2013          TÉCNICO EM MEIO AMBIENTE   \n",
       "38477         06/06/2014  TÉCNICO EM SEGURANÇA DO TRABALHO   \n",
       "\n",
       "          SUBTITPO DE CURSO            MODALIDADE TIPO DE OFERTA  \\\n",
       "7494    FORMAÇÃO CONTINUADA   EDUCAÇÃO PRESENCIAL   CONCOMITANTE   \n",
       "98377               TÉCNICO  EDUCAÇÃO A DISTÂNCIA    SUBSEQUENTE   \n",
       "27959          MULHERES MIL   EDUCAÇÃO PRESENCIAL            NaN   \n",
       "44111               TÉCNICO  EDUCAÇÃO A DISTÂNCIA    SUBSEQUENTE   \n",
       "155469              TÉCNICO   EDUCAÇÃO PRESENCIAL      INTEGRADO   \n",
       "27711               TÉCNICO  EDUCAÇÃO A DISTÂNCIA    SUBSEQUENTE   \n",
       "50338               TÉCNICO  EDUCAÇÃO A DISTÂNCIA    SUBSEQUENTE   \n",
       "38477               TÉCNICO  EDUCAÇÃO A DISTÂNCIA    SUBSEQUENTE   \n",
       "\n",
       "       STATUS MATRICULA  GRADUACAO  \\\n",
       "7494           EM_CURSO      False   \n",
       "98377          ABANDONO      False   \n",
       "27959         CONCLUÍDA      False   \n",
       "44111         DESLIGADO      False   \n",
       "155469        CONCLUÍDA      False   \n",
       "27711         DESLIGADO      False   \n",
       "50338         CONCLUÍDA      False   \n",
       "38477          ABANDONO      False   \n",
       "\n",
       "                                                     NOME INICIO_DIA  \\\n",
       "7494                                  Renan Felipe Oldoni         04   \n",
       "98377   Zaire Luiz Walter                             ...         25   \n",
       "27959                              Ivone Alves Dos Santos         01   \n",
       "44111                  Andreia Ribeiro Dos Santos Pereira         17   \n",
       "155469                         Pedro Henrique Dreveniacki         10   \n",
       "27711                               Juliana Alberti Gomes         05   \n",
       "50338                     Claudinei Francisco De Oliveira         22   \n",
       "38477   Acassio Moraes Oliveira                       ...         24   \n",
       "\n",
       "       INICIO_MES INICIO_ANO  \n",
       "7494           06       2019  \n",
       "98377          08       2011  \n",
       "27959          12       2011  \n",
       "44111          11       2010  \n",
       "155469         02       2014  \n",
       "27711          10       2011  \n",
       "50338          08       2011  \n",
       "38477          08       2011  "
      ]
     },
     "execution_count": 49,
     "metadata": {},
     "output_type": "execute_result"
    }
   ],
   "source": [
    "df_alunos.sample(8)"
   ]
  },
  {
   "cell_type": "markdown",
   "id": "c19c54d9",
   "metadata": {},
   "source": []
  },
  {
   "cell_type": "markdown",
   "id": "9df00fd8",
   "metadata": {},
   "source": [
    "### Formato dos dados nas colunas\n",
    "\n",
    "É possível alterar o tipo de todos os dados em uma coluna.\n",
    "\n",
    "**Exemplo**  \n",
    "- Observe os tipos dos dados de todas as colunas\n",
    "\n",
    "```python\n",
    "df_alunos.info()\n",
    "```\n",
    "\n",
    "- Quais são os tipos das colunas `INICIO_DIA`, `INICIO_MES` e `INICIO_ANO`?"
   ]
  },
  {
   "cell_type": "code",
   "execution_count": 62,
   "id": "9da42d05",
   "metadata": {},
   "outputs": [
    {
     "name": "stdout",
     "output_type": "stream",
     "text": [
      "<class 'pandas.core.frame.DataFrame'>\n",
      "RangeIndex: 166485 entries, 0 to 166484\n",
      "Data columns (total 14 columns):\n",
      " #   Column             Non-Null Count   Dtype \n",
      "---  ------             --------------   ----- \n",
      " 0   CAMPUS             166485 non-null  object\n",
      " 1   ALUNO              166485 non-null  object\n",
      " 2   DATA INICIO        166485 non-null  object\n",
      " 3   DATA FIM PREVISTO  166485 non-null  object\n",
      " 4   NOME DO CURSO      166485 non-null  object\n",
      " 5   SUBTITPO DE CURSO  166485 non-null  object\n",
      " 6   MODALIDADE         166485 non-null  object\n",
      " 7   TIPO DE OFERTA     122326 non-null  object\n",
      " 8   STATUS MATRICULA   166485 non-null  object\n",
      " 9   GRADUACAO          166485 non-null  bool  \n",
      " 10  NOME               166485 non-null  object\n",
      " 11  INICIO_DIA         166485 non-null  int64 \n",
      " 12  INICIO_MES         166485 non-null  object\n",
      " 13  INICIO_ANO         166485 non-null  object\n",
      "dtypes: bool(1), int64(1), object(12)\n",
      "memory usage: 16.7+ MB\n"
     ]
    }
   ],
   "source": [
    "df_alunos.info()"
   ]
  },
  {
   "cell_type": "markdown",
   "id": "454b7426",
   "metadata": {},
   "source": [
    "Para modificar, podemos alterar o tipo utilizando o método `.astype`:\n",
    "\n",
    "**Exemplo**  \n",
    "```python\n",
    "df_alunos['INICIO_DIA'] = df_alunos['INICIO_DIA'].astype(int)\n",
    "df_alunos.info()\n",
    "```"
   ]
  },
  {
   "cell_type": "code",
   "execution_count": 70,
   "id": "fda71426",
   "metadata": {},
   "outputs": [
    {
     "name": "stdout",
     "output_type": "stream",
     "text": [
      "<class 'pandas.core.frame.DataFrame'>\n",
      "RangeIndex: 166485 entries, 0 to 166484\n",
      "Data columns (total 14 columns):\n",
      " #   Column             Non-Null Count   Dtype \n",
      "---  ------             --------------   ----- \n",
      " 0   CAMPUS             166485 non-null  object\n",
      " 1   ALUNO              166485 non-null  object\n",
      " 2   DATA INICIO        166485 non-null  object\n",
      " 3   DATA FIM PREVISTO  166485 non-null  object\n",
      " 4   NOME DO CURSO      166485 non-null  object\n",
      " 5   SUBTITPO DE CURSO  166485 non-null  object\n",
      " 6   MODALIDADE         166485 non-null  object\n",
      " 7   TIPO DE OFERTA     122326 non-null  object\n",
      " 8   STATUS MATRICULA   166485 non-null  object\n",
      " 9   GRADUACAO          166485 non-null  bool  \n",
      " 10  NOME               166485 non-null  object\n",
      " 11  INICIO_DIA         166485 non-null  int64 \n",
      " 12  INICIO_MES         166485 non-null  int64 \n",
      " 13  INICIO_ANO         166485 non-null  int64 \n",
      "dtypes: bool(1), int64(3), object(10)\n",
      "memory usage: 16.7+ MB\n"
     ]
    }
   ],
   "source": [
    "df_alunos['INICIO_DIA'] = df_alunos['INICIO_DIA'].astype(int)\n",
    "df_alunos.info()"
   ]
  },
  {
   "cell_type": "markdown",
   "id": "81cc990f",
   "metadata": {},
   "source": [
    "Ou então, todas as colunas podem ser modificadas de uma única vez:\n",
    "```python\n",
    "df_alunos[['INICIO_DIA','INICIO_MES','INICIO_ANO']] = \\\n",
    "df_alunos[['INICIO_DIA','INICIO_MES','INICIO_ANO']].astype(np.int64)\n",
    "df_alunos.info() #Observa o resultado\n",
    "```"
   ]
  },
  {
   "cell_type": "code",
   "execution_count": null,
   "id": "bac0036c",
   "metadata": {},
   "outputs": [],
   "source": []
  },
  {
   "cell_type": "markdown",
   "id": "83eeb8bb",
   "metadata": {},
   "source": [
    "### Encontrando e preenchendo valores nulos\n",
    "\n",
    "Utilizando `.info()`, podemos observar quais são as colunas que pussuem valores faltantes.\n",
    "\n",
    "\n",
    "**Exemplo**  \n",
    "- Quais colunas possuem dados faltantes?\n",
    "```python\n",
    "df_alunos.info()\n",
    "```"
   ]
  },
  {
   "cell_type": "code",
   "execution_count": null,
   "id": "fb7eab0c",
   "metadata": {},
   "outputs": [],
   "source": []
  },
  {
   "cell_type": "markdown",
   "id": "a0f8aa7a",
   "metadata": {},
   "source": [
    "Os métodos `.isna()` e `fillna()` permitem visualizar e preencher dados faltantes em uma base de dados.\n",
    "\n",
    "**Exemplo**  \n",
    "- Quais são as linhas que possuem valores faltantes na coluna `TIPO DE OFERTA`?\n",
    "\n",
    "```python\n",
    "idx = df_alunos['TIPO DE OFERTA'].isna()\n",
    "df_alunos[idx]\n",
    "```"
   ]
  },
  {
   "cell_type": "code",
   "execution_count": null,
   "id": "ef31b3fd",
   "metadata": {},
   "outputs": [],
   "source": []
  },
  {
   "cell_type": "markdown",
   "id": "2d5843f4",
   "metadata": {},
   "source": [
    "**Exercício**\n",
    "- Quais são subtipos de cusros em que o valor `TIPO DE OFERTA` é `nan`?\n",
    "\n"
   ]
  },
  {
   "cell_type": "code",
   "execution_count": 102,
   "id": "8b6a7840",
   "metadata": {
    "scrolled": false
   },
   "outputs": [
    {
     "data": {
      "text/plain": [
       "array(['TECNOLOGIA', 'ESPECIALIZAÇÃO (LATO SENSU)', 'LICENCIATURA',\n",
       "       'FORMAÇÃO INICIAL', 'FORMAÇÃO CONTINUADA', 'BACHARELADO',\n",
       "       'MULHERES MIL', 'ENSINO MÉDIO', 'MESTRADO PROFISSIONAL',\n",
       "       'MESTRADO'], dtype=object)"
      ]
     },
     "execution_count": 102,
     "metadata": {},
     "output_type": "execute_result"
    }
   ],
   "source": [
    "idx = df_alunos['TIPO DE OFERTA'].isna()\n",
    "df_alunos[idx]['SUBTIPO DE CURSO'].unique()"
   ]
  },
  {
   "cell_type": "markdown",
   "id": "21d979d5",
   "metadata": {},
   "source": [
    "Como o índice utilizado é um *array* de valores booleanos, é possível aplicar a negação nesse *array*, utilizando o operador `~`\n",
    "\n",
    "**Exercício**\n",
    "\n",
    "- Quais são subtipos de cusros em que o valor `TIPO DE OFERTA` **não** é `nan`?"
   ]
  },
  {
   "cell_type": "code",
   "execution_count": null,
   "id": "545478f8",
   "metadata": {},
   "outputs": [],
   "source": []
  },
  {
   "cell_type": "markdown",
   "id": "bd02899b",
   "metadata": {},
   "source": [
    "Podemos substituir os valores faltantes utilizando o método `.fillna()`\n",
    "\n",
    "**Exemplo**  \n",
    "- Substituir os valores faltantes de `TIPO DE OFERTA` para `\"NAO SE APLICA\"`\n",
    "\n",
    "```python\n",
    "df_alunos['TIPO DE OFERTA'] = df_alunos['TIPO DE OFERTA'].fillna('NAO SE APLICA')\n",
    "\n",
    "```"
   ]
  },
  {
   "cell_type": "code",
   "execution_count": 112,
   "id": "805aac09",
   "metadata": {},
   "outputs": [],
   "source": [
    "df_alunos['TIPO DE OFERTA'] = df_alunos['TIPO DE OFERTA'].fillna('NAO SE APLICA')"
   ]
  },
  {
   "cell_type": "markdown",
   "id": "287726a1",
   "metadata": {},
   "source": [
    "Para visualizar o DataFrame após as alterações:\n",
    "\n",
    "```python\n",
    "idx = df_alunos['TIPO DE OFERTA'].isna()\n",
    "df_alunos[idx]\n",
    "```"
   ]
  },
  {
   "cell_type": "code",
   "execution_count": null,
   "id": "8f31d79c",
   "metadata": {},
   "outputs": [],
   "source": []
  },
  {
   "cell_type": "markdown",
   "id": "9494f4f9",
   "metadata": {},
   "source": [
    "### Joins"
   ]
  },
  {
   "cell_type": "markdown",
   "id": "df44556f",
   "metadata": {},
   "source": []
  },
  {
   "cell_type": "markdown",
   "id": "be4d30e9",
   "metadata": {},
   "source": [
    "### Ordenação"
   ]
  },
  {
   "cell_type": "markdown",
   "id": "5988838c",
   "metadata": {},
   "source": []
  },
  {
   "cell_type": "markdown",
   "id": "b9dc55cb",
   "metadata": {},
   "source": [
    "### Groupby"
   ]
  },
  {
   "cell_type": "markdown",
   "id": "a85c3a4e",
   "metadata": {},
   "source": []
  },
  {
   "cell_type": "markdown",
   "id": "ecec887a",
   "metadata": {},
   "source": [
    "### Renomeando colunas"
   ]
  },
  {
   "cell_type": "markdown",
   "id": "8be246aa",
   "metadata": {},
   "source": []
  },
  {
   "cell_type": "markdown",
   "id": "2c303a14",
   "metadata": {},
   "source": [
    "### Removendo colunas"
   ]
  },
  {
   "cell_type": "markdown",
   "id": "ee5a8e6b",
   "metadata": {},
   "source": []
  },
  {
   "cell_type": "markdown",
   "id": "dbbe3699",
   "metadata": {},
   "source": []
  },
  {
   "cell_type": "markdown",
   "id": "3481f25e",
   "metadata": {},
   "source": []
  },
  {
   "cell_type": "markdown",
   "id": "5ae764ba",
   "metadata": {},
   "source": [
    "### Aplicando funções"
   ]
  },
  {
   "cell_type": "markdown",
   "id": "e3dcef3e",
   "metadata": {},
   "source": []
  },
  {
   "cell_type": "markdown",
   "id": "4cecb7fa",
   "metadata": {},
   "source": [
    "### Linhas duplicadas"
   ]
  },
  {
   "cell_type": "markdown",
   "id": "b2e029f0",
   "metadata": {},
   "source": []
  },
  {
   "cell_type": "markdown",
   "id": "a9a29294",
   "metadata": {},
   "source": [
    "### Quantidades de valoes"
   ]
  },
  {
   "cell_type": "markdown",
   "id": "5675346d",
   "metadata": {},
   "source": []
  },
  {
   "cell_type": "markdown",
   "id": "1d55c67a",
   "metadata": {},
   "source": [
    "### Redefinindo índices"
   ]
  },
  {
   "cell_type": "markdown",
   "id": "22262507",
   "metadata": {},
   "source": []
  },
  {
   "cell_type": "markdown",
   "id": "ba8575b3",
   "metadata": {},
   "source": [
    "### Comparações todos com "
   ]
  },
  {
   "cell_type": "markdown",
   "id": "5c6fa1a1",
   "metadata": {},
   "source": []
  },
  {
   "cell_type": "markdown",
   "id": "31c919aa",
   "metadata": {},
   "source": [
    "### Pivôs"
   ]
  },
  {
   "cell_type": "markdown",
   "id": "da2e75e7",
   "metadata": {},
   "source": []
  },
  {
   "cell_type": "markdown",
   "id": "562a117c",
   "metadata": {},
   "source": []
  },
  {
   "cell_type": "markdown",
   "id": "e3ade6fd",
   "metadata": {},
   "source": []
  },
  {
   "cell_type": "markdown",
   "id": "852446ea",
   "metadata": {},
   "source": []
  }
 ],
 "metadata": {
  "kernelspec": {
   "display_name": "Python 3 (ipykernel)",
   "language": "python",
   "name": "python3"
  },
  "language_info": {
   "codemirror_mode": {
    "name": "ipython",
    "version": 3
   },
   "file_extension": ".py",
   "mimetype": "text/x-python",
   "name": "python",
   "nbconvert_exporter": "python",
   "pygments_lexer": "ipython3",
   "version": "3.8.10"
  }
 },
 "nbformat": 4,
 "nbformat_minor": 5
}
