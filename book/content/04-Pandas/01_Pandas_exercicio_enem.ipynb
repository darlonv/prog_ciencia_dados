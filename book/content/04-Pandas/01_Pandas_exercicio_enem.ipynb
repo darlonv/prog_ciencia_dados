{
 "cells": [
  {
   "cell_type": "markdown",
   "metadata": {},
   "source": [
    "# Exercícios"
   ]
  },
  {
   "cell_type": "code",
   "execution_count": null,
   "metadata": {},
   "outputs": [],
   "source": [
    "#Importação da biblioteca Pandas\n",
    "import pandas as pd"
   ]
  },
  {
   "cell_type": "markdown",
   "metadata": {},
   "source": [
    "## Base dados\n",
    "\n",
    "**Fonte da base de dados**\n",
    "\n",
    "Enem 1998  \n",
    "[Microdados do Exame Nacional do Ensino Médio - Enem](http://www.dados.gov.br/dataset/microdados-do-exame-nacional-do-ensino-medio-enem)  \n",
    "\n",
    "**Documentação da base de dados**  \n",
    "\n",
    "Para entender a base, acesse a descrição dos campos, disponível neste [link](https://docs.google.com/spreadsheets/d/1tKI5o9wBzBh_SaRccHJKwEzqIekqhyze/edit#gid=1105751035).\n",
    "\n",
    "**Carregamento da base**  \n",
    "\n",
    "Para carregar a base em um DataFrame Pandas, execute:\n",
    "Para acessar o arquivo com a base é necessário solicitar acesso ao Google Drive. No caso desta aula, a base de dados está compartilhada entre todos os alunos incluídos na turma do Google Classroom.\n",
    "\n",
    "**Google Colaboratory**  \n",
    "\n",
    "Para execuções utilizando o ambiente do Google Colab, execute o código abaixo. A primeira vez que for executado, será solicitado um código de acesso. Para obter esse código, basta clicar no link gerado e seguir as instruções.\n",
    "```python\n",
    "#Solicita acesso ao Google Drive\n",
    "from google.colab import drive\n",
    "drive.mount('/drive')\n",
    "\n",
    "#Carrega a base de dados direto do Google Drive (Executando no Google Colab)\n",
    "enem98 = pd.read_csv('/drive/Shared drives/BasesPublicas/Bases/ENEM/1998/MICRODADOS_ENEM_1998.csv', sep=';', encoding='latin1' )\n",
    "```\n",
    "**Jupyter**  \n",
    "\n",
    "Para execuções no Jupyter:\n",
    "```python\n",
    "#Colocar a base no mesmo diretório em que está executando o arquivo jupyter\n",
    "#enem98 = pd.read_csv('./MICRODADOS_ENEM_1998.csv', sep=';', encoding='latin1' )\n",
    "\n",
    "``` \n"
   ]
  },
  {
   "cell_type": "code",
   "execution_count": null,
   "metadata": {},
   "outputs": [],
   "source": []
  },
  {
   "cell_type": "code",
   "execution_count": null,
   "metadata": {},
   "outputs": [],
   "source": []
  },
  {
   "cell_type": "markdown",
   "metadata": {},
   "source": [
    "**Exercícios**\n",
    "\n",
    "Sobre a base de dados referente ao ENEM do ano de 1998, responda as questões abaixo utilizando a biblioteca Pandas."
   ]
  },
  {
   "cell_type": "markdown",
   "metadata": {},
   "source": [
    "Sobre a base:\n",
    "1. Quantas linhas existem na base?\n",
    "1. Quantas colunas existem?"
   ]
  },
  {
   "cell_type": "code",
   "execution_count": null,
   "metadata": {},
   "outputs": [],
   "source": []
  },
  {
   "cell_type": "markdown",
   "metadata": {},
   "source": [
    "Obtenha cada informação solicitada a seguir:\n",
    "- Quantos alunos foram matriculados?"
   ]
  },
  {
   "cell_type": "code",
   "execution_count": null,
   "metadata": {},
   "outputs": [],
   "source": []
  },
  {
   "cell_type": "markdown",
   "metadata": {},
   "source": [
    "- Quantos alunos matricularam-se no ENEM por estado?"
   ]
  },
  {
   "cell_type": "code",
   "execution_count": null,
   "metadata": {},
   "outputs": [],
   "source": []
  },
  {
   "cell_type": "markdown",
   "metadata": {},
   "source": [
    "- Quantos estudantes matriculados não realizaram a prova?"
   ]
  },
  {
   "cell_type": "code",
   "execution_count": null,
   "metadata": {},
   "outputs": [],
   "source": []
  },
  {
   "cell_type": "markdown",
   "metadata": {},
   "source": [
    "- Dos estudantes matriculados, quantos não realizaram a prova, por estado?"
   ]
  },
  {
   "cell_type": "code",
   "execution_count": null,
   "metadata": {},
   "outputs": [],
   "source": []
  },
  {
   "cell_type": "markdown",
   "metadata": {},
   "source": [
    "- Qual é idade do(a) estudante mais velho(a)?"
   ]
  },
  {
   "cell_type": "code",
   "execution_count": null,
   "metadata": {},
   "outputs": [],
   "source": []
  },
  {
   "cell_type": "markdown",
   "metadata": {},
   "source": [
    "- Quantos estudantes empatam com a idade mais velha?"
   ]
  },
  {
   "cell_type": "code",
   "execution_count": null,
   "metadata": {},
   "outputs": [],
   "source": []
  },
  {
   "cell_type": "markdown",
   "metadata": {},
   "source": [
    "- Os estudantes com a idade mais mais velha são de quais estados?"
   ]
  },
  {
   "cell_type": "code",
   "execution_count": null,
   "metadata": {},
   "outputs": [],
   "source": []
  },
  {
   "cell_type": "markdown",
   "metadata": {},
   "source": [
    "- Qual é a idade do(a) estudante mais novo(a) do Paraná?"
   ]
  },
  {
   "cell_type": "code",
   "execution_count": null,
   "metadata": {},
   "outputs": [],
   "source": []
  },
  {
   "cell_type": "markdown",
   "metadata": {},
   "source": [
    "- Quantos estudantes possuem a mesma idade do estudante mais novo no Paraná?"
   ]
  },
  {
   "cell_type": "code",
   "execution_count": null,
   "metadata": {},
   "outputs": [],
   "source": []
  },
  {
   "cell_type": "markdown",
   "metadata": {},
   "source": [
    "- De quais cidades são os estudantes com a menor idade?"
   ]
  },
  {
   "cell_type": "code",
   "execution_count": null,
   "metadata": {},
   "outputs": [],
   "source": []
  },
  {
   "cell_type": "markdown",
   "metadata": {},
   "source": [
    "- No Paraná, qual a porcentagem de estudantes por sexo?"
   ]
  },
  {
   "cell_type": "code",
   "execution_count": null,
   "metadata": {},
   "outputs": [],
   "source": []
  }
 ],
 "metadata": {
  "kernelspec": {
   "display_name": "Python 3 (ipykernel)",
   "language": "python",
   "name": "python3"
  },
  "language_info": {
   "codemirror_mode": {
    "name": "ipython",
    "version": 3
   },
   "file_extension": ".py",
   "mimetype": "text/x-python",
   "name": "python",
   "nbconvert_exporter": "python",
   "pygments_lexer": "ipython3",
   "version": "3.8.10"
  }
 },
 "nbformat": 4,
 "nbformat_minor": 4
}
