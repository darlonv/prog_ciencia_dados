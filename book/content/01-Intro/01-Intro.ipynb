{
 "cells": [
  {
   "cell_type": "markdown",
   "id": "39483c9b",
   "metadata": {},
   "source": [
    "# Python"
   ]
  },
  {
   "cell_type": "markdown",
   "id": "a7c12b3c",
   "metadata": {},
   "source": []
  },
  {
   "cell_type": "markdown",
   "id": "dbafe031",
   "metadata": {},
   "source": []
  },
  {
   "cell_type": "markdown",
   "id": "aeaedc04",
   "metadata": {},
   "source": []
  },
  {
   "cell_type": "markdown",
   "id": "c38609bf",
   "metadata": {},
   "source": [
    "## Ambientes virtuais"
   ]
  },
  {
   "cell_type": "markdown",
   "id": "a46ce207",
   "metadata": {},
   "source": []
  },
  {
   "cell_type": "markdown",
   "id": "ae3eb8b5",
   "metadata": {},
   "source": [
    "## Ambientes de desenvolvimento"
   ]
  },
  {
   "cell_type": "markdown",
   "id": "7011d448",
   "metadata": {},
   "source": [
    "### Visual Studio Code (VsCode)"
   ]
  },
  {
   "cell_type": "markdown",
   "id": "4d8e6b01",
   "metadata": {},
   "source": [
    "### Jupyter\n",
    "\n",
    "[Project Jupyter](https://jupyter.org)"
   ]
  },
  {
   "cell_type": "markdown",
   "id": "8844eac3",
   "metadata": {},
   "source": [
    "### Google Colaboratory\n",
    "[Colaboratory](https://colab.research.google.com)"
   ]
  },
  {
   "cell_type": "markdown",
   "id": "168a5552",
   "metadata": {},
   "source": []
  },
  {
   "cell_type": "markdown",
   "id": "95e83fdd",
   "metadata": {},
   "source": []
  },
  {
   "cell_type": "markdown",
   "id": "66384c61",
   "metadata": {},
   "source": []
  },
  {
   "cell_type": "markdown",
   "id": "d5323c27",
   "metadata": {},
   "source": []
  },
  {
   "cell_type": "markdown",
   "id": "d2d61379",
   "metadata": {},
   "source": []
  },
  {
   "cell_type": "markdown",
   "id": "6c19f52c",
   "metadata": {},
   "source": []
  },
  {
   "cell_type": "markdown",
   "id": "955e707e",
   "metadata": {},
   "source": []
  },
  {
   "cell_type": "markdown",
   "id": "c6d5f2fc",
   "metadata": {},
   "source": []
  },
  {
   "cell_type": "markdown",
   "id": "1589bd2b",
   "metadata": {},
   "source": []
  }
 ],
 "metadata": {
  "kernelspec": {
   "display_name": "Python 3 (ipykernel)",
   "language": "python",
   "name": "python3"
  },
  "language_info": {
   "codemirror_mode": {
    "name": "ipython",
    "version": 3
   },
   "file_extension": ".py",
   "mimetype": "text/x-python",
   "name": "python",
   "nbconvert_exporter": "python",
   "pygments_lexer": "ipython3",
   "version": "3.8.10"
  }
 },
 "nbformat": 4,
 "nbformat_minor": 5
}
