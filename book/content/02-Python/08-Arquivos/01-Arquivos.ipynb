{
 "cells": [
  {
   "cell_type": "markdown",
   "metadata": {
    "slideshow": {
     "slide_type": "slide"
    }
   },
   "source": [
    "# Arquivos"
   ]
  },
  {
   "cell_type": "markdown",
   "metadata": {
    "slideshow": {
     "slide_type": "subslide"
    }
   },
   "source": [
    "Os arquivos são uma maneira de trasferir informações para uma memória não volátil, comumente discos rígidos ou discos *flash*. As informações gravadas em arquivos podem ser recuperadas posteriormente. As operações sobre arquivos consistem basicamente em leitura e escrita.  \n",
    "\n"
   ]
  },
  {
   "cell_type": "markdown",
   "metadata": {
    "slideshow": {
     "slide_type": "slide"
    }
   },
   "source": [
    "## Arquivos texto e binário"
   ]
  },
  {
   "cell_type": "markdown",
   "metadata": {
    "slideshow": {
     "slide_type": "subslide"
    }
   },
   "source": [
    "Os arquivos podem ser de duas formas: **texto** ou **binário**. Um arquivo texto armazena a informação utilizando algum tipo de codificação, como a ASCII. Já os arquivos binários armazenam as informações diretamente em modo binário."
   ]
  },
  {
   "cell_type": "markdown",
   "metadata": {
    "slideshow": {
     "slide_type": "subslide"
    }
   },
   "source": [
    "Ambos os modos possuem vantagens e desvantagens.\n",
    "\n",
    "- Texto\n",
    "    - Vantagens\n",
    "        - Facilidade de leitura\n",
    "        - É possível abrir o arquivo em diversas outras aplicações\n",
    "    - Desvantagens\n",
    "        - Maior necessidade de armazenamento\n",
    "- Binário\n",
    "    - Vantagens\n",
    "        - Menor armazenamento\n",
    "    - Desvantagens\n",
    "        - Dificuldade para a leitura de dados, é necessário conhecer toda a estrutura do arquivo previamente"
   ]
  },
  {
   "cell_type": "markdown",
   "metadata": {},
   "source": [
    "### Abertura de arquivos\n",
    "\n",
    "Para abrir arquivos em Python, utilizamos a função `open()`.\n",
    "\n",
    "```python\n",
    "arq = open('arquivo.txt','w')\n",
    "```\n",
    "\n",
    "Para salvar dados no arquivo:\n",
    "```python\n",
    "arq.write('Hello world')\n",
    "```\n",
    "\n",
    "Para fechar o arquivo:\n",
    "```python\n",
    "arq.close()\n",
    "```\n",
    "\n"
   ]
  },
  {
   "cell_type": "markdown",
   "metadata": {},
   "source": [
    "**Atividade**\n",
    "- Execute os comandos apresentados no exemplo"
   ]
  },
  {
   "cell_type": "code",
   "execution_count": null,
   "metadata": {},
   "outputs": [],
   "source": []
  },
  {
   "cell_type": "markdown",
   "metadata": {},
   "source": [
    "De forma análoga, é possível manipular arquivos dentro de um bloco `with`: \n",
    "\n",
    "```python\n",
    "with open('arquivo_2.txt', 'w') as arq:\n",
    "    arq.write('Hello world')\n",
    "```"
   ]
  },
  {
   "cell_type": "markdown",
   "metadata": {},
   "source": [
    "**Atividade**\n",
    "- Execute os comandos apresentados no exemplo"
   ]
  },
  {
   "cell_type": "code",
   "execution_count": null,
   "metadata": {},
   "outputs": [],
   "source": []
  },
  {
   "cell_type": "markdown",
   "metadata": {},
   "source": [
    "## Modos de abertura\n",
    "\n",
    "Os arquivos em Python podem ser abertos com os seguintes modos:\n",
    "\n",
    "| Operador |Tipo| Modo |\n",
    "|---|:-:|--|\n",
    "| `r` | Leitura| Abre o arquivo para leitura.  | \n",
    "| `w` | Escrita| Abre o arquivo para escrita. Caso o arquivo já exista, é substituído.| \n",
    "| `a`  |Escrita (*append*)| Abre o arquivo para escrita, incluindo dados ao final do arquivo.  | \n",
    "| `w+` |Leitura e escrita| Abre o aruqivo para leitura e escrita.| "
   ]
  },
  {
   "cell_type": "markdown",
   "metadata": {},
   "source": [
    "## Outras funções\n",
    "\n",
    "| Método | Descrição |\n",
    "|---|--|\n",
    "| `.tell()` | Retorna a posição do ponteiro no arquivo, em bytes.  | \n",
    "| `.seek()` | Movimenta o ponteiro para um posição específica do arquivo.| \n",
    "| `a`  | Abre o arquivo para escrita, incluindo dados ao final do arquivo.  | \n",
    "| `w+` | Abre o aruqivo para leitura e escrita.| "
   ]
  },
  {
   "cell_type": "code",
   "execution_count": null,
   "metadata": {},
   "outputs": [],
   "source": []
  },
  {
   "cell_type": "markdown",
   "metadata": {
    "slideshow": {
     "slide_type": "slide"
    }
   },
   "source": [
    "## Referências\n",
    "\n",
    "[Stackoverflow. Quais as principais diferenças entre UTF, ASCII, ANSI?. 2016. Acesso em: 23 set 2019](https://pt.stackoverflow.com/questions/156951/quais-as-principais-diferen%C3%A7as-entre-unicode-utf-ascii-ansi)  \n",
    "[SPOLSKI, J. The Absolute Minimum Every Software Developer Absolutely, Positively Must Know About Unicode and Character Sets (No Excuses!). 2003. Acesso em: 23 set 2019.](https://www.joelonsoftware.com/2003/10/08/the-absolute-minimum-every-software-developer-absolutely-positively-must-know-about-unicode-and-character-sets-no-excuses/)  \n",
    "[MILLER, B., RANUN, D. Aprendendo com Python: Edição interativa](https://panda.ime.usp.br/pensepy/static/pensepy/index.html)  \n",
    "\n"
   ]
  },
  {
   "cell_type": "code",
   "execution_count": null,
   "metadata": {},
   "outputs": [],
   "source": []
  }
 ],
 "metadata": {
  "kernelspec": {
   "display_name": "Python 3 (ipykernel)",
   "language": "python",
   "name": "python3"
  },
  "language_info": {
   "codemirror_mode": {
    "name": "ipython",
    "version": 3
   },
   "file_extension": ".py",
   "mimetype": "text/x-python",
   "name": "python",
   "nbconvert_exporter": "python",
   "pygments_lexer": "ipython3",
   "version": "3.8.10"
  }
 },
 "nbformat": 4,
 "nbformat_minor": 2
}
