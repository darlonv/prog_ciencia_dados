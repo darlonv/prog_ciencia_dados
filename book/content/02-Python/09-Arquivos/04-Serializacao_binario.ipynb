{
 "cells": [
  {
   "cell_type": "markdown",
   "metadata": {},
   "source": [
    "# Serialização e arquivos binários"
   ]
  },
  {
   "cell_type": "markdown",
   "metadata": {},
   "source": [
    "## Serialização"
   ]
  },
  {
   "cell_type": "markdown",
   "metadata": {},
   "source": [
    "Objetos em Python podem ser serializado utilizando a biblioteca `pickle`, e salvos como arquivo binário."
   ]
  },
  {
   "cell_type": "markdown",
   "metadata": {},
   "source": [
    "Para utilização do `pickle`, é necessário importar a biblioteca.\n",
    "```python\n",
    "import pickle\n",
    "```"
   ]
  },
  {
   "cell_type": "code",
   "execution_count": null,
   "metadata": {},
   "outputs": [],
   "source": []
  },
  {
   "cell_type": "markdown",
   "metadata": {},
   "source": [
    "Os principais métodos da biblioteca são:\n",
    "\n",
    "|Método| Descrição|\n",
    "|------|----------|\n",
    "|`.dumps()`|Retorna a serialização do objeto|\n",
    "|`.loads()`|Retorna o objeto construído a partir de sua serialização|\n",
    "|`.dump()` |Serializa e salva em arquivo|\n",
    "|`.load()` |Carrega a partir de arquivo|"
   ]
  },
  {
   "cell_type": "markdown",
   "metadata": {},
   "source": [
    "**Exemplo**  \n",
    "- Estrutura com dados de exemplo:\n",
    "\n",
    "```python\n",
    "data = [{\n",
    "    'Title': 'Sandman',\n",
    "    'Author': 'Nail Gaiman'\n",
    "    },\n",
    "    {'Title': 'Watchmen',\n",
    "    'Author': 'Alan Moore'}\n",
    "    ]\n",
    "print(data)\n",
    "```"
   ]
  },
  {
   "cell_type": "code",
   "execution_count": null,
   "metadata": {},
   "outputs": [],
   "source": []
  },
  {
   "cell_type": "markdown",
   "metadata": {},
   "source": [
    "É possível observar os dados serializados. O `b` no início indica que os dados estão em formato binário.\n",
    "```python\n",
    "print(pickle.dumps(data))\n",
    "```"
   ]
  },
  {
   "cell_type": "code",
   "execution_count": null,
   "metadata": {},
   "outputs": [],
   "source": []
  },
  {
   "cell_type": "markdown",
   "metadata": {},
   "source": [
    "```python\n",
    "with open('dados.bin', 'wb') as arq:\n",
    "    pickle.dump(data, arq)\n",
    "```"
   ]
  },
  {
   "cell_type": "code",
   "execution_count": null,
   "metadata": {},
   "outputs": [],
   "source": []
  },
  {
   "cell_type": "markdown",
   "metadata": {},
   "source": [
    "```python\n",
    "with open('dados.bin','rb') as arq:\n",
    "    livros = pickle.load(arq)\n",
    "\n",
    "print(livros)\n",
    "```"
   ]
  },
  {
   "cell_type": "code",
   "execution_count": null,
   "metadata": {},
   "outputs": [],
   "source": []
  },
  {
   "cell_type": "markdown",
   "metadata": {},
   "source": [
    "## Referências\n",
    "\n",
    "**Outros materiais**  \n",
    "[PYTHON. Pickle - Serialização de objetos Python](https://docs.python.org/pt-br/3.7/library/pickle.html#module-pickle)  \n"
   ]
  },
  {
   "cell_type": "markdown",
   "metadata": {},
   "source": [
    " "
   ]
  }
 ],
 "metadata": {
  "kernelspec": {
   "display_name": "Python 3 (ipykernel)",
   "language": "python",
   "name": "python3"
  },
  "language_info": {
   "codemirror_mode": {
    "name": "ipython",
    "version": 3
   },
   "file_extension": ".py",
   "mimetype": "text/x-python",
   "name": "python",
   "nbconvert_exporter": "python",
   "pygments_lexer": "ipython3",
   "version": "3.8.10"
  }
 },
 "nbformat": 4,
 "nbformat_minor": 4
}
