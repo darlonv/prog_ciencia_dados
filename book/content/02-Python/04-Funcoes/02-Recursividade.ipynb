{
 "cells": [
  {
   "cell_type": "markdown",
   "metadata": {},
   "source": [
    "# Recursividade"
   ]
  },
  {
   "cell_type": "markdown",
   "metadata": {},
   "source": [
    "Diz-se que uma função que aplica a recursividade é uma **função recursiva**. A principal característica de uma função recursiva é que ela chama a si própria durante sua execução."
   ]
  },
  {
   "cell_type": "markdown",
   "metadata": {},
   "source": [
    "**Exemplo**\n",
    "\n",
    "Considere a função abaixo, que apresenta números em ordem crescente:\n",
    "\n",
    "```python\n",
    "def contar(n):\n",
    "    for i in range(n):\n",
    "        print(i)\n",
    "contar(5)\n",
    "```\n",
    "\n"
   ]
  },
  {
   "cell_type": "code",
   "execution_count": null,
   "metadata": {},
   "outputs": [],
   "source": []
  },
  {
   "cell_type": "markdown",
   "metadata": {},
   "source": [
    "É possível implementar essa mesma função de maneira recursiva:\n",
    "\n",
    "**Exemplo**\n",
    "\n",
    "```python\n",
    "def contarRec(n, i=0):\n",
    "    if i<n:\n",
    "        print(i)\n",
    "        contarRec(n,i+1)\n",
    "contarRec(5)\n",
    "```"
   ]
  },
  {
   "cell_type": "code",
   "execution_count": null,
   "metadata": {},
   "outputs": [],
   "source": []
  },
  {
   "cell_type": "markdown",
   "metadata": {},
   "source": [
    "Observe na função recursiva que *não existe* propriamente uma estrutura de repetição, como na função apresentada anteriormente."
   ]
  },
  {
   "cell_type": "markdown",
   "metadata": {},
   "source": [
    "## Critério de parada\n",
    "Uma das características da recursividade é a presença de um **critério de parada**, que controla quando a função deve parar. Sem esse recurso, a função continua sua execução indefinidamente. No exemplo do contador, a estrutura `if` define que a recursividade deve ocorrer apenas enquanto `i<n`."
   ]
  },
  {
   "cell_type": "markdown",
   "metadata": {},
   "source": [
    "### Iterações\n",
    "Normalmente, uma função recursiva equivale a uma estrutura de repetição, onde as cada chamada à função corresponde a uma iteração da estrutura de repetição.  \n",
    "\n",
    "O uso de estruturas de recursão é limitado devido à pilha de chamadas de função. A pilha de chamadas é uma estrutura do sistema operacional que controla as chamadas às funções, e a cada chamada de função um elemento da pilha é adicionado.\n",
    "\n",
    "A região de memória em que se encontra a pilha é limitada, e ao requisitar mais memória que o possível, a estrutura entra em um estado de erro. A este tipo de erro dá-se o nome de **estouro de pilha**.\n"
   ]
  },
  {
   "cell_type": "markdown",
   "metadata": {},
   "source": [
    "**Exemplo**\n",
    "\n",
    "Considere as duas funções abaixo, sem e com recursividade. Ambas realizam a soma da sequência de valores de 1 a $n$.\n",
    "\n",
    "```python\n",
    "#Função sem uso de recursão\n",
    "def soma(n):\n",
    "    s=0\n",
    "    for i in range(n+1):\n",
    "        s+=i\n",
    "    print('Soma:', s)\n",
    "```\n",
    "\n",
    "```python\n",
    "#Função com uso de recursão\n",
    "def somaRec(n,i=0,s=0):\n",
    "    if i<=n:\n",
    "        somaRec(n,i+1,s+i)\n",
    "    else:\n",
    "        print('SomaRec:',s)\n",
    "```\n",
    "\n",
    "Execute as funções, passando para $n$ os valores abaixo, observando os valores máximos que cada função suporta.\n",
    "- 5\n",
    "- $10^2$(cem)\n",
    "- $10^3$ (mil)\n",
    "- $10^5$ (dez mil)\n",
    "- $10^6$ (1 milhão)\n",
    "- $10^9$ (1 bilhão)\n",
    "\n",
    "\n",
    "```python\n",
    "x = 5\n",
    "print('x:', x)\n",
    "soma(x)\n",
    "somaRec(x)\n",
    "```"
   ]
  },
  {
   "cell_type": "code",
   "execution_count": null,
   "metadata": {},
   "outputs": [],
   "source": []
  },
  {
   "cell_type": "code",
   "execution_count": null,
   "metadata": {},
   "outputs": [],
   "source": []
  },
  {
   "cell_type": "code",
   "execution_count": null,
   "metadata": {},
   "outputs": [],
   "source": []
  },
  {
   "cell_type": "code",
   "execution_count": null,
   "metadata": {},
   "outputs": [],
   "source": []
  },
  {
   "cell_type": "code",
   "execution_count": null,
   "metadata": {},
   "outputs": [],
   "source": []
  },
  {
   "cell_type": "markdown",
   "metadata": {},
   "source": [
    "**Atividades**\n",
    "\n",
    "- Implemente uma função que calcula a potência de um número. $y = b^e$, onde $b$ e $e$ correspondem à base e ao expoente, respectivamente. Utilize recursividade.\n",
    "- Implemente a soma dos valores da sequência de 1 a $n$, utilizando apenas duas variáveis como parâmetro. Implemente utilizando recursividade."
   ]
  },
  {
   "cell_type": "code",
   "execution_count": null,
   "metadata": {},
   "outputs": [],
   "source": []
  },
  {
   "cell_type": "code",
   "execution_count": null,
   "metadata": {},
   "outputs": [],
   "source": []
  },
  {
   "cell_type": "code",
   "execution_count": null,
   "metadata": {},
   "outputs": [],
   "source": []
  },
  {
   "cell_type": "code",
   "execution_count": null,
   "metadata": {},
   "outputs": [],
   "source": []
  }
 ],
 "metadata": {
  "kernelspec": {
   "display_name": "Python 3 (ipykernel)",
   "language": "python",
   "name": "python3"
  },
  "language_info": {
   "codemirror_mode": {
    "name": "ipython",
    "version": 3
   },
   "file_extension": ".py",
   "mimetype": "text/x-python",
   "name": "python",
   "nbconvert_exporter": "python",
   "pygments_lexer": "ipython3",
   "version": "3.8.10"
  }
 },
 "nbformat": 4,
 "nbformat_minor": 4
}
