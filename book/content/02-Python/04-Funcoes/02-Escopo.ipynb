{
 "cells": [
  {
   "cell_type": "markdown",
   "metadata": {},
   "source": [
    "# Escopo de variáveis"
   ]
  },
  {
   "cell_type": "markdown",
   "metadata": {},
   "source": [
    "É chamado de **escopo** ao espaço onde onde uma variável pode ser utilizada. Comumente, o escopo pode ser **local** ou **global**.\n",
    "\n",
    "**Exemplo**  \n",
    "- Variável local, só existe dentro da função.\n",
    "\n",
    "```python\n",
    "def mostra_local(v): #variável v dentro da função\n",
    "    print('valor: ', v) #variável v existe dentro da função\n",
    "```\n",
    "```python\n",
    "mostra_local(5) #Valor será passado à variável v\n",
    "print(v)  #ERRO. A variável v não existe fora da função\n",
    "```"
   ]
  },
  {
   "cell_type": "code",
   "execution_count": null,
   "metadata": {},
   "outputs": [],
   "source": []
  },
  {
   "cell_type": "markdown",
   "metadata": {},
   "source": [
    "**Exemplo** \n",
    "- Variável global, existe fora da função e função a acessa.\n",
    " \n",
    " ```python\n",
    "def mostra_valor_global():\n",
    "   #variável g existe fora da função\n",
    "    print('valor: ', g) \n",
    "```\n",
    "```python\n",
    "g = 10\n",
    "mostra_valor_global()\n",
    "print(g) #OK. Variável g existe fora da função\n",
    "```\n"
   ]
  },
  {
   "cell_type": "code",
   "execution_count": null,
   "metadata": {},
   "outputs": [],
   "source": []
  },
  {
   "cell_type": "code",
   "execution_count": null,
   "metadata": {},
   "outputs": [],
   "source": []
  },
  {
   "cell_type": "markdown",
   "metadata": {},
   "source": [
    "**Exemplo**\n",
    "\n",
    "- Variável global existe, e função modifica o valor dela.\n",
    "\n",
    "```python\n",
    "def tenta_alterar_global():\n",
    "    h=5\n",
    "    #variável h existe fora e dentro da função\n",
    "    print('valor: ', h) \n",
    "```\n",
    "```python\n",
    "h = 20\n",
    "tenta_alterar_global()\n",
    "print(h) #OK. Variável g existe fora da função\n",
    "```\n",
    ">**Observação**  \n",
    ">\n",
    ">O valor original da variável global não foi alterado. Neste caso, uma variável local foi criada dentro da função, e a variável global foi mantida."
   ]
  },
  {
   "cell_type": "code",
   "execution_count": null,
   "metadata": {},
   "outputs": [],
   "source": []
  },
  {
   "cell_type": "markdown",
   "metadata": {},
   "source": [
    "**Exemplo**\n",
    "\n",
    "- Variável global existe, e função modifica o valor dela.\n",
    "\n",
    "```python\n",
    "def altera_global():\n",
    "    global i #identifica que a variável é global\n",
    "    i=5 #altera o valor da variável global\n",
    "    print('valor: ', i) \n",
    "```\n",
    "```python\n",
    "i = 20\n",
    "print('Antes da função:',i) #OK. Variável i com valor original\n",
    "altera_global() #chamada da função\n",
    "print('Após função:',i) #OK. Variável i foi alterada dentro da função\n",
    "```"
   ]
  },
  {
   "cell_type": "code",
   "execution_count": null,
   "metadata": {},
   "outputs": [],
   "source": []
  },
  {
   "cell_type": "markdown",
   "metadata": {},
   "source": [
    " **Exemplo**\n",
    "\n",
    "- Variável global não existe e função tenta utilizar o valor dela, resultando em erro.\n",
    ":\n",
    "```python\n",
    "def mostra_global_ne():\n",
    "    global j\n",
    "    print('valor: ', j) #ERRO. Variável global não existe\n",
    "```\n",
    "```python\n",
    "mostra_global_ne() #chamada da função\n",
    "```"
   ]
  },
  {
   "cell_type": "code",
   "execution_count": null,
   "metadata": {},
   "outputs": [],
   "source": []
  },
  {
   "cell_type": "markdown",
   "metadata": {},
   "source": [
    "## Parâmetros"
   ]
  },
  {
   "cell_type": "markdown",
   "metadata": {},
   "source": [
    "### Parâmetros por posição\n",
    "\n",
    "Os **parâmetros** de uma função são os dados de entrada para a função. Cada parâmetro corresponde a uma declaração de variável que será utilizada dentro do código da função.\n",
    "\n",
    " **Exemplo**\n",
    " \n",
    "```python\n",
    "def soma(a, b):\n",
    "    c = a+b\n",
    "    return c\n",
    "```\n",
    "```python\n",
    "x=soma(5,7)\n",
    "print(x)\n",
    "```\n",
    "```python\n",
    "y=soma(2,3)\n",
    "print(y)\n",
    "```\n",
    "```python\n",
    "z=soma(0,0)\n",
    "print(z)\n",
    "```  \n",
    ">**Observação**  \n",
    ">\n",
    ">A **ordem** em que os parâmetros são declarados é a mesma ordem em que eles são chamados. `a` corresponde à primeira variável e `b` à segunda. Ao chamar `soma(5,7)`, `a=5` e `b=7`. Observe que o resultado da função (`return`) é o que será armazenado na variável `x`, dado que `x=soma(5,7)`.\n"
   ]
  },
  {
   "cell_type": "code",
   "execution_count": null,
   "metadata": {},
   "outputs": [],
   "source": []
  },
  {
   "cell_type": "markdown",
   "metadata": {},
   "source": [
    "**Atividades**\n",
    "\n",
    "1. Implememente a função `addMul`, que retorna o valor da operação $$a+b+c+a*b*c$$\n",
    "\n",
    "1. Implemente a função `par`, que retorna `True` caso o valor da entrada seja par, e `False` caso seja ímpar.\n",
    "\n",
    "1. Implemente uma função chamada `segToMin` que recebe um valor que coresponde a uma quantidade de segundos, e mostre na tela a quantidade de minutos e segundos correspondente à entrada.\n",
    "\n",
    "**Exemplo**  \n",
    " \n",
    "- Entrada:\n",
    "```\n",
    "132\n",
    "```  \n",
    "- Saída:  \n",
    "```\n",
    "2 minutos e 12 segundos.  \n",
    "```\n"
   ]
  },
  {
   "cell_type": "code",
   "execution_count": null,
   "metadata": {},
   "outputs": [],
   "source": []
  },
  {
   "cell_type": "markdown",
   "metadata": {},
   "source": [
    "### Parâmetros por nome\n",
    "\n",
    "Em Python, podemos identificar os parâmetros por nome, de maneira que a ordem que serão chamados não influencia o cálculo.\n",
    "\n",
    "**Exemplo**\n",
    " \n",
    "```py\n",
    "def imc(peso, altura):\n",
    "    return peso/altura**2\n",
    "p, a = 90, 1.85\n",
    "print(imc(p,a)) #ordem correta\n",
    "print(imc(a,p)) #ordem errada\n",
    "```\n",
    "\n",
    "Para tal, pode-se informar de maneira explícita quais serão os valores de cada parâmetro no momento da chamada da função.\n",
    "```py\n",
    "print(imc(peso=p, altura=a)) #ordem não importa\n",
    "print(imc(altura=a, peso=p)) #ordem não importa\n",
    "```\n",
    "\n",
    "Desta forma, identificando os parâmetros, a ordem em que eles são passados não interfere no cálculo da função."
   ]
  },
  {
   "cell_type": "code",
   "execution_count": null,
   "metadata": {},
   "outputs": [],
   "source": []
  },
  {
   "cell_type": "markdown",
   "metadata": {},
   "source": [
    "### Valores padrão para argumentos\n",
    "\n",
    "Omitir um argumento na chamada de uma função ocasiona em um erro:\n",
    "\n",
    "**Exemplo**\n",
    "\n",
    "```py\n",
    "def contar(val):\n",
    "    for i in range(1,val+1):\n",
    "        print(i)\n",
    "contar(5) #OK\n",
    "contar()  #ERRO. A função precisa de um valor de entrada\n",
    "```\n",
    "\n",
    "Para isso, pode-se definir um valor padrão, informando à função qual valor utilizar quando aquele valor não for informado.\n",
    "```py\n",
    "def contar(val=10):\n",
    "    for i in range(1,val+1):\n",
    "        print(i)\n",
    "contar(5) #ok\n",
    "contar()  #ok, utilizará o valor padrão\n",
    "```"
   ]
  },
  {
   "cell_type": "code",
   "execution_count": null,
   "metadata": {},
   "outputs": [],
   "source": []
  },
  {
   "cell_type": "markdown",
   "metadata": {},
   "source": [
    "## Referências\n",
    "\n",
    "[The Python software foundation. Compound statments: function definition. Python 3.8.5 documentation](https://docs.python.org/3/reference/compound_stmts.html#function-definitions)  \n",
    "\n",
    "\n",
    "**Outros materiais**\n",
    "\n",
    "[REIS, G. Funções em Python: entendendo parâmetros, argumentos, args e kwargs. Medium, 2019](https://medium.com/luizalabs/fun%C3%A7%C3%B5es-em-python-entendendo-par%C3%A2metros-argumentos-args-e-kwargs-4291b1f817f6)  \n",
    "\n"
   ]
  },
  {
   "cell_type": "markdown",
   "metadata": {},
   "source": [
    " "
   ]
  }
 ],
 "metadata": {
  "kernelspec": {
   "display_name": "Python 3",
   "language": "python",
   "name": "python3"
  },
  "language_info": {
   "codemirror_mode": {
    "name": "ipython",
    "version": 3
   },
   "file_extension": ".py",
   "mimetype": "text/x-python",
   "name": "python",
   "nbconvert_exporter": "python",
   "pygments_lexer": "ipython3",
   "version": "3.6.8"
  }
 },
 "nbformat": 4,
 "nbformat_minor": 4
}
