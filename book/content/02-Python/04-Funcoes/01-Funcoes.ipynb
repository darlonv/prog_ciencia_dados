{
 "cells": [
  {
   "cell_type": "markdown",
   "metadata": {},
   "source": [
    "# Funções"
   ]
  },
  {
   "cell_type": "markdown",
   "metadata": {},
   "source": [
    "**Funções** são trechos de código definidos em um região específica, e podem ser **chamados** de acordo com a necessidade. Dentre as principais vantagens, aqui destacamos:\n",
    "- Possibilidade de codificação uma única vez para trechos que se repetem. Isto também possibilita o **reaproveitamento de código**.\n",
    "- Organização do código, com seções especializadas em determinadas funcionalidades."
   ]
  },
  {
   "cell_type": "markdown",
   "metadata": {},
   "source": [
    "**Exemplo**\n",
    "- Desenvolva uma aplicação que mostra uma mensagem de bom dia.\n",
    "    - Sem o uso de função:\n",
    "    ```python\n",
    "    print('Bom dia')\n",
    "    ```\n",
    "    - Com o uso de função:\n",
    "    ```python\n",
    "    def bomdia():\n",
    "        print('Bom dia')\n",
    "    ```\n",
    "    ```python\n",
    "    bomdia()\n",
    "    ```\n",
    "    \n",
    "Observe que foi definido um trecho de código com o procedimento, que inicia com a palavra reservada `def`. Os procedimentos são identificados por um **nome**, neste caso `bomdia`. Com isto, sempre que nome do procedimento for invocado, o trecho de código definido será executado.\n",
    "\n",
    "**Atividade**\n",
    "- Execute o exemplo, com e sem o uso de procedimentos."
   ]
  },
  {
   "cell_type": "code",
   "execution_count": null,
   "metadata": {},
   "outputs": [],
   "source": []
  },
  {
   "cell_type": "markdown",
   "metadata": {},
   "source": [
    "Com isto, trechos de código podem ser reaproveitados. A rotina é programada uma única vez, e pode ser chamada diversas vezes.\n",
    "\n",
    "**Exemplo**\n",
    "\n",
    "```python\n",
    "def bomdia():\n",
    "    print('Bom dia')\n",
    "```\n",
    "```python\n",
    "bomdia()\n",
    "bomdia()\n",
    "bomdia()\n",
    "```\n",
    "\n",
    "**Atividade**  \n",
    "\n",
    "- Execute o exemplo."
   ]
  },
  {
   "cell_type": "code",
   "execution_count": null,
   "metadata": {},
   "outputs": [],
   "source": []
  },
  {
   "cell_type": "markdown",
   "metadata": {},
   "source": [
    "Agora, adicionaremos uma entrada à nossa função. A entrada de uma função é dita ser um **parâmetro**, contendo uma variável que terá seu valor alterado durante a execução da função.\n",
    "\n",
    "**Exemplo**  \n",
    "- Desenvolva uma função que mostra bom dia, junto com o nome de usuário na tela.\n",
    "\n",
    "```python\n",
    "def hello_user(user):\n",
    "    print('Bom dia,', user)\n",
    "```\n",
    "```python\n",
    "hello_user('Celso')\n",
    "hello_user('Cesar')\n",
    "hello_user('Jonas')\n",
    "```\n",
    "\n",
    "Ou seja, o código da função é repetido, e o valor passado para a variável `user` no momento da chamada da função é utilizado durante a execução. A função `print()` é chamada apenas dentro da função `hello_user`.\n",
    "\n",
    "**Atividade**\n",
    "\n",
    "- Execute o exemplo"
   ]
  },
  {
   "cell_type": "code",
   "execution_count": null,
   "metadata": {},
   "outputs": [],
   "source": []
  },
  {
   "cell_type": "markdown",
   "metadata": {},
   "source": [
    "## Retorno"
   ]
  },
  {
   "cell_type": "markdown",
   "metadata": {},
   "source": [
    "Ao invés de apenas mostrar o resultado na tela, uma função também pode retornar um valor para onde foi chamada.\n",
    "\n",
    "**Exemplo**\n",
    "\n",
    "- Considere a função que calcula o quadrado de um número:\n",
    "    - Sem retorno de valor:\n",
    "    ```python\n",
    "    def quadrado(valor):\n",
    "        quad = valor*valor\n",
    "        print(quad)\n",
    "    ```\n",
    "    ```python\n",
    "    quadrado(5)\n",
    "    quadrado(15)\n",
    "    quadrado(7)\n",
    "    ```\n",
    "    - Com retorno de valor:\n",
    "    ```python\n",
    "    def quadrado_retorno(valor):\n",
    "        quad = valor*valor\n",
    "        return quad\n",
    "    ```\n",
    "    ```python\n",
    "    q = quadrado_retorno(5)\n",
    "    print(q)\n",
    "    q = quadrado_retorno(15)\n",
    "    print(q)\n",
    "    q = quadrado_retorno(7)\n",
    "    print(q)\n",
    "    ```\n",
    "    \n",
    "No primeiro caso, a função sem retorno apresenta o resultado diretamente. Na função com retorno, um valor é retornado e armazenado em uma variável.\n",
    "\n",
    "**Atividade**\n",
    "- Execute os exemplos, com e sem retorno de valores"
   ]
  },
  {
   "cell_type": "code",
   "execution_count": null,
   "metadata": {},
   "outputs": [],
   "source": []
  },
  {
   "cell_type": "markdown",
   "metadata": {},
   "source": [
    "Em Python, para definir procedimentos e funções utilizamos a palavra reservada `def`. Ao trecho em que codificamos a função chamamos de **declaração da função**, composto por **cabeçalho** e **código** da função. O cabeçalho possui as especificações de como a função deve ser chamada, e o código corresponde a o que será executado quando a função for chamada.\n",
    "\n",
    "**Sintaxe**\n",
    "\n",
    "``` py\n",
    "def <nome da função>(parâmetros):\n",
    "    código\n",
    "    return <valor>\n",
    "```\n",
    "Observe:\n",
    "- Cabeçalho da função:\n",
    "    - Inicia com `def`\n",
    "    - `<nome>` corresponde a uma palavra que será utilizada para chamar a função\n",
    "    - `(parâmetros)` após o nome\n",
    "        - O uso de parâmetros é opcional. Caso não haja parâmetros, basta deixar vazio `()`\n",
    "    - `:` \n",
    "- Código da função:\n",
    "    - Código que será executado quando a função for chamada.\n",
    "    - `<tab>` para definição do escopo da função.\n",
    "    - `return` seguido é o valor que será retornado à variável\n",
    "        - O retorno não é obrigatório."
   ]
  },
  {
   "cell_type": "code",
   "execution_count": null,
   "metadata": {},
   "outputs": [],
   "source": []
  },
  {
   "cell_type": "markdown",
   "metadata": {},
   "source": [
    "Como Python permite atribuição múltipla, isso também pode ser aplicado ao retorno de funções.\n",
    "\n",
    "**Exemplo**  \n",
    "\n",
    "```python\n",
    "def dois_e_Dez():\n",
    "    x=2\n",
    "    y=10\n",
    "    return x,y\n",
    "\n",
    "a,b = dois_e_Dez()\n",
    "print('a:', a)\n",
    "print('b:', b)\n",
    "```"
   ]
  },
  {
   "cell_type": "code",
   "execution_count": null,
   "metadata": {},
   "outputs": [],
   "source": []
  },
  {
   "cell_type": "markdown",
   "metadata": {},
   "source": [
    "## Parâmetros"
   ]
  },
  {
   "cell_type": "markdown",
   "metadata": {},
   "source": [
    "### Parâmetros por posição\n",
    "\n",
    "Os **parâmetros** de uma função são os dados de entrada para a função. Cada parâmetro corresponde a uma declaração de variável que será utilizada dentro do código da função.\n",
    "\n",
    " **Exemplo**\n",
    " \n",
    "```python\n",
    "def soma(a, b):\n",
    "    c = a+b\n",
    "    return c\n",
    "```\n",
    "```python\n",
    "x=soma(5,7)\n",
    "print(x)\n",
    "```\n",
    "```python\n",
    "y=soma(2,3)\n",
    "print(y)\n",
    "```\n",
    "```python\n",
    "z=soma(0,0)\n",
    "print(z)\n",
    "```  \n",
    ">**Observação**  \n",
    ">\n",
    ">A **ordem** em que os parâmetros são declarados é a mesma ordem em que eles são chamados. `a` corresponde à primeira variável e `b` à segunda. Ao chamar `soma(5,7)`, `a=5` e `b=7`. Observe que o resultado da função (`return`) é o que será armazenado na variável `x`, dado que `x=soma(5,7)`.\n"
   ]
  },
  {
   "cell_type": "code",
   "execution_count": null,
   "metadata": {},
   "outputs": [],
   "source": []
  },
  {
   "cell_type": "markdown",
   "metadata": {},
   "source": [
    "**Atividades**\n",
    "\n",
    "1. Implememente a função `addMul`, que retorna o valor da operação $$a+b+c+a*b*c$$\n",
    "\n",
    "1. Implemente a função `par`, que retorna `True` caso o valor da entrada seja par, e `False` caso seja ímpar.\n",
    "\n",
    "1. Implemente uma função chamada `segToMin` que recebe um valor que coresponde a uma quantidade de segundos, e mostre na tela a quantidade de minutos e segundos correspondente à entrada.\n",
    "\n",
    "**Exemplo**  \n",
    " \n",
    "- Entrada:\n",
    "```\n",
    "132\n",
    "```  \n",
    "- Saída:  \n",
    "```\n",
    "2 minutos e 12 segundos.  \n",
    "```\n"
   ]
  },
  {
   "cell_type": "code",
   "execution_count": null,
   "metadata": {},
   "outputs": [],
   "source": []
  },
  {
   "cell_type": "markdown",
   "metadata": {},
   "source": [
    "### Parâmetros por nome\n",
    "\n",
    "Em Python, podemos identificar os parâmetros por nome, de maneira que a ordem que serão chamados não influencia o cálculo.\n",
    "\n",
    "**Exemplo**\n",
    " \n",
    "```py\n",
    "def imc(peso, altura):\n",
    "    return peso/altura**2\n",
    "p, a = 90, 1.85\n",
    "print(imc(p,a)) #ordem correta\n",
    "print(imc(a,p)) #ordem errada\n",
    "```\n",
    "\n",
    "Para tal, pode-se informar de maneira explícita quais serão os valores de cada parâmetro no momento da chamada da função.\n",
    "```py\n",
    "print(imc(peso=p, altura=a)) #ordem não importa\n",
    "print(imc(altura=a, peso=p)) #ordem não importa\n",
    "```\n",
    "\n",
    "Desta forma, identificando os parâmetros, a ordem em que eles são passados não interfere no cálculo da função."
   ]
  },
  {
   "cell_type": "code",
   "execution_count": null,
   "metadata": {},
   "outputs": [],
   "source": []
  },
  {
   "cell_type": "markdown",
   "metadata": {},
   "source": [
    "### Valores padrão para argumentos\n",
    "\n",
    "Omitir um argumento na chamada de uma função ocasiona em um erro:\n",
    "\n",
    "**Exemplo**\n",
    "\n",
    "```py\n",
    "def contar(val):\n",
    "    for i in range(1,val+1):\n",
    "        print(i)\n",
    "contar(5) #OK\n",
    "contar()  #ERRO. A função precisa de um valor de entrada\n",
    "```\n",
    "\n",
    "Para isso, pode-se definir um valor padrão, informando à função qual valor utilizar quando aquele valor não for informado.\n",
    "```py\n",
    "def contar(val=10):\n",
    "    for i in range(1,val+1):\n",
    "        print(i)\n",
    "contar(5) #ok\n",
    "contar()  #ok, utilizará o valor padrão\n",
    "```"
   ]
  },
  {
   "cell_type": "code",
   "execution_count": null,
   "metadata": {},
   "outputs": [],
   "source": []
  },
  {
   "cell_type": "markdown",
   "metadata": {},
   "source": [
    "## Referências\n",
    "\n",
    "[The Python software foundation. Compound statments: function definition. Python 3.8.5 documentation](https://docs.python.org/3/reference/compound_stmts.html#function-definitions)  \n",
    "\n",
    "\n",
    "**Outros materiais**\n",
    "\n",
    "[REIS, G. Funções em Python: entendendo parâmetros, argumentos, args e kwargs. Medium, 2019](https://medium.com/luizalabs/fun%C3%A7%C3%B5es-em-python-entendendo-par%C3%A2metros-argumentos-args-e-kwargs-4291b1f817f6)  \n",
    "\n"
   ]
  },
  {
   "cell_type": "markdown",
   "metadata": {},
   "source": [
    " "
   ]
  }
 ],
 "metadata": {
  "kernelspec": {
   "display_name": "Python 3 (ipykernel)",
   "language": "python",
   "name": "python3"
  },
  "language_info": {
   "codemirror_mode": {
    "name": "ipython",
    "version": 3
   },
   "file_extension": ".py",
   "mimetype": "text/x-python",
   "name": "python",
   "nbconvert_exporter": "python",
   "pygments_lexer": "ipython3",
   "version": "3.8.10"
  }
 },
 "nbformat": 4,
 "nbformat_minor": 4
}
