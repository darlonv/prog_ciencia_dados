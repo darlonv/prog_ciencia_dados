{
 "cells": [
  {
   "cell_type": "markdown",
   "metadata": {},
   "source": [
    "# Exercícios\n",
    "Resolva os exercícios abaixo utilizando a linguagem de programação Python, conjuntamente com a estrutura de dados de conjuntos (`set`)."
   ]
  },
  {
   "cell_type": "markdown",
   "metadata": {},
   "source": [
    "**Exercício**"
   ]
  },
  {
   "cell_type": "markdown",
   "metadata": {},
   "source": [
    "Considerando os conjuntos $A$, $B$, $C$ e $D$ definidos abaixo, mostre quais destes conjuntos são iguais.\n",
    "\n",
    "$$\n",
    "A = \\{a, b, −1\\} \\\\\n",
    "B = \\{b, a, −1\\} \\\\\n",
    "C = \\{b, a, b, −1\\} \\\\\n",
    "D = \\{a, −1\\}\n",
    "$$\n",
    "\n",
    "Fonte: Exercício adaptado de [BRAVO, R.](http://www.ic.uff.br/~ueverton/files/aulasFMC/Gabarito%20-%20CONJUNTOS.pdf)."
   ]
  },
  {
   "cell_type": "markdown",
   "metadata": {},
   "source": [
    "**Exercício**"
   ]
  },
  {
   "cell_type": "markdown",
   "metadata": {},
   "source": [
    "Dados os conjuntos  \n",
    "\n",
    "$$\n",
    "A=\\{0,1\\} \\\\\n",
    "B=\\{0,1,2\\} \\\\\n",
    "C=\\{2,3\\} \\\\\n",
    "$$\n",
    "\n",
    "Obtenha o seguinte conjunto $R$:  \n",
    "\n",
    "$$\n",
    "R = (A\\cup B) \\cap (B \\cup C)\n",
    "$$"
   ]
  },
  {
   "cell_type": "code",
   "execution_count": null,
   "metadata": {},
   "outputs": [],
   "source": []
  },
  {
   "cell_type": "markdown",
   "metadata": {},
   "source": [
    "Sejam  \n",
    "\n",
    "$$\n",
    "U = \\{0, 1, 2, 3, 4\\} \\\\\n",
    "A = \\{0, 4\\} \\\\\n",
    "B = \\{0, 1, 2, 3\\} \\\\\n",
    "C = \\{1, 4\\} \\\\\n",
    "D = \\{0, 1\\} \\\\\n",
    "$$\n",
    "\n",
    "Determine os seguintes conjuntos:  \n",
    "\n",
    "$$\n",
    "F= A \\cup B \\\\\n",
    "G= B \\cap C \\\\\n",
    "H= A \\cap B \\\\\n",
    "I= A \\cup (B \\cap C) \\\\\n",
    "J= (A \\cup B) \\cap (A \\cup C) \\\\\n",
    "K= A \\cup (B \\cap C \\cap D)\n",
    "$$\n",
    "\n",
    "\n",
    "Fonte: Exercício adaptado de [BRAVO, R.](http://www.ic.uff.br/~ueverton/files/aulasFMC/Gabarito%20-%20CONJUNTOS.pdf)."
   ]
  },
  {
   "cell_type": "code",
   "execution_count": null,
   "metadata": {},
   "outputs": [],
   "source": []
  },
  {
   "cell_type": "markdown",
   "metadata": {},
   "source": [
    "**Exercício**"
   ]
  },
  {
   "cell_type": "markdown",
   "metadata": {},
   "source": [
    "Dados os conjuntos  \n",
    "\n",
    "$$\n",
    "A=\\{ 0, 1, 2, 3, 4, 5 \\}\\\\\n",
    "B=\\{ 4, 5, 6, 7 \\}\\\\\n",
    "C=\\{ 4, 5, 6, 8 \\}\n",
    "$$\n",
    "\n",
    "Obtenha $R$, tal que:  \n",
    "\n",
    "$$\n",
    "R = (A -C) \\cap ( B - C )\n",
    "$$\n"
   ]
  },
  {
   "cell_type": "code",
   "execution_count": null,
   "metadata": {},
   "outputs": [],
   "source": []
  },
  {
   "cell_type": "markdown",
   "metadata": {},
   "source": [
    "**Exercício**"
   ]
  },
  {
   "cell_type": "markdown",
   "metadata": {},
   "source": [
    "Dados os conjuntos  \n",
    "\n",
    "$$\n",
    "C = \\{15,25,30,35\\}\\\\\n",
    "D = \\{15, 25,40,50\\}\n",
    "$$\n",
    "\n",
    "obtenha $F$, tal que:  \n",
    "\n",
    "$$\n",
    "F = C \\cup D\n",
    "$$"
   ]
  },
  {
   "cell_type": "code",
   "execution_count": null,
   "metadata": {},
   "outputs": [],
   "source": []
  },
  {
   "cell_type": "markdown",
   "metadata": {},
   "source": [
    "**Exercício**"
   ]
  },
  {
   "cell_type": "markdown",
   "metadata": {},
   "source": [
    "Considerando os conjuntos abaixos, definidos sobre os intervalos nos números inteiros:\n",
    "\n",
    "$$\n",
    "A = ]-2,3]\\\\\n",
    "B = [0,6]\n",
    "$$\n",
    "\n",
    "quais são os elementos de $B-A$?"
   ]
  },
  {
   "cell_type": "code",
   "execution_count": null,
   "metadata": {},
   "outputs": [],
   "source": []
  },
  {
   "cell_type": "markdown",
   "metadata": {},
   "source": [
    "**Exercício**"
   ]
  },
  {
   "cell_type": "markdown",
   "metadata": {},
   "source": [
    "Faça uma função chamada `countar_unicos`, que possui como entrada uma lista de qualquer tipo de elemento básico (`float`, `int`, ou `bool`). A função deve retornar duas listas, uma contendo os elementos da entrada sem repetir elementos, e outra lista contendo a quantidade de vezes que cada elemento aparece na lista de entrada. Não é necessário que a lista de elementos na saída esteja ordenada.\n",
    "\n",
    "**Exemplo**\n",
    "\n",
    "- Entrada\n",
    "```\n",
    "[4, 5, 2, 5, 1, 2, 9, 9, 1, 2, 4, 4, 4, 0, 1]\n",
    "```\n",
    "- Saída\n",
    "```\n",
    "[0, 1, 2, 4, 5, 9]  \n",
    "[1, 3, 3, 4, 2, 2]\n",
    "```"
   ]
  },
  {
   "cell_type": "code",
   "execution_count": null,
   "metadata": {},
   "outputs": [],
   "source": []
  },
  {
   "cell_type": "markdown",
   "metadata": {},
   "source": [
    "**Exercício**"
   ]
  },
  {
   "cell_type": "markdown",
   "metadata": {},
   "source": [
    "Responda às seguintes perguntas:\n",
    "- Se em uma sala há 23 pessoas, qual é a probabilidade de duas pessoas fazerem aniversário no mesmo dia?\n",
    "- Aproximadamente, qual a quantidade mínima de elementos que deve possuir um conjunto de pessoas para que a probabilidade de existir pelo menos duas que façam aniversário no mesmo dia seja de 70%?\n",
    "    \n",
    "Gere um conjunto de datas de nascimento aleatoriamente, e faça a verificação. Utilize a função `contar_unicos` desenvolvida em exercício anterior. Calcule as probabilidades utilizando pelo menos 10000 testes.\n",
    "\n",
    ">**Informações**\n",
    ">\n",
    "> Este exercício é baseado no [paradoxo do aniversário](https://en.wikipedia.org/wiki/Birthday_problem)."
   ]
  },
  {
   "cell_type": "code",
   "execution_count": null,
   "metadata": {},
   "outputs": [],
   "source": []
  },
  {
   "cell_type": "markdown",
   "metadata": {},
   "source": [
    "## Referências\n",
    "\n",
    "[Birthday problem. Wikipedia](https://en.wikipedia.org/wiki/Birthday_problem)  \n",
    "[BRAVO, R. Notas de aula da disciplina Fundamentos Matemáticos para Computação, do curso de Sistemas de Informação. Universidade Federal Fluminense](http://www.ic.uff.br/~ueverton/files/aulasFMC/Gabarito%20-%20CONJUNTOS.pdf).\n",
    "\n",
    "**Outros materiais**\n"
   ]
  },
  {
   "cell_type": "markdown",
   "metadata": {},
   "source": [
    " "
   ]
  }
 ],
 "metadata": {
  "kernelspec": {
   "display_name": "Python 3",
   "language": "python",
   "name": "python3"
  },
  "language_info": {
   "codemirror_mode": {
    "name": "ipython",
    "version": 3
   },
   "file_extension": ".py",
   "mimetype": "text/x-python",
   "name": "python",
   "nbconvert_exporter": "python",
   "pygments_lexer": "ipython3",
   "version": "3.6.8"
  }
 },
 "nbformat": 4,
 "nbformat_minor": 2
}
