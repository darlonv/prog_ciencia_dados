{
 "cells": [
  {
   "cell_type": "markdown",
   "metadata": {},
   "source": [
    "# Exercícios"
   ]
  },
  {
   "cell_type": "markdown",
   "metadata": {},
   "source": [
    ">**Dica**  \n",
    ">Para obter e mostrar um número aleatório $r$ no intervalo de 5 a 10:\n",
    ">```py\n",
    "import random\n",
    "r = random.randrange(5,10+1)\n",
    "print(r)\n",
    "```"
   ]
  },
  {
   "cell_type": "markdown",
   "metadata": {},
   "source": [
    "**Exercício 01**"
   ]
  },
  {
   "cell_type": "markdown",
   "metadata": {},
   "source": [
    "Implemente o clássico **jogo da forca**. Elabore uma base de dados de palavras, e escolha uma aleatoriamente.    \n",
    "Para jogar, peça ao usuário que digite as letras, atualizando o resultado a cada letra digitada. Deve ser mostrado as lacunas (letras ainda não preenchidas, mostradas com um `_` ) a serem preenchidas, o número de tentativas possíveis e as letras já digitadas. O usuário possui um total de $8$ tentativas."
   ]
  },
  {
   "cell_type": "code",
   "execution_count": null,
   "metadata": {},
   "outputs": [],
   "source": []
  },
  {
   "cell_type": "markdown",
   "metadata": {},
   "source": [
    "**Exercício 02**"
   ]
  },
  {
   "cell_type": "markdown",
   "metadata": {},
   "source": [
    "Considere uma prova que possui respostas \"A\", \"B\", \"C\" ou \"D\". Armazene uma lista, que seria correspondente ao gabarito da prova, contendo a resposta correta para cada questão.  \n",
    "Faça um programa que pergunta ao usuário suas respostas na prova, e então responde quantas respostas corretas ele teve, e sua taxa de acerto. Como gabarito, utilize a sequência \"ADCAABDCCB\".\n",
    "\n",
    "**Exemplo**\n",
    ">- Entrada:\n",
    ">```\n",
    "'ADCABBACCB'\n",
    "```\n",
    ">- Saída:\n",
    ">```\n",
    "(8,80.0)\n",
    "```\n",
    "\n",
    ">- Entrada:\n",
    ">```\n",
    "'AAAAAAAAAA'\n",
    "```\n",
    ">- Saída:\n",
    ">```\n",
    "(3, 30.0)\n",
    "```\n",
    "\n",
    ">- Entrada:\n",
    ">```\n",
    "'CBDBBCBAAA'\n",
    "```\n",
    ">- Saída:\n",
    ">```\n",
    "(0, 0.0)\n",
    "```"
   ]
  },
  {
   "cell_type": "code",
   "execution_count": null,
   "metadata": {},
   "outputs": [],
   "source": []
  },
  {
   "cell_type": "markdown",
   "metadata": {},
   "source": [
    "**Exercício 03**"
   ]
  },
  {
   "cell_type": "markdown",
   "metadata": {},
   "source": [
    "Peça ao usuário que digite 10 números. Em seguida, mostre esses números de maneira ordenada, e sem repetição."
   ]
  },
  {
   "cell_type": "code",
   "execution_count": null,
   "metadata": {},
   "outputs": [],
   "source": []
  },
  {
   "cell_type": "markdown",
   "metadata": {},
   "source": [
    "**Exercício 04**"
   ]
  },
  {
   "cell_type": "markdown",
   "metadata": {},
   "source": [
    "Peça ao usuário que digite os valores $a$, $b$ e $c$, que correspondem à equação de segundo grau\n",
    "$$\n",
    "y = ax^2+bx+c\n",
    "$$\n",
    "Em seguida, armazene os valores de $y$ para $x$ de $0$ a $100$, considerando $x$ como números inteiros."
   ]
  },
  {
   "cell_type": "code",
   "execution_count": null,
   "metadata": {},
   "outputs": [],
   "source": []
  },
  {
   "cell_type": "markdown",
   "metadata": {},
   "source": [
    "**Exercício 05**"
   ]
  },
  {
   "cell_type": "markdown",
   "metadata": {},
   "source": [
    "Desenvolva um código que pergunta ao usuário $20$ valores inteiros. Em seguida, apresente:"
   ]
  },
  {
   "cell_type": "markdown",
   "metadata": {},
   "source": [
    "1. o total de números pares;\n",
    "2. quais são os números pares;\n",
    "3. o total de números ímpares;\n",
    "4. quais são os números ímpares;\n",
    "5. o total de números primos;\n",
    "6. quais são os números primos."
   ]
  },
  {
   "cell_type": "code",
   "execution_count": null,
   "metadata": {},
   "outputs": [],
   "source": []
  },
  {
   "cell_type": "markdown",
   "metadata": {},
   "source": [
    "**Exercício 06**"
   ]
  },
  {
   "cell_type": "markdown",
   "metadata": {},
   "source": [
    "Peça ao usuário que digite os valores $a$, $b$, $c$, que correspondem aos coeficientes de uma equação de segundo grau, no formato\n",
    "$$y=ax^2+bx+c$$\n",
    "\n",
    "Em seguida, calcule e mostre todos os valores de $y$, considerando para $x$ os valores de 0 a 20."
   ]
  },
  {
   "cell_type": "code",
   "execution_count": null,
   "metadata": {},
   "outputs": [],
   "source": []
  },
  {
   "cell_type": "markdown",
   "metadata": {},
   "source": [
    "**Exercício 07**"
   ]
  },
  {
   "cell_type": "markdown",
   "metadata": {},
   "source": [
    "Peça ao usuário que digite os coeficientes $c$ de uma equação de grau $n$. Em seguida, calcule e mostre todos os valores de $y$, considerando para $x$ os valores de 0 a 20.\n",
    "\n",
    "Uma equação de grau $n$ posui a seguinte estrutura:\n",
    "\n",
    "$$\n",
    "y = c_0x^n + c_1x^{n-1} + c_2x^{n-2} + ... + c_{n-1}x^1 + c_nx^0\n",
    "$$\n",
    "\n",
    "Considere que utilizar uma entrada vazia indica o final da entrada de coeficientes."
   ]
  },
  {
   "cell_type": "code",
   "execution_count": null,
   "metadata": {},
   "outputs": [],
   "source": []
  },
  {
   "cell_type": "markdown",
   "metadata": {},
   "source": [
    "**Exercício 08**"
   ]
  },
  {
   "cell_type": "markdown",
   "metadata": {},
   "source": [
    "Dada uma seqüência de $n$ números inteiros, determinar qual subconjunto dessa dessa sequência possui o maior valor de soma. Mostre o valor, a sequência e as posições na sequência de entrada.\n",
    "\n",
    "**Exemplo**\n",
    "\n",
    "\n",
    "- Entrada:  \n",
    "```\n",
    "[5, 2, -2, -7, 3, 14, 10, -3, 9, -6, 4, 1]\n",
    "```\n",
    "- Saída:\n",
    "```\n",
    "Soma: 33\n",
    "Posições: 4 a 8\n",
    "Valores: 3, 14, 10, -3, 9\n",
    "```\n"
   ]
  },
  {
   "cell_type": "code",
   "execution_count": null,
   "metadata": {},
   "outputs": [],
   "source": []
  },
  {
   "cell_type": "markdown",
   "metadata": {},
   "source": [
    "**Exercício 09**"
   ]
  },
  {
   "cell_type": "markdown",
   "metadata": {},
   "source": [
    "Implemente uma função que retorna uma lista com $n$ posições. Utilize `float` como tipo de dado. Todos os valores devem ser inicializados com 0."
   ]
  },
  {
   "cell_type": "code",
   "execution_count": null,
   "metadata": {},
   "outputs": [],
   "source": []
  },
  {
   "cell_type": "markdown",
   "metadata": {},
   "source": [
    "**Exercício 10**"
   ]
  },
  {
   "cell_type": "markdown",
   "metadata": {},
   "source": [
    "Implemente uma função que retorna uma lista com $n$ posições. Todos os valores da lista devem ser inicializados com o valor $p$, passado por parâmetro."
   ]
  },
  {
   "cell_type": "code",
   "execution_count": null,
   "metadata": {},
   "outputs": [],
   "source": []
  },
  {
   "cell_type": "markdown",
   "metadata": {},
   "source": [
    "**Exercício 11**"
   ]
  },
  {
   "cell_type": "markdown",
   "metadata": {},
   "source": [
    "Implemente uma função que procura por um valor em uma lista, retornando a posição em que ele se encontra. Retorna `False` caso o valor não seja encontrado."
   ]
  },
  {
   "cell_type": "code",
   "execution_count": null,
   "metadata": {},
   "outputs": [],
   "source": []
  },
  {
   "cell_type": "markdown",
   "metadata": {},
   "source": [
    "**Exercício 12**"
   ]
  },
  {
   "cell_type": "markdown",
   "metadata": {},
   "source": [
    "Implemente uma função que calcula a média dos valores passados em uma lista.\n",
    "\n",
    ">**Observação**  \n",
    ">A média de determinado conjunto de dados é a soma de todas os seus valores, dividida pela quantidade de valores. A letra grega $\\mu$ é comumente utilizada para representar a média.\n",
    ">$$\n",
    "\\mu = \\frac{\\sum\\limits_{i=0}^{n-1}{x_i}}{n}\n",
    "$$\n",
    ">onde:\n",
    "- $\\mu$: média dos valores\n",
    "- $n$: número de valores\n",
    "- $x_i$ valor na i-ésima posição\n",
    "- $\\sum\\limits_{i=0}^{n-1}{x_i}$: soma dos valores de $x$, onde $i$ varia de 0 a $n-1$"
   ]
  },
  {
   "cell_type": "code",
   "execution_count": null,
   "metadata": {},
   "outputs": [],
   "source": []
  },
  {
   "cell_type": "markdown",
   "metadata": {},
   "source": [
    "**Exercício 13**"
   ]
  },
  {
   "cell_type": "markdown",
   "metadata": {},
   "source": [
    "Implemente uma função que calcula o desvio padrão dos valores passados em uma lista.\n",
    "\n",
    ">**Observação**  \n",
    "> O desvio padrão é uma medida que informa quanto os valores de um conjunto estão próximos de sua média. Um conjunto com desvio padrão baixo indica que os valores estão mais perto da média do conjunto, enquanto que um desvio padrão alto indica que os valores estão mais afastados da média.  \n",
    "> \n",
    "> O desvio padrão é representado pela letra grega $\\sigma$ (*sigma*), e seu valor pode ser calculado pela seguinte equação: \n",
    "$$\n",
    "\\sigma = \\sqrt{\\frac{\\sum\\limits_{i=0}^{n-1}{(x_i- \\mu)^2}}{n}}\n",
    "$$\n",
    "onde:\n",
    "- $\\sigma^2$: variância\n",
    "- $n$: número de elementos\n",
    "- $\\mu$: média dos valores\n",
    "- $x_i$: elemento na i-ésima posição\n"
   ]
  },
  {
   "cell_type": "code",
   "execution_count": null,
   "metadata": {},
   "outputs": [],
   "source": []
  },
  {
   "cell_type": "markdown",
   "metadata": {},
   "source": [
    "**Exercício 14**"
   ]
  },
  {
   "cell_type": "markdown",
   "metadata": {},
   "source": [
    "Implemente duas funções retornam os valores de P.A. e P.G., respectivamente. Como entrada, são passados o valor inicial, a razão e o número de elementos da progressão."
   ]
  },
  {
   "cell_type": "code",
   "execution_count": null,
   "metadata": {},
   "outputs": [],
   "source": []
  },
  {
   "cell_type": "markdown",
   "metadata": {},
   "source": [
    "**Exercício 15**"
   ]
  },
  {
   "cell_type": "markdown",
   "metadata": {},
   "source": [
    "Implemente uma função que retorna todos os divisores inteiros de determinado número."
   ]
  },
  {
   "cell_type": "code",
   "execution_count": null,
   "metadata": {},
   "outputs": [],
   "source": []
  },
  {
   "cell_type": "markdown",
   "metadata": {},
   "source": [
    "**Exercício 16**"
   ]
  },
  {
   "cell_type": "markdown",
   "metadata": {},
   "source": [
    "Implemente uma função que retorna todos os números primos em determinado intervalo."
   ]
  },
  {
   "cell_type": "code",
   "execution_count": null,
   "metadata": {},
   "outputs": [],
   "source": []
  },
  {
   "cell_type": "markdown",
   "metadata": {},
   "source": [
    "**Exercício 17**"
   ]
  },
  {
   "cell_type": "markdown",
   "metadata": {},
   "source": [
    "Implemente funções que realizam a adição, subtração e multiplicação de matrizes 3x3 utilizando listas. Utilize `float` como tipo de dado."
   ]
  },
  {
   "cell_type": "code",
   "execution_count": null,
   "metadata": {},
   "outputs": [],
   "source": []
  },
  {
   "cell_type": "markdown",
   "metadata": {},
   "source": [
    "**Exercício 18**"
   ]
  },
  {
   "cell_type": "markdown",
   "metadata": {},
   "source": [
    "Implemente uma função que retorna uma matriz quadrada, de tamanho $n\\times n$, passado como parâmetro para a função. Utilize `float` como tipo de dado. Todos os valores da matriz devem ser inicializados com 0. Utilize listas como matrizes."
   ]
  },
  {
   "cell_type": "code",
   "execution_count": null,
   "metadata": {},
   "outputs": [],
   "source": []
  },
  {
   "cell_type": "markdown",
   "metadata": {},
   "source": [
    "**Exercício 19**"
   ]
  },
  {
   "cell_type": "markdown",
   "metadata": {},
   "source": [
    "Implemente uma função que aloca matrizes de qualquer ordem, utilizando listas. Todos os valores da matriz devem ser inicializados com um valor definido via parâmetro. Caso esse valor seja omitido, 0  deve ser utilizado."
   ]
  },
  {
   "cell_type": "code",
   "execution_count": null,
   "metadata": {},
   "outputs": [],
   "source": []
  },
  {
   "cell_type": "markdown",
   "metadata": {},
   "source": [
    "**Exercício 20**"
   ]
  },
  {
   "cell_type": "markdown",
   "metadata": {},
   "source": [
    "Implemente uma função que aloca e retorna uma matriz identidade de ordem $n$, utilizando listas."
   ]
  },
  {
   "cell_type": "code",
   "execution_count": null,
   "metadata": {},
   "outputs": [],
   "source": []
  },
  {
   "cell_type": "markdown",
   "metadata": {},
   "source": [
    "**Exercício 21**"
   ]
  },
  {
   "cell_type": "markdown",
   "metadata": {},
   "source": [
    "Implemente uma função que mostra na tela o conteúdo de uma matriz com qualquer número de linhas e colunas, com seus elementos separados por espaço."
   ]
  },
  {
   "cell_type": "code",
   "execution_count": null,
   "metadata": {},
   "outputs": [],
   "source": []
  },
  {
   "cell_type": "markdown",
   "metadata": {},
   "source": [
    "**Exercício 22**"
   ]
  },
  {
   "cell_type": "markdown",
   "metadata": {},
   "source": [
    "Implemente uma função que realiza a cópia de duas matrizes."
   ]
  },
  {
   "cell_type": "code",
   "execution_count": null,
   "metadata": {},
   "outputs": [],
   "source": []
  },
  {
   "cell_type": "markdown",
   "metadata": {},
   "source": [
    "**Exercício 23**"
   ]
  },
  {
   "cell_type": "markdown",
   "metadata": {},
   "source": [
    "Implemente uma função que aloca e retorna matrizes de qualquer ordem, preenchendo-a com um valor definido por parâmetro. A ordem da matriz também deve ser passada por parâmetro."
   ]
  },
  {
   "cell_type": "code",
   "execution_count": null,
   "metadata": {},
   "outputs": [],
   "source": []
  },
  {
   "cell_type": "markdown",
   "metadata": {},
   "source": [
    "**Exercício 24**"
   ]
  },
  {
   "cell_type": "markdown",
   "metadata": {},
   "source": [
    "Implemente uma função chamada `comparaListaValor` que retorna uma lista com valores booleanos, tendo como entradas uma lista $m$ e um valor $p$. A lista retornada resulta da comparação de cada valor da lista $m$ com o valor $p$, sendo que a posição na lista booleana deve ser `True` caso o valor armazenado em $m$ seja igual $p$ e `False` caso contrário.\n",
    "\n",
    "**Exemplo**\n",
    "- Entradas:\n",
    "```python\n",
    "m: [1,2,3,4,4,3,2,1]\n",
    "p: 2\n",
    "```\n",
    "- Saída:\n",
    "```python\n",
    "[False, True, False, False, False, False, True, False]\n",
    "```"
   ]
  },
  {
   "cell_type": "code",
   "execution_count": null,
   "metadata": {},
   "outputs": [],
   "source": []
  },
  {
   "cell_type": "markdown",
   "metadata": {},
   "source": [
    "**Exercício 25**"
   ]
  },
  {
   "cell_type": "markdown",
   "metadata": {},
   "source": [
    "Semelhante ao exercício anterior, implemente a função que retorna a lista binária para as posições de $m$ com valores menores que $p$."
   ]
  },
  {
   "cell_type": "code",
   "execution_count": null,
   "metadata": {},
   "outputs": [],
   "source": []
  },
  {
   "cell_type": "markdown",
   "metadata": {},
   "source": [
    "**Exercício 26**"
   ]
  },
  {
   "cell_type": "markdown",
   "metadata": {},
   "source": [
    "Semelhante ao exercício anterior, implemente a função que retorna a lista binária para as posições $m$ com valores maiores que o $p$."
   ]
  },
  {
   "cell_type": "code",
   "execution_count": null,
   "metadata": {},
   "outputs": [],
   "source": []
  },
  {
   "cell_type": "markdown",
   "metadata": {},
   "source": [
    "**Exercício 27**"
   ]
  },
  {
   "cell_type": "markdown",
   "metadata": {},
   "source": [
    "Implemente funções que retornam o maior e menor valor de uma lista com valores `float` ou `int`."
   ]
  },
  {
   "cell_type": "code",
   "execution_count": null,
   "metadata": {},
   "outputs": [],
   "source": []
  },
  {
   "cell_type": "markdown",
   "metadata": {},
   "source": [
    "**Exercício 28**"
   ]
  },
  {
   "cell_type": "markdown",
   "metadata": {},
   "source": [
    "Na matriz de $20 \\times 20$ abaixo, quatro números ao longo de uma linha diagonal foram marcadas em negrito. O produto desses números é $26 \\times 63 \\times 78 \\times 14 = 1788696.$\n",
    "\n",
    "\n",
    "08 02 22 97 38 15 00 40 00 75 04 05 07 78 52 12 50 77 91 08  \n",
    "49 49 99 40 17 81 18 57 60 87 17 40 98 43 69 48 04 56 62 00  \n",
    "81 49 31 73 55 79 14 29 93 71 40 67 53 88 30 03 49 13 36 65  \n",
    "52 70 95 23 04 60 11 42 69 24 68 56 01 32 56 71 37 02 36 91  \n",
    "22 31 16 71 51 67 63 89 41 92 36 54 22 40 40 28 66 33 13 80  \n",
    "24 47 32 60 99 03 45 02 44 75 33 53 78 36 84 20 35 17 12 50  \n",
    "32 98 81 28 64 23 67 10 **26** 38 40 67 59 54 70 66 18 38 64 70  \n",
    "67 26 20 68 02 62 12 20 95 **63** 94 39 63 08 40 91 66 49 94 21  \n",
    "24 55 58 05 66 73 99 26 97 17 **78** 78 96 83 14 88 34 89 63 72  \n",
    "21 36 23 09 75 00 76 44 20 45 35 **14** 00 61 33 97 34 31 33 95  \n",
    "78 17 53 28 22 75 31 67 15 94 03 80 04 62 16 14 09 53 56 92  \n",
    "16 39 05 42 96 35 31 47 55 58 88 24 00 17 54 24 36 29 85 57  \n",
    "86 56 00 48 35 71 89 07 05 44 44 37 44 60 21 58 51 54 17 58  \n",
    "19 80 81 68 05 94 47 69 28 73 92 13 86 52 17 77 04 89 55 40  \n",
    "04 52 08 83 97 35 99 16 07 97 57 32 16 26 26 79 33 27 98 66  \n",
    "88 36 68 87 57 62 20 72 03 46 33 67 46 55 12 32 63 93 53 69  \n",
    "04 42 16 73 38 25 39 11 24 94 72 18 08 46 29 32 40 62 76 36  \n",
    "20 69 36 41 72 30 23 88 34 62 99 69 82 67 59 85 74 04 36 16  \n",
    "20 73 35 29 78 31 90 01 74 31 49 71 48 86 81 16 23 57 05 54  \n",
    "01 70 54 71 83 51 54 69 16 92 33 48 61 43 52 01 89 19 67 48 \n",
    "\n",
    "\n",
    "Qual é o maior produto de quatro números adjacentes em qualquer direção (cima, baixo, esquerda, direita, ou na diagonal) na matriz de 20x20?"
   ]
  },
  {
   "cell_type": "code",
   "execution_count": null,
   "metadata": {},
   "outputs": [],
   "source": []
  },
  {
   "cell_type": "markdown",
   "metadata": {},
   "source": [
    "**Exercício 29**"
   ]
  },
  {
   "cell_type": "markdown",
   "metadata": {},
   "source": [
    "Desenvolva uma função chamada `somaAcumulada`, que possui como entrada uma lista com números e retorna uma lista a soma acumulada dos valores até a i-ésima posição.\n",
    "\n",
    "**Exemplo**\n",
    "\n",
    "- Entrada:\n",
    "```\n",
    "[8, 2, 10, 1]\n",
    "```\n",
    "- Saída:\n",
    "```\n",
    "[8, 10, 20, 21]\n",
    "```\n"
   ]
  },
  {
   "cell_type": "code",
   "execution_count": null,
   "metadata": {},
   "outputs": [],
   "source": []
  },
  {
   "cell_type": "markdown",
   "metadata": {},
   "source": [
    "**Exercício 30**"
   ]
  },
  {
   "cell_type": "markdown",
   "metadata": {},
   "source": [
    "Programe uma funcao chamada `isSorted` que verifica se uma lista com números está ordenada de maneira crescente, retornando `True` ou `False`."
   ]
  },
  {
   "cell_type": "code",
   "execution_count": null,
   "metadata": {},
   "outputs": [],
   "source": []
  },
  {
   "cell_type": "markdown",
   "metadata": {},
   "source": [
    "**Exercício 31**"
   ]
  },
  {
   "cell_type": "markdown",
   "metadata": {},
   "source": [
    "Faça uma função que mostra a maior diferença entre dois elementos consecutivos de uma lista, apresentando também quais são esses valores e suas posições."
   ]
  },
  {
   "cell_type": "code",
   "execution_count": null,
   "metadata": {},
   "outputs": [],
   "source": []
  },
  {
   "cell_type": "markdown",
   "metadata": {},
   "source": [
    "## Referências\n",
    "\n",
    "**Outros materiais**\n"
   ]
  }
 ],
 "metadata": {
  "kernelspec": {
   "display_name": "Python 3 (ipykernel)",
   "language": "python",
   "name": "python3"
  },
  "language_info": {
   "codemirror_mode": {
    "name": "ipython",
    "version": 3
   },
   "file_extension": ".py",
   "mimetype": "text/x-python",
   "name": "python",
   "nbconvert_exporter": "python",
   "pygments_lexer": "ipython3",
   "version": "3.8.10"
  }
 },
 "nbformat": 4,
 "nbformat_minor": 2
}
