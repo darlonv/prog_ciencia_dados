{
 "cells": [
  {
   "cell_type": "markdown",
   "metadata": {},
   "source": [
    "# Exercícios"
   ]
  },
  {
   "cell_type": "markdown",
   "metadata": {},
   "source": [
    "**Exercício**"
   ]
  },
  {
   "cell_type": "markdown",
   "metadata": {},
   "source": [
    "Pergunte o nome do usuário, e mostre o nome na vertical.\n",
    "\n",
    "**Exemplo**:\n",
    "- Entrada:\n",
    "```\n",
    "Celso\n",
    "```\n",
    "- Saída:\n",
    "```\n",
    "C\n",
    "e\n",
    "l\n",
    "s\n",
    "o\n",
    "```"
   ]
  },
  {
   "cell_type": "code",
   "execution_count": null,
   "metadata": {},
   "outputs": [],
   "source": []
  },
  {
   "cell_type": "markdown",
   "metadata": {},
   "source": [
    "**Exercício**"
   ]
  },
  {
   "cell_type": "markdown",
   "metadata": {},
   "source": [
    "Pergunte ao usuário uma frase, e mostre todas as vogais presentes na frase.\n",
    "\n",
    "**Exemplo**\n",
    "- Entrada:\n",
    "```\n",
    "batata e cebola\n",
    "```\n",
    "- Saída:\n",
    "```\n",
    "aeo\n",
    "```"
   ]
  },
  {
   "cell_type": "code",
   "execution_count": null,
   "metadata": {},
   "outputs": [],
   "source": []
  },
  {
   "cell_type": "markdown",
   "metadata": {},
   "source": [
    "**Exercício**"
   ]
  },
  {
   "cell_type": "markdown",
   "metadata": {},
   "source": [
    "Digite um nome, e informe quantas letras possuem nesse nome.\n",
    "\n",
    "**Exemplo**\n",
    "- Entrada:\n",
    "```\n",
    "Alessandra\n",
    "```\n",
    "- Saída:\n",
    "```\n",
    "O nome Alessandra possui 10 letras.\n",
    "```"
   ]
  },
  {
   "cell_type": "code",
   "execution_count": null,
   "metadata": {},
   "outputs": [],
   "source": []
  },
  {
   "cell_type": "markdown",
   "metadata": {},
   "source": [
    "**Exercício**"
   ]
  },
  {
   "cell_type": "markdown",
   "metadata": {},
   "source": [
    "Digite uma frase, e mostre essa frase na ordem inversa (de trás para frente).\n",
    "\n",
    "**Exemplo**\n",
    "- Entrada:\n",
    "```\n",
    "batata e cebola\n",
    "```\n",
    "- Saída:\n",
    "```\n",
    "alobec e atatab\n",
    "```"
   ]
  },
  {
   "cell_type": "code",
   "execution_count": null,
   "metadata": {},
   "outputs": [],
   "source": []
  },
  {
   "cell_type": "markdown",
   "metadata": {},
   "source": [
    "**Exercício**"
   ]
  },
  {
   "cell_type": "markdown",
   "metadata": {},
   "source": [
    "Utilize o texto abaixo para responder aos questionamentos seguintes.\n",
    "> '*Python é uma linguagem de programação de alto nível, interpretada, de script, imperativa, orientada a objetos, funcional, de tipagem dinâmica e forte. Foi lançada por Guido van Rossum em 1991. Atualmente possui um modelo de desenvolvimento comunitário, aberto e gerenciado pela organização sem fins lucrativos Python Software Foundation. Apesar de várias partes da linguagem possuírem padrões e especificações formais, a linguagem como um todo não é formalmente especificada. O padrão de facto é a implementação CPython. O nome Python teve a sua origem no grupo humorístico britânico Monty Python, criador do programa Monty Python's Flying Circus, embora muitas pessoas façam associação com o réptil do mesmo nome.*'  \n",
    "> (Adaptado de [Wikipedia - Python](https://pt.wikipedia.org/wiki/Python))\n"
   ]
  },
  {
   "cell_type": "markdown",
   "metadata": {},
   "source": [
    "Mostre:\n",
    "1. o número total de caracteres.\n",
    "1. quantas vezes cada vogal aparece, desconsiderando letras acentuadas.\n",
    "1. quantas frases existem no texto.\n",
    "1. quantos caracteres possui a maior palavra presente no texto.\n",
    "1. qual é a maior palavra presente no texto\n",
    "1. as palavras que possuem duas letras iguais seguidas\n",
    "1. todas as palavras que iniciam com letras maiúsculas\n",
    "1. todas as palavras que possuem a letra \"p\" (minúscula)."
   ]
  },
  {
   "cell_type": "markdown",
   "metadata": {},
   "source": [
    "Código para entrada, atribuindo texto diretamenta à variável:\n",
    "\n",
    "```python\n",
    "texto = 'Python é uma linguagem de programação de alto nível, interpretada, de script, imperativa, orientada a objetos, funcional, de tipagem dinâmica e forte. Foi lançada por Guido van Rossum em 1991. Atualmente possui um modelo de desenvolvimento comunitário, aberto e gerenciado pela organização sem fins lucrativos Python Software Foundation. Apesar de várias partes da linguagem possuírem padrões e especificações formais, a linguagem como um todo não é formalmente especificada. O padrão de facto é a implementação CPython. O nome Python teve a sua origem no grupo humorístico britânico Monty Python, criador do programa Monty Pythons Flying Circus, embora muitas pessoas façam associação com o réptil do mesmo nome.'\n",
    "```"
   ]
  },
  {
   "cell_type": "code",
   "execution_count": null,
   "metadata": {},
   "outputs": [],
   "source": []
  },
  {
   "cell_type": "markdown",
   "metadata": {},
   "source": [
    "**Exercício**"
   ]
  },
  {
   "cell_type": "markdown",
   "metadata": {},
   "source": [
    "Peça ao usuário que digite uma entrada, e verifique se essa entrada forma um palíndromo, ou seja, se os caracteres da entrada forem invertidos, a entrada permanece idêntica. \n",
    "\n",
    "**Exemplos** \n",
    "\n",
    "- \"A mala nada na lama\"\n",
    "- \"o breve verbo\" e \n",
    "- \"anotaram a data da maratona\"."
   ]
  },
  {
   "cell_type": "code",
   "execution_count": null,
   "metadata": {},
   "outputs": [],
   "source": []
  },
  {
   "cell_type": "markdown",
   "metadata": {},
   "source": [
    "**Exercício**"
   ]
  },
  {
   "cell_type": "markdown",
   "metadata": {},
   "source": [
    "A Cifra de César é uma das mais antigas e conhecidas técnicas de criptografia. Sua técnica consiste na substituição de cada letra do texto por outra, em que a letra é trocada pela letra seguinte no alfabeto com um número fixo. \n",
    "Por exemplo, para a frase **python**, e deslocamento utilizando $3$ letras no alfabeto, o texto cifrado seria **sbwkrq**. Repare que: p->s,y->b,t->w,h->k,o->r e n->q."
   ]
  },
  {
   "cell_type": "code",
   "execution_count": null,
   "metadata": {},
   "outputs": [],
   "source": []
  },
  {
   "cell_type": "markdown",
   "metadata": {},
   "source": [
    "**Exercício**"
   ]
  },
  {
   "cell_type": "markdown",
   "metadata": {},
   "source": [
    "Implemente um algoritmo de criptografia que utiliza a Cifra de César, utilizando um deslocamento de $3$ letras. Pergunte ao usuário qual frase deseja criptografar. Trabalhe apenas com letras minúsculas, mesmo que o usuário digite letras maiúsculas.  Utilize a função `ord()` para obter valor ASCII de um determinado caractere, e a função `chr()` para obter o caractere a partir do seu valor ASCII."
   ]
  },
  {
   "cell_type": "code",
   "execution_count": null,
   "metadata": {},
   "outputs": [],
   "source": []
  },
  {
   "cell_type": "markdown",
   "metadata": {},
   "source": [
    "**Exercício**"
   ]
  },
  {
   "cell_type": "markdown",
   "metadata": {},
   "source": [
    "Implemente um algoritmo que descriptografa um texto criptografado com a Cifra de César, cifrado utilizando deslocamento de $3$ letras."
   ]
  },
  {
   "cell_type": "code",
   "execution_count": null,
   "metadata": {},
   "outputs": [],
   "source": []
  },
  {
   "cell_type": "markdown",
   "metadata": {},
   "source": [
    "**Exercício**"
   ]
  },
  {
   "cell_type": "markdown",
   "metadata": {},
   "source": [
    "Na frase \"**o sapo nao lava o pe. nao lava porque nao quer**\", faça:\n",
    "- Troque todas as vogais pela letra 'a';\n",
    "- Troque todas as vogais pela letra 'e';\n",
    "- Troque todas as logais pela letra 'i';\n",
    "- Troque todas as logais pela letra 'o';\n",
    "- Troque todas as logais pela letra 'u';\n",
    "\n",
    "Em sua lógica, utilize as funções de manipulação de caracteres presentes na linguagem."
   ]
  },
  {
   "cell_type": "code",
   "execution_count": null,
   "metadata": {},
   "outputs": [],
   "source": []
  },
  {
   "cell_type": "markdown",
   "metadata": {},
   "source": [
    "**Exercício**"
   ]
  },
  {
   "cell_type": "markdown",
   "metadata": {},
   "source": [
    "Desenvolva um programa que verifica se um CPF está no formato válido (11 dígitos, seguindo o formato **xxx.xxx.xxx-xx**). O programa deve observar se apenas números, pontos e hífen foram digitados, observando nos locais corretos. Ao final deve informar \"CPF Válido\" ou \"CPF Inválido\".\n",
    "\n",
    "**Exemplos**\n",
    "\n",
    "\n",
    "|Entrada   |Saída           |\n",
    "|----------|----------------|\n",
    "|123.456.789-01|CPF Válido  |\n",
    "|12.3456.789-01|CPF Inválido|\n",
    "|12X.456.789-01|CPF Inválido|\n",
    "|12345678901   |CPF Inválido|\n",
    "|12.3456.789-01|CPF Inválido|\n",
    "|123-456.789-01|CPF Inválido|\n",
    "\n",
    "\n"
   ]
  },
  {
   "cell_type": "code",
   "execution_count": null,
   "metadata": {},
   "outputs": [],
   "source": []
  },
  {
   "cell_type": "markdown",
   "metadata": {},
   "source": [
    "**Exercício**"
   ]
  },
  {
   "cell_type": "markdown",
   "metadata": {},
   "source": [
    "Importe a biblioteca\n",
    "```py\n",
    "from random import shuffle\n",
    "```\n",
    "e utilize a função \n",
    "```py\n",
    "shuffle(palavra)\n",
    "```\n",
    "para embaralhar uma palavra. Com isto, implemente um jogo que mostra uma palavra embaralhada ao usuário, que deve adivinhar qual é a palavra original. Cadastre algumas palavras no código, e faça com que o sistema escolha uma delas aleatoriamente. O usuário ganha ou perde conforme adivinha corretamente ou incorretamente a palavra original."
   ]
  },
  {
   "cell_type": "code",
   "execution_count": null,
   "metadata": {},
   "outputs": [],
   "source": []
  },
  {
   "cell_type": "markdown",
   "metadata": {},
   "source": [
    "**Exercício**"
   ]
  },
  {
   "cell_type": "markdown",
   "metadata": {},
   "source": [
    "Peça ao usuário que digite um nome, e então converta as letras para números utilizando a tabela abaixo, e então mostre o resultado. Converta todas as letras da entrada para maiúsculas.\n",
    "\n",
    "|letra|número|\n",
    "|----|----|\n",
    "|O|0|\n",
    "|I|1|\n",
    "|Z|2|\n",
    "|E|3|\n",
    "|H|4|\n",
    "|S|5|\n",
    "|B|6|\n",
    "|T|7|\n",
    "|X|8|\n",
    "|G|9|"
   ]
  },
  {
   "cell_type": "code",
   "execution_count": null,
   "metadata": {},
   "outputs": [],
   "source": []
  },
  {
   "cell_type": "markdown",
   "metadata": {},
   "source": [
    "**Exercício**"
   ]
  },
  {
   "cell_type": "markdown",
   "metadata": {},
   "source": [
    "O número 153 é igual à soma dos cubos dos algarismos que o compõe.  \n",
    "**Observe:**  \n",
    "$$\n",
    "1^3+5^3+3^3 = 1 + 125 + 27 = 153\n",
    "$$\n",
    "\n",
    "Entre 100 e 999 também existem outros números que seguem esta propriedade. Quais são?"
   ]
  },
  {
   "cell_type": "code",
   "execution_count": null,
   "metadata": {},
   "outputs": [],
   "source": []
  },
  {
   "cell_type": "code",
   "execution_count": null,
   "metadata": {
    "scrolled": false
   },
   "outputs": [],
   "source": []
  },
  {
   "cell_type": "markdown",
   "metadata": {},
   "source": [
    "**Exercício**"
   ]
  },
  {
   "cell_type": "markdown",
   "metadata": {},
   "source": [
    " Implemente uma função que pergunte um valor x e uma frase ao usuário. Deve ser mostrado na tela a frase por colunas, como apresentado no exemplo abaixo, para `x=3` e frase ABACATES.\n",
    "\n",
    "**Exemplo**\n",
    "\n",
    "Observe que:\n",
    "```\n",
    "A B A\n",
    "C A T\n",
    "E S\n",
    "```  \n",
    "O resultado deve ser o formato acima lido de cima para baixo, esquerda par a direita.\n",
    "\n",
    "- Entrada:\n",
    "```\n",
    "3\n",
    "ABACATES\n",
    "```\n",
    "- Saída: \n",
    "```\n",
    "ACEBASAT\n",
    "```\n",
    "\n",
    "\n",
    "**Exemplo**\n",
    "\n",
    "- Entrada\n",
    "```\n",
    "2\n",
    "PARALELO\n",
    "```\n",
    "\n",
    "- Saída\n",
    "```\n",
    "PRLLAAEO\n",
    "```"
   ]
  },
  {
   "cell_type": "code",
   "execution_count": null,
   "metadata": {},
   "outputs": [],
   "source": []
  },
  {
   "cell_type": "markdown",
   "metadata": {},
   "source": [
    "Desenvolva uma função que verifica se uma palavra pode ser anagrama da outra, ou seja, se a segunda palavra pode ser formada apenas com a transposição das letras da primeira. Chame sua função de `isAnagram`.\n",
    "\n",
    "**Exemplo**\n",
    "\n",
    "|Entrada|Entrada|Saida|\n",
    "|-|-|-|\n",
    "|`ABACATES`| `ACEBASAT` |`True`|\n",
    "|`primeira`|`marifrei`|`False`|\n",
    "|`frase`| `resaf`|`True`|\n",
    "|`pudim`|`batata`|`False`|\n",
    "|`abcdef`|`cbafed`|`True`|\n",
    "|`sera`|`ser`|`False`|\n",
    "|`ba`|`aba`|`False`|\n",
    "|`Roma`|`Amor`|`True`|\n",
    "|`ovni`|`ovo`|`False`|\n"
   ]
  },
  {
   "cell_type": "code",
   "execution_count": null,
   "metadata": {},
   "outputs": [],
   "source": []
  },
  {
   "cell_type": "markdown",
   "metadata": {},
   "source": [
    " "
   ]
  }
 ],
 "metadata": {
  "kernelspec": {
   "display_name": "Python 3",
   "language": "python",
   "name": "python3"
  },
  "language_info": {
   "codemirror_mode": {
    "name": "ipython",
    "version": 3
   },
   "file_extension": ".py",
   "mimetype": "text/x-python",
   "name": "python",
   "nbconvert_exporter": "python",
   "pygments_lexer": "ipython3",
   "version": "3.6.8"
  }
 },
 "nbformat": 4,
 "nbformat_minor": 2
}
