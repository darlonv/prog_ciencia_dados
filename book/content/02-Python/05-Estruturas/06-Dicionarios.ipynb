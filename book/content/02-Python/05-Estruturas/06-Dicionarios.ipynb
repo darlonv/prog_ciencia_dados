{
 "cells": [
  {
   "cell_type": "markdown",
   "metadata": {},
   "source": [
    "# Dicionários\n",
    "\n",
    "Os dicionários são estruturas de dados em que os dados são agrupados sem uma ordem definida. Os elementos armazenados em dicionários têm sua posição associada a uma chave. \n",
    "\n",
    "Para criar um dicionário pode-se utilizar as chaves (`{` `}`) ou a função `dict()`.  \n",
    "\n",
    "**Exemplo**  \n",
    "\n",
    "```py\n",
    "dpr = {'nome': 'Paraná', 'sigla':'PR', 'gentilico':'Paranaense'}\n",
    "print(type(dpr))\n",
    "```\n",
    "\n",
    "**Atividade**\n",
    "- Execute o exemplo."
   ]
  },
  {
   "cell_type": "code",
   "execution_count": null,
   "metadata": {},
   "outputs": [],
   "source": []
  },
  {
   "cell_type": "markdown",
   "metadata": {},
   "source": [
    "Para ver todos os elementos, com chaves e valores:  \n",
    "\n",
    "**Exemplo**\n",
    "\n",
    "```py\n",
    "print(dpr)\n",
    "```"
   ]
  },
  {
   "cell_type": "code",
   "execution_count": null,
   "metadata": {},
   "outputs": [],
   "source": []
  },
  {
   "cell_type": "markdown",
   "metadata": {},
   "source": [
    "É possível acessar os elementos de um dicionário utilizando sua chave como posição.  \n",
    "\n",
    "**Exemplo**\n",
    "\n",
    "```py\n",
    "print(dpr['sigla'])\n",
    "```"
   ]
  },
  {
   "cell_type": "code",
   "execution_count": null,
   "metadata": {},
   "outputs": [],
   "source": []
  },
  {
   "cell_type": "markdown",
   "metadata": {},
   "source": [
    "Resulta em um erro acessar os elementos pela posição numérica, como é feito como as listas.\n",
    "\n",
    "**Exemplo**\n",
    "\n",
    "```py\n",
    "print(dpr[0])\n",
    "KeyError: 0\n",
    "```\n"
   ]
  },
  {
   "cell_type": "code",
   "execution_count": null,
   "metadata": {},
   "outputs": [],
   "source": []
  },
  {
   "cell_type": "markdown",
   "metadata": {},
   "source": [
    "Para adicionar um novo item, basta apenas informar a nova chave.\n",
    "```py\n",
    "dpr['regiao'] = 'sul'\n",
    "print(dpr)\n",
    "```"
   ]
  },
  {
   "cell_type": "code",
   "execution_count": null,
   "metadata": {},
   "outputs": [],
   "source": []
  },
  {
   "cell_type": "markdown",
   "metadata": {},
   "source": [
    "Para alterar um valor, é possível substituir um elemento na posição.  \n",
    "\n",
    "**Exemplo**\n",
    "\n",
    "```py\n",
    "dpr['regiao'] = 'Sul'\n",
    "print(dpr)\n",
    "```"
   ]
  },
  {
   "cell_type": "code",
   "execution_count": null,
   "metadata": {},
   "outputs": [],
   "source": []
  },
  {
   "cell_type": "markdown",
   "metadata": {},
   "source": [
    "Os valores podem ser de qualquer tipo.  \n",
    "\n",
    "**Exemplo**  \n",
    "\n",
    "```py\n",
    "dpr['numMunicipios'] = 399\n",
    "print(dpr)\n",
    "```"
   ]
  },
  {
   "cell_type": "code",
   "execution_count": null,
   "metadata": {},
   "outputs": [],
   "source": []
  },
  {
   "cell_type": "markdown",
   "metadata": {},
   "source": [
    "O método `.values()` retorna apenas os valores presentes no dicionário.  \n",
    "\n",
    "**Exemplo**\n",
    "\n",
    "```py\n",
    "print(dpr.values())\n",
    "```"
   ]
  },
  {
   "cell_type": "code",
   "execution_count": null,
   "metadata": {},
   "outputs": [],
   "source": []
  },
  {
   "cell_type": "markdown",
   "metadata": {},
   "source": [
    "O método `.keys()` retorna todas as chaves do dicionário.  \n",
    "\n",
    "**Exemplo**\n",
    "\n",
    "```py\n",
    "print(dpr.keys())\n",
    "```"
   ]
  },
  {
   "cell_type": "code",
   "execution_count": null,
   "metadata": {},
   "outputs": [],
   "source": []
  },
  {
   "cell_type": "markdown",
   "metadata": {},
   "source": [
    "E cada par pode ser acessado pelo método `.items()`.  \n",
    "\n",
    "**Exemplo**\n",
    "\n",
    "```py\n",
    "print(dpr.items())\n",
    "```"
   ]
  },
  {
   "cell_type": "code",
   "execution_count": null,
   "metadata": {},
   "outputs": [],
   "source": []
  },
  {
   "cell_type": "markdown",
   "metadata": {},
   "source": [
    "O índice em um dicionário pode ser de diferentes tipos.\n",
    "```py\n",
    "dicNum = {9:'nove', True:'verdadeiro', 5.6:'cinco ponto seis'}\n",
    "print(dicNum)\n",
    "print(dicNum[9])\n",
    "print(dicNum[True])\n",
    "print(dicNum[5.6])\n",
    "```"
   ]
  },
  {
   "cell_type": "code",
   "execution_count": null,
   "metadata": {},
   "outputs": [],
   "source": []
  },
  {
   "cell_type": "markdown",
   "metadata": {},
   "source": [
    "Desta forma, também pode-se utilizar o dicionário como um vetor esparso.  \n",
    "\n",
    "**Exemplo**  \n",
    "\n",
    "```py\n",
    "dicVetEsparso = {0:'zero', 5: 'cinco', 34:'trinta e quatro'}\n",
    "```\n",
    "Com isso, pode-se utilizar o dicionário do exemplo como um *array* que possui apenas as posições 0, 5 e 34.\n",
    "\n",
    "**Atividade**\n",
    "- Execute o exemplo."
   ]
  },
  {
   "cell_type": "code",
   "execution_count": null,
   "metadata": {},
   "outputs": [],
   "source": []
  },
  {
   "cell_type": "markdown",
   "metadata": {},
   "source": [
    "Um dicionário é uma estrutura *iterável*, assim como as sequências. Porém ao utilizá-lo em uma estrutura **for**, cada iteração receberá a **chave** (índice) das estruturas nele armazenadas.  \n",
    "\n",
    "**Exemplo**  \n",
    "\n",
    "```py\n",
    "for i in dpr:\n",
    "    print(i)\n",
    "```"
   ]
  },
  {
   "cell_type": "code",
   "execution_count": null,
   "metadata": {},
   "outputs": [],
   "source": []
  },
  {
   "cell_type": "markdown",
   "metadata": {},
   "source": [
    "Para que seja obtido o valor associado à chave, pode-se usar a variável iteradora como índice na estrutura.  \n",
    "\n",
    "**Exemplo**  \n",
    "\n",
    "```py\n",
    "for i in dpr:\n",
    "    print(dpr[i])\n",
    "```"
   ]
  },
  {
   "cell_type": "code",
   "execution_count": null,
   "metadata": {},
   "outputs": [],
   "source": []
  },
  {
   "cell_type": "markdown",
   "metadata": {},
   "source": [
    "Outra forma é iterar sobre os valores, obtendo-os pelo método `.values()`.  \n",
    "\n",
    "**Exemplo**  \n",
    "\n",
    "```py\n",
    "for i in dpr.values():\n",
    "    print(i)\n",
    "```"
   ]
  },
  {
   "cell_type": "code",
   "execution_count": null,
   "metadata": {},
   "outputs": [],
   "source": []
  },
  {
   "cell_type": "markdown",
   "metadata": {},
   "source": [
    "Ou então iterar sobre cada **item** armazenado, obtendo-os pelo método `.items()`.  \n",
    "\n",
    "**Exemplo**\n",
    "\n",
    "```py\n",
    "for i in dpr.items():\n",
    "    print(i)\n",
    "```"
   ]
  },
  {
   "cell_type": "code",
   "execution_count": null,
   "metadata": {},
   "outputs": [],
   "source": []
  },
  {
   "cell_type": "code",
   "execution_count": null,
   "metadata": {},
   "outputs": [],
   "source": []
  },
  {
   "cell_type": "markdown",
   "metadata": {},
   "source": [
    "Observe que o tipo de cada item é uma tupla.  \n",
    "\n",
    "**Exemplo**\n",
    "\n",
    "```py\n",
    "for i in dpr.items():\n",
    "    print(type(i))\n",
    "```\n"
   ]
  },
  {
   "cell_type": "code",
   "execution_count": null,
   "metadata": {},
   "outputs": [],
   "source": []
  },
  {
   "cell_type": "markdown",
   "metadata": {},
   "source": [
    "Desta forma, podemos acessar cada item também da seguinte maneira  \n",
    "\n",
    "**Exemplo**\n",
    "\n",
    "```py\n",
    "for i in dpr.items():\n",
    "    print('chave:',i[0],'valor:',i[1])\n",
    "```"
   ]
  },
  {
   "cell_type": "code",
   "execution_count": null,
   "metadata": {},
   "outputs": [],
   "source": []
  },
  {
   "cell_type": "code",
   "execution_count": null,
   "metadata": {},
   "outputs": [],
   "source": []
  },
  {
   "cell_type": "markdown",
   "metadata": {},
   "source": [
    "**Operações**\n",
    "\n",
    "- `in`: verifica se a chave existe no dicionário;  \n",
    "- `not in`: verifica se a chave não existe no dicionário;  \n",
    "\n",
    "**Funções**\n",
    "- `len()` obtém a quantidade de elementos;  \n",
    "- `del()` remove um dicionário, ou apenas o elemento na chave especificada por parâmetro."
   ]
  },
  {
   "cell_type": "code",
   "execution_count": null,
   "metadata": {},
   "outputs": [],
   "source": []
  },
  {
   "cell_type": "markdown",
   "metadata": {},
   "source": [
    "## Métodos\n",
    "\n",
    "Alguns métodos das estruturas de dicionário são apresentados na tabela a seguir.\n",
    "\n",
    "|método         |descrição|\n",
    "|---------------|:--------|\n",
    "|`.get()`       |retorna o valor na chave especificada|\n",
    "|`.pop()`       |remove o elemento na chave especificada|\n",
    "|`.fromkeys()`  |retorna um dicionário, com as chaves e valores especificados|\n",
    "|`.items()`     |retorna uma lista contendo tuplas para cada par (chave,valor)|\n",
    "|`.keys()`      |retorna uma lista com as chaves da estrutura|\n",
    "|`.popitem()`   |remove o último par (chave,valor) inserido|\n",
    "|`.values()`    |retorna uma lista com os valores armazenados|\n",
    "|`.copy()`      |retorna uma cópia da estrutura|\n",
    "|`.clear()`     |remove todos os elementos|\n",
    "\n",
    "**Exemplo**\n",
    "\n",
    "```python\n",
    "dados = {'Peso': 75.2, 'Altura':1.68, 'Idade': 26, 'Sexo': 'M'}\n",
    "print(f\"dados            : {dados}\")\n",
    "print(f\"dados.get('Peso'): {dados.get('Peso')}\")\n",
    "print(f\"dados            : {dados}\")\n",
    "print(f\"dados.pop('Sexo'): {dados.pop('Sexo')}\")\n",
    "print(f\"dados            : {dados}\")\n",
    "print(f\"dados.items()    : {dados.items()}\")\n",
    "print(f\"dados.keys()     : {dados.keys()}\")\n",
    "print(f\"dados.values()   : {dados.values()}\")\n",
    "dados['Sexo']='F'\n",
    "print(\"dados['Sexo']='F'\")\n",
    "print(f\"dados            : {dados}\")\n",
    "print(f\"dados.popitem()  : {dados.popitem()}\")\n",
    "print(f\"'Idade' in dados : {'Idade' in dados}\")\n",
    "print(f\"'Nasc' in dados  : {'Nasc' in dados}\")\n",
    "```\n",
    "\n",
    "**Atividade**\n",
    "- Execute o exemplo, e observe o que ocorre em cada linha."
   ]
  },
  {
   "cell_type": "code",
   "execution_count": null,
   "metadata": {},
   "outputs": [],
   "source": []
  },
  {
   "cell_type": "markdown",
   "metadata": {},
   "source": [
    "**Exemplo**\n",
    "```python\n",
    "print('== Com referência ==')\n",
    "dados = {'Peso': 75.2, 'Altura':1.68, 'Idade': 26, 'Sexo': 'M'}\n",
    "dados2 = dados #é uma referência, e não uma cópia\n",
    "dados2['Altura'] = 1.81 #a estrutura original também é alterada\n",
    "print('original :', dados ['Altura']) #O mesmo valor em ambas é retornado\n",
    "print('nova     :',dados2['Altura'])\n",
    "\n",
    "print('== Com cópia ==')\n",
    "dados = {'Peso': 75.2, 'Altura':1.68, 'Idade': 26, 'Sexo': 'M'}\n",
    "dados2 = dados.copy() #é uma cópia\n",
    "dados2['Altura'] = 1.81 #a estrutura original não é alterada\n",
    "print('original :', dados ['Altura']) #valor original é mantido\n",
    "print('nova     :',dados2['Altura'])  #valores diferentes são retornados\n",
    "``` \n",
    "\n",
    "**Atividade**\n",
    "- Execute o exemplo, e observe os códigos em cada linhas e as saídas."
   ]
  },
  {
   "cell_type": "code",
   "execution_count": null,
   "metadata": {},
   "outputs": [],
   "source": []
  },
  {
   "cell_type": "code",
   "execution_count": null,
   "metadata": {},
   "outputs": [],
   "source": []
  },
  {
   "cell_type": "markdown",
   "metadata": {},
   "source": [
    "**Exercícios**  \n",
    "Resolva os exercícios a seguir utilizando **Dicionários**:\n",
    "- [Beecrowd 2482 - Etiquetas de Noel](https://www.beecrowd.com.br/judge/pt/problems/view/2482) \n",
    "- [Beecrowd 1049 - Animais](https://www.beecrowd.com.br/judge/pt/problems/view/1049)\n",
    "- [Beecrowd 1050 - DDD](https://www.beecrowd.com.br/judge/pt/problems/view/1050)"
   ]
  },
  {
   "cell_type": "code",
   "execution_count": null,
   "metadata": {},
   "outputs": [],
   "source": []
  }
 ],
 "metadata": {
  "kernelspec": {
   "display_name": "Python 3 (ipykernel)",
   "language": "python",
   "name": "python3"
  },
  "language_info": {
   "codemirror_mode": {
    "name": "ipython",
    "version": 3
   },
   "file_extension": ".py",
   "mimetype": "text/x-python",
   "name": "python",
   "nbconvert_exporter": "python",
   "pygments_lexer": "ipython3",
   "version": "3.8.10"
  }
 },
 "nbformat": 4,
 "nbformat_minor": 2
}
