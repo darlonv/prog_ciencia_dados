{
 "cells": [
  {
   "cell_type": "markdown",
   "id": "88158aea",
   "metadata": {},
   "source": [
    "# Comprehensions"
   ]
  },
  {
   "cell_type": "markdown",
   "id": "7ffc9b8a",
   "metadata": {},
   "source": [
    "As *comprehensions* em Python consistem em uma forma simplificada de construir novas estruturas, sejam elas listas, dicionários ou conjuntos."
   ]
  },
  {
   "cell_type": "markdown",
   "id": "c5402ada",
   "metadata": {},
   "source": [
    "## List comprehension\n",
    "Considere a criação da seguinte lista:\n",
    "\n",
    "```python\n",
    "lista = []\n",
    "for i in range(20):\n",
    "    lista.append(i)\n",
    "```"
   ]
  },
  {
   "cell_type": "code",
   "execution_count": null,
   "id": "58677b59",
   "metadata": {},
   "outputs": [],
   "source": []
  },
  {
   "cell_type": "markdown",
   "id": "89f8ea72",
   "metadata": {},
   "source": [
    "Utilizando *list comprehensions*, este mesmo código poderia ser escrito da seguinte forma:\n",
    "\n",
    "```python\n",
    "lista = [i for i in range(20)]\n",
    "```"
   ]
  },
  {
   "cell_type": "code",
   "execution_count": 16,
   "id": "e3b3bcc6",
   "metadata": {
    "scrolled": true
   },
   "outputs": [
    {
     "name": "stdout",
     "output_type": "stream",
     "text": [
      "[0, 1, 2, 3, 4, 5, 6, 7, 8, 9, 10, 11, 12, 13, 14, 15, 16, 17, 18, 19]\n"
     ]
    }
   ],
   "source": []
  },
  {
   "cell_type": "markdown",
   "id": "259d0d5f",
   "metadata": {},
   "source": [
    "**Sintaxe**  \n",
    "\n",
    "```python\n",
    "lista = [ expressão for item in iterable ]\n",
    "```\n",
    "\n",
    "ou \n",
    "\n",
    "```python\n",
    "lista = [ expressão for item in iterable if condição ]\n",
    "```"
   ]
  },
  {
   "cell_type": "markdown",
   "id": "fb64449e",
   "metadata": {},
   "source": [
    "**Exemplo**  \n",
    "- Gerar valores ao quadrado\n",
    "\n",
    "```python\n",
    "quadrado = [ x**2 for x in range(20)]\n",
    "```"
   ]
  },
  {
   "cell_type": "code",
   "execution_count": 18,
   "id": "44456d29",
   "metadata": {},
   "outputs": [
    {
     "name": "stdout",
     "output_type": "stream",
     "text": [
      "[0, 1, 4, 9, 16, 25, 36, 49, 64, 81, 100, 121, 144, 169, 196, 225, 256, 289, 324, 361]\n"
     ]
    }
   ],
   "source": []
  },
  {
   "cell_type": "markdown",
   "id": "7bdf886e",
   "metadata": {},
   "source": [
    "**Exemplo**  \n",
    "- Gerar valores ao quadrado apenas de números pares\n",
    "```python\n",
    "quadrado_pares = [ x**2 for x in range(20) if x%2 == 0]\n",
    "```"
   ]
  },
  {
   "cell_type": "code",
   "execution_count": null,
   "id": "06b7ba6d",
   "metadata": {},
   "outputs": [],
   "source": []
  },
  {
   "cell_type": "markdown",
   "id": "14802c49",
   "metadata": {},
   "source": [
    "## Dictionary comprehension\n",
    "\n",
    "De maneira semelhantes às *lists comprehensions*, pode-se também criar dicionários utilizando *dictionary comprehensions*.  \n",
    "\n",
    "**Sintaxe**  \n",
    "\n",
    "```python\n",
    "dicionario = { key:value for (key, value) in iterable }\n",
    "```\n",
    "\n",
    "ou  \n",
    "\n",
    "```python\n",
    "dicionario = { key:value for (key, value) in iterable if condicao }\n",
    "```\n",
    "\n",
    "**Exemplo**  \n",
    "- Valores ao quadrado\n",
    "```python\n",
    "dict_quadrado = {val:val**2 for val in range(10)}\n",
    "```"
   ]
  },
  {
   "cell_type": "code",
   "execution_count": null,
   "id": "d496c5cd",
   "metadata": {},
   "outputs": [],
   "source": []
  },
  {
   "cell_type": "code",
   "execution_count": null,
   "id": "269cf96a",
   "metadata": {},
   "outputs": [],
   "source": []
  },
  {
   "cell_type": "markdown",
   "id": "43429650",
   "metadata": {},
   "source": [
    "## Generator comprehension\n",
    "\n",
    "Um *Generator comprehension* é semelhante à uma *list compreension*. Sua diferença consistem em que os dados não são gerados previamente, e sim *on the fly*.\n",
    "\n",
    "**Sintaxe**  \n",
    "\n",
    "```python\n",
    "gerador = (i for i in range(20))\n",
    "```\n",
    "\n",
    "Observe:  \n",
    "```python\n",
    "print(gerador)\n",
    "print(type(gerador))\n",
    "```"
   ]
  },
  {
   "cell_type": "code",
   "execution_count": null,
   "id": "9342bfe8",
   "metadata": {},
   "outputs": [],
   "source": []
  },
  {
   "cell_type": "markdown",
   "id": "57f1dd45",
   "metadata": {},
   "source": [
    "Para percorrê-lo:\n",
    "\n",
    "```python\n",
    "for val in gerador:\n",
    "    print(val)\n",
    "```"
   ]
  },
  {
   "cell_type": "code",
   "execution_count": null,
   "id": "41f8f614",
   "metadata": {},
   "outputs": [],
   "source": []
  },
  {
   "cell_type": "markdown",
   "id": "769941eb",
   "metadata": {},
   "source": [
    "Ou então:\n",
    "(Para executar este exemplo, um novo *generator* deve ser criado).\n",
    "```python\n",
    "try:\n",
    "    print(next(gerador))\n",
    "except:\n",
    "    print('Gerador finalizado')\n",
    "```"
   ]
  },
  {
   "cell_type": "code",
   "execution_count": null,
   "id": "4ca890a0",
   "metadata": {},
   "outputs": [],
   "source": []
  }
 ],
 "metadata": {
  "kernelspec": {
   "display_name": "Python 3 (ipykernel)",
   "language": "python",
   "name": "python3"
  },
  "language_info": {
   "codemirror_mode": {
    "name": "ipython",
    "version": 3
   },
   "file_extension": ".py",
   "mimetype": "text/x-python",
   "name": "python",
   "nbconvert_exporter": "python",
   "pygments_lexer": "ipython3",
   "version": "3.8.10"
  }
 },
 "nbformat": 4,
 "nbformat_minor": 5
}
