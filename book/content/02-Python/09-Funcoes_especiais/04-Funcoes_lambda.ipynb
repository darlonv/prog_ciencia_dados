{
 "cells": [
  {
   "cell_type": "markdown",
   "id": "fb5f29a9",
   "metadata": {},
   "source": [
    "# Map e funções lambda"
   ]
  },
  {
   "cell_type": "markdown",
   "id": "14f50d85",
   "metadata": {},
   "source": [
    "## Map"
   ]
  },
  {
   "cell_type": "markdown",
   "id": "d4c318c6",
   "metadata": {},
   "source": [
    "Considere as seguintes funções, que correspondem ao quadrado e à enésima potência:\n",
    "\n",
    "```python\n",
    "def quad(x):\n",
    "    return x**2\n",
    "\n",
    "def pot(x,n):\n",
    "    return x**n\n",
    "```\n",
    "\n"
   ]
  },
  {
   "cell_type": "code",
   "execution_count": null,
   "id": "6142ce6a",
   "metadata": {},
   "outputs": [],
   "source": []
  },
  {
   "cell_type": "markdown",
   "id": "e7fee55f",
   "metadata": {},
   "source": [
    "Para aplicar a função a todos os valores de uma lista:\n",
    "```python\n",
    "valores = [4,5,6,7,8]\n",
    "quadrados = []\n",
    "for i in range(len(valores)):\n",
    "    quadrados.append(quad(valores[i]))\n",
    "print(quadrados)\n",
    "```"
   ]
  },
  {
   "cell_type": "code",
   "execution_count": null,
   "id": "38fbb515",
   "metadata": {},
   "outputs": [],
   "source": []
  },
  {
   "cell_type": "code",
   "execution_count": null,
   "id": "a8479afb",
   "metadata": {},
   "outputs": [],
   "source": []
  },
  {
   "cell_type": "markdown",
   "id": "326daeb4",
   "metadata": {},
   "source": [
    "A função `map()` aplica uma função a todos os elementos de um iterável.\n",
    "\n",
    "```python\n",
    "valores = [4,5,6,7,8]\n",
    "for i in map(quad,valores):\n",
    "    print(i)\n",
    "```"
   ]
  },
  {
   "cell_type": "code",
   "execution_count": null,
   "id": "106d8fb2",
   "metadata": {},
   "outputs": [],
   "source": []
  },
  {
   "cell_type": "markdown",
   "id": "22e221c5",
   "metadata": {},
   "source": [
    "Com a função `map()` é possível aplicar a todos os elementos de uma única vez.\n",
    "```python\n",
    "quadrados = list(map(quad, valores))\n",
    "print(quadrados)\n",
    "```"
   ]
  },
  {
   "cell_type": "code",
   "execution_count": null,
   "id": "ea0a4602",
   "metadata": {},
   "outputs": [],
   "source": []
  },
  {
   "cell_type": "markdown",
   "id": "fa2e5c30",
   "metadata": {},
   "source": [
    "De maneira similar, é possível aplicar a diversos iteráveis:\n",
    "\n",
    "```python\n",
    "valores   = [4,5,6,7,8,9]\n",
    "potencias = [1,2,3,2,1,0]\n",
    "resultados = list(map(pot, valores, potencias))\n",
    "print(resultados)\n",
    "```"
   ]
  },
  {
   "cell_type": "code",
   "execution_count": null,
   "id": "1061833e",
   "metadata": {},
   "outputs": [],
   "source": []
  },
  {
   "cell_type": "markdown",
   "id": "f089f619",
   "metadata": {},
   "source": [
    "Observe que os valores foram passados igualmente como parâmetro para a função `pot()`."
   ]
  },
  {
   "cell_type": "markdown",
   "id": "47748e6e",
   "metadata": {},
   "source": [
    "## Funções lambda\n",
    "\n",
    "Uma função `lambda` consiste na especificação e utilização de código sem a necessidade de declará-lo explicitamente como função.\n",
    "\n",
    "**Exemplo**\n",
    "- Considere a função que eleva valores ao quadrado:\n",
    "```python\n",
    "valores   = [4,5,6,7,8,9]\n",
    "quadrados = list(map(quad, valores))\n",
    "print(quadrados)\n",
    "```"
   ]
  },
  {
   "cell_type": "code",
   "execution_count": null,
   "id": "fd232863",
   "metadata": {},
   "outputs": [],
   "source": []
  },
  {
   "cell_type": "markdown",
   "id": "8d8c3147",
   "metadata": {},
   "source": [
    "Como `quad()` é uma função curta, ela também poderia ser escrita como uma função `lambda`:\n",
    "\n",
    "```python\n",
    "pot_2 = lambda x: x**2\n",
    "valores   = [4,5,6,7,8,9]\n",
    "quadrados = list(map(pot_2, valores))\n",
    "print(quadrados)\n",
    "```"
   ]
  },
  {
   "cell_type": "code",
   "execution_count": null,
   "id": "b1820213",
   "metadata": {},
   "outputs": [],
   "source": []
  },
  {
   "cell_type": "markdown",
   "id": "f9889ab7",
   "metadata": {},
   "source": [
    "Como a função é curta, pode ser passada diretamente no parâmetro da função `map()`. Este é o uso mais comum das funções `lambda`.\n",
    "\n",
    "```python\n",
    "valores   = [4,5,6,7,8,9]\n",
    "quadrados = list(map(lambda x: x**2, valores))\n",
    "print(quadrados)\n",
    "```"
   ]
  },
  {
   "cell_type": "code",
   "execution_count": null,
   "id": "8477e203",
   "metadata": {},
   "outputs": [],
   "source": []
  },
  {
   "cell_type": "markdown",
   "id": "d2ce402a",
   "metadata": {},
   "source": [
    "Observe que todo o código da função a ser executado pelo `map` é passado diretamente via parâmetro.\n",
    "\n",
    "**Sintaxe**  \n",
    "```python\n",
    "lambda parâmetros : expressão\n",
    "```"
   ]
  },
  {
   "cell_type": "code",
   "execution_count": null,
   "id": "1c75be26",
   "metadata": {},
   "outputs": [],
   "source": []
  },
  {
   "cell_type": "markdown",
   "id": "1352b6d8",
   "metadata": {},
   "source": [
    "Um outro uso comum das funções `lambda` é na ordenação de elementos.\n",
    "\n",
    "**Exemplo**  \n",
    "- Ordene a seguinte lista de tuplas pelo segundo elemento presente em cada tupla:\n",
    "```python\n",
    "valores = [(10,2,10), (1,5,1), (1,2,3), (3,0,50), (2,50,3), (20,20,20), (0,50,8)]\n",
    "```"
   ]
  },
  {
   "cell_type": "code",
   "execution_count": null,
   "id": "eabb8686",
   "metadata": {},
   "outputs": [],
   "source": []
  },
  {
   "cell_type": "markdown",
   "id": "3c645efd",
   "metadata": {},
   "source": [
    "É possível utilizar a função `sorted()` passando uma função para o parâmetro `key`:\n",
    "\n",
    "```python\n",
    "def pos_1(x):\n",
    "    return x[1]\n",
    "ordenados = sorted(valores, key=pos_1)\n",
    "print(ordenados)\n",
    "```"
   ]
  },
  {
   "cell_type": "code",
   "execution_count": null,
   "id": "9bae8dcc",
   "metadata": {},
   "outputs": [],
   "source": []
  },
  {
   "cell_type": "markdown",
   "id": "5155b2c4",
   "metadata": {},
   "source": [
    "Utilizando `lambda`:\n",
    "```python\n",
    "ordenados = sorted(valores, key=lambda x: x[1])\n",
    "print(ordenados)\n",
    "```"
   ]
  },
  {
   "cell_type": "code",
   "execution_count": null,
   "id": "2803d67a",
   "metadata": {},
   "outputs": [],
   "source": []
  },
  {
   "cell_type": "code",
   "execution_count": null,
   "id": "63bb53ae",
   "metadata": {},
   "outputs": [],
   "source": []
  },
  {
   "cell_type": "code",
   "execution_count": null,
   "id": "0feb308e",
   "metadata": {},
   "outputs": [],
   "source": []
  },
  {
   "cell_type": "markdown",
   "id": "c916a437",
   "metadata": {},
   "source": [
    "```python\n",
    "ordenados = sorted(valores, key=lambda x: x[1])\n",
    "print(ordenados)\n",
    "```"
   ]
  },
  {
   "cell_type": "code",
   "execution_count": null,
   "id": "b37fa463",
   "metadata": {},
   "outputs": [],
   "source": []
  },
  {
   "cell_type": "markdown",
   "id": "c88264c6",
   "metadata": {},
   "source": [
    "Colocando o primeiro elemento da tupla como segundo critério da ordenação:\n",
    "```python\n",
    "ordenados = sorted(valores, key=lambda x: (x[1], x[0]))\n",
    "print(ordenados)\n",
    "```"
   ]
  },
  {
   "cell_type": "code",
   "execution_count": null,
   "id": "3b4d56de",
   "metadata": {},
   "outputs": [],
   "source": []
  },
  {
   "cell_type": "code",
   "execution_count": null,
   "id": "8af5207a",
   "metadata": {},
   "outputs": [],
   "source": []
  },
  {
   "cell_type": "code",
   "execution_count": null,
   "id": "1f333cee",
   "metadata": {},
   "outputs": [],
   "source": []
  },
  {
   "cell_type": "code",
   "execution_count": null,
   "id": "9bbccb68",
   "metadata": {},
   "outputs": [],
   "source": []
  },
  {
   "cell_type": "code",
   "execution_count": null,
   "id": "29af91e6",
   "metadata": {},
   "outputs": [],
   "source": []
  },
  {
   "cell_type": "code",
   "execution_count": null,
   "id": "57712243",
   "metadata": {},
   "outputs": [],
   "source": []
  }
 ],
 "metadata": {
  "kernelspec": {
   "display_name": "Python 3 (ipykernel)",
   "language": "python",
   "name": "python3"
  },
  "language_info": {
   "codemirror_mode": {
    "name": "ipython",
    "version": 3
   },
   "file_extension": ".py",
   "mimetype": "text/x-python",
   "name": "python",
   "nbconvert_exporter": "python",
   "pygments_lexer": "ipython3",
   "version": "3.8.10"
  }
 },
 "nbformat": 4,
 "nbformat_minor": 5
}
