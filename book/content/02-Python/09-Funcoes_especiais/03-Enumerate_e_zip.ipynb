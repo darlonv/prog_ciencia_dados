{
 "cells": [
  {
   "cell_type": "markdown",
   "id": "82d40975",
   "metadata": {},
   "source": [
    "## Enumerate e Zip\n"
   ]
  },
  {
   "cell_type": "markdown",
   "id": "8126a60f",
   "metadata": {},
   "source": [
    "## Enumerate\n",
    "\n",
    "Considere a seguinte lista `vogais`:\n",
    "\n",
    "```python\n",
    "vogais = ['a','e','i','o','u']\n",
    "```"
   ]
  },
  {
   "cell_type": "code",
   "execution_count": null,
   "id": "c7235d6a",
   "metadata": {},
   "outputs": [],
   "source": []
  },
  {
   "cell_type": "markdown",
   "id": "06f7cd2d",
   "metadata": {},
   "source": [
    "- Para percorrer a lista a partir de seu índice, é necessário gerar os índices e então, a partir do índice acessar a lista na referida posição.\n",
    "```python\n",
    "for i in range(len(vogais)): #Gera a lista de índices\n",
    "    v = vogais[i]            #Acessa a lista no índice\n",
    "    print(f'vogais[{i}] = {v}')\n",
    "```"
   ]
  },
  {
   "cell_type": "code",
   "execution_count": null,
   "id": "11c993cc",
   "metadata": {},
   "outputs": [],
   "source": []
  },
  {
   "cell_type": "markdown",
   "id": "ed85ef13",
   "metadata": {},
   "source": [
    "A função `enumerate()` retorna uma tupla contendo o índice e o valor de uma estrutura iterável.\n",
    "\n",
    "**Exemplo**  \n",
    "```python\n",
    "for i,v in enumerate(vogais):\n",
    "    print(f'vogais[{i}] = {v}')\n",
    "```"
   ]
  },
  {
   "cell_type": "code",
   "execution_count": null,
   "id": "9cf7b01d",
   "metadata": {},
   "outputs": [],
   "source": []
  },
  {
   "cell_type": "code",
   "execution_count": null,
   "id": "bed54497",
   "metadata": {},
   "outputs": [],
   "source": []
  },
  {
   "cell_type": "markdown",
   "id": "0ee766a5",
   "metadata": {},
   "source": [
    "## Zip\n",
    "\n",
    "Considere duas listas referentes a nomes e idades, onde cada posição é referente a uma mesma pessoa.\n",
    "```python\n",
    "nomes  = ['Celso', 'Sergio', 'João', 'Eriberto']\n",
    "idades = [30, 12, 28, 25]\n",
    "```"
   ]
  },
  {
   "cell_type": "code",
   "execution_count": null,
   "id": "1e762878",
   "metadata": {},
   "outputs": [],
   "source": []
  },
  {
   "cell_type": "markdown",
   "id": "3fc80dc1",
   "metadata": {},
   "source": [
    "**Exemplo**  \n",
    "- Para obter os nomes e idades das pessoas:\n",
    "```python\n",
    "for i in range(len(nomes)):\n",
    "    nome = nomes[i]\n",
    "    idade = idades[i]\n",
    "    print(f'{nome} tem {idade} anos')\n",
    "```"
   ]
  },
  {
   "cell_type": "code",
   "execution_count": null,
   "id": "4cf48e5a",
   "metadata": {},
   "outputs": [],
   "source": []
  },
  {
   "cell_type": "markdown",
   "id": "36de21e1",
   "metadata": {},
   "source": [
    "A função `zip()` possibilita que duas listas sejam percorridas simultaneamente.\n",
    "```python\n",
    "for nome, idade in zip(nomes, idades):\n",
    "    print(f'{nome} tem {idade} anos')\n",
    "```"
   ]
  },
  {
   "cell_type": "code",
   "execution_count": null,
   "id": "5f915637",
   "metadata": {},
   "outputs": [],
   "source": []
  },
  {
   "cell_type": "code",
   "execution_count": null,
   "id": "338f0dd4",
   "metadata": {},
   "outputs": [],
   "source": []
  },
  {
   "cell_type": "code",
   "execution_count": null,
   "id": "7969492a",
   "metadata": {},
   "outputs": [],
   "source": []
  },
  {
   "cell_type": "code",
   "execution_count": null,
   "id": "275943e3",
   "metadata": {},
   "outputs": [],
   "source": []
  },
  {
   "cell_type": "code",
   "execution_count": null,
   "id": "ffaf9e6e",
   "metadata": {},
   "outputs": [],
   "source": []
  },
  {
   "cell_type": "code",
   "execution_count": null,
   "id": "15a75552",
   "metadata": {},
   "outputs": [],
   "source": []
  }
 ],
 "metadata": {
  "kernelspec": {
   "display_name": "Python 3 (ipykernel)",
   "language": "python",
   "name": "python3"
  },
  "language_info": {
   "codemirror_mode": {
    "name": "ipython",
    "version": 3
   },
   "file_extension": ".py",
   "mimetype": "text/x-python",
   "name": "python",
   "nbconvert_exporter": "python",
   "pygments_lexer": "ipython3",
   "version": "3.8.10"
  }
 },
 "nbformat": 4,
 "nbformat_minor": 5
}
