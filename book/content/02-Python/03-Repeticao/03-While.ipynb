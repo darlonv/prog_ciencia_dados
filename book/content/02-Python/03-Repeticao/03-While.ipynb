{
 "cells": [
  {
   "cell_type": "markdown",
   "metadata": {},
   "source": [
    "# While"
   ]
  },
  {
   "cell_type": "markdown",
   "metadata": {},
   "source": [
    "O `while` é uma estrutura de repetição, que consiste em repetir um bloco **enquanto** determinada condição for verdadeira."
   ]
  },
  {
   "cell_type": "markdown",
   "metadata": {},
   "source": [
    "**Exemplo**\n",
    "\n",
    "*Enquanto* `x < 5`, mostre `x`.\n",
    "```python\n",
    "x=0\n",
    "while x<5:\n",
    "    print(x)\n",
    "    x = x+1\n",
    "```\n",
    "**Atividade**\n",
    "\n",
    "- Execute o exemplo"
   ]
  },
  {
   "cell_type": "code",
   "execution_count": null,
   "metadata": {},
   "outputs": [],
   "source": []
  },
  {
   "cell_type": "markdown",
   "metadata": {},
   "source": [
    "**Sintaxe**\n",
    "\n",
    "```python\n",
    "while <condição>:\n",
    "    <código>\n",
    "```\n",
    "onde:\n",
    "- `<condição>` corresponde ao teste que será executado **antes** de entrar em cada iteração.\n",
    "- `<código>` corresponde ao bloco de código que será executado caso a condição seja verdadeira."
   ]
  },
  {
   "cell_type": "markdown",
   "metadata": {},
   "source": [
    "No `while` não é necessário conhecer todos os valores antes de iniciar a execução, visto que para entrar na bloco da repetição basta apenas que a condição testada tenha resultado verdadeiro."
   ]
  },
  {
   "cell_type": "markdown",
   "metadata": {},
   "source": [
    "**Exemplo**\n",
    "\n",
    "*Enquanto* `x < 5`, mostre `x`.\n",
    "```python\n",
    "x=0\n",
    "while x<5:\n",
    "    print(x)\n",
    "    x = x+1\n",
    "```\n",
    "No `while`, sempre é necessário o controle da condição. Observe:\n",
    "- Antes do `while` iniciar, o valor de `x` é definido para $0$.\n",
    "- Dentro do bloco existe uma *atualização* do valor testado na condição."
   ]
  },
  {
   "cell_type": "markdown",
   "metadata": {},
   "source": [
    "**Exemplo**\n",
    "\n",
    "Observe a situação em que a variável da condição não é atualizada:\n",
    "```python\n",
    "x=0\n",
    "while x<5:\n",
    "    print(x)\n",
    "```\n",
    "A estrutura se repetirá indefinidamente, visto o valor de `x` não é modificado e a condição sempre será verdadeira. A saída na tela será uma sequência de zeros infinita."
   ]
  },
  {
   "cell_type": "markdown",
   "metadata": {},
   "source": [
    "**Exercícios**\n",
    "\n",
    "1. Peça ao usuário que digite vários números inteiros positivos, parando quando um número negativo for digitado. Ao final, mostre a soma de todos os números digitados.\n",
    "1. Peça ao usuário que digite vários números inteiros positivos, parando quando um número negativo for digitado. Ao final, mostre a média de todos os números digitados.\n",
    "1. Desenvolva um programa que pergunta números ao usuário, parando apenas quando a soma de todos os números digitados for maior que $50$."
   ]
  },
  {
   "cell_type": "code",
   "execution_count": null,
   "metadata": {},
   "outputs": [],
   "source": []
  },
  {
   "cell_type": "code",
   "execution_count": null,
   "metadata": {},
   "outputs": [],
   "source": []
  },
  {
   "cell_type": "code",
   "execution_count": null,
   "metadata": {},
   "outputs": [],
   "source": []
  },
  {
   "cell_type": "markdown",
   "metadata": {},
   "source": [
    "## Break"
   ]
  },
  {
   "cell_type": "markdown",
   "metadata": {},
   "source": [
    "O `break` possibilita a saída de um `while` sem que a condição seja atendida."
   ]
  },
  {
   "cell_type": "markdown",
   "metadata": {},
   "source": [
    "**Exemplo**\n",
    "\n",
    "```python\n",
    "x=0\n",
    "while x<10:\n",
    "    print(x)\n",
    "    if x==5:\n",
    "        break\n",
    "    x=x+1\n",
    "```\n",
    "\n",
    "**Atividade**\n",
    "\n",
    "- Execute o exemplo acima"
   ]
  },
  {
   "cell_type": "code",
   "execution_count": null,
   "metadata": {},
   "outputs": [],
   "source": []
  },
  {
   "cell_type": "markdown",
   "metadata": {},
   "source": [
    "**Exemplo**\n",
    "\n",
    "- Peça ao usuário que digite números pares, e saia do programa caso ele digite um número ímpar.\n",
    "```python\n",
    "par = True\n",
    "while par:\n",
    "    num = int(input('Digite um número par'))\n",
    "    if num%2 == 1:\n",
    "        print('Número ímpar digitado')\n",
    "        par = False\n",
    "```  \n",
    "\n",
    "**Atividade**\n",
    "\n",
    "- Execute o exemplo"
   ]
  },
  {
   "cell_type": "code",
   "execution_count": null,
   "metadata": {},
   "outputs": [],
   "source": []
  },
  {
   "cell_type": "markdown",
   "metadata": {},
   "source": [
    "**Exemplo**\n",
    "\n",
    "- Peça ao usuário que digite números pares, e saia do programa caso ele digite um número ímpar, utilizando `break`:\n",
    "```python\n",
    "while True:\n",
    "    num = int(input('Digite um número par'))\n",
    "    if num%2 == 1:\n",
    "        print('Número ímpar digitado')\n",
    "        break\n",
    "```\n",
    "\n",
    "**Atividade**\n",
    "\n",
    "- Execute o exemplo"
   ]
  },
  {
   "cell_type": "code",
   "execution_count": null,
   "metadata": {},
   "outputs": [],
   "source": []
  },
  {
   "cell_type": "markdown",
   "metadata": {},
   "source": [
    "**Exercício**\n",
    "- [Beecrowd 2334 - Patinhos](https://www.beecrowd.com.br/judge/pt/problems/view/2334)\n",
    "- [Beecrowd 1159 - Soma de Pares Consecutivos](https://www.beecrowd.com.br/judge/pt/problems/view/1159)\n",
    "- [Beecrowd 1101 - Sequência de Números e Soma](https://www.beecrowd.com.br/judge/pt/problems/view/1101)\n"
   ]
  },
  {
   "cell_type": "markdown",
   "metadata": {},
   "source": [
    "## Continue"
   ]
  },
  {
   "cell_type": "markdown",
   "metadata": {},
   "source": [
    "O `continue` possibilita que o `while` avance para a próxima iteração."
   ]
  },
  {
   "cell_type": "markdown",
   "metadata": {},
   "source": [
    "**Exemplo**\n",
    "- Mostre a sequência de números de 1 a 50, menos aqueles que são divisíveis por 2, 3, 5, 7, 11 ou 12.\n",
    "- Testando todas as condições utilizando `if`s aninhados:\n",
    "```python\n",
    "x=1\n",
    "while x<=50:\n",
    "    if x%2 !=0:\n",
    "        if x%3 != 0:\n",
    "            if x%5 != 0:\n",
    "                if x%7 != 0:\n",
    "                    if x%11 != 0:\n",
    "                        if x%12 != 0:\n",
    "                            print(x) #Só executa se todas as condições forem verdadeiras\n",
    "    x=x+1\n",
    "```"
   ]
  },
  {
   "cell_type": "code",
   "execution_count": null,
   "metadata": {},
   "outputs": [],
   "source": []
  },
  {
   "cell_type": "markdown",
   "metadata": {},
   "source": [
    "- Testando todas as condições em um único `if`:\n",
    "```python\n",
    "x=0\n",
    "while x<50:\n",
    "    x=x+1\n",
    "    if x%2 !=0 and x%3 != 0 and x!=5 != 0 and x%7 != 0 and x%11 != 0 and x%12 != 0 :\n",
    "        print(x) \n",
    "```"
   ]
  },
  {
   "cell_type": "code",
   "execution_count": null,
   "metadata": {},
   "outputs": [],
   "source": []
  },
  {
   "cell_type": "markdown",
   "metadata": {},
   "source": [
    "- Utilizando `continue`:\n",
    "```python\n",
    "x=0\n",
    "while x<50:\n",
    "    x=x+1\n",
    "    if x%2 ==0: \n",
    "        continue\n",
    "    if x%3 == 0: \n",
    "        continue\n",
    "    if x%5 == 0: \n",
    "        continue\n",
    "    if x%7 == 0: \n",
    "        continue\n",
    "    if x%11 == 0: \n",
    "        continue\n",
    "    if x%12 == 0: \n",
    "        continue\n",
    "    print(x) #Só executará se todas as condições anteriores não forem atendidas\n",
    "```\n",
    "Observe que se uma das condições forem verdadeiras, as próximas não serão testadas."
   ]
  },
  {
   "cell_type": "code",
   "execution_count": null,
   "metadata": {},
   "outputs": [],
   "source": []
  },
  {
   "cell_type": "markdown",
   "metadata": {},
   "source": [
    "## Erros comuns"
   ]
  },
  {
   "cell_type": "markdown",
   "metadata": {},
   "source": [
    "### *loop* infinito\n",
    "A condição de parada nunca é atendida.\n",
    "\n",
    "**Exemplo**\n",
    "\n",
    "```python\n",
    "x=0\n",
    "while x<10:\n",
    "    print(x)\n",
    "```\n",
    "\n",
    "**Exemplo**\n",
    "\n",
    "```python\n",
    "x=0\n",
    "while x<10:\n",
    "    print(x)\n",
    "x=x+1\n",
    "```"
   ]
  },
  {
   "cell_type": "markdown",
   "metadata": {},
   "source": [
    "### Sintaxe incorreta\n",
    "Erros na codificação.\n",
    "\n",
    "**Exemplo**\n",
    "\n",
    "```python\n",
    "x=0\n",
    "while x<10\n",
    "    print(x)\n",
    "    x=x+1\n",
    "```\n",
    "\n",
    "**Exemplo**\n",
    "\n",
    "```python\n",
    "x=0\n",
    "while x<10:\n",
    "print(x)\n",
    "x=x+1\n",
    "```"
   ]
  },
  {
   "cell_type": "markdown",
   "metadata": {},
   "source": [
    "**Exercícios**\n",
    "\n",
    "1. Calcule o valor do fatorial de determinado número.\n",
    "1. Calcule se um número é primo\n",
    "1. Desenvolva um menu fictício, com pelo menos 3 opções de funcionalidades que o usuário pode escolher utilizando valores. Além destas, uma das opções é o valor $0$ para sair do menu."
   ]
  },
  {
   "cell_type": "code",
   "execution_count": null,
   "metadata": {},
   "outputs": [],
   "source": []
  },
  {
   "cell_type": "code",
   "execution_count": null,
   "metadata": {},
   "outputs": [],
   "source": []
  },
  {
   "cell_type": "code",
   "execution_count": null,
   "metadata": {},
   "outputs": [],
   "source": []
  },
  {
   "cell_type": "code",
   "execution_count": null,
   "metadata": {},
   "outputs": [],
   "source": []
  },
  {
   "cell_type": "markdown",
   "metadata": {
    "slideshow": {
     "slide_type": "slide"
    }
   },
   "source": [
    "## Referências\n",
    "\n",
    "[FORBELLONE, A. L. V.; EBERSPÄCHER, H. F. Lógica de programação a construção de algoritmos e estruturas de dados. 3. ed. -. São Paulo: Prentice Hall, 2005. ISBN 9788576050247.](https://plataforma.bvirtual.com.br/Leitor/Publicacao/323/pdf/11?code=DUT9ceW6cevP76Zo+EZuhLshlFiipf6bm1qH+Er9IE2FR2aabpwRBUFHWBQY+ppEDI1u1phvX3Bo9xII7UTG/g==)  \n",
    "\n",
    "[ASCENCIO, A. F. G.; CAMPOS, E. A. V. Fundamentos da programação de computadores algoritmos, Pascal e C/C++. São Paulo: Prentice Hall, 2002. ISBN 9788587918369.](https://plataforma.bvirtual.com.br/Leitor/Publicacao/474/pdf/17?code=5aKNgQDVA1oGkIID/Mxq/5biXE3mV+4408hOmSg69vmeXo0W9VHrtyzrwyezUND1EQo7jhOxxg2X7UCNFBYZHg==)  \n",
    "\n",
    "MATTHES, E. Curso intensivo de Python: uma introdução à prática e baseada em projetos à programação. São Paulo: Novatec, 2015.  \n",
    "\n",
    "MENEZES, N. N. C. Introdução à programação com Python: algoritmos e lógica de programação para iniciantes. 3.ed. São Paulo: Novatec, 2019.  \n",
    "\n",
    "\n",
    "\n",
    "### Outros materiais\n",
    "\n",
    "[Python. WhileLoop - Python Wiki.](https://wiki.python.org/moin/WhileLoop)  \n"
   ]
  },
  {
   "cell_type": "markdown",
   "metadata": {},
   "source": [
    " "
   ]
  }
 ],
 "metadata": {
  "kernelspec": {
   "display_name": "Python 3 (ipykernel)",
   "language": "python",
   "name": "python3"
  },
  "language_info": {
   "codemirror_mode": {
    "name": "ipython",
    "version": 3
   },
   "file_extension": ".py",
   "mimetype": "text/x-python",
   "name": "python",
   "nbconvert_exporter": "python",
   "pygments_lexer": "ipython3",
   "version": "3.8.10"
  }
 },
 "nbformat": 4,
 "nbformat_minor": 4
}
