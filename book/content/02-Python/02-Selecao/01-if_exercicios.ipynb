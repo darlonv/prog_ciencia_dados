{
 "cells": [
  {
   "cell_type": "markdown",
   "metadata": {},
   "source": [
    "# Exercícios"
   ]
  },
  {
   "cell_type": "markdown",
   "metadata": {},
   "source": [
    "Escreva um programa que verifique a validade de uma senha fornecida pelo usuário. A senha válida é o número 4598. Devem ser impressas as seguintes mensagens:  \n",
    "* ACESSO PERMITIDO caso a senha seja válida.  \n",
    "* ACESSO BLOQUEADO caso a senha seja inválida."
   ]
  },
  {
   "cell_type": "code",
   "execution_count": null,
   "metadata": {},
   "outputs": [],
   "source": []
  },
  {
   "cell_type": "markdown",
   "metadata": {},
   "source": [
    "Pergunte 3 números ao usuário. Mostre o menor e o maior números digitados."
   ]
  },
  {
   "cell_type": "code",
   "execution_count": null,
   "metadata": {},
   "outputs": [],
   "source": []
  },
  {
   "cell_type": "markdown",
   "metadata": {},
   "source": [
    "Pergunte 3 números ao usuário. Mostre esses números em ordem, do menor para o maior."
   ]
  },
  {
   "cell_type": "code",
   "execution_count": null,
   "metadata": {},
   "outputs": [],
   "source": []
  },
  {
   "cell_type": "markdown",
   "metadata": {},
   "source": [
    "Pergunte 5 números ao usuário. Mostre esses números em ordem, do menor para o maior."
   ]
  },
  {
   "cell_type": "code",
   "execution_count": null,
   "metadata": {},
   "outputs": [],
   "source": []
  },
  {
   "cell_type": "markdown",
   "metadata": {},
   "source": [
    "<!---\n",
    "n1=5\n",
    "n2=7\n",
    "n3=3\n",
    "n4=1\n",
    "n5=9\n",
    "\n",
    "#obtém o menor número\n",
    "menor = n1\n",
    "if n2 < menor: menor = n2\n",
    "if n3 < menor: menor = n3\n",
    "if n4 < menor: menor = n4\n",
    "if n5 < menor: menor = n5\n",
    "\n",
    "#obtém o maior número\n",
    "maior = n1\n",
    "if n2 > maior: maior = n2\n",
    "if n3 > maior: maior = n3\n",
    "if n4 > maior: maior = n4\n",
    "if n5 > maior: maior = n5\n",
    "\n",
    "sup = maior+1\n",
    "\n",
    "#substitui o maior número por um número maior que todos\n",
    "if   n1 == menor: n1 = sup\n",
    "elif n2 == menor: n2 = sup\n",
    "elif n3 == menor: n3 = sup\n",
    "elif n4 == menor: n4 = sup\n",
    "elif n5 == menor: n5 = sup\n",
    "\n",
    "print('menor:', menor)\n",
    "print('n1', n1)\n",
    "print('n2', n2)\n",
    "print('n3', n3)\n",
    "print('n4', n4)\n",
    "print('n5', n5)\n",
    "\n",
    "\n",
    "#obtém o menor número\n",
    "menor = n1\n",
    "if n2 < menor: menor = n2\n",
    "if n3 < menor: menor = n3\n",
    "if n4 < menor: menor = n4\n",
    "if n5 < menor: menor = n5\n",
    "    \n",
    "#substitui o maior número por um número maior que todos\n",
    "if   n1 == menor: n1 = sup\n",
    "elif n2 == menor: n2 = sup\n",
    "elif n3 == menor: n3 = sup\n",
    "elif n4 == menor: n4 = sup\n",
    "elif n5 == menor: n5 = sup\n",
    "    \n",
    "print('menor:', menor)\n",
    "print('n1', n1)\n",
    "print('n2', n2)\n",
    "print('n3', n3)\n",
    "print('n4', n4)\n",
    "print('n5', n5)\n",
    "\n",
    "\n",
    "#obtém o menor número\n",
    "menor = n1\n",
    "if n2 < menor: menor = n2\n",
    "if n3 < menor: menor = n3\n",
    "if n4 < menor: menor = n4\n",
    "if n5 < menor: menor = n5\n",
    "    \n",
    "#substitui o maior número por um número maior que todos\n",
    "if   n1 == menor: n1 = sup\n",
    "elif n2 == menor: n2 = sup\n",
    "elif n3 == menor: n3 = sup\n",
    "elif n4 == menor: n4 = sup\n",
    "elif n5 == menor: n5 = sup\n",
    "    \n",
    "print('menor:', menor)\n",
    "print('n1', n1)\n",
    "print('n2', n2)\n",
    "print('n3', n3)\n",
    "print('n4', n4)\n",
    "print('n5', n5)\n",
    "\n",
    "\n",
    "#obtém o menor número\n",
    "menor = n1\n",
    "if n2 < menor: menor = n2\n",
    "if n3 < menor: menor = n3\n",
    "if n4 < menor: menor = n4\n",
    "if n5 < menor: menor = n5\n",
    "    \n",
    "#substitui o maior número por um número maior que todos\n",
    "if   n1 == menor: n1 = sup\n",
    "elif n2 == menor: n2 = sup\n",
    "elif n3 == menor: n3 = sup\n",
    "elif n4 == menor: n4 = sup\n",
    "elif n5 == menor: n5 = sup\n",
    "    \n",
    "print('menor:', menor)\n",
    "print('n1', n1)\n",
    "print('n2', n2)\n",
    "print('n3', n3)\n",
    "print('n4', n4)\n",
    "print('n5', n5)\n",
    "\n",
    "\n",
    "#obtém o menor número\n",
    "menor = n1\n",
    "if n2 < menor: menor = n2\n",
    "if n3 < menor: menor = n3\n",
    "if n4 < menor: menor = n4\n",
    "if n5 < menor: menor = n5\n",
    "    \n",
    "#substitui o maior número por um número maior que todos\n",
    "if   n1 == menor: n1 = sup\n",
    "elif n2 == menor: n2 = sup\n",
    "elif n3 == menor: n3 = sup\n",
    "elif n4 == menor: n4 = sup\n",
    "elif n5 == menor: n5 = sup\n",
    "    \n",
    "print('menor:', menor)\n",
    "print('n1', n1)\n",
    "print('n2', n2)\n",
    "print('n3', n3)\n",
    "print('n4', n4)\n",
    "print('n5', n5)\n",
    "--->"
   ]
  },
  {
   "cell_type": "markdown",
   "metadata": {},
   "source": [
    "As maçãs custam `R$ 0,30`  cada se forem compradas menos do que uma dúzia, e `R$ 0,25` se forem compradas pelo menos doze.  \n",
    "Escreva um programa que leia o número de maçãs compradas, calcule e escreva o valor total da compra."
   ]
  },
  {
   "cell_type": "code",
   "execution_count": null,
   "metadata": {},
   "outputs": [],
   "source": []
  },
  {
   "cell_type": "markdown",
   "metadata": {},
   "source": [
    "Tendo como entrada a altura e o sexo (codificado da seguinte forma: f:feminino m:masculino) de uma pessoa, construa um programa que calcule e imprima seu peso ideal, utilizando as seguintes fórmulas:  \n",
    "- para homens: (72.7 * Altura) – 58  \n",
    "- para mulheres: (62.1 * Altura) – 44.7\n",
    "\n"
   ]
  },
  {
   "cell_type": "code",
   "execution_count": null,
   "metadata": {},
   "outputs": [],
   "source": []
  },
  {
   "cell_type": "markdown",
   "metadata": {},
   "source": [
    "Faça um programa em que são solicitados ao ao usuário dois valores (operandos) e um operador, que pode ser `+`, `-`, `*` ou `/`. De acordo com o operador digitado, mostre o resultado da operação."
   ]
  },
  {
   "cell_type": "code",
   "execution_count": null,
   "metadata": {},
   "outputs": [],
   "source": []
  },
  {
   "cell_type": "markdown",
   "metadata": {},
   "source": [
    "Ler 3 valores (A, B e C) representando as medidas dos lados de um triângulo e escrever se formam ou não um triângulo.  \n",
    "OBS: para formar um triângulo, o valor de cada lado deve ser menor que a soma dos outros 2 lados.  \n",
    "- Utilize apenas uma vez a estrutura se (**if**) no algoritmo."
   ]
  },
  {
   "cell_type": "code",
   "execution_count": null,
   "metadata": {},
   "outputs": [],
   "source": []
  },
  {
   "cell_type": "markdown",
   "metadata": {},
   "source": [
    "Escreva um programa para ler o número de lados de um polígono regular e a medida do lado (em cm). Calcular e imprimir o seguinte:  \n",
    "- Se o número de lados for igual a 3 escrever TRIÂNGULO e o valor da área. \n",
    "- Se o número de lados for igual a 4 escrever QUADRADO e o valor da sua área. \n",
    "- Se o número de lados for igual a 5 escrever PENTÁGONO.\n",
    "- Acrescente as seguintes mensagens à solução do exercício anterior, conforme o caso.\n",
    "    - Caso o número de lados seja inferior a 3 escrever NÃO É UM POLÍGONO.\n",
    "    - Caso o número de lados seja superior a 5 escrever POLÍGONO NÃO IDENTIFICADO."
   ]
  },
  {
   "cell_type": "code",
   "execution_count": null,
   "metadata": {},
   "outputs": [],
   "source": []
  },
  {
   "cell_type": "markdown",
   "metadata": {},
   "source": [
    "\n",
    "Escreva um programa que recebe um inteiro e diga se é par ou ímpar. Use o operador matemático `%` (resto da divisão ou módulo) e o teste condicional `if`."
   ]
  },
  {
   "cell_type": "code",
   "execution_count": null,
   "metadata": {},
   "outputs": [],
   "source": []
  },
  {
   "cell_type": "markdown",
   "metadata": {},
   "source": [
    "Faça um programa para ler um número e imprimir uma mensagem dizendo se tal número é par e positivo ao mesmo tempo."
   ]
  },
  {
   "cell_type": "code",
   "execution_count": null,
   "metadata": {},
   "outputs": [],
   "source": []
  },
  {
   "cell_type": "markdown",
   "metadata": {},
   "source": [
    "Faça um programa que recebe a idade de um nadador e classifique-o numa das seguintes categorias:\n",
    "- Adulto (idade >= 18);\n",
    "- Juvenil (idade >= 14 e idade < 18);\n",
    "- Infantil (idade >=9 e idade < 14);\n",
    "- Mirim (Idade < 9)."
   ]
  },
  {
   "cell_type": "code",
   "execution_count": null,
   "metadata": {},
   "outputs": [],
   "source": []
  },
  {
   "cell_type": "markdown",
   "metadata": {},
   "source": [
    "Uma empresa abriu uma linha de crédito para os funcionários. O valor da prestação não pode ultrapassar 30% do salário. Faça um programa que receba o salário, o valor do empréstimo e o número de prestações e informe se o empréstimo pode ser concedido. Nenhum dos valores informados pode ser zero ou negativo."
   ]
  },
  {
   "cell_type": "code",
   "execution_count": null,
   "metadata": {},
   "outputs": [],
   "source": []
  },
  {
   "cell_type": "markdown",
   "metadata": {},
   "source": [
    "Faça um programa que receber um número inteiro e informar se ele é divisível por 10, por 5, por 2 ou se não é divisível por nenhum destes."
   ]
  },
  {
   "cell_type": "code",
   "execution_count": null,
   "metadata": {},
   "outputs": [],
   "source": []
  },
  {
   "cell_type": "markdown",
   "metadata": {},
   "source": [
    "Um comerciante comprou um produto e quer vendê-lo com lucro de 45% se o valor da compra for menor que 20,00; caso contrário, o lucro será de 30%. Entrar com o valor do produto e imprimir o valor da venda."
   ]
  },
  {
   "cell_type": "code",
   "execution_count": null,
   "metadata": {},
   "outputs": [],
   "source": []
  },
  {
   "cell_type": "markdown",
   "metadata": {},
   "source": [
    "Escreva um programa que pergunte o raio de uma circunferência, e sem seguida mostre o diâmetro, comprimento e área da circunferência."
   ]
  },
  {
   "cell_type": "code",
   "execution_count": null,
   "metadata": {},
   "outputs": [],
   "source": []
  },
  {
   "cell_type": "markdown",
   "metadata": {},
   "source": [
    "Para doar sangue é necessário ter entre 18 e 67 anos. Faça um *software* que pergunte a idade de uma pessoa e diga se ela pode doar sangue ou não."
   ]
  },
  {
   "cell_type": "code",
   "execution_count": null,
   "metadata": {},
   "outputs": [],
   "source": []
  },
  {
   "cell_type": "markdown",
   "metadata": {},
   "source": [
    "Faça um programa que receba três notas, calcule e mostre a média aritmética entre elas, caso a media aritmética seja:  \n",
    "- Média maior ou igual a 7: ALUNO APROVADO\n",
    "- Média menor que 7: ALUNO REPROVADO"
   ]
  },
  {
   "cell_type": "code",
   "execution_count": null,
   "metadata": {},
   "outputs": [],
   "source": []
  },
  {
   "cell_type": "markdown",
   "metadata": {},
   "source": [
    "Faça um programa que calcula o desconto previdenciário de determinado funcionário. O desconto deve ser calculado com base no salário do funcionário, sendo este 15.2% do salário. O desconto é limitado de R$ 1000,00. Informe o desconto, tendo como entrada o salário."
   ]
  },
  {
   "cell_type": "code",
   "execution_count": null,
   "metadata": {},
   "outputs": [],
   "source": []
  },
  {
   "cell_type": "markdown",
   "metadata": {},
   "source": [
    "Desenvolva um programa que informa se determinado aluno está ou não reprovado por faltas. O aluno deve ter 75% de presença na disciplina para ser aprovado."
   ]
  },
  {
   "cell_type": "code",
   "execution_count": null,
   "metadata": {},
   "outputs": [],
   "source": []
  },
  {
   "cell_type": "markdown",
   "metadata": {},
   "source": [
    "Um comerciante comprou determinado produto, e deseja vendê-lo obtendo 45\\% de lucro, caso o valor da compra seja menor que R$ 200,00. Caso contrário, o lucro deverá ser de 51\\%. Implemente um programa que peça o valor de custo do produto e calcule por quanto o produto deve ser vendido."
   ]
  },
  {
   "cell_type": "code",
   "execution_count": null,
   "metadata": {},
   "outputs": [],
   "source": []
  },
  {
   "cell_type": "markdown",
   "metadata": {},
   "source": [
    "Faça um Programa que peça um número correspondente a um determinado ano e em seguida informe se este ano é ou não bissexto. Considere valores a partir do ano 1000."
   ]
  },
  {
   "cell_type": "code",
   "execution_count": null,
   "metadata": {},
   "outputs": [],
   "source": []
  },
  {
   "cell_type": "markdown",
   "metadata": {},
   "source": [
    "Faça um Programa para um caixa eletrônico. O programa deverá perguntar ao usuário a valor do saque e depois informar quantas notas de cada valor serão fornecidas. As notas disponíveis serão as de 1, 5, 10, 50 e 100 reais. O valor mínimo é de 10 reais e o máximo de 600 reais. O programa não deve se preocupar com a quantidade de notas existentes na máquina.\n",
    "\n",
    "- Exemplo 1: Para sacar a quantia de 256 reais, o programa fornece duas notas de 100, uma nota de 50, uma nota de 5 e uma nota de 1;\n",
    "- Exemplo 2: Para sacar a quantia de 399 reais, o programa fornece três notas de 100, uma nota de 50, quatro notas de 10, uma nota de 5 e quatro notas de 1. \n",
    "\n",
    "(Fonte: [EstruturaDeDecisao - PythonBrasil](https://wiki.python.org.br/EstruturaDeDecisao))"
   ]
  },
  {
   "cell_type": "code",
   "execution_count": null,
   "metadata": {},
   "outputs": [],
   "source": []
  },
  {
   "cell_type": "markdown",
   "metadata": {},
   "source": [
    "Faça um programa que faça 5 perguntas para uma pessoa sobre um crime. As perguntas são:\n",
    "\n",
    "- \"Telefonou para a vítima?\"\n",
    "- \"Esteve no local do crime?\"\n",
    "- \"Mora perto da vítima?\"\n",
    "- \"Devia para a vítima?\"\n",
    "- \"Já trabalhou com a vítima?\" \n",
    "\n",
    "O programa deve no final emitir uma classificação sobre a participação da pessoa no crime. Se a pessoa responder positivamente a 2 questões ela deve ser classificada como \"Suspeita\", entre 3 e 4 como \"Cúmplice\" e 5 como \"Assassino\". Caso contrário, ele será classificado como \"Inocente\". \n",
    "\n",
    "(Fonte: [EstruturaDeDecisao - PythonBrasil](https://wiki.python.org.br/EstruturaDeDecisao))"
   ]
  },
  {
   "cell_type": "code",
   "execution_count": null,
   "metadata": {},
   "outputs": [],
   "source": []
  },
  {
   "cell_type": "markdown",
   "metadata": {},
   "source": [
    "Um posto está vendendo combustíveis com a seguinte tabela de descontos:\n",
    "\n",
    "|Quantidade|Etanol|Gasolina|\n",
    "|------------------|--------|--|\n",
    "|até 20 litros     |desconto de 3%|desconto de 4%\n",
    "|acima de 20 litros|desconto de 5%|desconto de 6%\n",
    "\n",
    "\n",
    "    \n",
    "Escreva um algoritmo que leia o número de litros vendidos, o tipo de combustível (codificado da seguinte forma: E-etanol, G-gasolina). Calcule e imprima o valor a ser pago pelo cliente sabendo-se que o preço do litro da gasolina é R\\\\$ 4,50 o preço do litro do etano é R\\\\$ 3,15. \n",
    "    \n",
    "(Adaptado de [EstruturaDeDecisao - PythonBrasil](https://wiki.python.org.br/EstruturaDeDecisao))"
   ]
  },
  {
   "cell_type": "code",
   "execution_count": null,
   "metadata": {},
   "outputs": [],
   "source": []
  }
 ],
 "metadata": {
  "kernelspec": {
   "display_name": "Python 3 (ipykernel)",
   "language": "python",
   "name": "python3"
  },
  "language_info": {
   "codemirror_mode": {
    "name": "ipython",
    "version": 3
   },
   "file_extension": ".py",
   "mimetype": "text/x-python",
   "name": "python",
   "nbconvert_exporter": "python",
   "pygments_lexer": "ipython3",
   "version": "3.8.10"
  }
 },
 "nbformat": 4,
 "nbformat_minor": 2
}
