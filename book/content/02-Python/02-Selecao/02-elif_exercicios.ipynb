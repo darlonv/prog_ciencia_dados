{
 "cells": [
  {
   "cell_type": "markdown",
   "metadata": {},
   "source": [
    "# Exercícios `elif`\n",
    "\n",
    "Resolva os exercícios abaixo utilizando a linguagem de programação Python e estruturas `elif`."
   ]
  },
  {
   "cell_type": "markdown",
   "metadata": {},
   "source": [
    "Faça um programa simula uma calculadora simples, perguntando ao usuários dois valores e um operador (+, -, \\*, /). O programa deve mostrar o resultado da operação utilizando os operadores e o operador."
   ]
  },
  {
   "cell_type": "code",
   "execution_count": null,
   "metadata": {},
   "outputs": [],
   "source": []
  },
  {
   "cell_type": "markdown",
   "metadata": {},
   "source": [
    "Faça um programa em que o usuário entra com o número do dia da semana (1=domingo, 2=segunda-feira...) e o programa apresenta o dia da semana por extenso."
   ]
  },
  {
   "cell_type": "code",
   "execution_count": null,
   "metadata": {},
   "outputs": [],
   "source": []
  },
  {
   "cell_type": "markdown",
   "metadata": {},
   "source": [
    "Faça um programa em que o usuário digita o número do mês (1: janeiro, 2: fevereiro...), e o programa apresenta o nome do mês por extenso."
   ]
  },
  {
   "cell_type": "code",
   "execution_count": null,
   "metadata": {},
   "outputs": [],
   "source": []
  },
  {
   "cell_type": "markdown",
   "metadata": {},
   "source": [
    "Faça um programa em que o usuário digita o número do mês e tem como resultado o número de dias que aquele mês possui. Desconsidere anos bissextos."
   ]
  },
  {
   "cell_type": "code",
   "execution_count": null,
   "metadata": {},
   "outputs": [],
   "source": []
  },
  {
   "cell_type": "markdown",
   "metadata": {},
   "source": [
    "Faça um programa que mostra a data atual por extenso, e quantos dias faltam para o próximo mês.\n",
    "\n",
    "**Exemplo de saída**  \n",
    "\n",
    "```\n",
    "Hoje é terça-feira, 10 de março de 2020. Faltam 14 dias para o próximo mês.\n",
    "```\n",
    "\n",
    "Para obter as informações sobre a data, utilize a biblioteca `datetime`, como no exemplo apresentado abaixo.\n",
    "\n",
    "```python\n",
    "import datetime\n",
    "dt = datetime.datetime.today()\n",
    "\n",
    "ano = dt.year #Ano atual\n",
    "mes = dt.month #Mês atual\n",
    "diaMes = dt.day #Dia do mês atual\n",
    "diaSeM = dt.weekday() #Dia da semana atual\n",
    "```\n",
    "\n"
   ]
  },
  {
   "cell_type": "code",
   "execution_count": null,
   "metadata": {},
   "outputs": [],
   "source": []
  },
  {
   "cell_type": "markdown",
   "metadata": {},
   "source": [
    "Faça um programa que informa quantos dias já se passaram desde o início do ano. Desconsidere anos bissextos."
   ]
  },
  {
   "cell_type": "code",
   "execution_count": null,
   "metadata": {},
   "outputs": [],
   "source": []
  },
  {
   "cell_type": "markdown",
   "metadata": {},
   "source": [
    "Um banco concederá um crédito especial aos seus clientes, variável de acordo com com o saldo médio no último ano. Faça um algoritmo que a partir do saldo médio de um cliente calcula o valor do crédito de acordo com a tabela apresentada abaixo. Mostre uma mensagem informando o saldo médio e o valor do crédito a ser concedido ao cliente. \n",
    "\n",
    "|    Saldo médio       | Crédito concedido|\n",
    "|----------------------|------------------|\n",
    "|R\\$ 0,00 a 200,00     | 0%               |\n",
    "|R\\$ 201,00 a 400,00   | 20%              |\n",
    "|R\\$ 401,00 a 600,00   | 30%              |\n",
    "|maior de R\\$ 601,00   | 40%              |\n"
   ]
  },
  {
   "cell_type": "code",
   "execution_count": null,
   "metadata": {},
   "outputs": [],
   "source": []
  }
 ],
 "metadata": {
  "kernelspec": {
   "display_name": "Python 3",
   "language": "python",
   "name": "python3"
  },
  "language_info": {
   "codemirror_mode": {
    "name": "ipython",
    "version": 3
   },
   "file_extension": ".py",
   "mimetype": "text/x-python",
   "name": "python",
   "nbconvert_exporter": "python",
   "pygments_lexer": "ipython3",
   "version": "3.6.8"
  }
 },
 "nbformat": 4,
 "nbformat_minor": 2
}
