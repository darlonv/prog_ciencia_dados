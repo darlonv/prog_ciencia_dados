{
 "cells": [
  {
   "cell_type": "markdown",
   "metadata": {},
   "source": [
    "# Numpy - Exercícios"
   ]
  },
  {
   "cell_type": "code",
   "execution_count": null,
   "metadata": {},
   "outputs": [],
   "source": []
  },
  {
   "cell_type": "markdown",
   "metadata": {},
   "source": [
    "Gere uma matriz 5x5 utilizando *arrays* numpy, com o valor 2 na diagonal principal.\n",
    "\n",
    "Saída:\n",
    "```py\n",
    "array([[2., 0., 0., 0., 0.],\n",
    "       [0., 2., 0., 0., 0.],\n",
    "       [0., 0., 2., 0., 0.],\n",
    "       [0., 0., 0., 2., 0.],\n",
    "       [0., 0., 0., 0., 2.]])\n",
    "```"
   ]
  },
  {
   "cell_type": "code",
   "execution_count": null,
   "metadata": {},
   "outputs": [],
   "source": []
  },
  {
   "cell_type": "markdown",
   "metadata": {},
   "source": [
    "Gere uma matriz 10x10 utilizando *arrays* numpy, com o valor -1 na diagonal principal e 2 nas demais posições.\n",
    "\n",
    "Saída:\n",
    "```py\n",
    "array([[1., 2., 2., 2., 2., 2., 2., 2., 2., 2.],\n",
    "       [2., 1., 2., 2., 2., 2., 2., 2., 2., 2.],\n",
    "       [2., 2., 1., 2., 2., 2., 2., 2., 2., 2.],\n",
    "       [2., 2., 2., 1., 2., 2., 2., 2., 2., 2.],\n",
    "       [2., 2., 2., 2., 1., 2., 2., 2., 2., 2.],\n",
    "       [2., 2., 2., 2., 2., 1., 2., 2., 2., 2.],\n",
    "       [2., 2., 2., 2., 2., 2., 1., 2., 2., 2.],\n",
    "       [2., 2., 2., 2., 2., 2., 2., 1., 2., 2.],\n",
    "       [2., 2., 2., 2., 2., 2., 2., 2., 1., 2.],\n",
    "       [2., 2., 2., 2., 2., 2., 2., 2., 2., 1.]])\n",
    "```"
   ]
  },
  {
   "cell_type": "code",
   "execution_count": null,
   "metadata": {},
   "outputs": [],
   "source": []
  },
  {
   "cell_type": "markdown",
   "metadata": {},
   "source": [
    "Gere uma matriz de ordem 7x7, com valores 0 na diagonal principal e 1 nas demais posições.\n",
    "\n",
    "Saída:\n",
    "```py\n",
    "array([[0., 1., 1., 1., 1., 1., 1.],\n",
    "       [1., 0., 1., 1., 1., 1., 1.],\n",
    "       [1., 1., 0., 1., 1., 1., 1.],\n",
    "       [1., 1., 1., 0., 1., 1., 1.],\n",
    "       [1., 1., 1., 1., 0., 1., 1.],\n",
    "       [1., 1., 1., 1., 1., 0., 1.],\n",
    "       [1., 1., 1., 1., 1., 1., 0.]])\n",
    "```"
   ]
  },
  {
   "cell_type": "code",
   "execution_count": null,
   "metadata": {},
   "outputs": [],
   "source": []
  },
  {
   "cell_type": "markdown",
   "metadata": {},
   "source": [
    "Gere *arrays* numpy com valores aleatórios, com `n` posições, de forma que `n` deve ser definido em uma variável.  \n",
    "Os *arrays* gerados devem ser:\n",
    "- idade: (valores entre 0 e 100 anos)\n",
    "- peso:  (valores entre 1 e 120 kilos)\n",
    "- altura (entre 0.5 e 2.0 metros)\n",
    "- sexo   (f ou m)\n",
    "\n",
    "Com base nos dados gerados, obtenha:\n",
    "- A idade média de todas as as pessoas\n",
    "- O peso médio de todas as pessoas\n",
    "- A altura média de todas as pessoas\n",
    "- O peso médio das pessoas menores de 20 anos\n",
    "- O peso médio das pessoas com idade entre 20 e 60 anos\n",
    "- O peso médio das pessoas com mais de 60 anos\n",
    "- O peso médio das pessoas, separadas por sexo\n",
    "- O IMC das pessoas, separadas por sexo\n",
    "- A idade da pessoa mais alta, e da mais baixa\n",
    "- A idade da pessoa com maior peso e da com menor peso\n",
    "- A maior e menor idade, de acordo com cada sexo."
   ]
  },
  {
   "cell_type": "code",
   "execution_count": null,
   "metadata": {},
   "outputs": [],
   "source": []
  },
  {
   "cell_type": "markdown",
   "metadata": {},
   "source": [
    "Crie um *array* numpy com valores aleatórios. Em seguida, mostre apenas os valores ímpares presentes no *array*."
   ]
  },
  {
   "cell_type": "code",
   "execution_count": null,
   "metadata": {},
   "outputs": [],
   "source": []
  },
  {
   "cell_type": "markdown",
   "metadata": {},
   "source": [
    "Crie um *array* numpy com valores de 1 a 19. Em seguida, substitua todos os valores pares por -1."
   ]
  },
  {
   "cell_type": "code",
   "execution_count": null,
   "metadata": {},
   "outputs": [],
   "source": []
  },
  {
   "cell_type": "markdown",
   "metadata": {},
   "source": [
    "Transforme os arrays\n",
    "```\n",
    "array([1, 1, 1, 1, 1, 1, 1, 1, 1, 1])\n",
    "array([2, 2, 2, 2, 2, 2, 2, 2, 2, 2])\n",
    "```\n",
    "em um array de duas dimensões, concatenando-os verticalmente.\n",
    "\n",
    "Saída:\n",
    "```\n",
    "array([[1, 2],\n",
    "       [1, 2],\n",
    "       [1, 2],\n",
    "       [1, 2],\n",
    "       [1, 2],\n",
    "       [1, 2],\n",
    "       [1, 2],\n",
    "       [1, 2],\n",
    "       [1, 2],\n",
    "       [1, 2]])\n",
    "```\n",
    "\n"
   ]
  },
  {
   "cell_type": "code",
   "execution_count": null,
   "metadata": {},
   "outputs": [],
   "source": []
  },
  {
   "cell_type": "code",
   "execution_count": null,
   "metadata": {},
   "outputs": [],
   "source": []
  }
 ],
 "metadata": {
  "kernelspec": {
   "display_name": "Python 3 (ipykernel)",
   "language": "python",
   "name": "python3"
  },
  "language_info": {
   "codemirror_mode": {
    "name": "ipython",
    "version": 3
   },
   "file_extension": ".py",
   "mimetype": "text/x-python",
   "name": "python",
   "nbconvert_exporter": "python",
   "pygments_lexer": "ipython3",
   "version": "3.8.10"
  }
 },
 "nbformat": 4,
 "nbformat_minor": 2
}
