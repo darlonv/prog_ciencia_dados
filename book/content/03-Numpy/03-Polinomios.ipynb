{
 "cells": [
  {
   "cell_type": "markdown",
   "metadata": {},
   "source": [
    "# Equações polinomiais\n",
    "\n",
    "A biblioteca numpy possui funções para o cálculo de polinômios, de ordem $n$."
   ]
  },
  {
   "cell_type": "code",
   "execution_count": null,
   "metadata": {},
   "outputs": [],
   "source": []
  },
  {
   "cell_type": "markdown",
   "metadata": {},
   "source": [
    "Utilizaremos também o módulo **pyplot** da biblioteca **matplotlib**, para plotar gráficos das funções. Para importar a biblioteca:\n",
    "```py\n",
    "import matplotlib.pyplot as plt\n",
    "%matplotlib inline\n",
    "```\n",
    "O comando `%matplotlib inline` indica ao Jupyter para plotar os gráficos diretamente no Jupyter."
   ]
  },
  {
   "cell_type": "code",
   "execution_count": null,
   "metadata": {},
   "outputs": [],
   "source": []
  },
  {
   "cell_type": "markdown",
   "metadata": {},
   "source": [
    "## Gráficos"
   ]
  },
  {
   "cell_type": "markdown",
   "metadata": {},
   "source": [
    "Antes de iniciar com os polinômios, faremos alguns exemplos utilizando gráficos. Para plotar um gráfico, é necessário indicar quais são os pontos $x$ e $y$ que devem ser mostrados. O gráfico de *scatter* serve para essa finalidade.\n",
    "\n",
    "```py\n",
    "x = [1,2,3,4,5]\n",
    "y = [1,2,1,2,3]\n",
    "plt.scatter(x,y)\n",
    "```"
   ]
  },
  {
   "cell_type": "code",
   "execution_count": null,
   "metadata": {},
   "outputs": [],
   "source": []
  },
  {
   "cell_type": "markdown",
   "metadata": {},
   "source": [
    "**Exemplo**\n",
    "\n",
    "Plotando os pontos da função $x^2$.\n",
    "\n",
    "```py\n",
    "x = np.arange(5)\n",
    "y = x**2\n",
    "plt.scatter(x,y)\n",
    "```\n"
   ]
  },
  {
   "cell_type": "code",
   "execution_count": null,
   "metadata": {},
   "outputs": [],
   "source": []
  },
  {
   "cell_type": "markdown",
   "metadata": {},
   "source": [
    "Com a função `plot` do módulo `pyplot` é possível fazer o gráfico de linhas, de forma que estas interligam cada ponto.\n",
    "\n",
    "**Exemplo**\n",
    "```py\n",
    "x = np.arange(3)\n",
    "y = x**2\n",
    "plt.plot(x,y)\n",
    "```"
   ]
  },
  {
   "cell_type": "code",
   "execution_count": null,
   "metadata": {},
   "outputs": [],
   "source": []
  },
  {
   "cell_type": "markdown",
   "metadata": {},
   "source": [
    "**Atividade**\n",
    "\n",
    "Com a função $x^2$, faça:\n",
    "- Aumente o número de pontos para 5 e plote um gráfico de linhas\n",
    "- Aumente o número de pontos para 10 e plote um gráfico de linhas\n",
    "- Aumente o número de pontos para 100 e plote um gráfico de linhas\n"
   ]
  },
  {
   "cell_type": "code",
   "execution_count": null,
   "metadata": {},
   "outputs": [],
   "source": []
  },
  {
   "cell_type": "markdown",
   "metadata": {},
   "source": [
    "O parâmetro `c` permite que seja escolhida a cor do gráfico.\n",
    "**Exemplo**\n",
    "\n",
    "```py\n",
    "x = np.arange(3)\n",
    "y = x**2\n",
    "plt.scatter(x,y, c='r')\n",
    "```"
   ]
  },
  {
   "cell_type": "code",
   "execution_count": null,
   "metadata": {},
   "outputs": [],
   "source": []
  },
  {
   "cell_type": "markdown",
   "metadata": {},
   "source": [
    "Outra possibilidade são várias funções no mesmo gráfico.\n",
    "**Exemplo**\n",
    "\n",
    "```py\n",
    "x = np.arange(-10,10)\n",
    "y0 = x**2\n",
    "y1 = x+10\n",
    "plt.plot(x,y0, c='r')\n",
    "plt.plot(x,y1, c='k')\n",
    "```"
   ]
  },
  {
   "cell_type": "code",
   "execution_count": null,
   "metadata": {},
   "outputs": [],
   "source": []
  },
  {
   "cell_type": "markdown",
   "metadata": {},
   "source": [
    "**Atividade**\n",
    "\n",
    "Plote o gráfico de linhas da função $x^2$, com 1000 valores de $x$, indo de -100 a 100. Compare a diferença com o gráfico da atividade anterior."
   ]
  },
  {
   "cell_type": "code",
   "execution_count": null,
   "metadata": {},
   "outputs": [],
   "source": []
  },
  {
   "cell_type": "markdown",
   "metadata": {},
   "source": [
    "**Polinômios**\n",
    "\n",
    "A representação de um polinômio com uma lista que consiste nos **coeficientes** do polinômio. A função `polyval` calcula os valores de $y$ para uma entrada $x$ utilizando os coeficientes definidos.\n",
    "\n",
    "**Exemplo**\n",
    "\n",
    "Na função $$y=2x^2 + 5x + 1$$ os coeficientes são 2, 5 e 1.\n",
    "```py\n",
    "coefs=[2,5,1]\n",
    "x=np.arange(10)\n",
    "y = np.polyval(coefs,x)\n",
    "plt.plot(x,y)\n",
    "```"
   ]
  },
  {
   "cell_type": "code",
   "execution_count": null,
   "metadata": {},
   "outputs": [],
   "source": []
  },
  {
   "cell_type": "markdown",
   "metadata": {},
   "source": [
    "**Atividade**\n",
    "\n",
    "Faça o gráfico de linha da equação $2x^2 + 5x + 1$, com valores para $x$ de -100 a 100."
   ]
  },
  {
   "cell_type": "code",
   "execution_count": null,
   "metadata": {},
   "outputs": [],
   "source": []
  },
  {
   "cell_type": "markdown",
   "metadata": {},
   "source": [
    "**Atividade**\n",
    "\n",
    "Faça o gráfico da equação $$y=x^3-4x^2+2x+3$$ para $x$ de -100 a 100."
   ]
  },
  {
   "cell_type": "code",
   "execution_count": null,
   "metadata": {},
   "outputs": [],
   "source": []
  },
  {
   "cell_type": "markdown",
   "metadata": {},
   "source": [
    "**Atividade**\n",
    "\n",
    "Plote um gráfico de linha que contenha o gráfico de duas funções, o do polinômio $x^3-4x^2+2x+3$ e uma reta interligando os pontos inicial e final do polinômio. Utilize cores diferentes, e valores de $x$ de -100 a 100."
   ]
  },
  {
   "cell_type": "code",
   "execution_count": null,
   "metadata": {},
   "outputs": [],
   "source": []
  },
  {
   "cell_type": "markdown",
   "metadata": {},
   "source": [
    "## Raízes de um polinômio\n",
    "É possível obter as raízes de determinado polinômio, utilizando a função `np.roots()`.\n",
    "\n",
    "**Exemplo**\n",
    "\n",
    "As raízes do polinômio $$y=x^2-5$$\n",
    "```py\n",
    "coefs=[1,0,-5]\n",
    "raizes = np.roots(coefs)\n",
    "print(raizes)\n",
    "```"
   ]
  },
  {
   "cell_type": "code",
   "execution_count": null,
   "metadata": {},
   "outputs": [],
   "source": []
  },
  {
   "cell_type": "code",
   "execution_count": null,
   "metadata": {},
   "outputs": [],
   "source": []
  },
  {
   "cell_type": "markdown",
   "metadata": {},
   "source": [
    "**Atividade**\n",
    "\n",
    "Calcule as raízes do polinômio $$y=-x^3-4x^2+2x+3$$\n",
    "Plote o gráfico do polinômio e também os pontos das raízes."
   ]
  },
  {
   "cell_type": "code",
   "execution_count": null,
   "metadata": {},
   "outputs": [],
   "source": []
  },
  {
   "cell_type": "markdown",
   "metadata": {},
   "source": [
    "**Atividade**\n",
    "\n",
    "Plote o gráfico e calcule as raízes do polinômio $$y=x^2+2$$\n",
    "- Observe o gráfico e as raízes, e explique o resultado.\n",
    "- Qual é o tipo de dado utilizado nas raízes?"
   ]
  },
  {
   "cell_type": "code",
   "execution_count": null,
   "metadata": {},
   "outputs": [],
   "source": []
  },
  {
   "cell_type": "code",
   "execution_count": null,
   "metadata": {},
   "outputs": [],
   "source": []
  },
  {
   "cell_type": "markdown",
   "metadata": {},
   "source": [
    "## Referências\n",
    "\n",
    "[SCIPY. numpy.polyval](https://docs.scipy.org/doc/numpy/reference/generated/numpy.polyval.html#numpy.polyval)  \n",
    "[SCIPY. numpy.roots](https://docs.scipy.org/doc/numpy/reference/generated/numpy.roots.html)\n"
   ]
  },
  {
   "cell_type": "code",
   "execution_count": null,
   "metadata": {},
   "outputs": [],
   "source": []
  }
 ],
 "metadata": {
  "kernelspec": {
   "display_name": "Python 3",
   "language": "python",
   "name": "python3"
  },
  "language_info": {
   "codemirror_mode": {
    "name": "ipython",
    "version": 3
   },
   "file_extension": ".py",
   "mimetype": "text/x-python",
   "name": "python",
   "nbconvert_exporter": "python",
   "pygments_lexer": "ipython3",
   "version": "3.6.8"
  }
 },
 "nbformat": 4,
 "nbformat_minor": 2
}
