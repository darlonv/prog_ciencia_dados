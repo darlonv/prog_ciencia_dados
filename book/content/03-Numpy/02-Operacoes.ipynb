{
 "cells": [
  {
   "cell_type": "markdown",
   "metadata": {},
   "source": [
    "# Operações sobre *arrays*"
   ]
  },
  {
   "cell_type": "code",
   "execution_count": null,
   "metadata": {},
   "outputs": [],
   "source": [
    "import numpy as np"
   ]
  },
  {
   "cell_type": "markdown",
   "metadata": {},
   "source": [
    "*Array* exemplo\n",
    "```py\n",
    "x = np.array([ [1, 2],[3, 4] ])  \n",
    "y = np.array([ [5, 6],[7, 8] ])  \n",
    "print('x:',x)\n",
    "print('y:',y)\n",
    "```"
   ]
  },
  {
   "cell_type": "code",
   "execution_count": null,
   "metadata": {},
   "outputs": [],
   "source": []
  },
  {
   "cell_type": "markdown",
   "metadata": {},
   "source": [
    "Operações básicas podem ser realizadas sobre o array  \n",
    "\n",
    "- adição (+)\n",
    "- subtração (-)\n",
    "- multiplicação (\\*)\n",
    "- divisão (/)\n",
    "\n",
    "**Exemplo**\n",
    "\n",
    "```py\n",
    "x+y\n",
    "x-y\n",
    "x*y\n",
    "x/y\n",
    "```"
   ]
  },
  {
   "cell_type": "code",
   "execution_count": null,
   "metadata": {},
   "outputs": [],
   "source": []
  },
  {
   "cell_type": "code",
   "execution_count": null,
   "metadata": {},
   "outputs": [],
   "source": []
  },
  {
   "cell_type": "markdown",
   "metadata": {},
   "source": [
    "Uma boa comparação entre o uso de listas e arrays numpy é o tempo gasto nas operações.\n",
    "\n",
    "**Exemplo**  \n",
    "\n",
    "Tomemos um vetor e uma lista com 1 milhão de elementos, multipliquemos seus valores por 2.\n",
    "\n",
    "- Geração de um array numpy e uma lista, ambos com 1 milhão de elementos:\n",
    "```python\n",
    "my_arr = np.arange(1000000)\n",
    "my_list = list(range(1000000))\n",
    "```"
   ]
  },
  {
   "cell_type": "code",
   "execution_count": null,
   "metadata": {},
   "outputs": [],
   "source": []
  },
  {
   "cell_type": "markdown",
   "metadata": {},
   "source": [
    "- Numpy: Multiplicação de todos os elementos por 2 (1000 vezes)\n",
    "\n",
    "```python\n",
    "%%time \n",
    "for _ in range(1000):\n",
    "    my_arr2 = my_arr * 2\n",
    "```"
   ]
  },
  {
   "cell_type": "code",
   "execution_count": null,
   "metadata": {},
   "outputs": [],
   "source": []
  },
  {
   "cell_type": "markdown",
   "metadata": {},
   "source": [
    "- Listas: Multiplicação de todos os elementos por 2 (1000 vezes)\n",
    "\n",
    "```python\n",
    "%%time\n",
    "for _ in range(1000):\n",
    "    my_list2 = [x*2 for x in my_list]\n",
    "```"
   ]
  },
  {
   "cell_type": "code",
   "execution_count": null,
   "metadata": {},
   "outputs": [],
   "source": []
  },
  {
   "cell_type": "code",
   "execution_count": null,
   "metadata": {},
   "outputs": [],
   "source": []
  },
  {
   "cell_type": "code",
   "execution_count": null,
   "metadata": {},
   "outputs": [],
   "source": []
  },
  {
   "cell_type": "code",
   "execution_count": null,
   "metadata": {},
   "outputs": [],
   "source": []
  },
  {
   "cell_type": "code",
   "execution_count": null,
   "metadata": {},
   "outputs": [],
   "source": []
  },
  {
   "cell_type": "markdown",
   "metadata": {},
   "source": [
    "A biblioteca numpy também possui outras operações  \n",
    "\n",
    "```py\n",
    "np.add  \n",
    "np.subtract  \n",
    "np.multiply  \n",
    "np.divide  \n",
    "np.sqrt  \n",
    "```\n",
    "\n",
    "**Exemplo**\n",
    "\n",
    "```py\n",
    "np.add(x,4)\n",
    "np.subtract(x,2)\n",
    "np.multiply(x,5)\n",
    "np.divide(x,2)\n",
    "np.sqrt(x)\n",
    "\n",
    "```"
   ]
  },
  {
   "cell_type": "code",
   "execution_count": null,
   "metadata": {},
   "outputs": [],
   "source": []
  },
  {
   "cell_type": "code",
   "execution_count": null,
   "metadata": {},
   "outputs": [],
   "source": []
  },
  {
   "cell_type": "code",
   "execution_count": null,
   "metadata": {},
   "outputs": [],
   "source": []
  },
  {
   "cell_type": "code",
   "execution_count": null,
   "metadata": {},
   "outputs": [],
   "source": []
  },
  {
   "cell_type": "code",
   "execution_count": null,
   "metadata": {},
   "outputs": [],
   "source": []
  },
  {
   "cell_type": "markdown",
   "metadata": {},
   "source": [
    "Possui também operações sobre os valores em arrays  \n",
    "```py\n",
    "np.sum  \n",
    "np.mean  \n",
    "np.min  \n",
    "np.max  \n",
    "...\n",
    "```\n",
    "**Exemplo**\n",
    "\n",
    "```py\n",
    "x.sum()\n",
    "x.mean()\n",
    "x.min()\n",
    "x.max()\n",
    "```"
   ]
  },
  {
   "cell_type": "code",
   "execution_count": null,
   "metadata": {},
   "outputs": [],
   "source": []
  },
  {
   "cell_type": "code",
   "execution_count": null,
   "metadata": {},
   "outputs": [],
   "source": []
  },
  {
   "cell_type": "code",
   "execution_count": null,
   "metadata": {},
   "outputs": [],
   "source": []
  },
  {
   "cell_type": "code",
   "execution_count": null,
   "metadata": {},
   "outputs": [],
   "source": []
  },
  {
   "cell_type": "code",
   "execution_count": null,
   "metadata": {},
   "outputs": [],
   "source": []
  },
  {
   "cell_type": "markdown",
   "metadata": {},
   "source": [
    "**Atividade**\n",
    "\n",
    "Realize as seguinte operações:\n",
    "```py\n",
    "a = np.array([[1,2,3], [4,5,6], [7,8,9], [10, 11, 12]])  \n",
    "b = np.array([0, 2, 0, 1])  \n",
    "a[np.arange(4), b] += 10\n",
    "```\n",
    "\n",
    "Observe:\n",
    "- Quais são os conteúdos dos *arrays* `a` e `b` após a criação deles?\n",
    "- Qual é o resultado da expressão `np.arange(4)`?\n",
    "- Ao final, qual é o conteúdo do *array* `a`?\n",
    "- Quais posições de `a` foram alteradas?\n",
    "    - Por que apenas essas posições foram alteradas?\n"
   ]
  },
  {
   "cell_type": "code",
   "execution_count": null,
   "metadata": {},
   "outputs": [],
   "source": []
  },
  {
   "cell_type": "code",
   "execution_count": null,
   "metadata": {},
   "outputs": [],
   "source": []
  },
  {
   "cell_type": "code",
   "execution_count": null,
   "metadata": {},
   "outputs": [],
   "source": []
  },
  {
   "cell_type": "code",
   "execution_count": null,
   "metadata": {},
   "outputs": [],
   "source": []
  },
  {
   "cell_type": "code",
   "execution_count": null,
   "metadata": {},
   "outputs": [],
   "source": []
  },
  {
   "cell_type": "code",
   "execution_count": null,
   "metadata": {},
   "outputs": [],
   "source": []
  },
  {
   "cell_type": "code",
   "execution_count": null,
   "metadata": {},
   "outputs": [],
   "source": []
  },
  {
   "cell_type": "markdown",
   "metadata": {},
   "source": [
    "## Indexação booleana\n",
    "\n",
    "Numpy possibilita que sejam aplicadas operações a todos os elementos. Para operadores relacionais, é retornado um *array* booleano."
   ]
  },
  {
   "cell_type": "markdown",
   "metadata": {},
   "source": [
    "**Atividade**\n",
    "\n",
    "Execute:  \n",
    "```py\n",
    "a = np.array([[1,2,3,4], [5,6,7,8], [9,10,11,12]])  \n",
    "idx = a > 6\n",
    "```\n",
    "\n",
    "Observe o conteúdo:  \n",
    "- do array `a`\n",
    "- do array `idx`"
   ]
  },
  {
   "cell_type": "code",
   "execution_count": null,
   "metadata": {},
   "outputs": [],
   "source": []
  },
  {
   "cell_type": "code",
   "execution_count": null,
   "metadata": {},
   "outputs": [],
   "source": []
  },
  {
   "cell_type": "code",
   "execution_count": null,
   "metadata": {},
   "outputs": [],
   "source": []
  },
  {
   "cell_type": "markdown",
   "metadata": {},
   "source": [
    "Execute:\n",
    "```py\n",
    "a[idx]\n",
    "```\n",
    "\n",
    "Observe o resultado."
   ]
  },
  {
   "cell_type": "code",
   "execution_count": null,
   "metadata": {},
   "outputs": [],
   "source": []
  },
  {
   "cell_type": "markdown",
   "metadata": {},
   "source": [
    "Execute:  \n",
    "```py\n",
    "a[idx] += 100\n",
    "```\n",
    "\n",
    "Observe o resultado. O que aconteceu?"
   ]
  },
  {
   "cell_type": "code",
   "execution_count": null,
   "metadata": {},
   "outputs": [],
   "source": []
  },
  {
   "cell_type": "markdown",
   "metadata": {},
   "source": [
    "**Atividade**\n",
    "\n",
    "- Qual é a soma dos números com valor maior que $8$ no array `a`?"
   ]
  },
  {
   "cell_type": "code",
   "execution_count": null,
   "metadata": {},
   "outputs": [],
   "source": []
  },
  {
   "cell_type": "markdown",
   "metadata": {},
   "source": [
    "Qual é a soma dos valores menores que $10$ no array `a`?"
   ]
  },
  {
   "cell_type": "code",
   "execution_count": null,
   "metadata": {},
   "outputs": [],
   "source": []
  },
  {
   "cell_type": "markdown",
   "metadata": {},
   "source": [
    "## Where\n",
    "\n",
    "Utilizando `np.where()`, é possível descobrir quais posições do *array* correspondem a determinada condição.\n",
    "\n",
    "**Exemplo**\n",
    "\n",
    "Extrair valores maiores que 15:\n",
    "```py\n",
    "arr = np.arange(10,20)\n",
    "np.where(arr > 15)\n",
    "```\n",
    "\n",
    "Extrair valores pares:\n",
    "\n",
    "```py\n",
    "arr = np.arange(10,20)\n",
    "np.where(arr % 2 == 0)\n",
    "```"
   ]
  },
  {
   "cell_type": "code",
   "execution_count": null,
   "metadata": {},
   "outputs": [],
   "source": []
  },
  {
   "cell_type": "code",
   "execution_count": null,
   "metadata": {},
   "outputs": [],
   "source": []
  },
  {
   "cell_type": "markdown",
   "metadata": {},
   "source": [
    "**Atividade**\n",
    "\n",
    "Obtenha a posição do vetor que possui o maior valor.\n",
    "\n"
   ]
  },
  {
   "cell_type": "code",
   "execution_count": null,
   "metadata": {},
   "outputs": [],
   "source": []
  },
  {
   "cell_type": "markdown",
   "metadata": {},
   "source": [
    "**Atividade**  \n",
    "- Quais são os índices em que os *arrays* `a`e `b` possuem elementos iguais?\n",
    "\n",
    "```python\n",
    "a = np.array([1,2,3,4,5,7])\n",
    "b = np.array([1,3,2,4,5,6])\n",
    "```\n",
    "\n",
    "<!-- \n",
    "```python\n",
    "np.where(a==b)\n",
    "``` \n",
    "-->"
   ]
  },
  {
   "cell_type": "code",
   "execution_count": null,
   "metadata": {},
   "outputs": [],
   "source": []
  },
  {
   "cell_type": "markdown",
   "metadata": {},
   "source": [
    "## Referências\n",
    "MCKINNEY, W. Python para análise de Dados: Tratamento de dados com Pandas, Numpy e IPython. São Paulo: Novatec, 218. 616 p. ISBN 978-8575226476\n"
   ]
  }
 ],
 "metadata": {
  "kernelspec": {
   "display_name": "Python 3 (ipykernel)",
   "language": "python",
   "name": "python3"
  },
  "language_info": {
   "codemirror_mode": {
    "name": "ipython",
    "version": 3
   },
   "file_extension": ".py",
   "mimetype": "text/x-python",
   "name": "python",
   "nbconvert_exporter": "python",
   "pygments_lexer": "ipython3",
   "version": "3.8.10"
  }
 },
 "nbformat": 4,
 "nbformat_minor": 2
}
