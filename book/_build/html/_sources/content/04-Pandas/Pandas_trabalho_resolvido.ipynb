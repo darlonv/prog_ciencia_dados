{
 "cells": [
  {
   "cell_type": "markdown",
   "metadata": {},
   "source": [
    "# T1-2"
   ]
  },
  {
   "cell_type": "markdown",
   "metadata": {},
   "source": [
    "Responda ás questões elencadas abaixo utilizando a linguagem de programação Python e as bibliotecas Pandas, Matplotlib e Seaborn.\n",
    "\n",
    "Este trabalho consiste em realizar uma análise sobre dados de ocorrências de acidentes de trânsito, ocorridos no ano de 2018.\n",
    "\n",
    "A fonte dos dados e especificações podem ser consultados no portal da Polícia Rodoviária Federal, disponível [aqui](https://portal.prf.gov.br/dados-abertos)."
   ]
  },
  {
   "cell_type": "markdown",
   "metadata": {},
   "source": [
    "**Dicas**\n",
    "- Assim como nos DataFrames, nas Series tamém é possível utilizar a função `.head()`.\n",
    "- A função `.value_counts()` retorna os valores ordenados por quantidade, em ordem decrescente.\n",
    "- Com a função `.value_counts()` também é possível gerar gráficos, p.ex. `.value_counts().plot()` ou `.value_counts().plot.bar()`."
   ]
  },
  {
   "cell_type": "code",
   "execution_count": null,
   "metadata": {},
   "outputs": [],
   "source": [
    "print('ok')"
   ]
  },
  {
   "cell_type": "code",
   "execution_count": null,
   "metadata": {},
   "outputs": [],
   "source": [
    "import pandas as pd\n",
    "import matplotlib.pyplot as plt\n",
    "import seaborn as sns"
   ]
  },
  {
   "cell_type": "code",
   "execution_count": 7,
   "metadata": {},
   "outputs": [],
   "source": [
    "########################\n",
    "#Leitura da base no diretório local (Jupyter)\n",
    "########################\n",
    "df = pd.read_csv('./bases/datatran2018.csv', sep=';', encoding='latin-1') # Carrega a base\n",
    "\n",
    "########################\n",
    "#Leitura da base no Google Drive (Colaboratory)\n",
    "########################\n",
    "# from google.colab import drive\n",
    "# drive.mount('/drive') #monta a base no google drive\n",
    "# database_path = '/drive/Shareddrives/BasesPublicas/Bases/PRF/datatran2018.csv' #caminho da base de dados\n",
    "# df = pd.read_csv(database_path, sep=';', encoding='latin-1') #Carrega a base"
   ]
  },
  {
   "cell_type": "code",
   "execution_count": 5,
   "metadata": {},
   "outputs": [
    {
     "data": {
      "text/html": [
       "<div>\n",
       "<style scoped>\n",
       "    .dataframe tbody tr th:only-of-type {\n",
       "        vertical-align: middle;\n",
       "    }\n",
       "\n",
       "    .dataframe tbody tr th {\n",
       "        vertical-align: top;\n",
       "    }\n",
       "\n",
       "    .dataframe thead th {\n",
       "        text-align: right;\n",
       "    }\n",
       "</style>\n",
       "<table border=\"1\" class=\"dataframe\">\n",
       "  <thead>\n",
       "    <tr style=\"text-align: right;\">\n",
       "      <th></th>\n",
       "      <th>id</th>\n",
       "      <th>data_inversa</th>\n",
       "      <th>dia_semana</th>\n",
       "      <th>horario</th>\n",
       "      <th>uf</th>\n",
       "      <th>br</th>\n",
       "      <th>km</th>\n",
       "      <th>municipio</th>\n",
       "      <th>causa_acidente</th>\n",
       "      <th>tipo_acidente</th>\n",
       "      <th>...</th>\n",
       "      <th>feridos_graves</th>\n",
       "      <th>ilesos</th>\n",
       "      <th>ignorados</th>\n",
       "      <th>feridos</th>\n",
       "      <th>veiculos</th>\n",
       "      <th>latitude</th>\n",
       "      <th>longitude</th>\n",
       "      <th>regional</th>\n",
       "      <th>delegacia</th>\n",
       "      <th>uop</th>\n",
       "    </tr>\n",
       "  </thead>\n",
       "  <tbody>\n",
       "    <tr>\n",
       "      <th>0</th>\n",
       "      <td>99973.0</td>\n",
       "      <td>2018-01-01</td>\n",
       "      <td>segunda-feira</td>\n",
       "      <td>00:20:00</td>\n",
       "      <td>RJ</td>\n",
       "      <td>116.0</td>\n",
       "      <td>303,5</td>\n",
       "      <td>RESENDE</td>\n",
       "      <td>Condutor Dormindo</td>\n",
       "      <td>Saída de leito carroçável</td>\n",
       "      <td>...</td>\n",
       "      <td>4</td>\n",
       "      <td>1</td>\n",
       "      <td>0</td>\n",
       "      <td>4</td>\n",
       "      <td>1</td>\n",
       "      <td>-22,46937</td>\n",
       "      <td>-44,44705</td>\n",
       "      <td>SR-RJ</td>\n",
       "      <td>DEL5/7</td>\n",
       "      <td>UOP03/RJ</td>\n",
       "    </tr>\n",
       "    <tr>\n",
       "      <th>1</th>\n",
       "      <td>99976.0</td>\n",
       "      <td>2018-01-01</td>\n",
       "      <td>segunda-feira</td>\n",
       "      <td>00:40:00</td>\n",
       "      <td>SC</td>\n",
       "      <td>282.0</td>\n",
       "      <td>0,4</td>\n",
       "      <td>FLORIANOPOLIS</td>\n",
       "      <td>Não guardar distância de segurança</td>\n",
       "      <td>Colisão traseira</td>\n",
       "      <td>...</td>\n",
       "      <td>2</td>\n",
       "      <td>1</td>\n",
       "      <td>0</td>\n",
       "      <td>2</td>\n",
       "      <td>2</td>\n",
       "      <td>-27,59971687</td>\n",
       "      <td>-48,57565694</td>\n",
       "      <td>SR-SC</td>\n",
       "      <td>DEL8/1</td>\n",
       "      <td>UOP01/SC</td>\n",
       "    </tr>\n",
       "    <tr>\n",
       "      <th>2</th>\n",
       "      <td>99977.0</td>\n",
       "      <td>2018-01-01</td>\n",
       "      <td>segunda-feira</td>\n",
       "      <td>00:30:00</td>\n",
       "      <td>RJ</td>\n",
       "      <td>493.0</td>\n",
       "      <td>1</td>\n",
       "      <td>ITABORAI</td>\n",
       "      <td>Ultrapassagem Indevida</td>\n",
       "      <td>Colisão frontal</td>\n",
       "      <td>...</td>\n",
       "      <td>0</td>\n",
       "      <td>3</td>\n",
       "      <td>1</td>\n",
       "      <td>1</td>\n",
       "      <td>3</td>\n",
       "      <td>-22,763901</td>\n",
       "      <td>-42,927532</td>\n",
       "      <td>SR-RJ</td>\n",
       "      <td>DEL5/4</td>\n",
       "      <td>UOP02/RJ</td>\n",
       "    </tr>\n",
       "    <tr>\n",
       "      <th>3</th>\n",
       "      <td>99981.0</td>\n",
       "      <td>2018-01-01</td>\n",
       "      <td>segunda-feira</td>\n",
       "      <td>01:15:00</td>\n",
       "      <td>RS</td>\n",
       "      <td>386.0</td>\n",
       "      <td>134</td>\n",
       "      <td>SARANDI</td>\n",
       "      <td>Ingestão de Álcool</td>\n",
       "      <td>Colisão transversal</td>\n",
       "      <td>...</td>\n",
       "      <td>0</td>\n",
       "      <td>2</td>\n",
       "      <td>0</td>\n",
       "      <td>0</td>\n",
       "      <td>2</td>\n",
       "      <td>-27,953636</td>\n",
       "      <td>-52,916374</td>\n",
       "      <td>SR-RS</td>\n",
       "      <td>DEL9/14</td>\n",
       "      <td>UOP01/RS</td>\n",
       "    </tr>\n",
       "    <tr>\n",
       "      <th>4</th>\n",
       "      <td>99982.0</td>\n",
       "      <td>2018-01-01</td>\n",
       "      <td>segunda-feira</td>\n",
       "      <td>00:20:00</td>\n",
       "      <td>RS</td>\n",
       "      <td>293.0</td>\n",
       "      <td>151,7</td>\n",
       "      <td>CANDIOTA</td>\n",
       "      <td>Falta de Atenção à Condução</td>\n",
       "      <td>Saída de leito carroçável</td>\n",
       "      <td>...</td>\n",
       "      <td>1</td>\n",
       "      <td>0</td>\n",
       "      <td>0</td>\n",
       "      <td>1</td>\n",
       "      <td>1</td>\n",
       "      <td>-31,395214</td>\n",
       "      <td>-53,78391174</td>\n",
       "      <td>SR-RS</td>\n",
       "      <td>DEL9/11</td>\n",
       "      <td>UOP03/RS</td>\n",
       "    </tr>\n",
       "  </tbody>\n",
       "</table>\n",
       "<p>5 rows × 30 columns</p>\n",
       "</div>"
      ],
      "text/plain": [
       "        id data_inversa     dia_semana   horario  uf     br     km  \\\n",
       "0  99973.0   2018-01-01  segunda-feira  00:20:00  RJ  116.0  303,5   \n",
       "1  99976.0   2018-01-01  segunda-feira  00:40:00  SC  282.0    0,4   \n",
       "2  99977.0   2018-01-01  segunda-feira  00:30:00  RJ  493.0      1   \n",
       "3  99981.0   2018-01-01  segunda-feira  01:15:00  RS  386.0    134   \n",
       "4  99982.0   2018-01-01  segunda-feira  00:20:00  RS  293.0  151,7   \n",
       "\n",
       "       municipio                      causa_acidente  \\\n",
       "0        RESENDE                   Condutor Dormindo   \n",
       "1  FLORIANOPOLIS  Não guardar distância de segurança   \n",
       "2       ITABORAI              Ultrapassagem Indevida   \n",
       "3        SARANDI                  Ingestão de Álcool   \n",
       "4       CANDIOTA         Falta de Atenção à Condução   \n",
       "\n",
       "               tipo_acidente  ... feridos_graves ilesos ignorados feridos  \\\n",
       "0  Saída de leito carroçável  ...              4      1         0       4   \n",
       "1           Colisão traseira  ...              2      1         0       2   \n",
       "2            Colisão frontal  ...              0      3         1       1   \n",
       "3        Colisão transversal  ...              0      2         0       0   \n",
       "4  Saída de leito carroçável  ...              1      0         0       1   \n",
       "\n",
       "  veiculos      latitude     longitude  regional  delegacia       uop  \n",
       "0        1     -22,46937     -44,44705     SR-RJ     DEL5/7  UOP03/RJ  \n",
       "1        2  -27,59971687  -48,57565694     SR-SC     DEL8/1  UOP01/SC  \n",
       "2        3    -22,763901    -42,927532     SR-RJ     DEL5/4  UOP02/RJ  \n",
       "3        2    -27,953636    -52,916374     SR-RS    DEL9/14  UOP01/RS  \n",
       "4        1    -31,395214  -53,78391174     SR-RS    DEL9/11  UOP03/RS  \n",
       "\n",
       "[5 rows x 30 columns]"
      ]
     },
     "execution_count": 5,
     "metadata": {},
     "output_type": "execute_result"
    }
   ],
   "source": [
    "df.head() #Observa as primeiras linhas da base"
   ]
  },
  {
   "cell_type": "markdown",
   "metadata": {},
   "source": [
    "**Item 01**  \n",
    "- Qual é o estado que mais teve o manior número de acidentes?"
   ]
  },
  {
   "cell_type": "code",
   "execution_count": 11,
   "metadata": {},
   "outputs": [
    {
     "data": {
      "text/plain": [
       "MG    9066\n",
       "Name: uf, dtype: int64"
      ]
     },
     "execution_count": 11,
     "metadata": {},
     "output_type": "execute_result"
    }
   ],
   "source": [
    "estados = df['uf'].value_counts()\n",
    "estados[ estados == estados.max() ]"
   ]
  },
  {
   "cell_type": "markdown",
   "metadata": {},
   "source": [
    "**Item 02**  \n",
    "- Apresente a quantidade de acidentes por dia da semana."
   ]
  },
  {
   "cell_type": "code",
   "execution_count": 12,
   "metadata": {},
   "outputs": [
    {
     "data": {
      "text/plain": [
       "domingo          11283\n",
       "sábado           11239\n",
       "sexta-feira      10632\n",
       "segunda-feira     9422\n",
       "quinta-feira      9230\n",
       "quarta-feira      8824\n",
       "terça-feira       8665\n",
       "Name: dia_semana, dtype: int64"
      ]
     },
     "execution_count": 12,
     "metadata": {},
     "output_type": "execute_result"
    }
   ],
   "source": [
    "df['dia_semana'].value_counts()"
   ]
  },
  {
   "cell_type": "markdown",
   "metadata": {},
   "source": [
    "**Item 03**  \n",
    "- Apresente a quantidade de acidentes por estado."
   ]
  },
  {
   "cell_type": "code",
   "execution_count": 14,
   "metadata": {},
   "outputs": [
    {
     "data": {
      "text/plain": [
       "MG    9066\n",
       "SC    8497\n",
       "PR    7952\n",
       "RJ    4575\n",
       "SP    4516\n",
       "RS    4445\n",
       "BA    3555\n",
       "GO    3464\n",
       "PE    2715\n",
       "ES    2642\n",
       "MT    2631\n",
       "CE    1697\n",
       "RO    1629\n",
       "PB    1588\n",
       "MS    1530\n",
       "RN    1416\n",
       "PI    1371\n",
       "MA    1272\n",
       "PA    1260\n",
       "DF     867\n",
       "AL     691\n",
       "TO     589\n",
       "SE     559\n",
       "RR     236\n",
       "AC     235\n",
       "AP     173\n",
       "AM     124\n",
       "Name: uf, dtype: int64"
      ]
     },
     "execution_count": 14,
     "metadata": {},
     "output_type": "execute_result"
    }
   ],
   "source": [
    "df['uf'].value_counts()"
   ]
  },
  {
   "cell_type": "markdown",
   "metadata": {},
   "source": [
    "**Item 04**  \n",
    "- De acordo com a quantidade de acidentes, quais são as 5 rodovias mais perigosas?"
   ]
  },
  {
   "cell_type": "code",
   "execution_count": 18,
   "metadata": {},
   "outputs": [
    {
     "data": {
      "text/plain": [
       "101.0    11212\n",
       "116.0     9972\n",
       "381.0     3550\n",
       "40.0      3220\n",
       "153.0     2834\n",
       "Name: br, dtype: int64"
      ]
     },
     "execution_count": 18,
     "metadata": {},
     "output_type": "execute_result"
    }
   ],
   "source": [
    "df['br'].value_counts().head(5)"
   ]
  },
  {
   "cell_type": "markdown",
   "metadata": {},
   "source": [
    "**Item 05**  \n",
    "- Considerando apenas acidentes com vítimas fatais, qual rodovia é a mais perigosa?"
   ]
  },
  {
   "cell_type": "code",
   "execution_count": 24,
   "metadata": {},
   "outputs": [
    {
     "data": {
      "text/plain": [
       "116.0    582\n",
       "Name: br, dtype: int64"
      ]
     },
     "execution_count": 24,
     "metadata": {},
     "output_type": "execute_result"
    }
   ],
   "source": [
    "df_tmp = df[df['mortos']>0]\n",
    "df_tmp['br'].value_counts().head(1)"
   ]
  },
  {
   "cell_type": "code",
   "execution_count": null,
   "metadata": {},
   "outputs": [],
   "source": []
  },
  {
   "cell_type": "code",
   "execution_count": null,
   "metadata": {},
   "outputs": [],
   "source": []
  },
  {
   "cell_type": "markdown",
   "metadata": {},
   "source": [
    "**Item 06**  \n",
    "- No Paraná, quais são as 10 cidades do interior que possuiram o maior número de acidentes?"
   ]
  },
  {
   "cell_type": "code",
   "execution_count": 29,
   "metadata": {},
   "outputs": [
    {
     "data": {
      "text/plain": [
       "SAO JOSE DOS PINHAIS     448\n",
       "MARINGA                  443\n",
       "CASCAVEL                 338\n",
       "FOZ DO IGUACU            299\n",
       "CAMPINA GRANDE DO SUL    285\n",
       "PONTA GROSSA             268\n",
       "PARANAGUA                178\n",
       "APUCARANA                156\n",
       "CAMPO LARGO              153\n",
       "TIJUCAS DO SUL           152\n",
       "Name: municipio, dtype: int64"
      ]
     },
     "execution_count": 29,
     "metadata": {},
     "output_type": "execute_result"
    }
   ],
   "source": [
    "df_tmp = df[df['uf']=='PR']\n",
    "df_tmp = df_tmp[df_tmp['municipio']!= 'CURITIBA']\n",
    "df_tmp['municipio'].value_counts().head(10)"
   ]
  },
  {
   "cell_type": "markdown",
   "metadata": {},
   "source": [
    "**Item 07**  \n",
    "- Os acidentes com vítimas fatais ocorrem em sua maioria em trechos de curvas ou de reta? Apresente um gráfico indicando estes números."
   ]
  },
  {
   "cell_type": "code",
   "execution_count": 33,
   "metadata": {},
   "outputs": [
    {
     "data": {
      "text/plain": [
       "Reta                     2831\n",
       "Curva                     825\n",
       "Não Informado             515\n",
       "Desvio Temporário         157\n",
       "Interseção de vias         79\n",
       "Ponte                      34\n",
       "Rotatória                  28\n",
       "Retorno Regulamentado      22\n",
       "Viaduto                    11\n",
       "Túnel                       3\n",
       "Name: tracado_via, dtype: int64"
      ]
     },
     "execution_count": 33,
     "metadata": {},
     "output_type": "execute_result"
    }
   ],
   "source": [
    "df_tmp = df[df['mortos']>0]\n",
    "df_tmp['tracado_via'].value_counts()"
   ]
  },
  {
   "cell_type": "markdown",
   "metadata": {},
   "source": [
    "**Item 08**  \n",
    "- Quais são as 10 maiores causas de acidentes?"
   ]
  },
  {
   "cell_type": "code",
   "execution_count": 36,
   "metadata": {},
   "outputs": [
    {
     "data": {
      "text/plain": [
       "Falta de Atenção à Condução                          25830\n",
       "Desobediência às normas de trânsito pelo condutor     7189\n",
       "Velocidade Incompatível                               6849\n",
       "Ingestão de Álcool                                    5201\n",
       "Não guardar distância de segurança                    4262\n",
       "Defeito Mecânico no Veículo                           3716\n",
       "Condutor Dormindo                                     2633\n",
       "Pista Escorregadia                                    2549\n",
       "Falta de Atenção do Pedestre                          2073\n",
       "Animais na Pista                                      1614\n",
       "Name: causa_acidente, dtype: int64"
      ]
     },
     "execution_count": 36,
     "metadata": {},
     "output_type": "execute_result"
    }
   ],
   "source": [
    "df['causa_acidente'].value_counts().head(10)"
   ]
  },
  {
   "cell_type": "markdown",
   "metadata": {},
   "source": [
    "**Item 09**  \n",
    "- Em que estado ocorre o maior núemro de acidentes em que a causa foi animais na pista?"
   ]
  },
  {
   "cell_type": "code",
   "execution_count": 84,
   "metadata": {},
   "outputs": [
    {
     "data": {
      "text/plain": [
       "MG    198\n",
       "PE    122\n",
       "RS    113\n",
       "PR    105\n",
       "MS     94\n",
       "BA     83\n",
       "RJ     79\n",
       "GO     78\n",
       "RN     78\n",
       "PI     77\n",
       "MT     74\n",
       "CE     72\n",
       "PB     67\n",
       "SC     64\n",
       "MA     57\n",
       "SP     47\n",
       "AL     44\n",
       "RO     36\n",
       "ES     36\n",
       "PA     31\n",
       "SE     21\n",
       "RR     12\n",
       "TO     10\n",
       "AC      5\n",
       "DF      5\n",
       "AM      4\n",
       "AP      2\n",
       "Name: uf, dtype: int64"
      ]
     },
     "execution_count": 84,
     "metadata": {},
     "output_type": "execute_result"
    }
   ],
   "source": [
    "df_tmp = df[df['causa_acidente']=='Animais na Pista']\n",
    "df_tmp['uf'].value_counts()"
   ]
  },
  {
   "cell_type": "markdown",
   "metadata": {},
   "source": [
    "**Item 10**  \n",
    "- Em Cascavel, no Paraná, qual são as rodovias que existem na base de dados?"
   ]
  },
  {
   "cell_type": "markdown",
   "metadata": {},
   "source": [
    "**Item 11**  \n",
    "- Em Cascavel, no Paraná, qual é a rodovia que mais possui acidentes?"
   ]
  },
  {
   "cell_type": "code",
   "execution_count": 38,
   "metadata": {},
   "outputs": [
    {
     "data": {
      "text/plain": [
       "277.0    242\n",
       "467.0     67\n",
       "369.0     22\n",
       "163.0      6\n",
       "Name: br, dtype: int64"
      ]
     },
     "execution_count": 38,
     "metadata": {},
     "output_type": "execute_result"
    }
   ],
   "source": [
    "df_tmp = df[df['uf'] == 'PR']\n",
    "df_tmp = df_tmp[df_tmp['municipio'] == 'CASCAVEL']\n",
    "df_tmp['br'].value_counts()"
   ]
  },
  {
   "cell_type": "code",
   "execution_count": 43,
   "metadata": {},
   "outputs": [
    {
     "data": {
      "text/plain": [
       "277.0"
      ]
     },
     "execution_count": 43,
     "metadata": {},
     "output_type": "execute_result"
    }
   ],
   "source": [
    "df_tmp = df[df['uf'] == 'PR']\n",
    "df_tmp = df_tmp[df_tmp['municipio'] == 'CASCAVEL']\n",
    "rodo = df_tmp['br'].value_counts().head(1).index[0]\n",
    "print(rodo)"
   ]
  },
  {
   "cell_type": "markdown",
   "metadata": {},
   "source": [
    "**Item 12**  \n",
    "- Em Cascavel, no Paraná, em qual kilômetro da rodovia BR 277 ocorreram o maior número de acidentes com vítimas fatais? Obs: por padrão a coluna `br` está com valores do tipo `float`. (`277.0`)."
   ]
  },
  {
   "cell_type": "code",
   "execution_count": 45,
   "metadata": {},
   "outputs": [
    {
     "data": {
      "text/plain": [
       "584      17\n",
       "592      11\n",
       "593       9\n",
       "590       9\n",
       "588       9\n",
       "         ..\n",
       "584,8     1\n",
       "583,4     1\n",
       "599,4     1\n",
       "496,4     1\n",
       "590,2     1\n",
       "Name: km, Length: 109, dtype: int64"
      ]
     },
     "execution_count": 45,
     "metadata": {},
     "output_type": "execute_result"
    }
   ],
   "source": [
    "df_tmp = df[df['uf'] == 'PR']\n",
    "df_tmp = df_tmp[df_tmp['municipio'] == 'CASCAVEL']\n",
    "df_tmp = df_tmp[df_tmp['br']==277.0]\n",
    "df_tmp['km'].value_counts()"
   ]
  },
  {
   "cell_type": "markdown",
   "metadata": {},
   "source": [
    "**Item 13**  \n",
    "- Gere um gráfico apresentando os dias da semana em que ocorreram mais acidente por causa de Ingestão de Álcool.\n",
    "- Comente sobre o resultado obtido"
   ]
  },
  {
   "cell_type": "code",
   "execution_count": 75,
   "metadata": {},
   "outputs": [
    {
     "data": {
      "text/plain": [
       "<matplotlib.axes._subplots.AxesSubplot at 0x7eff54934cf8>"
      ]
     },
     "execution_count": 75,
     "metadata": {},
     "output_type": "execute_result"
    },
    {
     "data": {
      "image/png": "[encoded data removed]",
      "text/plain": [
       "<Figure size 432x288 with 1 Axes>"
      ]
     },
     "metadata": {
      "needs_background": "light"
     },
     "output_type": "display_data"
    }
   ],
   "source": [
    "df_tmp = df[df['causa_acidente'] == 'Ingestão de Álcool']\n",
    "df_tmp['dia_semana'].value_counts().plot.bar()"
   ]
  },
  {
   "cell_type": "markdown",
   "metadata": {},
   "source": [
    "**Item 14**  \n",
    "- Apresente um gráfico que mostre a quantidade de acidentes de acordo com a condição meteorológica, subdividida de acordo com a fase do dia.\n",
    "- Explique o resultado obtido."
   ]
  },
  {
   "cell_type": "code",
   "execution_count": 82,
   "metadata": {},
   "outputs": [
    {
     "data": {
      "image/png": "[encoded data removed]",
      "text/plain": [
       "<Figure size 720x360 with 1 Axes>"
      ]
     },
     "metadata": {
      "needs_background": "light"
     },
     "output_type": "display_data"
    }
   ],
   "source": [
    "plt.figure(figsize=(10,5))\n",
    "sns.countplot(x='condicao_metereologica', hue='fase_dia', data=df)\n",
    "plt.show()"
   ]
  },
  {
   "cell_type": "markdown",
   "metadata": {},
   "source": [
    "**Item 15**  \n",
    "- Faça uma análise utilizando algum critério próprio e explique o resultado obtido."
   ]
  },
  {
   "cell_type": "code",
   "execution_count": null,
   "metadata": {},
   "outputs": [],
   "source": []
  }
 ],
 "metadata": {
  "kernelspec": {
   "display_name": "Python 3 (ipykernel)",
   "language": "python",
   "name": "python3"
  },
  "language_info": {
   "codemirror_mode": {
    "name": "ipython",
    "version": 3
   },
   "file_extension": ".py",
   "mimetype": "text/x-python",
   "name": "python",
   "nbconvert_exporter": "python",
   "pygments_lexer": "ipython3",
   "version": "3.8.10"
  }
 },
 "nbformat": 4,
 "nbformat_minor": 4
}
