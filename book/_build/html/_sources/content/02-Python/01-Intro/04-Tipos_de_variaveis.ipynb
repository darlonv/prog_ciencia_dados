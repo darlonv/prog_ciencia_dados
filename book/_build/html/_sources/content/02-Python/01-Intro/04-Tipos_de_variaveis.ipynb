{
 "cells": [
  {
   "cell_type": "markdown",
   "metadata": {},
   "source": [
    "# Tipos de variáveis\n",
    "\n",
    "Em Python, o tipo de uma variável é definido no momento de sua atribuição. Para observarmos o tipo de uma variável, utilizamos a função `type()`\n",
    "\n",
    "**Exemplo**  \n",
    "```python\n",
    "a = 10\n",
    "type(a)\n",
    "```"
   ]
  },
  {
   "cell_type": "code",
   "execution_count": null,
   "metadata": {},
   "outputs": [],
   "source": []
  },
  {
   "cell_type": "markdown",
   "metadata": {},
   "source": [
    "Existem diversos tipos de dados presentes nativamente em Python.\n",
    "\n",
    "## `int` e `float`\n",
    "\n",
    "\n",
    "### Exercício\n",
    "Observe o tipo das seguintes variáveis\n",
    "```python\n",
    "inteiro=10\n",
    "type(inteiro)\n",
    "\n",
    "real=3.5\n",
    "type(real)\n",
    "```"
   ]
  },
  {
   "cell_type": "code",
   "execution_count": null,
   "metadata": {},
   "outputs": [],
   "source": []
  },
  {
   "cell_type": "markdown",
   "metadata": {},
   "source": [
    "Os tipos de dados `int` e `float` permitem que sejam realizados operações matemáticas sobre eles, como adição, subtração e divisão. Ambos os tipos permitem o armazenamento de números positivos e negativos, porém o tipo `float` opera utilizando *ponto flutuante*, ou seja, permite que números reais sejam armazenados.\n",
    "\n",
    "A diferença na definição da variável se ela será um `int` ou `float`, é dado pelo uso do `.`, que separa as casas decimais."
   ]
  },
  {
   "cell_type": "code",
   "execution_count": null,
   "metadata": {},
   "outputs": [],
   "source": []
  },
  {
   "cell_type": "markdown",
   "metadata": {},
   "source": [
    "### Arredondamento\n",
    "\n",
    "Para arredondar valores `float`, pode-se utilizar a função `round()`.  \n",
    "\n",
    "**Sintaxe**  \n",
    "```python\n",
    "round(valor, num_casas)\n",
    "```\n",
    "onde:\n",
    "- `valor`: valor a ser arredondado\n",
    "- `num_casas`: número de casas decimais a ser utilizado (parâmetro opcional)\n",
    "\n",
    "**Exemplo**  \n",
    "```python\n",
    "round(2.5) #2 (int)\n",
    "round(2.5, 2) #2.5 (float)\n",
    "round(2.5, 0) #2.0 (float)\n",
    "round(5.00002, 3) #5.0 (float)\n",
    "```\n",
    "\n",
    "### Apresentando um número fixo de casas decimais\n",
    "Para que seja possível apresentar um número definido de casas decimais independente do arredondamente, pode-se utilizar a saída formatada de uma *string*.\n",
    "\n",
    "**Exemplo**  \n",
    "Para apresentar o valor 5.0, com duas casas decimais:\n",
    "\n",
    "```python\n",
    "val = 5.0\n",
    "print(f'{val:.2f}') #Saída: 5.00\n",
    "```\n",
    "\n",
    "Observe que:\n",
    "- o `f` antes das aspas indica que a *string* será formatada.\n",
    "- as `{}` indicam que aquele conteúdo será substituído por um valor.\n",
    "- `:`: separador entre a variável e as informações de formatação.\n",
    "- `.2`: número de casas decimais. Neste caso, duas.\n",
    "- `f` : indica que é um float."
   ]
  },
  {
   "cell_type": "code",
   "execution_count": null,
   "metadata": {},
   "outputs": [],
   "source": []
  },
  {
   "cell_type": "markdown",
   "metadata": {},
   "source": [
    "**Atividade**\n",
    "- Qual é a diferença entre a função `round()` e a saída utilizando *string* formatada?"
   ]
  },
  {
   "cell_type": "code",
   "execution_count": null,
   "metadata": {},
   "outputs": [],
   "source": []
  },
  {
   "cell_type": "markdown",
   "metadata": {},
   "source": [
    "**Exercício**\n",
    "- [Beecrowd 1005 - Média 1](https://www.beecrowd.com.br/judge/pt/problems/view/1005)  \n",
    "- [Beecrowd 1006 - Média 2](https://www.beecrowd.com.br/judge/pt/problems/view/1006)  \n"
   ]
  },
  {
   "cell_type": "markdown",
   "metadata": {},
   "source": [
    "## `bool`\n",
    "\n",
    "O tipo de dado `bool` permite armazenar um valor *booleano*, ou seja, verdadeiro (*True*) ou falso (*False*). Este tipo de variável permite apenas estes dois valores.\n",
    "\n",
    "**Atenção**  \n",
    ">Os valores **True** e **False** possuem letra inicial maiúscula.\n",
    "\n",
    "**Exemplo**  \n",
    "Considere que existe uma variável que registra se uma porta e uma janela estão abertas ou fechadas. Em seguida, observe o tipo de dado dessas variáveis.\n",
    "```python\n",
    "portaAberta = True\n",
    "type(portaAberta)\n",
    "\n",
    "janelaAberta = False\n",
    "type(janelaAberta)\n",
    "```\n"
   ]
  },
  {
   "cell_type": "code",
   "execution_count": null,
   "metadata": {},
   "outputs": [],
   "source": []
  },
  {
   "cell_type": "markdown",
   "metadata": {},
   "source": [
    "## `str`\n",
    "\n",
    "O tipol de dado `str` é utilizado para representar uma sequência de caracteres, ou *string*.\n",
    "\n",
    "Para que o interpretador Python reconheça que o dado é uma *string*, deve-se colocar a sequência de caracteres entre aspas (`'`) .\n",
    "\n",
    "**Exemplo**  \n",
    "Considere variáveis que armazenam o país e o estado. Em seguida, observe o tipo da variável.\n",
    "```python\n",
    "pais='Brasil'\n",
    "type(pais)\n",
    "\n",
    "estado='Santa Catarina'\n",
    "type(estado)\n",
    "```\n",
    "\n",
    "**Anotação**\n",
    ">Em python, uma *string* também pode ser delimitada utilizando aspas duplas (`\"`), e seu funcionamento ocorrerá da mesma forma. Porém, é uma convenção entre desenvolvedores a utilização das aspas simples, como utilizado no exemplo."
   ]
  },
  {
   "cell_type": "code",
   "execution_count": null,
   "metadata": {},
   "outputs": [],
   "source": []
  },
  {
   "cell_type": "markdown",
   "metadata": {},
   "source": [
    "## Conversões de tipos de dados\n",
    "Para converter um tipo de dado a outro pode-se utilizar funções que possuem o mesmo nome do tipo de dado.\n",
    "```python\n",
    "int()\n",
    "float()\n",
    "str()\n",
    "bool()\n",
    "```"
   ]
  },
  {
   "cell_type": "markdown",
   "metadata": {},
   "source": [
    "**Atividade**  \n",
    "\n",
    "Observe o conteúdo e tipo de dado de cada uma das variáveis utilizadas abaixo.\n",
    "```python\n",
    "ni = 4\n",
    "nf = float(ni)\n",
    "ns = str(ni)\n",
    "```\n",
    "O quê ocorreu com os tipos de dados?"
   ]
  },
  {
   "cell_type": "code",
   "execution_count": null,
   "metadata": {},
   "outputs": [],
   "source": []
  },
  {
   "cell_type": "code",
   "execution_count": null,
   "metadata": {},
   "outputs": [],
   "source": []
  },
  {
   "cell_type": "code",
   "execution_count": null,
   "metadata": {},
   "outputs": [],
   "source": []
  },
  {
   "cell_type": "code",
   "execution_count": null,
   "metadata": {},
   "outputs": [],
   "source": []
  },
  {
   "cell_type": "code",
   "execution_count": null,
   "metadata": {},
   "outputs": [],
   "source": []
  },
  {
   "cell_type": "markdown",
   "metadata": {},
   "source": [
    "**Atividade**  \n",
    "\n",
    "Observe o conteúdo e tipo de dado de cada uma das variáveis utilizadas abaixo.\n",
    "```python\n",
    "nf = 4.7\n",
    "ni = int(nf)\n",
    "ns = str(nf)\n",
    "```\n",
    "O quê ocorreu com os tipos de dados?"
   ]
  },
  {
   "cell_type": "code",
   "execution_count": null,
   "metadata": {},
   "outputs": [],
   "source": []
  },
  {
   "cell_type": "code",
   "execution_count": null,
   "metadata": {},
   "outputs": [],
   "source": []
  },
  {
   "cell_type": "code",
   "execution_count": null,
   "metadata": {},
   "outputs": [],
   "source": []
  },
  {
   "cell_type": "code",
   "execution_count": null,
   "metadata": {},
   "outputs": [],
   "source": []
  },
  {
   "cell_type": "markdown",
   "metadata": {},
   "source": [
    "**Atividade**  \n",
    "\n",
    "Observe o conteúdo e tipo de dado de cada uma das variáveis utilizadas abaixo.\n",
    "```python\n",
    "ns = '4.7'\n",
    "ni = float(ns)\n",
    "ni = int(ns)\n",
    "```\n",
    "O quê ocorreu com os tipos de dados?"
   ]
  },
  {
   "cell_type": "code",
   "execution_count": null,
   "metadata": {},
   "outputs": [],
   "source": []
  },
  {
   "cell_type": "code",
   "execution_count": null,
   "metadata": {},
   "outputs": [],
   "source": []
  },
  {
   "cell_type": "code",
   "execution_count": null,
   "metadata": {},
   "outputs": [],
   "source": []
  },
  {
   "cell_type": "code",
   "execution_count": null,
   "metadata": {},
   "outputs": [],
   "source": []
  },
  {
   "cell_type": "markdown",
   "metadata": {},
   "source": [
    "**Atividade**  \n",
    "\n",
    "Observe o conteúdo e tipo de dado de cada uma das variáveis utilizadas abaixo.\n",
    "```py\n",
    "nb = True\n",
    "ns = str(nb)\n",
    "nf = float(nb)\n",
    "ni = int(nb)\n",
    "```\n",
    "O quê ocorreu com os tipos de dados?"
   ]
  },
  {
   "cell_type": "code",
   "execution_count": null,
   "metadata": {},
   "outputs": [],
   "source": []
  },
  {
   "cell_type": "code",
   "execution_count": null,
   "metadata": {},
   "outputs": [],
   "source": []
  },
  {
   "cell_type": "markdown",
   "metadata": {},
   "source": [
    "**Exercícios**\n",
    "- [Beecrowd 1008 - Salário](https://www.beecrowd.com.br/judge/pt/problems/view/1008) "
   ]
  },
  {
   "cell_type": "code",
   "execution_count": null,
   "metadata": {},
   "outputs": [],
   "source": []
  },
  {
   "cell_type": "markdown",
   "metadata": {},
   "source": [
    "**Atividade**  \n",
    "- Realize um programa que calcula a soma de três valores digitados pelo usuário em uma mesma linha, com os valores separados por espaços.  \n",
    "    - **Entrada**\n",
    "        - 2 3 5\n",
    "    - **Saída**\n",
    "        - 10\n",
    "        \n",
    "    - Dica: Utilize o método `.split()` do tipo de dado `string`."
   ]
  },
  {
   "cell_type": "code",
   "execution_count": null,
   "metadata": {},
   "outputs": [],
   "source": []
  },
  {
   "cell_type": "markdown",
   "metadata": {},
   "source": [
    "**Exercício**\n",
    "- [Beecrowd 1963 - O Filme](https://www.beecrowd.com.br/judge/pt/problems/view/1963)"
   ]
  },
  {
   "cell_type": "code",
   "execution_count": null,
   "metadata": {},
   "outputs": [],
   "source": []
  }
 ],
 "metadata": {
  "kernelspec": {
   "display_name": "Python 3 (ipykernel)",
   "language": "python",
   "name": "python3"
  },
  "language_info": {
   "codemirror_mode": {
    "name": "ipython",
    "version": 3
   },
   "file_extension": ".py",
   "mimetype": "text/x-python",
   "name": "python",
   "nbconvert_exporter": "python",
   "pygments_lexer": "ipython3",
   "version": "3.8.10"
  }
 },
 "nbformat": 4,
 "nbformat_minor": 2
}
