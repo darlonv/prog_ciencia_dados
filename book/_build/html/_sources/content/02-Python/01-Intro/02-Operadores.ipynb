{
 "cells": [
  {
   "cell_type": "markdown",
   "metadata": {},
   "source": [
    "# Expressões\n",
    "Uma expressão é uma combinação de elementos, que podem ser valores, variáveis, operadores e chamadas a funções. Com o uso das expressões é possível realizar cálculos que produzem novos valores, ou seja, fazem a transformação das informações."
   ]
  },
  {
   "cell_type": "markdown",
   "metadata": {},
   "source": [
    "## Variáveis\n",
    "Como visto anteriormente, variáveis são localizações na memória que armazenam dados."
   ]
  },
  {
   "cell_type": "markdown",
   "metadata": {},
   "source": [
    "**Exemplo**\n",
    "\n",
    "Um exemplo de expressão é `S = 5 + 4`, onde:\n",
    "- `5` e `4` são valores, \n",
    "- `+` é um operador aritmético, \n",
    "- `=` é o operador de atribuição, e\n",
    "- `S` é uma variável.\n",
    "\n",
    "A execução desta expressão resulta em um novo valor, que será armazenado na variável `S`."
   ]
  },
  {
   "cell_type": "markdown",
   "metadata": {},
   "source": [
    "## Operadores"
   ]
  },
  {
   "cell_type": "markdown",
   "metadata": {},
   "source": [
    "Os operadores são utilizados para construir **expressões**, que podem conter diferentes quantidades de operandos."
   ]
  },
  {
   "cell_type": "markdown",
   "metadata": {},
   "source": [
    "### Tipos de operadores"
   ]
  },
  {
   "cell_type": "markdown",
   "metadata": {},
   "source": [
    "#### Atribuição\n",
    "A atribuição é o operador que que determina a passagem de valor para uma variável. Por definição toda variável pode ser seu valor alterado, e a modificação deste valor é realizada com o operador de atribuição."
   ]
  },
  {
   "cell_type": "markdown",
   "metadata": {},
   "source": [
    "|Operador|Função|\n",
    "|--------|------|\n",
    "|`=`|atribuição|"
   ]
  },
  {
   "cell_type": "markdown",
   "metadata": {},
   "source": [
    "É possível realizar a atribuição de mais de uma variável em uma mesma expressão."
   ]
  },
  {
   "cell_type": "markdown",
   "metadata": {},
   "source": [
    "**Exemplo**\n",
    "\n",
    "```py\n",
    "A = B = C = 5\n",
    "```"
   ]
  },
  {
   "cell_type": "code",
   "execution_count": null,
   "metadata": {},
   "outputs": [],
   "source": []
  },
  {
   "cell_type": "code",
   "execution_count": null,
   "metadata": {},
   "outputs": [],
   "source": []
  },
  {
   "cell_type": "code",
   "execution_count": null,
   "metadata": {},
   "outputs": [],
   "source": []
  },
  {
   "cell_type": "code",
   "execution_count": null,
   "metadata": {},
   "outputs": [],
   "source": []
  },
  {
   "cell_type": "markdown",
   "metadata": {},
   "source": [
    "Python também suporta atribuição múltipla, com variáveis e valores separados por `,`"
   ]
  },
  {
   "cell_type": "markdown",
   "metadata": {},
   "source": [
    "**Exemplo**\n",
    "\n",
    "```py\n",
    "A, B = 10, 20\n",
    "```"
   ]
  },
  {
   "cell_type": "code",
   "execution_count": null,
   "metadata": {},
   "outputs": [],
   "source": []
  },
  {
   "cell_type": "code",
   "execution_count": null,
   "metadata": {},
   "outputs": [],
   "source": []
  },
  {
   "cell_type": "code",
   "execution_count": null,
   "metadata": {},
   "outputs": [],
   "source": []
  },
  {
   "cell_type": "markdown",
   "metadata": {},
   "source": [
    "Com isso, pode-se alternar os valores entre variáveis.\n",
    "```py\n",
    "A, B = B, A\n",
    "```"
   ]
  },
  {
   "cell_type": "code",
   "execution_count": null,
   "metadata": {},
   "outputs": [],
   "source": []
  },
  {
   "cell_type": "code",
   "execution_count": null,
   "metadata": {},
   "outputs": [],
   "source": []
  },
  {
   "cell_type": "code",
   "execution_count": null,
   "metadata": {},
   "outputs": [],
   "source": []
  },
  {
   "cell_type": "markdown",
   "metadata": {},
   "source": [
    "#### Aritméticos\n",
    "São aqueles utilizados para a execução de operações matemáticas, adição, multiplicação, etc. São eles:"
   ]
  },
  {
   "cell_type": "markdown",
   "metadata": {},
   "source": [
    "|Operador|Função|\n",
    "|----|----------| \n",
    "|`+` | adição | \n",
    "|`-` | subtração | \n",
    "|`*` | multiplicação | \n",
    "|`/` | divisão | \n",
    "|`%` | resto da divisão | \n",
    "|`//`| parte inteira da divisão | \n",
    "|`**`| exponenciação | "
   ]
  },
  {
   "cell_type": "markdown",
   "metadata": {},
   "source": [
    "**Exemplos**\n",
    "\n",
    "```py\n",
    "5+10  \n",
    "8-4  \n",
    "6*4  \n",
    "10/5  \n",
    "20%11\n",
    "2**5\n",
    "11//3\n",
    "```"
   ]
  },
  {
   "cell_type": "code",
   "execution_count": null,
   "metadata": {},
   "outputs": [],
   "source": []
  },
  {
   "cell_type": "code",
   "execution_count": null,
   "metadata": {},
   "outputs": [],
   "source": []
  },
  {
   "cell_type": "code",
   "execution_count": null,
   "metadata": {},
   "outputs": [],
   "source": []
  },
  {
   "cell_type": "markdown",
   "metadata": {},
   "source": [
    "**Exercícios**\n",
    "- [Beecrowd 1003 - Soma Simples](https://www.beecrowd.com.br/judge/pt/problems/view/1003)\n",
    "- [Beecrowd 1004 - Produto Simples](https://www.beecrowd.com.br/judge/pt/problems/view/1004)\n",
    "- [Beecrowd 1007 - Diferença](https://www.beecrowd.com.br/judge/pt/problems/view/1007)"
   ]
  },
  {
   "cell_type": "markdown",
   "metadata": {},
   "source": [
    "#### Relacionais\n",
    "São operadores de comparação entre valores. As expressões realizadas com estes operadores retornam um resultado lógico, `True` ou `False`.\n",
    "\n",
    "|Operador|Função|\n",
    "|---|---| \n",
    "|`>`  |maior que|\n",
    "|`<`  |menor que| \n",
    "|`==` |igual| \n",
    "|`!=` |diferente|\n",
    "|`>=` |maior ou igual| \n",
    "|`<=` |menor ou igual| "
   ]
  },
  {
   "cell_type": "markdown",
   "metadata": {},
   "source": [
    "#### Lógicos\n",
    "\n",
    "|Operador|Função|\n",
    "|--------|------|\n",
    "|`and`|**e** lógico|\n",
    "|`or` |**ou** lógico|\n",
    "|`not`|**não** lógico (negação)|"
   ]
  },
  {
   "cell_type": "markdown",
   "metadata": {},
   "source": [
    "#### Associação\n",
    "(*membership*, livre trad.)  \n",
    "Observa se um valor é membro de uma sequência ou conjunto."
   ]
  },
  {
   "cell_type": "markdown",
   "metadata": {},
   "source": [
    "|Operador|Função| \n",
    "|---|---|\n",
    "|`in`    | está contido| \n",
    "|`not in`| não está contido| "
   ]
  },
  {
   "cell_type": "markdown",
   "metadata": {},
   "source": [
    "**Exemplo**\n",
    "\n",
    "```py\n",
    "'a' in 'batata'\n",
    "'a' in 'pudim'\n",
    "'a' not in 'pudim'\n",
    "```"
   ]
  },
  {
   "cell_type": "code",
   "execution_count": null,
   "metadata": {},
   "outputs": [],
   "source": []
  },
  {
   "cell_type": "code",
   "execution_count": null,
   "metadata": {},
   "outputs": [],
   "source": []
  },
  {
   "cell_type": "code",
   "execution_count": null,
   "metadata": {},
   "outputs": [],
   "source": []
  },
  {
   "cell_type": "markdown",
   "metadata": {},
   "source": [
    "#### Identidade\n",
    "Os operadores de identidade servem para identificar se os parâmetros passados correspondem ao mesmo, e não apenas os mesmos valores."
   ]
  },
  {
   "cell_type": "markdown",
   "metadata": {},
   "source": [
    "|Operador|Função| \n",
    "|---|---|\n",
    "|`is`|verificação de identidade| "
   ]
  },
  {
   "cell_type": "markdown",
   "metadata": {},
   "source": [
    "**Exemplo**\n",
    "\n",
    "```py\n",
    "x = 5.0\n",
    "y = 5.0\n",
    "z = x\n",
    "\n",
    "x == y\n",
    "x is y\n",
    "x == z\n",
    "x is z\n",
    "\n",
    "```"
   ]
  },
  {
   "cell_type": "code",
   "execution_count": null,
   "metadata": {},
   "outputs": [],
   "source": []
  },
  {
   "cell_type": "code",
   "execution_count": null,
   "metadata": {},
   "outputs": [],
   "source": []
  },
  {
   "cell_type": "code",
   "execution_count": null,
   "metadata": {},
   "outputs": [],
   "source": []
  },
  {
   "cell_type": "code",
   "execution_count": null,
   "metadata": {},
   "outputs": [],
   "source": []
  },
  {
   "cell_type": "code",
   "execution_count": null,
   "metadata": {},
   "outputs": [],
   "source": []
  },
  {
   "cell_type": "markdown",
   "metadata": {},
   "source": [
    "#### Bit a bit\n",
    "Os opereradores binários são aqueles que operam sobre os valores em nível de bit"
   ]
  },
  {
   "cell_type": "markdown",
   "metadata": {},
   "source": [
    "|Operador|Função| \n",
    "|---|---|\n",
    "|`&`|**e** lógico|\n",
    "|`\\|`|**ou** lógico|\n",
    "|`~`|**não** lógico|\n",
    "|`^`|**xor** lógico (**ou exclusivo**)|\n",
    "|`>>`|deslocamento à direita|\n",
    "|`<<`|deslocamento à esquerda|\n"
   ]
  },
  {
   "cell_type": "markdown",
   "metadata": {},
   "source": [
    "**Exemplo**\n",
    "\n",
    "```py\n",
    "A = 10 #(1010 em binário)\n",
    "B = 4  #(0100 em binário)\n",
    "C = 5  #(0101 em binário)\n",
    "A & B\n",
    "A | B\n",
    "~A\n",
    "A ^ B\n",
    "B ^ C\n",
    "C << 1\n",
    "C >> 1\n",
    "```"
   ]
  },
  {
   "cell_type": "code",
   "execution_count": null,
   "metadata": {},
   "outputs": [],
   "source": []
  },
  {
   "cell_type": "code",
   "execution_count": null,
   "metadata": {},
   "outputs": [],
   "source": []
  },
  {
   "cell_type": "code",
   "execution_count": null,
   "metadata": {},
   "outputs": [],
   "source": []
  },
  {
   "cell_type": "code",
   "execution_count": null,
   "metadata": {},
   "outputs": [],
   "source": []
  },
  {
   "cell_type": "code",
   "execution_count": null,
   "metadata": {},
   "outputs": [],
   "source": []
  },
  {
   "cell_type": "code",
   "execution_count": null,
   "metadata": {},
   "outputs": [],
   "source": []
  },
  {
   "cell_type": "code",
   "execution_count": null,
   "metadata": {},
   "outputs": [],
   "source": []
  },
  {
   "cell_type": "code",
   "execution_count": null,
   "metadata": {},
   "outputs": [],
   "source": []
  },
  {
   "cell_type": "markdown",
   "metadata": {},
   "source": [
    "#### Agrupamento\n",
    "Os operadores de agrupamento servem para identificar expressões ou valores que devem ser reconhecidos como sendo um grupo."
   ]
  },
  {
   "cell_type": "markdown",
   "metadata": {},
   "source": [
    "|Operadores|Função| \n",
    "|---|---|\n",
    "|`(`, `)`|agrupamento de expressões| \n",
    "|`[`, `]`|listas| \n",
    "|`{`, `}`|conjuntos| \n",
    "|`{`, `}`|dicionários| \n",
    "|`(`, `)`|tuplas| "
   ]
  },
  {
   "cell_type": "markdown",
   "metadata": {},
   "source": [
    "**Exemplo**\n",
    "\n",
    "```py\n",
    "2+3*4\n",
    "(2+3)*4\n",
    "```"
   ]
  },
  {
   "cell_type": "code",
   "execution_count": null,
   "metadata": {},
   "outputs": [],
   "source": []
  },
  {
   "cell_type": "code",
   "execution_count": null,
   "metadata": {},
   "outputs": [],
   "source": []
  },
  {
   "cell_type": "markdown",
   "metadata": {},
   "source": [
    "## Operadores compostos\n",
    "É possível combinar alguns operadores, que realizam a operação utilizando os parâmetros passados ao operador, e em seguida realiza uma atribuição utilizando a variável à esquerda dos operadores."
   ]
  },
  {
   "cell_type": "markdown",
   "metadata": {},
   "source": [
    "|Operador|Função| \n",
    "|---|---|\n",
    "|`+=`| adição e atribuição| \n",
    "|`-=`| subtração e atribuição| \n",
    "|`*=`| multiplicação e atribuição| \n",
    "|`/=`| divisão e atribuição| \n",
    "|`//=`| divisão inteira e atribuição| \n",
    "|`%=`| módulo e atribuição| \n",
    "|`**=`| potência e atribuição| \n",
    "|`&=`|**e** lógico e atribuição|\n",
    "|`\\|=`|**ou** lógico e atribuição|\n",
    "|`^=`|**xor** lógico (**ou exclusivo**) e atribuição|\n",
    "|`>>=`|deslocamento à direita e atribuição|\n",
    "|`<<=`|deslocamento à esquerda e atribuição|\n"
   ]
  },
  {
   "cell_type": "markdown",
   "metadata": {},
   "source": [
    "**Exemplo**\n",
    "\n",
    "```py\n",
    "X = 5\n",
    "X **=2\n",
    "print(X)\n",
    "```"
   ]
  },
  {
   "cell_type": "code",
   "execution_count": null,
   "metadata": {},
   "outputs": [],
   "source": []
  },
  {
   "cell_type": "markdown",
   "metadata": {},
   "source": [
    "```py\n",
    "X = 4\n",
    "X <<= 2\n",
    "print(X)\n",
    "```"
   ]
  },
  {
   "cell_type": "code",
   "execution_count": null,
   "metadata": {},
   "outputs": [],
   "source": []
  },
  {
   "cell_type": "markdown",
   "metadata": {},
   "source": [
    "## Prioridade entre operadores\n",
    "As prioridades definem quais operadores serão executados primeiro. Caso possuam a mesma prioridade, a expressão será executada da esquerda para a direita."
   ]
  },
  {
   "cell_type": "markdown",
   "metadata": {},
   "source": [
    "Organizados da maior para menor prioridade:  \n",
    "\n",
    "|Operadores|\n",
    "|---|\n",
    "|`()`,`[]`,`{}`|\n",
    "|`x[index]`,`x[index:index]`,`x(params)`,`x.attrib`|\n",
    "|`**`|\n",
    "|`+x`,`-x`, `~x`|\n",
    "|`*`,`@`,`/`,`//`,`%`|\n",
    "|`+`,`-`|\n",
    "|`<<`,`>>`|\n",
    "|`&`|\n",
    "|`^`|\n",
    "|`\\|`|\n",
    "|`in`,`not in`,`is`,`is not`,`<`,`<=`,`>=`,`!=`,`==`|\n",
    "|`not x`|\n",
    "|`and`|\n",
    "|`or`| \n",
    "|`if - else`|\n",
    "|`lambda`|\n",
    "|`=`|\n",
    "\n",
    "Fonte: [PYTHON SOFTWARE FOUNDATION. Expressions - Python 3 documentation.](https://docs.python.org/3/reference/expressions.html#operator-precedence)"
   ]
  },
  {
   "cell_type": "markdown",
   "metadata": {},
   "source": [
    "**Exercícios**\n",
    "  \n",
    "- [Beecrowd 3055 - Nota Esquecida ](https://www.beecrowd.com.br/judge/pt/problems/view/3055)\n",
    "- [Beecrowd 2786 - Piso da Escola ](https://www.beecrowd.com.br/judge/pt/problems/view/2786)\n",
    "- [Beecrowd 1021 - Notas e Moedas ](https://www.beecrowd.com.br/judge/pt/problems/view/1021)"
   ]
  },
  {
   "cell_type": "code",
   "execution_count": null,
   "metadata": {},
   "outputs": [],
   "source": []
  },
  {
   "cell_type": "markdown",
   "metadata": {},
   "source": [
    "## Referências\n",
    "\n",
    "[PYTHON SOFTWARE FOUNDATION. Expressions - Python 3 documentation.](https://docs.python.org/3/reference/expressions.html)  \n"
   ]
  },
  {
   "cell_type": "markdown",
   "metadata": {},
   "source": [
    "  "
   ]
  }
 ],
 "metadata": {
  "kernelspec": {
   "display_name": "Python 3 (ipykernel)",
   "language": "python",
   "name": "python3"
  },
  "language_info": {
   "codemirror_mode": {
    "name": "ipython",
    "version": 3
   },
   "file_extension": ".py",
   "mimetype": "text/x-python",
   "name": "python",
   "nbconvert_exporter": "python",
   "pygments_lexer": "ipython3",
   "version": "3.8.10"
  }
 },
 "nbformat": 4,
 "nbformat_minor": 2
}
