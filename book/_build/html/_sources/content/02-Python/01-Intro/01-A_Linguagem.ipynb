{
 "cells": [
  {
   "cell_type": "markdown",
   "metadata": {},
   "source": [
    "# A linguagem"
   ]
  },
  {
   "cell_type": "markdown",
   "metadata": {},
   "source": [
    "Python é uma linguagem de programação interpretada e orientada a objetos. Tem crescido muito nos últimos anos, visto sua portabilidade, alto nível e compatibilidade com diversos sistemas e outras linguagens."
   ]
  },
  {
   "cell_type": "markdown",
   "metadata": {},
   "source": [
    "A linguagem possui diversas características, como\n",
    "- A identação define os blocos\n",
    "- Os tipos de variáveis são definidos pelo tipo do dado que lhe é atribuído"
   ]
  },
  {
   "cell_type": "markdown",
   "metadata": {},
   "source": [
    "As versões de Python não são retrocompatíveis. Exemplo: um código desenvolvido para Python versão 2.x não irá funcionar quando executado em versões 3.x.\n",
    "\n",
    "Para verificar a versão atual:\n",
    "```bash\n",
    "python --version\n",
    "```"
   ]
  },
  {
   "cell_type": "markdown",
   "metadata": {},
   "source": [
    "## Entrada e saída de dados\n",
    "\n",
    "Inicialmente trataremos a entrada de dados como sendo a partir da entrada padrão e saída padrão. Comumente, a entrada padrão é o teclado e a saída padrão é a tela.\n",
    "\n",
    "As funções nativas básicas que utilizaremos são:\n",
    "\n",
    "- `print()`\n",
    "- `input()`\n",
    "\n",
    "`print()`\n",
    "\n",
    "A função `print()` mostra dados na saída padrão.\n",
    "\n",
    "**Exemplo**  \n",
    "\n",
    "```python\n",
    "print('Hello world!')\n",
    "total = 10\n",
    "print('O valor total é', total)\n",
    "```"
   ]
  },
  {
   "cell_type": "code",
   "execution_count": null,
   "metadata": {},
   "outputs": [],
   "source": []
  },
  {
   "cell_type": "markdown",
   "metadata": {},
   "source": [
    "`input()`\n",
    "\n",
    "A função `input()` trata de obter os dados a partir da entrada padrão.\n",
    "\n",
    "**Exemplo**  \n",
    "\n",
    "```python\n",
    "valor = input('Entre com um valor: ')\n",
    "print('O valor digitado é:', valor)\n",
    "```"
   ]
  },
  {
   "cell_type": "code",
   "execution_count": null,
   "metadata": {},
   "outputs": [],
   "source": []
  },
  {
   "cell_type": "markdown",
   "metadata": {},
   "source": [
    "No Python 3, a saída da função `input()` é do tipo cadeia de caracteres (*string*).  \n",
    "\n",
    "**Exemplo**  \n",
    "```python\n",
    "nome = input('Entre com seu nome:')\n",
    "print('Olá', nome, '. Seja bem vindo ao sistema.')\n",
    "```"
   ]
  },
  {
   "cell_type": "code",
   "execution_count": null,
   "metadata": {},
   "outputs": [],
   "source": []
  },
  {
   "cell_type": "markdown",
   "metadata": {},
   "source": [
    "Neste caso, para que operações sejam realizadas com tipos específicos, é necessário fazer a conversão do dado para o qual se deseja trabalhar. A não conversão pode resultar em um erro.\n",
    "\n",
    "**Exemplo**  \n",
    "```python\n",
    "val = input('Entre com um valor:')\n",
    "quad = val * val #Aqui ocorre um erro. Val não é numérico\n",
    "print('O quadrado de',val,'é',quad)\n",
    "```"
   ]
  },
  {
   "cell_type": "code",
   "execution_count": null,
   "metadata": {},
   "outputs": [],
   "source": []
  },
  {
   "cell_type": "markdown",
   "metadata": {},
   "source": [
    "Nestas situações, é necessário fazer a conversão para o formato desejado.\n",
    "```python\n",
    "val = input('Entre com um valor:')\n",
    "val = int(val) #converte a entrada para inteiro\n",
    "quad = val * val #Aqui ocorre um erro. Val não é numérico\n",
    "print('O quadrado de',val,'é',quad)\n",
    "```"
   ]
  },
  {
   "cell_type": "code",
   "execution_count": null,
   "metadata": {},
   "outputs": [],
   "source": []
  }
 ],
 "metadata": {
  "kernelspec": {
   "display_name": "Python 3 (ipykernel)",
   "language": "python",
   "name": "python3"
  },
  "language_info": {
   "codemirror_mode": {
    "name": "ipython",
    "version": 3
   },
   "file_extension": ".py",
   "mimetype": "text/x-python",
   "name": "python",
   "nbconvert_exporter": "python",
   "pygments_lexer": "ipython3",
   "version": "3.8.10"
  }
 },
 "nbformat": 4,
 "nbformat_minor": 2
}
