{
 "cells": [
  {
   "cell_type": "markdown",
   "metadata": {},
   "source": [
    "# JSON"
   ]
  },
  {
   "cell_type": "markdown",
   "metadata": {},
   "source": [
    "Os arquivos no formato JSON (*JavaScript Object Notation*) são arquivos texto com uma organização específica, bastante semelhante a listas e dicionários Python.\n",
    "\n",
    "Sua facilidade consiste em salvar informações referentes a estruturas completas em arquivo, permitindo que conteúdos possam ser carregados posteriormente de maneira simplificada."
   ]
  },
  {
   "cell_type": "markdown",
   "metadata": {},
   "source": [
    "Como exemplo, criaremos a seguinte estrutura, composta por uma lista de dicionários.\n",
    "\n",
    "```python\n",
    "planetas = [\n",
    "    {\n",
    "        'Ordem': 1,    \n",
    "        'Nome': \"Mercurio\",    \n",
    "        'Distancia': 57910000,    \n",
    "        'Diametro': 4879,    \n",
    "        'Rochoso': \"Sim\"\n",
    "    }\n",
    "    ,\n",
    "    {\n",
    "        'Ordem': 2,    \n",
    "        'Nome': \"Venus\",    \n",
    "        'Distancia': 108200000,    \n",
    "        'Diametro': 12104,    \n",
    "        'Rochoso': \"Sim\"\n",
    "    }\n",
    "    ,\n",
    "    {\n",
    "        'Ordem': 3,    \n",
    "        'Nome': \"Terra\",    \n",
    "        'Distancia': 149600000,    \n",
    "        'Diametro': 12742,    \n",
    "        'Rochoso': \"Sim\"\n",
    "    }\n",
    "]\n",
    "```\n",
    "\n",
    "**Atividade**  \n",
    "- Crie a estrutura `planetas`, como indicado no exemplo.\n",
    "- Visualize a estrutura."
   ]
  },
  {
   "cell_type": "code",
   "execution_count": null,
   "metadata": {},
   "outputs": [],
   "source": []
  },
  {
   "cell_type": "markdown",
   "metadata": {},
   "source": [
    "Para manipular informações JSON, precisamos importar a biblioteca `json`.\n",
    "\n",
    "```python\n",
    "import json\n",
    "```"
   ]
  },
  {
   "cell_type": "code",
   "execution_count": null,
   "metadata": {},
   "outputs": [],
   "source": []
  },
  {
   "cell_type": "markdown",
   "metadata": {},
   "source": [
    "O método `.dumps()` permite que o conteúdo de uma estrutura seja convertido para *string*.\n",
    "\n",
    "**Exemplo**\n",
    "```python\n",
    "print(json.dumps(planetas))\n",
    "```"
   ]
  },
  {
   "cell_type": "code",
   "execution_count": null,
   "metadata": {},
   "outputs": [],
   "source": []
  },
  {
   "cell_type": "markdown",
   "metadata": {},
   "source": [
    "Também é possível apresentar a saída de maneira organizada, utilizando o parâmetro `indent`.\n",
    "\n",
    "**Exemplo**  \n",
    "\n",
    "```python\n",
    "print(json.dumps(planetas, indent=4))\n",
    "```"
   ]
  },
  {
   "cell_type": "code",
   "execution_count": null,
   "metadata": {},
   "outputs": [],
   "source": []
  },
  {
   "cell_type": "markdown",
   "metadata": {},
   "source": [
    "## Escrita"
   ]
  },
  {
   "cell_type": "markdown",
   "metadata": {},
   "source": [
    "Para salvar, basta escrever o conteúdo JSON em arquivo texto. O método `.dump()` simplifica esse processo. Neste caso, é necessário passar o descritor do arquivo.\n",
    "\n",
    "```python\n",
    "json_file = open('planetas.json', mode='w')\n",
    "json.dump(planetas, json_file)\n",
    "json_file.close()\n",
    "```\n",
    "\n",
    "**Atividade**  \n",
    "- Salve o conteúdo da estrutura `planetas` em arquivo do tipo JSON."
   ]
  },
  {
   "cell_type": "code",
   "execution_count": null,
   "metadata": {},
   "outputs": [],
   "source": []
  },
  {
   "cell_type": "markdown",
   "metadata": {},
   "source": [
    "Como um arquivo CSV é um arquivo texto, podemos visualizar o conteúdo como arquivo texto.\n",
    "\n",
    "```python\n",
    "txt_file = open('planetas.json',mode='r')\n",
    "for linha in txt_file:\n",
    "  print(linha, end='')\n",
    "txt_file.close()\n",
    "```"
   ]
  },
  {
   "cell_type": "code",
   "execution_count": null,
   "metadata": {},
   "outputs": [],
   "source": []
  },
  {
   "cell_type": "markdown",
   "metadata": {},
   "source": [
    "O parâmetro `indent` também pode ser utilizado para salvar o arquivo organizado, para melhor visualização.\n",
    "\n",
    "**Exemplo**\n",
    "\n",
    "```python\n",
    "json_file = open('planetas.json', mode='w')\n",
    "json.dump(planetas, json_file, indent=4)\n",
    "json_file.close()\n",
    "```"
   ]
  },
  {
   "cell_type": "code",
   "execution_count": null,
   "metadata": {},
   "outputs": [],
   "source": []
  },
  {
   "cell_type": "markdown",
   "metadata": {},
   "source": [
    "**Atividade**  \n",
    "- Salve o conteúdo da estrutura `planetas` em arquivo JSON de maneira organizada.\n",
    "- Visualize o conteúdo do arquivo, lendo-o como arquivo texto."
   ]
  },
  {
   "cell_type": "markdown",
   "metadata": {},
   "source": [
    "## Leitura"
   ]
  },
  {
   "cell_type": "markdown",
   "metadata": {},
   "source": [
    "Para ler o conteúdo de um arquivo JSON, pode-se utilizar o método `.load()`, passando como parâmetro o descritor do arquivo.\n",
    "\n",
    "**Exemplo**  \n",
    "\n",
    "```python\n",
    "json_file = open('planetas.json', mode='r')\n",
    "data = json.load(json_file)\n",
    "print(data)\n",
    "```"
   ]
  },
  {
   "cell_type": "markdown",
   "metadata": {},
   "source": [
    "Observe que tanto na leitura quanto na escrita de arquivos JSON, a manipulação do arquivo ocorre de uma única vez."
   ]
  },
  {
   "cell_type": "markdown",
   "metadata": {},
   "source": []
  },
  {
   "cell_type": "markdown",
   "metadata": {},
   "source": [
    "## Referências\n",
    "\n",
    "[Introducing JSON](https://www.json.org/json-en.html)  \n"
   ]
  },
  {
   "cell_type": "markdown",
   "metadata": {},
   "source": [
    " "
   ]
  }
 ],
 "metadata": {
  "kernelspec": {
   "display_name": "Python 3",
   "language": "python",
   "name": "python3"
  },
  "language_info": {
   "codemirror_mode": {
    "name": "ipython",
    "version": 3
   },
   "file_extension": ".py",
   "mimetype": "text/x-python",
   "name": "python",
   "nbconvert_exporter": "python",
   "pygments_lexer": "ipython3",
   "version": "3.6.8"
  }
 },
 "nbformat": 4,
 "nbformat_minor": 4
}
