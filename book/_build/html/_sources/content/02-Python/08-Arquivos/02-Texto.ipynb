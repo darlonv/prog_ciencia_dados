{
 "cells": [
  {
   "cell_type": "markdown",
   "metadata": {
    "slideshow": {
     "slide_type": "slide"
    }
   },
   "source": [
    "# Arquivos texto\n",
    "<!--\n",
    "TODO: \n",
    "- Melhorar as referências\n",
    "--->"
   ]
  },
  {
   "cell_type": "markdown",
   "metadata": {
    "slideshow": {
     "slide_type": "fragment"
    }
   },
   "source": [
    "Um arquivo de texto grava os dados utilizando uma codificação específica, como a ASCII, p. ex."
   ]
  },
  {
   "cell_type": "markdown",
   "metadata": {
    "slideshow": {
     "slide_type": "subslide"
    }
   },
   "source": [
    "Um arquivo texto contém, basicamente, *strings* armazenadas. Para abrir um arquivo texto em Python utilizamos a função `open()`.  "
   ]
  },
  {
   "cell_type": "markdown",
   "metadata": {
    "slideshow": {
     "slide_type": "subslide"
    }
   },
   "source": [
    "**Exemplo**  \n",
    "Escrita:\n",
    "```py\n",
    "arq = open('arquivo.txt','w')\n",
    "```\n",
    "Leitura:\n",
    "```py\n",
    "arq = open('arquivo.txt','r')\n",
    "```\n",
    "\n",
    "Os parâmetros `w` e `r` correspondem a *write* e *read*, respectivamente."
   ]
  },
  {
   "cell_type": "markdown",
   "metadata": {
    "slideshow": {
     "slide_type": "subslide"
    }
   },
   "source": [
    "Para fechar um arquivo, utiliza-se o método `.close()`.  \n",
    "\n",
    "**Exemplo**  \n",
    "```py\n",
    "arq.close()\n",
    "\n",
    "```"
   ]
  },
  {
   "cell_type": "markdown",
   "metadata": {
    "slideshow": {
     "slide_type": "slide"
    }
   },
   "source": [
    "## Escrita\n",
    "\n",
    "Para escrever informações em um arquivo, utiliza-se o método `.write()`.  \n",
    "\n"
   ]
  },
  {
   "cell_type": "markdown",
   "metadata": {
    "slideshow": {
     "slide_type": "subslide"
    }
   },
   "source": [
    "**Exemplo**  \n",
    "```py\n",
    "arq = open('arquivo.txt','w') #criando arquivo.txt\n",
    "#escrevendo dados no arquivo\n",
    "arq.write('Python') \n",
    "arq.write('Manipulacao de arquivos') \n",
    "arq.close() #fechando arquivo\n",
    "```\n",
    "Observe o conteúdo do arquivo `arquivo.txt`."
   ]
  },
  {
   "cell_type": "code",
   "execution_count": null,
   "metadata": {
    "slideshow": {
     "slide_type": "-"
    }
   },
   "outputs": [],
   "source": []
  },
  {
   "cell_type": "markdown",
   "metadata": {
    "slideshow": {
     "slide_type": "subslide"
    }
   },
   "source": [
    "**Exemplo**  \n",
    "Para salvar números de 0 a 9 em um arquivo:  \n",
    "```py\n",
    "arq = open('numeros.txt','w')\n",
    "for i in range(10):\n",
    "    arq.write('{}\\n'.format(i))\n",
    "arq.close()\n",
    "```"
   ]
  },
  {
   "cell_type": "code",
   "execution_count": null,
   "metadata": {
    "slideshow": {
     "slide_type": "-"
    }
   },
   "outputs": [],
   "source": []
  },
  {
   "cell_type": "markdown",
   "metadata": {
    "slideshow": {
     "slide_type": "subslide"
    }
   },
   "source": [
    "**Atividade**  \n",
    "- crie um arquivo `nome.txt`, contendo seu nome\n",
    "- crie um arquivo `pares.txt`, contendo os números pares dentro de um intervalo definido pelo usuário. Os números deve estar separados por espaços"
   ]
  },
  {
   "cell_type": "code",
   "execution_count": null,
   "metadata": {
    "slideshow": {
     "slide_type": "-"
    }
   },
   "outputs": [],
   "source": []
  },
  {
   "cell_type": "code",
   "execution_count": null,
   "metadata": {
    "slideshow": {
     "slide_type": "-"
    }
   },
   "outputs": [],
   "source": []
  },
  {
   "cell_type": "markdown",
   "metadata": {
    "slideshow": {
     "slide_type": "subslide"
    }
   },
   "source": [
    "## Leitura\n",
    "A leitura de dados de um arquivo pode ser realizada de diversas maneiras.  \n",
    "**Exemplo**  \n",
    "Iterando entre cada linha:\n",
    "```py\n",
    "arq = open('numeros.txt','r')\n",
    "for linha in arq: #Lê cada linha do arquivo\n",
    "    print(linha)\n",
    "arq.close()\n",
    "```"
   ]
  },
  {
   "cell_type": "code",
   "execution_count": null,
   "metadata": {
    "slideshow": {
     "slide_type": "-"
    }
   },
   "outputs": [],
   "source": []
  },
  {
   "cell_type": "markdown",
   "metadata": {
    "slideshow": {
     "slide_type": "subslide"
    }
   },
   "source": [
    "**Atividade**  \n",
    "- Por que entre cada linha possui uma linha sem nenhum caractere?\n",
    "- Adicione o parâmetro `end=''` na função `print()`. Observe e explique o resultado."
   ]
  },
  {
   "cell_type": "markdown",
   "metadata": {
    "slideshow": {
     "slide_type": "slide"
    }
   },
   "source": [
    "Lendo todo o arquivo de uma única vez, com o método `.read()`:  \n",
    "**Exemplo**  \n",
    "```py\n",
    "arq = open('numeros.txt','r')\n",
    "todosOsDados = arq.read()\n",
    "print(todosOsDados)\n",
    "arq.close()\n",
    "```"
   ]
  },
  {
   "cell_type": "code",
   "execution_count": null,
   "metadata": {
    "slideshow": {
     "slide_type": "-"
    }
   },
   "outputs": [],
   "source": []
  },
  {
   "cell_type": "markdown",
   "metadata": {
    "slideshow": {
     "slide_type": "subslide"
    }
   },
   "source": [
    "Lendo uma única linha, com o método `.readline()`:  \n",
    "\n",
    "**Exemplo**  \n",
    "```py\n",
    "arq = open('numeros.txt','r')\n",
    "linha = arq.readline()\n",
    "print(linha)\n",
    "arq.close()\n",
    "```"
   ]
  },
  {
   "cell_type": "code",
   "execution_count": null,
   "metadata": {
    "slideshow": {
     "slide_type": "-"
    }
   },
   "outputs": [],
   "source": []
  },
  {
   "cell_type": "markdown",
   "metadata": {
    "slideshow": {
     "slide_type": "subslide"
    }
   },
   "source": [
    "**Atividade**  \n",
    "- Abra o arquivo `numeros.txt`, e mostre apenas os números divisíveis por 6."
   ]
  },
  {
   "cell_type": "code",
   "execution_count": null,
   "metadata": {
    "slideshow": {
     "slide_type": "-"
    }
   },
   "outputs": [],
   "source": []
  },
  {
   "cell_type": "markdown",
   "metadata": {
    "slideshow": {
     "slide_type": "slide"
    }
   },
   "source": [
    "## Referências\n",
    "\n",
    "[Stackoverflow. Quais as principais diferenças entre UTF, ASCII, ANSI?. 2016. Acesso em: 23 set 2019](https://pt.stackoverflow.com/questions/156951/quais-as-principais-diferen%C3%A7as-entre-unicode-utf-ascii-ansi)  \n",
    "[SPOLSKI, J. The Absolute Minimum Every Software Developer Absolutely, Positively Must Know About Unicode and Character Sets (No Excuses!). 2003. Acesso em: 23 set 2019.](https://www.joelonsoftware.com/2003/10/08/the-absolute-minimum-every-software-developer-absolutely-positively-must-know-about-unicode-and-character-sets-no-excuses/)  \n"
   ]
  }
 ],
 "metadata": {
  "kernelspec": {
   "display_name": "Python 3 (ipykernel)",
   "language": "python",
   "name": "python3"
  },
  "language_info": {
   "codemirror_mode": {
    "name": "ipython",
    "version": 3
   },
   "file_extension": ".py",
   "mimetype": "text/x-python",
   "name": "python",
   "nbconvert_exporter": "python",
   "pygments_lexer": "ipython3",
   "version": "3.8.10"
  }
 },
 "nbformat": 4,
 "nbformat_minor": 2
}
