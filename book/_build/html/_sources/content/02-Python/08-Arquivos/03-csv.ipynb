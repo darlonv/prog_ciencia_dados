{
 "cells": [
  {
   "cell_type": "markdown",
   "metadata": {},
   "source": [
    "# CSV"
   ]
  },
  {
   "cell_type": "markdown",
   "metadata": {},
   "source": [
    "Um arquivo o formato CSV (*Comma Separated Values*) consiste em organizar os dados em um formato de tabela, onde cada coluna dessa tabela está separada por vírgulas. Cada linha do arquivo corresponde a uma linha da tabela, e a primeira linha pode conter títulos para as colunas. Um arquivo CSV é um arquivo texto, o que o caracteriza é a sua maneira de organização dos dados nele contidos.\n",
    "\n",
    "Os arquivos em formato CSV são bastante utilizados para salvar bases de dados."
   ]
  },
  {
   "cell_type": "markdown",
   "metadata": {},
   "source": [
    "Um arquivo csv típico possui seu conteúdo organizado da seguinte maneira:\n",
    "\n",
    "```\n",
    "Ordem,Nome,Distancia,Diametro,Rochoso\n",
    "1,Mercurio,57910000,4879,Sim\n",
    "2,Venus,108200000,12104,Sim\n",
    "3,Terra,149600000,12742,Sim\n",
    "```\n",
    "\n",
    "**Atividade**  \n",
    "- Execute o código a seguir para criar um arquivo de exemplo.\n",
    "\n",
    "```python\n",
    "file = open('planetas.csv',mode='w')\n",
    "file.writelines('Ordem,Nome,Distancia,Diametro,Rochoso\\n')\n",
    "file.writelines('1,Mercurio,57910000,4879,Sim\\n')\n",
    "file.writelines('2,Venus,108200000,12104,Sim\\n')\n",
    "file.writelines('3,Terra,149600000,12742,Sim\\n')\n",
    "file.close()\n",
    "```"
   ]
  },
  {
   "cell_type": "code",
   "execution_count": null,
   "metadata": {},
   "outputs": [],
   "source": []
  },
  {
   "cell_type": "markdown",
   "metadata": {},
   "source": [
    "Como um arquivo CSV é um arquivo texto, e é possível visualizar seu conteúdo acessando-o como arquivo texto.\n",
    "\n",
    "**Exemplo**  \n",
    "- Lendo o conteúdo como arquivo texto\n",
    "```python\n",
    "txt_file = open('planetas.csv',mode='r')\n",
    "for linha in txt_file:\n",
    "    print(linha end='')\n",
    "txt_file.close()\n",
    "```\n",
    "\n",
    "**Atividade**  \n",
    "- Leia o arquivo como texto, e observe o caractere que separa cada campo."
   ]
  },
  {
   "cell_type": "code",
   "execution_count": null,
   "metadata": {},
   "outputs": [],
   "source": []
  },
  {
   "cell_type": "markdown",
   "metadata": {},
   "source": [
    "## Leitura\n",
    "Uma das formas de manipulação é utilizando a biblioteca `csv`. O uso das bibliotecas permite que a leitura dos arquivos seja mais fácil e organizada pelo programador.\n",
    "\n",
    "```python\n",
    "import csv\n",
    "```"
   ]
  },
  {
   "cell_type": "code",
   "execution_count": null,
   "metadata": {},
   "outputs": [],
   "source": []
  },
  {
   "cell_type": "markdown",
   "metadata": {},
   "source": [
    "A biblioteca `csv` possibilita que cada linha seja lida como um dicionário, utilizando o método `.DictReader()`. O parâmetro `delimiter` define qual é o caractere que separa os campos. Seu valor padrão é `,`, e nosso caso poderia ser omitido.\n",
    "\n",
    "**Exemplo**  \n",
    "- Lendo o conteúdo como arquivo csv, utilizando dicionários.  \n",
    "\n",
    "```python\n",
    "csv_file = open('planetas.csv', mode='r')\n",
    "csv_reader = csv.DictReader(csv_file, delimiter=',')\n",
    "\n",
    "for linha in csv_reader:\n",
    "    print(f\"{linha['Nome']} {linha['Ordem']}\") #Obtêm-se apenas as colunas desejadas\n",
    "csv_file.close()\n",
    "\n",
    "```"
   ]
  },
  {
   "cell_type": "code",
   "execution_count": null,
   "metadata": {},
   "outputs": [],
   "source": []
  },
  {
   "cell_type": "markdown",
   "metadata": {},
   "source": []
  },
  {
   "cell_type": "markdown",
   "metadata": {},
   "source": [
    "## Escrita\n",
    "Com a mesma biblioteca também é possível salvar dados em arquivos CSV.\n",
    "\n",
    "```python\n",
    "csv_file = open('planetas.csv', mode='a') #abre com append. w para criar novo arquivo.\n",
    "csv_writer = csv.writer(csv_file, delimiter=',')\n",
    "\n",
    "csv_writer.writerow([4,'Marte',227900000,6779,'Sim'])\n",
    "csv_writer.writerow([5,'Júpiter',778500000,139820,'Não'])\n",
    "csv_writer.writerow([6,'Saturno',1429400000,116460,'Não'])\n",
    "csv_writer.writerow([7,'Urano',2870990000,50724,'Não'])\n",
    "csv_writer.writerow([8,'Netuno',4504300000,49244,'Não'])\n",
    "csv_file.close()\n",
    "```"
   ]
  },
  {
   "cell_type": "code",
   "execution_count": 52,
   "metadata": {},
   "outputs": [],
   "source": []
  },
  {
   "cell_type": "markdown",
   "metadata": {},
   "source": [
    "**Atividade**\n",
    "- Visualize o arquivo atualizado, como texto.\n",
    "<!-- Vamos visualizar o arquivo, atualizado.\n",
    "```python\n",
    "txt_file = open('planetas.csv', mode='r')\n",
    "for linha in txt_file:\n",
    "    print(linha, end='')\n",
    "txt_file.close()\n",
    "``` -->"
   ]
  },
  {
   "cell_type": "code",
   "execution_count": null,
   "metadata": {},
   "outputs": [],
   "source": []
  },
  {
   "cell_type": "markdown",
   "metadata": {},
   "source": [
    "**Exercícios**\n",
    "\n",
    "- Mostre os planetas por ordem de tamanho\n",
    "- Calcule e apresente o tamanho de cada planeta em relação à Terra. "
   ]
  },
  {
   "cell_type": "code",
   "execution_count": null,
   "metadata": {},
   "outputs": [],
   "source": []
  }
 ],
 "metadata": {
  "kernelspec": {
   "display_name": "Python 3",
   "language": "python",
   "name": "python3"
  },
  "language_info": {
   "codemirror_mode": {
    "name": "ipython",
    "version": 3
   },
   "file_extension": ".py",
   "mimetype": "text/x-python",
   "name": "python",
   "nbconvert_exporter": "python",
   "pygments_lexer": "ipython3",
   "version": "3.6.8"
  }
 },
 "nbformat": 4,
 "nbformat_minor": 4
}
