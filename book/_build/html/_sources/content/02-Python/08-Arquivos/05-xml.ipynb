{
 "cells": [
  {
   "cell_type": "markdown",
   "metadata": {},
   "source": [
    "# XML"
   ]
  },
  {
   "cell_type": "markdown",
   "metadata": {},
   "source": [
    "O XML (*eXtensible Markup Language*) é uma **linguagem de marcação**, amplamente utilizada para descrição de dados e estruturas. Um arquivo XML possui o conteúdo da linguagem de marcação XML. \n",
    "\n",
    "O XML organiza as estruturas utilizando *tags* e atributos."
   ]
  },
  {
   "cell_type": "markdown",
   "metadata": {},
   "source": [
    "**Exemplo**\n",
    "\n",
    "```xml\n",
    "<planetas>\n",
    "    <Terra>\n",
    "        <Ordem>3</Ordem>\n",
    "        <Nome>Terra</Nome>\n",
    "        <Distancia>149600000</Distancia>\n",
    "        <Diametro>12742</Diametro>\n",
    "        <Rochoso>Sim</Rochoso>\n",
    "    </Terra>\n",
    "</planetas>\n",
    "```"
   ]
  },
  {
   "cell_type": "markdown",
   "metadata": {},
   "source": [
    "%%bash\n",
    "echo '<Solar>\n",
    "    <Planeta Nome=\"Mercurio\">\n",
    "        <Ordem>1</Ordem>\n",
    "        <Nome>Mercurio</Nome>\n",
    "        <Distancia>57910000</Distancia>\n",
    "        <Diametro>4879</Diametro>\n",
    "        <Rochoso>Sim</Rochoso>\n",
    "    </Planeta>\n",
    "    <Planeta Nome=\"Venus\">\n",
    "        <Ordem>2</Ordem>\n",
    "        <Nome>Terra</Nome>\n",
    "        <Distancia>108200000</Distancia>\n",
    "        <Diametro>12104</Diametro>\n",
    "        <Rochoso>Sim</Rochoso>\n",
    "    </Planeta>\n",
    "    <Planeta Nome=\"Terra\">\n",
    "        <Ordem>3</Ordem>\n",
    "        <Nome>Terra</Nome>\n",
    "        <Distancia>149600000</Distancia>\n",
    "        <Diametro>12742</Diametro>\n",
    "        <Rochoso>Sim</Rochoso>\n",
    "    </Planeta>\n",
    "    <Satelite Nome=\"Lua\">\n",
    "        <Ordem>1</Ordem>\n",
    "        <Nome>Lua</Nome>\n",
    "        <Orbita>Terra</Orbita>\n",
    "    </Satelite>\n",
    "    <Satelite Nome=\"Fobos\">\n",
    "        <Orbita>Marte</Orbita>\n",
    "    </Satelite>\n",
    "    <Satelite Nome=\"Deimos\">\n",
    "        <Orbita>Marte</Orbita>\n",
    "    </Satelite>\n",
    "    \n",
    "    <Satelite Nome=\"Ganimedes\">\n",
    "        <Orbita>Jupiter</Orbita>\n",
    "    </Satelite>\n",
    "    <Satelite Nome=\"Calisto\">\n",
    "        <Orbita>Jupiter</Orbita>\n",
    "    </Satelite>\n",
    "    <Satelite Nome=\"Europa\">\n",
    "        <Orbita>Jupiter</Orbita>\n",
    "    </Satelite>\n",
    "    <Satelite Nome=\"Io\">\n",
    "        <Orbita>Jupiter</Orbita>\n",
    "    </Satelite>\n",
    "    \n",
    "     <Satelite Nome=\"Mimas\">\n",
    "        <Orbita>Saturno</Orbita>\n",
    "    </Satelite>\n",
    "    <Satelite Nome=\"Encélado\">\n",
    "        <Orbita>Saturno</Orbita>\n",
    "    </Satelite>\n",
    "    <Satelite Nome=\"Tétis\">\n",
    "        <Orbita>Saturno</Orbita>\n",
    "    </Satelite>\n",
    "    <Satelite Nome=\"Dione\">\n",
    "        <Orbita>Saturno</Orbita>\n",
    "    </Satelite>\n",
    "    <Satelite Nome=\"Reia\">\n",
    "        <Orbita>Saturno</Orbita>\n",
    "    </Satelite>\n",
    "    <Satelite Nome=\"Titã\">\n",
    "        <Orbita>Saturno</Orbita>\n",
    "    </Satelite>\n",
    "    <Satelite Nome=\"Jápeto\">\n",
    "        <Orbita>Saturno</Orbita>\n",
    "    </Satelite>\n",
    "    \n",
    "    <Satelite Nome=\"Miranda\">\n",
    "        <Orbita>Urano</Orbita>\n",
    "    </Satelite>\n",
    "    <Satelite Nome=\"Ariel\">\n",
    "        <Orbita>Urano</Orbita>\n",
    "    </Satelite>\n",
    "    <Satelite Nome=\"Umbriel\">\n",
    "        <Orbita>Urano</Orbita>\n",
    "    </Satelite>\n",
    "    <Satelite Nome=\"Titânia\">\n",
    "        <Orbita>Urano</Orbita>\n",
    "    </Satelite>\n",
    "    <Satelite Nome=\"Oberon\">\n",
    "        <Orbita>Urano</Orbita>\n",
    "    </Satelite>\n",
    "    \n",
    "    <Satelite Nome=\"Náiade\">\n",
    "        <Orbita>Netuno</Orbita>\n",
    "    </Satelite>\n",
    "    <Satelite Nome=\"Talassa\">\n",
    "        <Orbita>Netuno</Orbita>\n",
    "    </Satelite>\n",
    "    <Satelite Nome=\"Despina\">\n",
    "        <Orbita>Netuno</Orbita>\n",
    "    </Satelite>\n",
    "    <Satelite Nome=\"Galateia\">\n",
    "        <Orbita>Netuno</Orbita>\n",
    "    </Satelite>\n",
    "    <Satelite Nome=\"Larissa\">\n",
    "        <Orbita>Netuno</Orbita>\n",
    "    </Satelite>\n",
    "    <Satelite Nome=\"Hipocampo\">\n",
    "        <Orbita>Netuno</Orbita>\n",
    "    </Satelite>\n",
    "    <Satelite Nome=\"Proteu\">\n",
    "        <Orbita>Netuno</Orbita>\n",
    "    </Satelite>\n",
    "    \n",
    "    <Satelite Nome=\"Caronte\">\n",
    "        <Orbita>Plutão</Orbita>\n",
    "    </Satelite>\n",
    "    <Satelite Nome=\"Nix\">\n",
    "        <Orbita>Plutão</Orbita>\n",
    "    </Satelite>\n",
    "    <Satelite Nome=\"Hidra\">\n",
    "        <Orbita>Plutão</Orbita>\n",
    "    </Satelite>\n",
    "    <Satelite Nome=\"Cérbero\">\n",
    "        <Orbita>Plutão</Orbita>\n",
    "    </Satelite>\n",
    "    <Satelite Nome=\"Estige\">\n",
    "        <Orbita>Plutão</Orbita>\n",
    "    </Satelite>\n",
    "    \n",
    "    <Satelite Nome=\"Namaka\">\n",
    "        <Orbita>Haumea</Orbita>\n",
    "    </Satelite>\n",
    "    <Satelite Nome=\"Hi\\'iaka\">\n",
    "        <Orbita>Haumea</Orbita>\n",
    "    </Satelite>\n",
    "    \n",
    "    <Satelite Nome=\"MK 2\">\n",
    "        <Orbita>Makemake</Orbita>\n",
    "    </Satelite>\n",
    "    \n",
    "    <Satelite Nome=\"Disnomia\">\n",
    "        <Orbita>Éris</Orbita>\n",
    "    </Satelite>\n",
    "    \n",
    "    <planeta>\n",
    "        <Orbita>Ceres</Orbita>\n",
    "        <tipo>Planeta anão</tipo>\n",
    "    </planeta>\n",
    "    \n",
    "    \n",
    "    \n",
    "    \n",
    "    <Satelite Nome=\"\">\n",
    "        <Orbita></Orbita>\n",
    "    </Satelite>\n",
    "    \n",
    "    \n",
    "    \n",
    "    <Estrela Nome=\"Sol\">\n",
    "        <Nome>Sol</Nome>\n",
    "    </Estrela>\n",
    "</Solar>' > planetas.xml"
   ]
  },
  {
   "cell_type": "markdown",
   "metadata": {},
   "source": [
    "[Fonte](https://pt.wikipedia.org/wiki/Lista_de_satélites_naturais_do_Sistema_Solar)"
   ]
  },
  {
   "cell_type": "markdown",
   "metadata": {},
   "source": [
    "import xml.etree.ElementTree as ET"
   ]
  },
  {
   "cell_type": "markdown",
   "metadata": {},
   "source": [
    "tree = ET.parse('planetas.xml')\n",
    "root = tree.getroot()"
   ]
  },
  {
   "cell_type": "markdown",
   "metadata": {},
   "source": [
    "print(root.attrib)"
   ]
  },
  {
   "cell_type": "markdown",
   "metadata": {},
   "source": [
    "k.tag"
   ]
  },
  {
   "cell_type": "markdown",
   "metadata": {},
   "source": [
    "<data>\n",
    "    <items>\n",
    "        <item name=\"item1\">item1abc</item>\n",
    "        <item name=\"item2\">item2abc</item>\n",
    "    </items>\n",
    "</data>"
   ]
  },
  {
   "cell_type": "markdown",
   "metadata": {},
   "source": [
    "## Leitura"
   ]
  },
  {
   "cell_type": "markdown",
   "metadata": {},
   "source": [
    "```python\n",
    "tree = ET.parse('planetas.xml')\n",
    "root = tree.getroot()\n",
    "```"
   ]
  },
  {
   "cell_type": "markdown",
   "metadata": {},
   "source": [
    "#Mostra os valores na raíz\n",
    "print('Raiz:')\n",
    "print(f'tag: {root.tag} - attrib:{root.attrib} - text: {root.text}')"
   ]
  },
  {
   "cell_type": "markdown",
   "metadata": {
    "scrolled": false
   },
   "source": [
    "#Mostra os valores nos filhos\n",
    "print('Filhos:')\n",
    "#Percorre cada nó filho do root\n",
    "for i in root.getchildren():\n",
    "    print(f'tag: {i.tag} - attrib: {i.attrib} - text: {i.text}')\n",
    "    \n",
    "    #percorre os nós filhos de cada nó filho do root\n",
    "    for j in i.getchildren():\n",
    "        print(f'\\ttag: {j.tag} - attrib: {j.attrib} - {j.text}')\n",
    "        \n",
    "    print('')"
   ]
  },
  {
   "cell_type": "markdown",
   "metadata": {},
   "source": [
    "## Busca"
   ]
  },
  {
   "cell_type": "markdown",
   "metadata": {},
   "source": []
  },
  {
   "cell_type": "markdown",
   "metadata": {},
   "source": [
    "tree = ET.parse('planetas.xml')\n",
    "root = tree.getroot()"
   ]
  },
  {
   "cell_type": "markdown",
   "metadata": {},
   "source": [
    "x = root.findall('Planeta')\n",
    "for i in x:\n",
    "    print(f'tag: {i.tag} - attrib: {i.attrib} - text: {i.text}')"
   ]
  },
  {
   "cell_type": "code",
   "execution_count": 95,
   "metadata": {},
   "outputs": [
    {
     "name": "stdout",
     "output_type": "stream",
     "text": [
      "Terra\n",
      "Marte\n",
      "Marte\n"
     ]
    }
   ],
   "source": [
    "#Mostrando os planetas que possuem satelites\n",
    "x = root.findall('Satelite')\n",
    "for i in x:\n",
    "    for j in i.findall('Orbita'):\n",
    "        print(f'{j.text}')"
   ]
  },
  {
   "cell_type": "markdown",
   "metadata": {},
   "source": [
    "## Alteração"
   ]
  },
  {
   "cell_type": "markdown",
   "metadata": {},
   "source": [
    "## Escrita"
   ]
  },
  {
   "cell_type": "markdown",
   "metadata": {},
   "source": [
    "**Exercícios**  \n",
    "\n",
    "Sobre o conteúdo do arquivo xml, responda:\n",
    "\n",
    "1. Quantos planetas há no sistema solar?\n",
    "1. Qual é o menor planeta do sistema solar?\n",
    "1. Quantos satélites possui cada planeta?\n",
    "1. Qual é o nome do satélite que está mais distante do planeta que orbita?\n",
    "1. Qual é o planeta que possui mais satélites?\n",
    "1. Existem satélites maiores que planetas? Caso sim, apresente o nome do satélite, qual planeta ele orbita e comparado a qual planeta ele é maior.\n",
    "1. Qual é o maior satélite do sistema solar?\n",
    "1. Qual é o planeta anão mais próximo do sol?\n",
    "\n",
    "Responda apenas considerando as informações contidas no exemplo."
   ]
  },
  {
   "cell_type": "markdown",
   "metadata": {},
   "source": [
    "## Referências\n",
    "\n",
    "**Outros materiais**  \n",
    "[Reading and Writing XML Files in Python](https://stackabuse.com/reading-and-writing-xml-files-in-python/)  \n"
   ]
  },
  {
   "cell_type": "markdown",
   "metadata": {},
   "source": [
    " "
   ]
  }
 ],
 "metadata": {
  "kernelspec": {
   "display_name": "Python 3",
   "language": "python",
   "name": "python3"
  },
  "language_info": {
   "codemirror_mode": {
    "name": "ipython",
    "version": 3
   },
   "file_extension": ".py",
   "mimetype": "text/x-python",
   "name": "python",
   "nbconvert_exporter": "python",
   "pygments_lexer": "ipython3",
   "version": "3.6.8"
  }
 },
 "nbformat": 4,
 "nbformat_minor": 4
}
