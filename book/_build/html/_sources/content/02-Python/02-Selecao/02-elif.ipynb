{
 "cells": [
  {
   "cell_type": "markdown",
   "metadata": {},
   "source": [
    "# elif\n",
    "A estrutura `elif` opera como diversas estruturas `if` encadeadas. Um `elif` será executado apenas se a condição presente no `if` ou `elif` anterior seja falsa (`False`).\n",
    "\n",
    "A linguagem Python utiliza o `elif` em substiuição às estruturas de seleção `case` ou `switch-case` presentes em outras linguagens de programação, como Pascal, C e Java."
   ]
  },
  {
   "cell_type": "markdown",
   "metadata": {},
   "source": [
    "**Sintaxe**  \n",
    "\n",
    "```python\n",
    "if <condição1 >:\n",
    "    <código if>\n",
    "elif <condição2>:\n",
    "    <código elif>\n",
    "elif <condição2>:\n",
    "    <código elif>\n",
    "elif <condição3>:\n",
    "    <código elif>\n",
    "else:\n",
    "    <código else>\n",
    "```\n",
    "\n",
    "O código acima seria equivalente a\n",
    "```python\n",
    "if <condição1>:\n",
    "    <código if>\n",
    "else:\n",
    "    if <condição2>:\n",
    "        <código if>\n",
    "    else:\n",
    "        if <condição3>:\n",
    "            <código if>\n",
    "        else:\n",
    "            <código else>\n",
    "```\n"
   ]
  },
  {
   "cell_type": "markdown",
   "metadata": {},
   "source": [
    "**Exemplo**  \n",
    "Faça um programa em que o usuário digita um número entre 0 e 9, e o número é mostrado por extenso.\n",
    "\n",
    "```python\n",
    "n = int(input('Entre com um número entre 0 e 9'))\n",
    "if n == 0:\n",
    "    print('zero')\n",
    "elif n == 1:\n",
    "    print('um')\n",
    "elif n == 2:\n",
    "    print('dois')\n",
    "elif n == 3:\n",
    "    print('tres')\n",
    "elif n == 4:\n",
    "    print('quatro')\n",
    "elif n == 5:\n",
    "    print('cinco')\n",
    "elif n == 6:\n",
    "    print('seis')\n",
    "elif n == 7:\n",
    "    print('sete')\n",
    "elif n == 8:\n",
    "    print('oito')\n",
    "elif n == 9:\n",
    "    print('nove')\n",
    "```"
   ]
  },
  {
   "cell_type": "markdown",
   "metadata": {},
   "source": [
    "**Observação**  \n",
    "Quando o código presente na estrutura `if`, `else` ou `elif` possuir uma única linha, é possível inserí-lo diretamente após o `:`. Em algumas situações esta prática melhora a legibilidade do código, mantendo a mesma funcionalidade.\n",
    "\n",
    "**Exemplo**  \n",
    "```python\n",
    "n = int(input('Entre com um número entre 0 e 9'))\n",
    "if   n == 0: print('zero')\n",
    "elif n == 1: print('um')\n",
    "elif n == 2: print('dois')\n",
    "elif n == 3: print('tres')\n",
    "elif n == 4: print('quatro')\n",
    "elif n == 5: print('cinco')\n",
    "elif n == 6: print('seis')\n",
    "elif n == 7: print('sete')\n",
    "elif n == 8: print('oito')\n",
    "elif n == 9: print('nove')\n",
    "```"
   ]
  },
  {
   "cell_type": "code",
   "execution_count": null,
   "metadata": {},
   "outputs": [],
   "source": []
  },
  {
   "cell_type": "code",
   "execution_count": null,
   "metadata": {},
   "outputs": [],
   "source": []
  },
  {
   "cell_type": "code",
   "execution_count": null,
   "metadata": {},
   "outputs": [],
   "source": []
  }
 ],
 "metadata": {
  "kernelspec": {
   "display_name": "Python 3 (ipykernel)",
   "language": "python",
   "name": "python3"
  },
  "language_info": {
   "codemirror_mode": {
    "name": "ipython",
    "version": 3
   },
   "file_extension": ".py",
   "mimetype": "text/x-python",
   "name": "python",
   "nbconvert_exporter": "python",
   "pygments_lexer": "ipython3",
   "version": "3.8.10"
  }
 },
 "nbformat": 4,
 "nbformat_minor": 2
}
