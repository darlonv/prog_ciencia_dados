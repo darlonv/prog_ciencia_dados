{
 "cells": [
  {
   "cell_type": "markdown",
   "metadata": {},
   "source": [
    "# Bibliotecas"
   ]
  },
  {
   "cell_type": "markdown",
   "metadata": {},
   "source": [
    "## Importação"
   ]
  },
  {
   "cell_type": "markdown",
   "metadata": {},
   "source": [
    "Para importar uma biblioteca pode-use utilizar o comando `import`, seguido do nome da biblioteca. É necessário importar as bibliotecas uma única vez, e é comum que a importação das bibliotecas necessárias ao sistema seja realizada nas primeiras linhas de código do programa.\n",
    "\n",
    "**Exemplo**  \n",
    "```python\n",
    "import random\n",
    "import sys\n",
    "import os\n",
    "```\n",
    "\n",
    "**Exemplo**  \n",
    "- várias bibliotecas em uma única linha:\n",
    "```python\n",
    "import random, sys, os\n",
    "```\n",
    "\n",
    "**Atividade**  \n",
    "- Execute um dos exemplos."
   ]
  },
  {
   "cell_type": "code",
   "execution_count": null,
   "metadata": {},
   "outputs": [],
   "source": []
  },
  {
   "cell_type": "markdown",
   "metadata": {},
   "source": [
    "Após importada a biblioteca, pode-se utilizar as funções que estão presentes na biblioteca. Acessar elementos da biblioteca antes da importação ocasiona um erro.\n",
    "\n",
    "**Exemplo**  \n",
    "- Um número aleatório entre 10 e 20, com o método `.randint()`, da biblioteca `random`.\n",
    "```python\n",
    "r = random.randint(10,20)\n",
    "print(r)\n",
    "```\n",
    "\n",
    "**Exemplo**\n",
    "- Parâmetros utilizados na chamada da aplicação, com o atributo `argv`, da biblioteca `sys`.\n",
    "```python\n",
    "print(sys.argv)\n",
    "```"
   ]
  },
  {
   "cell_type": "code",
   "execution_count": null,
   "metadata": {},
   "outputs": [],
   "source": []
  },
  {
   "cell_type": "code",
   "execution_count": null,
   "metadata": {},
   "outputs": [],
   "source": []
  },
  {
   "cell_type": "markdown",
   "metadata": {},
   "source": [
    "### Alias\n",
    "\n",
    "Outra possibilidade é renomear a biblioteca durante a execução do programa, utilizando a palavra reservada `as` durante o `import`.\n",
    "\n",
    "**Exemplo**  \n",
    "```python\n",
    "import random as rand\n",
    "\n",
    "print(rand.randint(10,20))\n",
    "```"
   ]
  },
  {
   "cell_type": "code",
   "execution_count": null,
   "metadata": {},
   "outputs": [],
   "source": []
  },
  {
   "cell_type": "markdown",
   "metadata": {},
   "source": [
    "Em bibliotecas que possuem diversas classes dentro delas, uma possibilidade é importar apenas o necessário.\n",
    "\n",
    "**Exemplo**  \n",
    "```python\n",
    "from random import randint\n",
    "\n",
    "print(randint(10,20))\n",
    "```\n",
    "\n",
    "Ou então, importar e renomear\n",
    "\n",
    "```python\n",
    "from random import randint as ri\n",
    "\n",
    "print(ri(10,20))\n",
    "```"
   ]
  },
  {
   "cell_type": "code",
   "execution_count": null,
   "metadata": {
    "scrolled": true
   },
   "outputs": [],
   "source": []
  },
  {
   "cell_type": "markdown",
   "metadata": {},
   "source": [
    "## Bibliotecas comuns\n",
    "\n",
    "|Biblioteca|Descrição|Documentação|\n",
    "|----------|:--------|------------|\n",
    "|`random`  |Números aleatórios|[random](https://docs.python.org/3/library/random.html)|\n",
    "|`sys`     |Informações sobre a execução da aplicação|[sys](https://docs.python.org/3/library/sys.html)|\n",
    "|`os`      |Acesso e informações relacionados ao sistema operacional|[os](https://docs.python.org/3/library/os.html)|\n",
    "|`math`    |Rotinas e constantes matemáticas | [math](https://docs.python.org/3/library/math.html) |\n",
    "|`datetime`    |Manipulação de data e hora | [datetime](https://docs.python.org/3/library/datetime.html) |"
   ]
  },
  {
   "cell_type": "markdown",
   "metadata": {},
   "source": [
    "**Exemplos**\n",
    "```python\n",
    "import random, sys, os, math\n",
    "```"
   ]
  },
  {
   "cell_type": "code",
   "execution_count": null,
   "metadata": {},
   "outputs": [],
   "source": []
  },
  {
   "cell_type": "markdown",
   "metadata": {},
   "source": [
    "**`random`**  \n",
    "- Números aleatórios\n",
    "    - Define a semente (*seed*), base de geração para os números aleatórios. Definir uma mesma semente significa que os mesmos números sempre serão obtidos.\n",
    "```python\n",
    "random.seed(10) \n",
    "```\n",
    "    - Inteiros\n",
    "```python\n",
    "print(f'entre 0 e 10       : {random.randrange(10)}')\n",
    "print(f'entre 10 e 30      : {random.randint(10,30)}')\n",
    "print(f'Pares entre 10 e 30: {random.randint(10,30, 2)}')\n",
    "```\n",
    "    - Sequências\n",
    "```python\n",
    "lista = list(range(10))\n",
    "print(f'lista: {lista}'\n",
    "print(f'escolhe um valor da lista       : {random.choice(lista)}')\n",
    "print(f'modifica a posição dos elementos: {random.shuffle(lista)}')\n",
    "print(f'escolhe valores da listas       : {random.sample(lista,2)}')\n",
    "```\n",
    "    - Floats \n",
    "```python\n",
    "print(f'valor entre 0 e 1: {random.random()}')\n",
    "print(f'valor entre 5 e 7: {random.uniform(5,7)}')\n",
    "```"
   ]
  },
  {
   "cell_type": "code",
   "execution_count": null,
   "metadata": {},
   "outputs": [],
   "source": []
  },
  {
   "cell_type": "code",
   "execution_count": null,
   "metadata": {},
   "outputs": [],
   "source": []
  },
  {
   "cell_type": "code",
   "execution_count": null,
   "metadata": {},
   "outputs": [],
   "source": []
  },
  {
   "cell_type": "markdown",
   "metadata": {},
   "source": [
    "**`sys`**  \n",
    "- parâmetros utilizados na chamada da aplicação\n",
    "```python\n",
    "print(f'Argumentos: {print(sys.argv)}')\n",
    "```"
   ]
  },
  {
   "cell_type": "code",
   "execution_count": null,
   "metadata": {},
   "outputs": [],
   "source": []
  },
  {
   "cell_type": "markdown",
   "metadata": {},
   "source": [
    "**`os`**  \n",
    "- lista com as variáveis de ambiente\n",
    "```python\n",
    "print(os.environ)\n",
    "```\n",
    "- diretório local\n",
    "```python\n",
    "print(os.getcwd())\n",
    "```"
   ]
  },
  {
   "cell_type": "code",
   "execution_count": null,
   "metadata": {},
   "outputs": [],
   "source": []
  },
  {
   "cell_type": "code",
   "execution_count": null,
   "metadata": {},
   "outputs": [],
   "source": []
  },
  {
   "cell_type": "markdown",
   "metadata": {},
   "source": [
    "**`math`**  \n",
    "- valores de $\\pi$ e $e$\n",
    "```python\n",
    "print(f'pi: {math.pi}')\n",
    "print(f'e : {math.e}')\n",
    "```\n",
    "- raíz quadrada e potência enésima\n",
    "```python\n",
    "print(math.sqrt(81))\n",
    "print(math.pow(5,5))\n",
    "```\n",
    "- seno, cosseno e tangente\n",
    "```python\n",
    "print(f'sin(45): {math.sin(45)}')\n",
    "print(f'cos(45): {math.cos(45)}')\n",
    "print(f'tan(45): {math.tan(45)}')\n",
    "```\n",
    "- logaritmos base $e$, e base 10\n",
    "```python\n",
    "print(f'log 20 base e  :{math.log(20)}')\n",
    "print(f'log 20 base 10 :{math.log10(20)}')\n",
    "```\n",
    "- logaritmos base $n$\n",
    "```python\n",
    "print(f'log 20 base e  :{math.log(20,math.e)}')\n",
    "print(f'log 20 base 10 :{math.log(20,10)}')\n",
    "```"
   ]
  },
  {
   "cell_type": "code",
   "execution_count": null,
   "metadata": {},
   "outputs": [],
   "source": []
  },
  {
   "cell_type": "code",
   "execution_count": null,
   "metadata": {},
   "outputs": [],
   "source": []
  },
  {
   "cell_type": "code",
   "execution_count": null,
   "metadata": {},
   "outputs": [],
   "source": []
  },
  {
   "cell_type": "code",
   "execution_count": null,
   "metadata": {},
   "outputs": [],
   "source": []
  },
  {
   "cell_type": "code",
   "execution_count": null,
   "metadata": {},
   "outputs": [],
   "source": []
  },
  {
   "cell_type": "markdown",
   "metadata": {},
   "source": [
    "**`datetime`**  \n",
    "Esta biblioteca possui diversas classes , específicas para cada necessidade. São elas:\n",
    "\n",
    "|tipo|função|\n",
    "|----|------|\n",
    "|`date`|data|\n",
    "|`time`|tempo|\n",
    "|`datetime`|data e tempo|\n",
    "|`timedelta`|variação de tempo|\n",
    "\n",
    "**Exemplo**  \n",
    "\n",
    "```python\n",
    "from datetime import date\n",
    "```\n",
    "\n",
    "```python\n",
    "today = date.today()\n",
    "print( 'hoje é :')\n",
    "print(f'dia    : {today.day}')\n",
    "print(f'mes    : {today.month}')\n",
    "print(f'ano    : {today.year}')\n",
    "\n",
    "print('Dias da semana: (0: segunda-feira)')\n",
    "print(f'Que dia da semana é hoje? {today.weekday()}')\n",
    "print(f'Que dia da semana foi/será meu aniversário em {today.year}? {date(today.year, 9, 4).weekday()}')\n",
    "\n",
    "print('Formatação de datas:')\n",
    "print(f'hoje é : {today}')\n",
    "print(f'hoje é : {today.strftime(\"%A, %d/%m de %Y\")}')\n",
    "```"
   ]
  },
  {
   "cell_type": "code",
   "execution_count": null,
   "metadata": {},
   "outputs": [],
   "source": []
  },
  {
   "cell_type": "code",
   "execution_count": null,
   "metadata": {},
   "outputs": [],
   "source": []
  },
  {
   "cell_type": "code",
   "execution_count": null,
   "metadata": {},
   "outputs": [],
   "source": []
  },
  {
   "cell_type": "markdown",
   "metadata": {},
   "source": [
    "Comparando datas, temos um dado do tipo `timedelta`.\n",
    "\n",
    "**Exemplo**\n",
    "```python\n",
    "natal = date(today.year, 12, 25)\n",
    "faltam = natal - today\n",
    "print(f'O natal já passou         ? {faltam.days < 0}')\n",
    "print(f'Quantos dias faltam       ? {faltam.days}')\n",
    "\n",
    "niver = date(today.year, 9, 4)\n",
    "faltam = niver - today\n",
    "print(f'Meu aniversário já passou ? {faltam.days <= 0}')\n",
    "print(f'Meu aniversário é hoje    ? {niver == today}')\n",
    "print(f'Meu aniversário é hoje    ? {faltam == 0}')\n",
    "\n",
    "print(f'Tipo do dado: {print(type(faltam))}')\n",
    "```\n"
   ]
  },
  {
   "cell_type": "code",
   "execution_count": null,
   "metadata": {},
   "outputs": [],
   "source": []
  },
  {
   "cell_type": "markdown",
   "metadata": {},
   "source": [
    "**`time`**  \n",
    "\n",
    "A biblioteca `time` permite fazer manipulações que envolvam tempo.  \n",
    "\n",
    "**Exemplo**  \n",
    "```python\n",
    "import time\n",
    "\n",
    "for i in range(10):\n",
    "    print(i)\n",
    "    time.sleep(1) #Aguarda 1 segundo\n",
    "```"
   ]
  },
  {
   "cell_type": "code",
   "execution_count": 6,
   "metadata": {},
   "outputs": [],
   "source": []
  },
  {
   "cell_type": "markdown",
   "metadata": {},
   "source": [
    "**`tqdm`**\n",
    "\n",
    "A biblioteca `tqdm` permite utilizar barras de progresso de maneira simplificada.\n",
    "\n",
    "**Exemplo**  \n",
    "```python\n",
    "from tqdm import tqdm\n",
    "\n",
    "for i in tqdm(range(10)):\n",
    "    time.sleep(1) #Aguarda 1 segundo\n",
    "```\n",
    "\n",
    "**Atividade**  \n",
    "- Execute o exemplo.\n",
    "- Printe a variável `i` dentro do escopo do `for` e observe o resultado."
   ]
  },
  {
   "cell_type": "code",
   "execution_count": 2,
   "metadata": {},
   "outputs": [],
   "source": []
  },
  {
   "cell_type": "markdown",
   "metadata": {},
   "source": [
    "A biblioteca possui métodos que podem ser aplicados a ambientes de desenvolvimento como Jupyter e Google Colaboratory.\n",
    "\n",
    "**Exemplo**  \n",
    "```python\n",
    "from tqdm.notebook import tqdm\n",
    "\n",
    "for i in tqdm(range(10)):\n",
    "    time.sleep(1) #Aguarda 1 segundo\n",
    "```\n",
    "\n",
    "**Atividade**  \n",
    "- Execute o exemplo.\n",
    "- Printe a variável `i` dentro do escopo do `for` e observe o resultado."
   ]
  },
  {
   "cell_type": "code",
   "execution_count": null,
   "metadata": {},
   "outputs": [],
   "source": []
  },
  {
   "cell_type": "code",
   "execution_count": null,
   "metadata": {},
   "outputs": [],
   "source": []
  },
  {
   "cell_type": "markdown",
   "metadata": {},
   "source": [
    "### Instalação\n",
    "\n",
    "Python possui uma grande quantidade de bibliotecas que podem ser obtidas. Uma das formas de instalação é utilizando gerenciadores de pacotes, como o [pip](https://pypi.org/project/pip/).\n",
    "\n",
    "**Observação**\n",
    "- A versão do Python instalada e do pip deve ser confirmada. Comumente, o pip para a versão 3.x do Python é chamada de **pip3**.\n",
    "- O pip é um *software* separado, e o comando deve ser executado em terminal.\n",
    "\n",
    "**Exemplo**\n",
    "- procura pela biblioteca numpy\n",
    "```bash\n",
    "pip search numpy #busca\n",
    "pip install numpy #instalação\n",
    "```"
   ]
  },
  {
   "cell_type": "markdown",
   "metadata": {},
   "source": [
    "#### Versões e dependências\n",
    "Muitas bibliotecas dependem de outras bibliotecas. Gerenciadores de pacotes normalmente instalam todas as dependências, ou sejam todos os pacotes que as bibliotecas requerem para funcionar.\n",
    "\n",
    "Porém, não é incomum encontrar incompatibilidade entre pacotes. Bibliotecas podem funcionar apenas em uma versão específica de alguma dependência, e caso a dependência seja atualizada, a biblioteca pode não funcionar. \n",
    "\n",
    "Uma boa prática é **salvar** os nomes e versões das bibliotecas instaladas no ambiente e quando um novo ambiente for executado, instalá-las nas mesmas versões.\n",
    "\n",
    "**Exemplo**\n",
    "```bash\n",
    "pip freeze > requirements.txt #Salva no arquivo o nome de todas as bibliotecas e versões\n",
    "pip install -r requirements.txt #Instala as bibliotecas com as versões especificadas\n",
    "```"
   ]
  },
  {
   "cell_type": "code",
   "execution_count": null,
   "metadata": {},
   "outputs": [],
   "source": []
  },
  {
   "cell_type": "code",
   "execution_count": null,
   "metadata": {},
   "outputs": [],
   "source": []
  },
  {
   "cell_type": "markdown",
   "metadata": {},
   "source": [
    "## Ambientes virtuais"
   ]
  },
  {
   "cell_type": "markdown",
   "metadata": {},
   "source": [
    "Uma maneira de manter ambientes de desenvolvimento isolados, é manter todas as bibliotecas em um mesmo local e \"ativar\" esse ambiente quando necessário.\n",
    "\n",
    "**Exemplo**  \n",
    "\n",
    "- Para criar um ambiente virtual chamado `projeto`, e ativar o ambiente virtual.\n",
    "```bash\n",
    "virtualenv projeto #cria o ambiente\n",
    "source projeto/bin/activate #ativa o ambiente\n",
    "```\n",
    "\n",
    "Uma vez ativado, execuções com o `pip` e o interpretador Python utilizarão o ambiente virtual."
   ]
  },
  {
   "cell_type": "code",
   "execution_count": null,
   "metadata": {},
   "outputs": [],
   "source": []
  },
  {
   "cell_type": "markdown",
   "metadata": {},
   "source": [
    "## Referências\n",
    "\n",
    "**Outros materiais**  \n",
    "\n"
   ]
  },
  {
   "cell_type": "markdown",
   "metadata": {},
   "source": [
    " "
   ]
  }
 ],
 "metadata": {
  "kernelspec": {
   "display_name": "Python 3 (ipykernel)",
   "language": "python",
   "name": "python3"
  },
  "language_info": {
   "codemirror_mode": {
    "name": "ipython",
    "version": 3
   },
   "file_extension": ".py",
   "mimetype": "text/x-python",
   "name": "python",
   "nbconvert_exporter": "python",
   "pygments_lexer": "ipython3",
   "version": "3.8.10"
  }
 },
 "nbformat": 4,
 "nbformat_minor": 4
}
