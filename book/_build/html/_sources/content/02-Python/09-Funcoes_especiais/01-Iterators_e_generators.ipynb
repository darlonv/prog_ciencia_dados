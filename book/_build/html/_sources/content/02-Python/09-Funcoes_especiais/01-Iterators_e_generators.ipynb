{
 "cells": [
  {
   "cell_type": "markdown",
   "id": "75935947",
   "metadata": {},
   "source": [
    "# Iterators e generators"
   ]
  },
  {
   "cell_type": "markdown",
   "id": "a3b49008",
   "metadata": {},
   "source": [
    "Os *iterators* e *generators* são objetos em Python utilizados para percorrer elementos de determinadas estruturas."
   ]
  },
  {
   "cell_type": "markdown",
   "id": "abf29d6a",
   "metadata": {},
   "source": [
    "## Iterators"
   ]
  },
  {
   "cell_type": "markdown",
   "id": "c225b9eb",
   "metadata": {},
   "source": [
    "Um *iterator* em Python é um objeto que responde à função `next()`. Um exemplo de iterável são as listas.\n",
    "\n",
    "**Exemplo**  \n",
    "\n",
    "```python\n",
    "lista = [5,6,7]\n",
    "dir(lista) #Visualiza os métodos\n",
    "```\n",
    "\n",
    "Um *iterator* "
   ]
  },
  {
   "cell_type": "code",
   "execution_count": null,
   "id": "057b3863",
   "metadata": {
    "scrolled": false
   },
   "outputs": [],
   "source": []
  },
  {
   "cell_type": "markdown",
   "id": "69fc0aee",
   "metadata": {},
   "source": [
    "Observe que o método `__iter__` está presente.  \n",
    "\n",
    "Vamos observar o retorno desse método:  \n",
    "\n",
    "```python\n",
    "val = iter(lista)\n",
    "print(type(val))\n",
    "```\n"
   ]
  },
  {
   "cell_type": "code",
   "execution_count": null,
   "id": "42efa0b6",
   "metadata": {},
   "outputs": [],
   "source": []
  },
  {
   "cell_type": "markdown",
   "id": "0b9aafb8",
   "metadata": {},
   "source": [
    "Para obter o *iterator*\n",
    "```python\n",
    "iterador = iter(lista)\n",
    "```"
   ]
  },
  {
   "cell_type": "code",
   "execution_count": null,
   "id": "00c5b5d3",
   "metadata": {},
   "outputs": [],
   "source": []
  },
  {
   "cell_type": "markdown",
   "id": "40bb6489",
   "metadata": {},
   "source": [
    "E para percorrer o iterador:\n",
    "\n",
    "```python\n",
    "val = next(iterador)\n",
    "print(val)\n",
    "```\n",
    "Execute este código diversas vezes, e observe o resultado."
   ]
  },
  {
   "cell_type": "code",
   "execution_count": null,
   "id": "76dd4577",
   "metadata": {},
   "outputs": [],
   "source": []
  },
  {
   "cell_type": "markdown",
   "id": "29b4a723",
   "metadata": {},
   "source": [
    "Quando um *iterator* é finalizado, ele gera uma exceção. Observe o código a seguir, que gera um erro ao final da execução:\n",
    "\n",
    "```python\n",
    "iterador = iter(lista)\n",
    "while True:\n",
    "    print(next(iterador))\n",
    "```"
   ]
  },
  {
   "cell_type": "code",
   "execution_count": null,
   "id": "8fcad11c",
   "metadata": {},
   "outputs": [],
   "source": []
  },
  {
   "cell_type": "markdown",
   "id": "2bcabd90",
   "metadata": {},
   "source": [
    "Para obter a excessão:\n",
    "\n",
    "```python\n",
    "iterador = iter(lista)\n",
    "fim = False\n",
    "while not fim:\n",
    "    try:\n",
    "        print(next(iterador))\n",
    "    except:\n",
    "        fim = True\n",
    "```"
   ]
  },
  {
   "cell_type": "code",
   "execution_count": null,
   "id": "1b463325",
   "metadata": {},
   "outputs": [],
   "source": []
  },
  {
   "cell_type": "markdown",
   "id": "3f57a168",
   "metadata": {},
   "source": [
    "Utilizando `for`:\n",
    "\n",
    "```python\n",
    "iterador = iter(lista)\n",
    "for val in iterador:\n",
    "    print(val)\n",
    "```"
   ]
  },
  {
   "cell_type": "code",
   "execution_count": null,
   "id": "a4535cc0",
   "metadata": {},
   "outputs": [],
   "source": []
  },
  {
   "cell_type": "code",
   "execution_count": null,
   "id": "e6c7dd5e",
   "metadata": {},
   "outputs": [],
   "source": []
  },
  {
   "cell_type": "markdown",
   "id": "1ca3ff23",
   "metadata": {},
   "source": [
    "## Generators"
   ]
  },
  {
   "cell_type": "markdown",
   "id": "06e370a2",
   "metadata": {},
   "source": [
    "Um *generator* é semelhante a um *iterator*, porém o próximo valor é calculado apenas quando o método `next()` é chamado.\n",
    "\n",
    "**Exemplo**  \n",
    "- O que é retornado nesta função?\n",
    "```python\n",
    "def sequencia():\n",
    "    for i in 1,2,3,4,5:\n",
    "        return i\n",
    "```"
   ]
  },
  {
   "cell_type": "code",
   "execution_count": null,
   "id": "c9ad5477",
   "metadata": {},
   "outputs": [],
   "source": []
  },
  {
   "cell_type": "markdown",
   "id": "841215a4",
   "metadata": {},
   "source": [
    "Chame a função diversas vezes e observe o resultado:\n",
    "```python\n",
    "sequencia()\n",
    "```"
   ]
  },
  {
   "cell_type": "code",
   "execution_count": null,
   "id": "0bd6bbb3",
   "metadata": {},
   "outputs": [],
   "source": []
  },
  {
   "cell_type": "markdown",
   "id": "c3c47b47",
   "metadata": {},
   "source": [
    "Um *generator* utiliza como retorno a palavra-chave `yield`. Modificando o exemplo anterior, temos:\n",
    "\n",
    "```python\n",
    "def sequencia_gen():\n",
    "    for i in 1,2,3,4,5:\n",
    "        yield i\n",
    "```"
   ]
  },
  {
   "cell_type": "code",
   "execution_count": null,
   "id": "1c1aebd2",
   "metadata": {},
   "outputs": [],
   "source": []
  },
  {
   "cell_type": "markdown",
   "id": "bbcd9f23",
   "metadata": {},
   "source": [
    "Observando o tipo retornado pela nova função:\n",
    "```python\n",
    "gerador = sequencia_gen()\n",
    "print(type(gerador))\n",
    "```"
   ]
  },
  {
   "cell_type": "code",
   "execution_count": null,
   "id": "1ca2dce8",
   "metadata": {},
   "outputs": [],
   "source": []
  },
  {
   "cell_type": "markdown",
   "id": "f2b6eae4",
   "metadata": {},
   "source": [
    "Um *generator* obtém o estado em que a função anterior foi chamada. Semelhante ao *iterator*, podemos percorrê-lo com `next()`..\n",
    "\n",
    "```python\n",
    "gerador = sequencia_gen()\n",
    "fim = False\n",
    "while not fim:\n",
    "    try:\n",
    "        print(next(gerador))\n",
    "    except:\n",
    "        fim = True\n",
    "```"
   ]
  },
  {
   "cell_type": "code",
   "execution_count": null,
   "id": "1cae3eb4",
   "metadata": {},
   "outputs": [],
   "source": []
  },
  {
   "cell_type": "markdown",
   "id": "a7726a5d",
   "metadata": {},
   "source": []
  },
  {
   "cell_type": "markdown",
   "id": "00c8abd0",
   "metadata": {},
   "source": [
    "... ou utilizando `for`:\n",
    "\n",
    "```python\n",
    "gerador = sequencia_gen()\n",
    "for val in gerador:\n",
    "    print(val)\n",
    "```"
   ]
  },
  {
   "cell_type": "code",
   "execution_count": null,
   "id": "70d04ac0",
   "metadata": {},
   "outputs": [],
   "source": []
  },
  {
   "cell_type": "code",
   "execution_count": null,
   "id": "85331ede",
   "metadata": {},
   "outputs": [],
   "source": []
  },
  {
   "cell_type": "code",
   "execution_count": null,
   "id": "2b8a210b",
   "metadata": {},
   "outputs": [],
   "source": []
  }
 ],
 "metadata": {
  "kernelspec": {
   "display_name": "Python 3 (ipykernel)",
   "language": "python",
   "name": "python3"
  },
  "language_info": {
   "codemirror_mode": {
    "name": "ipython",
    "version": 3
   },
   "file_extension": ".py",
   "mimetype": "text/x-python",
   "name": "python",
   "nbconvert_exporter": "python",
   "pygments_lexer": "ipython3",
   "version": "3.8.10"
  }
 },
 "nbformat": 4,
 "nbformat_minor": 5
}
