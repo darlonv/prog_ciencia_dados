{
 "cells": [
  {
   "cell_type": "markdown",
   "metadata": {},
   "source": [
    "# Tuplas\n",
    "\n",
    "Uma tupla é uma estrutura especial de lista, e uma de suas características é ser imutável. Após adicionados os elementos em uma tupla, seus elementos não podem ser removidos. Uma tupla é definida pelo uso de parênteses (`(` `)`) em seus elementos.\n",
    "\n",
    "**Exemplo**\n",
    "\n",
    "```py\n",
    "t = (1,2,3)\n",
    "type(t)\n",
    "```"
   ]
  },
  {
   "cell_type": "code",
   "execution_count": null,
   "metadata": {},
   "outputs": [],
   "source": []
  },
  {
   "cell_type": "markdown",
   "metadata": {},
   "source": [
    "Alterar um elemento de uma tupla acarreta em um erro.  \n",
    "\n",
    "**Exemplo**\n",
    "\n",
    "no código\n",
    "```python\n",
    "t[0] = 5 #ERRO!\n",
    "```\n",
    "recebemos a mensagem de erro mostrada abaixo, informando que não é possível alterar o conteúdo de um elemento de uma tupla.\n",
    "```\n",
    "TypeError: 'tuple' object does not support item assignment\n",
    "```"
   ]
  },
  {
   "cell_type": "code",
   "execution_count": null,
   "metadata": {},
   "outputs": [],
   "source": []
  },
  {
   "cell_type": "markdown",
   "metadata": {},
   "source": [
    "**Atividade**\n",
    "\n",
    "- crie uma tupla com as vogais\n",
    "- crie uma tupla com as consoantes\n",
    "- crie uma tupla com os números primos menores que 30"
   ]
  },
  {
   "cell_type": "code",
   "execution_count": null,
   "metadata": {},
   "outputs": [],
   "source": []
  },
  {
   "cell_type": "markdown",
   "metadata": {},
   "source": [
    "Normalmente, as tuplas são utilizadas como parâmetros ou retornos de funções. Uma das vantagens da utilização de tuplas consiste no menor tempo de criação e acesso a dados, se comparado às listas."
   ]
  },
  {
   "cell_type": "markdown",
   "metadata": {},
   "source": [
    "É possível transformar tuplas em listas e listas em tuplas, com as funções `list()` e `tuple()`, caso a modificação seja necessária.\n",
    "\n",
    "**Exemplo**\n",
    "\n",
    "```python\n",
    "tupla  = (1,2,3)      #tupla\n",
    "lista  = list(tupla)  #converte tupla em lista\n",
    "tupla2 = tuple(lista) #converte lista em tupla\n",
    "print(tupla,'tipo:',type(tupla))\n",
    "print(lista,'tipo:', type(lista))\n",
    "print(tupla2,'tipo:',type(tupla2))\n",
    "```"
   ]
  },
  {
   "cell_type": "code",
   "execution_count": null,
   "metadata": {},
   "outputs": [],
   "source": []
  },
  {
   "cell_type": "markdown",
   "metadata": {},
   "source": [
    "## Referências\n",
    "\n",
    "**Outros materiais**\n",
    "\n",
    "\n",
    "[Python - Built-in types](https://docs.python.org/3/library/stdtypes.html#sequence-types-list-tuple-range)  \n",
    "[Python - Operadores e fatiamento de sequências](http://www.devfuria.com.br/python/sequencias-fatiamento/)  \n",
    "[Apostila Python e orientação a objetos - Capítulo 4: Estrutura de dados ](https://www.caelum.com.br/apostila-python-orientacao-objetos/estrutura-de-dados/)"
   ]
  }
 ],
 "metadata": {
  "kernelspec": {
   "display_name": "Python 3",
   "language": "python",
   "name": "python3"
  },
  "language_info": {
   "codemirror_mode": {
    "name": "ipython",
    "version": 3
   },
   "file_extension": ".py",
   "mimetype": "text/x-python",
   "name": "python",
   "nbconvert_exporter": "python",
   "pygments_lexer": "ipython3",
   "version": "3.6.8"
  }
 },
 "nbformat": 4,
 "nbformat_minor": 2
}
