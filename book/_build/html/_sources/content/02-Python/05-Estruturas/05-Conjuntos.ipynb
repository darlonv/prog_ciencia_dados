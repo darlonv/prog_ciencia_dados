{
 "cells": [
  {
   "cell_type": "markdown",
   "metadata": {},
   "source": [
    "# Conjuntos\n",
    "\n",
    "Um conjunto é uma coleção **não ordenada**, que **não permite** elementos duplicados.\n",
    "\n",
    "Em Python, o nome da estrutura de dados que define um conjunto é chamado de `set`.\n",
    "\n",
    "A criação de conjuntos pode ser realiza com a utilização das chaves (`{` `}`), ou com a função `set()`."
   ]
  },
  {
   "cell_type": "markdown",
   "metadata": {},
   "source": [
    "**Exemplo**  \n",
    "```python\n",
    "a = {'a','b','a','c','a','t','e'}\n",
    "b = set('abacaxi')\n",
    "print(type(a))\n",
    "print(type(b))\n",
    "```"
   ]
  },
  {
   "cell_type": "code",
   "execution_count": null,
   "metadata": {},
   "outputs": [],
   "source": []
  },
  {
   "cell_type": "markdown",
   "metadata": {},
   "source": [
    "Em seguida, observe o conteúdo dos conjuntos:  \n",
    "\n",
    "**Exemplo** \n",
    "\n",
    "```python\n",
    "print('a:', a)\n",
    "print('b:', b)\n",
    "```"
   ]
  },
  {
   "cell_type": "code",
   "execution_count": null,
   "metadata": {},
   "outputs": [],
   "source": []
  },
  {
   "cell_type": "markdown",
   "metadata": {},
   "source": [
    "Observe que não há elementos duplicados. Como em conjuntos não há o conceitos de ordem, obter elementos em determinada posição ou o uso de *slicing* acarretará em erros.  \n",
    "\n",
    "**Exemplo**  \n",
    "```python\n",
    "print(a[0]) #ERRO!\n",
    "```"
   ]
  },
  {
   "cell_type": "code",
   "execution_count": null,
   "metadata": {},
   "outputs": [],
   "source": []
  },
  {
   "cell_type": "markdown",
   "metadata": {},
   "source": [
    "## Operadores\n",
    "\n",
    "Algumas operações que podem ser aplicadas em conjuntos são:\n",
    "\n",
    "|Operador| Operação |Exemplo|Resultado|\n",
    "|:------:|:--------:|:-----:|:-------:|\n",
    "|`-`|Diferença|`a - b`|Elementos que pertencem ao conjunto `a` e não pertencem ao conjunto `b`|\n",
    "|`\\|`|União|`a \\| b`|Todos os elementos dos conjuntos `a` e `b` |\n",
    "|`&`|Interseção|`a & b`|Apenas os elementos que estão simultâneamente em `a` e `b`|\n",
    "|`^`|Diferença simétrica| `a ^ b`|Elementos que estão apenas em `a` ou apenas em `b`|\n",
    "\n",
    "- `in`\n",
    "- `not in`\n",
    "- `len()`"
   ]
  },
  {
   "cell_type": "markdown",
   "metadata": {},
   "source": [
    "**Exemplos**  \n",
    "\n",
    "```python\n",
    "print('Diferença:', a-b)\n",
    "print('União:', a|b)\n",
    "print('Interseção:', a&b )\n",
    "print('Diferença simétrica:',a^b)\n",
    "```"
   ]
  },
  {
   "cell_type": "code",
   "execution_count": null,
   "metadata": {},
   "outputs": [],
   "source": []
  },
  {
   "cell_type": "markdown",
   "metadata": {},
   "source": [
    "Para adicionar um elemento em um conjunto já existente, pode-se utilizar o método `.add()`.  \n",
    "\n",
    "**Exemplo**  \n",
    "\n",
    "```python\n",
    "primos = {2}\n",
    "primos.add(3)\n",
    "primos.add(5)\n",
    "primos.add(7)\n",
    "print(primos)\n",
    "```"
   ]
  },
  {
   "cell_type": "code",
   "execution_count": null,
   "metadata": {},
   "outputs": [],
   "source": []
  },
  {
   "cell_type": "markdown",
   "metadata": {},
   "source": [
    "**Atividade**  \n",
    "- Considere as compras realizadas por três grupos de pessoas, A, B e C:\n",
    "```python\n",
    "gA = {'banana','café', 'farinha', \n",
    "        'leite', 'pão', 'presunto', \n",
    "        'queijo', 'iogurte', 'farinha', \n",
    "        'limão', 'chocolate' }\n",
    "gB = {'maçã', 'abacaxi', 'chocolate', \n",
    "        'fralda', 'melancia', 'sorvete', \n",
    "        'leite', 'café', 'pão'}\n",
    "gC = {'maçã','café', 'farinha', \n",
    "        'maçã', 'alface', 'limão', \n",
    "        'rúcula', 'rabanete'}\n",
    "```\n",
    "\n",
    "**Exercícios**  \n",
    "1. Quais produtos que apenas o grupo A compra?\n",
    "1. Quais produtos apenas os grupos B e C compram?\n",
    "1. Existe algum produto que todos os grupos compram? Caso sim, quais são?\n",
    "1. Quantos produtos diferentes existem?\n",
    "1. Quantos produtos apenas os grupos A e B compram?"
   ]
  },
  {
   "cell_type": "code",
   "execution_count": null,
   "metadata": {},
   "outputs": [],
   "source": []
  },
  {
   "cell_type": "code",
   "execution_count": null,
   "metadata": {},
   "outputs": [],
   "source": []
  },
  {
   "cell_type": "code",
   "execution_count": null,
   "metadata": {},
   "outputs": [],
   "source": []
  },
  {
   "cell_type": "code",
   "execution_count": null,
   "metadata": {},
   "outputs": [],
   "source": []
  },
  {
   "cell_type": "markdown",
   "metadata": {},
   "source": [
    "**Exercícios**\n",
    "- [Beecrowd 2783 - Figurinhas da Copa](https://www.beecrowd.com.br/judge/pt/problems/view/2783)  \n",
    "- [Beecrowd 1104 - Troca de Cartas](https://www.beecrowd.com.br/judge/pt/problems/view/1104)  \n",
    "- [Beecrowd 2174 - Colecao de Pomekon](https://www.beecrowd.com.br/judge/pt/problems/view/2174)\n"
   ]
  },
  {
   "cell_type": "markdown",
   "metadata": {},
   "source": [
    "## Métodos\n",
    "\n",
    "Alguns métodos relacionados a conjuntos podem ser vistos na tabela apresentada a seguir.\n",
    "\n",
    "|Método|Descrição|\n",
    "|------|---------|\n",
    "|`.add()`|Adiciona um elemento|\n",
    "|`.remove()`|Remove um elemento. Caso o elemento não exista, um erro ocorre|\n",
    "|`.discard()`|Remove um elemento. Caso o elemento não exista, não resulta em erro|\n",
    "|`.pop()`|Remove um elemento aleatório, retornando o elemento|\n",
    "|`.clear()`|Remove todos os elementos do conjunto|\n",
    "|`.issubset()`|Retorna se está contido em determinado conjunto|\n",
    "|`.isuperset()`|Retorna se contém determinado conjunto|\n",
    "|`.union()`|Aplica a união com outros conjuntos|\n",
    "|`.intersection()`|Aplica a interseção com outros conjuntos|\n",
    "|`.difference()`|Aplica a diferença com outros conjuntos|\n",
    "|`.symmetric_difference()`|Diferença simétrica|\n",
    "|`.copy()`|Cópia do conjunto|\n",
    "|`.update()`|Inclui um outro conjunto|\n",
    "|`.intersection_update()`|Aplica a interseção, atualizando o conjunto|\n",
    "|`.difference_update()`|Aplica a diferença, alterando o conjunto|\n",
    "|`.simmetric_difference_update()`|Aplica a diferença simétrica, alterando o conjunto|\n",
    "\n",
    "**Exemplo**\n",
    "```python\n",
    "vogais = set('aeiox')\n",
    "print('Conjunto:',vogais)\n",
    "print('- Adicionando u :')\n",
    "vogais.add('u')\n",
    "print('Conjunto:',vogais)\n",
    "print('- Removendo x :')\n",
    "vogais.remove('x')\n",
    "print('Conjunto:',vogais)\n",
    "print('- Descartando k :')\n",
    "vogais.discard('k') #k não existe no conjunto, mas não é gerado erro\n",
    "print('Conjunto:',vogais)\n",
    "print('- Retirando aleatoriamente', vogais.pop(),':')\n",
    "print('Conjunto:',vogais)\n",
    "print('- Removendo todos os elementos:')\n",
    "vogais.clear()\n",
    "print('Conjunto:',vogais)\n",
    "```\n",
    "\n",
    "\n",
    "**Atividade**\n",
    "- Execute os exemplos e observe os resultados."
   ]
  },
  {
   "cell_type": "code",
   "execution_count": null,
   "metadata": {},
   "outputs": [],
   "source": []
  },
  {
   "cell_type": "markdown",
   "metadata": {},
   "source": [
    "```python\n",
    "vogais=set('aeiou')\n",
    "alfa  = set('abcdefghijklmnopqrstuvwxyz')\n",
    "print('Conjunto novo: vogais  ',vogais)\n",
    "print('Conjunto novo: alfabeto',alfa)\n",
    "print('letras está contido em vogais?', alfa.issubset(vogais) )\n",
    "print('vogais está contido em letras?', vogais.issubset(alfa) )\n",
    "print('letras contém vogais?', alfa.issuperset(vogais) )\n",
    "print('vogais contém letras?', vogais.issuperset(alfa) )\n",
    "```\n",
    "\n",
    "**Atividade**\n",
    "- Execute os exemplos e observe os resultados."
   ]
  },
  {
   "cell_type": "code",
   "execution_count": null,
   "metadata": {},
   "outputs": [],
   "source": []
  },
  {
   "cell_type": "markdown",
   "metadata": {},
   "source": [
    "## Referências\n",
    "\n",
    "[Python 2.7.16 documentation - Sets](https://docs.python.org/2/tutorial/datastructures.html#sets)  \n",
    "\n",
    "**Outros materiais**\n",
    "\n",
    "\n",
    "[Caelum - Apostila Python e Oientação a objetos](https://www.caelum.com.br/apostila-python-orientacao-objetos/estrutura-de-dados/#conjuntos)  \n",
    "[Cadasnos Cicomp - Conjuntos ou sets no Python 3](https://cadernoscicomp.com.br/tutorial/introducao-a-programacao-em-python-3/conjuntos-ou-sets/)  \n",
    "[Igor Sobreira - Conjuntos em Python - set e frozenset](http://igorsobreira.com/2008/01/20/conjuntos-em-python-set-e-frozenset.html)  "
   ]
  },
  {
   "cell_type": "code",
   "execution_count": null,
   "metadata": {},
   "outputs": [],
   "source": []
  }
 ],
 "metadata": {
  "kernelspec": {
   "display_name": "Python 3 (ipykernel)",
   "language": "python",
   "name": "python3"
  },
  "language_info": {
   "codemirror_mode": {
    "name": "ipython",
    "version": 3
   },
   "file_extension": ".py",
   "mimetype": "text/x-python",
   "name": "python",
   "nbconvert_exporter": "python",
   "pygments_lexer": "ipython3",
   "version": "3.8.10"
  }
 },
 "nbformat": 4,
 "nbformat_minor": 2
}
