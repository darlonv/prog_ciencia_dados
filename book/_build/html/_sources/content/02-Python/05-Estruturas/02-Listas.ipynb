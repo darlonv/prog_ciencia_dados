{
 "cells": [
  {
   "cell_type": "markdown",
   "metadata": {},
   "source": [
    "# Listas\n",
    "\n",
    "Uma lista é um conjunto de elementos, que podem ser de qualquer tipo. Uma lista é definida por elementos entre colchetes (ou parênteses angulares, rs) (`[` `]`), separados por vírgulas. Também pode-se criar uma lista utilizando a função `list()`.\n",
    "\n",
    "**Exemplo**\n",
    "\n",
    "Uma lista com números inteiros. Observe o tipo da variável `li`, e veja que cada elemento pode ser acessado pela sua posição.\n",
    "```python\n",
    "li = [1,2,3,4,5]\n",
    "print(type(li)) #retorna list\n",
    "print(li[0]) #1\n",
    "print(li[1]) #2\n",
    "print(li[4]) #5\n",
    "```\n",
    "\n",
    "**Atividade**\n",
    "\n",
    "- Execute o exemplo acima."
   ]
  },
  {
   "cell_type": "code",
   "execution_count": null,
   "metadata": {},
   "outputs": [],
   "source": []
  },
  {
   "cell_type": "markdown",
   "metadata": {},
   "source": [
    "**Exemplo**\n",
    "\n",
    "Uma lista com strings. Observe que o tipo da variável `ls` não é influenciado pelo tipo de dado que a lista armazena.\n",
    "```python\n",
    "ls = ['abc','def','ghi']\n",
    "print(type(ls)) #continua retornando list\n",
    "print(ls[0])\n",
    "print(ls[1])\n",
    "print(ls[2])\n",
    "```\n",
    "\n",
    "**Atividade**\n",
    "\n",
    "- Execute o exemplo acima."
   ]
  },
  {
   "cell_type": "code",
   "execution_count": null,
   "metadata": {},
   "outputs": [],
   "source": []
  },
  {
   "cell_type": "markdown",
   "metadata": {},
   "source": [
    "Uma lista pode conter elementos de diferentes tipos.  \n",
    "\n",
    "**Exemplo**\n",
    "- Observe a lista `lvar`, e o tipo de cada elemento nela armazenado.\n",
    "```python\n",
    "lvar=[10,'dez',2.5, True]\n",
    "print(type(lvar))\n",
    "print(type(lvar[0]))\n",
    "print(type(lvar[1]))\n",
    "print(type(lvar[2]))\n",
    "print(type(lvar[3]))\n",
    "```\n",
    "\n",
    "**Atividade**\n",
    "\n",
    "- Execute o exemplo acima e observe cada tipo de dado apresentado."
   ]
  },
  {
   "cell_type": "code",
   "execution_count": null,
   "metadata": {},
   "outputs": [],
   "source": []
  },
  {
   "cell_type": "code",
   "execution_count": null,
   "metadata": {},
   "outputs": [],
   "source": []
  },
  {
   "cell_type": "markdown",
   "metadata": {},
   "source": [
    "Inclusive, uma lista pode conter outras listas.  \n",
    "\n",
    "**Exemplo**\n",
    "-  Observe a saída de cada função `print()`:\n",
    "```python\n",
    "ll = [[1,2,3],[False, False, True]]\n",
    "print(ll[0])\n",
    "print(ll[0][1])\n",
    "print(ll[1])\n",
    "print(ll[1][2])\n",
    "type(ll[0])\n",
    "type(ll[0][1])\n",
    "```\n",
    "\n",
    "**Atividade**\n",
    "\n",
    "- Execute o exemplo acima."
   ]
  },
  {
   "cell_type": "code",
   "execution_count": null,
   "metadata": {},
   "outputs": [],
   "source": []
  },
  {
   "cell_type": "markdown",
   "metadata": {},
   "source": [
    "**Exercício**\n",
    "\n",
    "- Crie uma lista com nomes de pelo menos três pessoas\n",
    "- Crie uma lista que contenha nomes de frutas\n",
    "- Crie uma lista com os números primos de 1 a 10."
   ]
  },
  {
   "cell_type": "code",
   "execution_count": null,
   "metadata": {},
   "outputs": [],
   "source": []
  },
  {
   "cell_type": "markdown",
   "metadata": {},
   "source": [
    "**Exercícios**\n",
    "- [Beecrowd 3209 - Tomadas Elétricas](https://www.beecrowd.com.br/judge/pt/problems/view/3209)"
   ]
  },
  {
   "cell_type": "markdown",
   "metadata": {},
   "source": [
    "## Funções\n",
    "\n",
    "Algumas operações podem ser aplicadas sobre qualquer tipo de sequência, como\n",
    "- `len()`: retorna a quantidade de elementos de uma sequência;\n",
    "- `min()`: retorna o menor valor;\n",
    "- `max()`: retorna o maior valor;\n",
    "- `sorted()`: retorna uma lista, contendo a sequência ordenada;\n",
    "- `reversed()` : obtém um iterador (*iterator*), contendo os valores da sequência, em ordem inversa.\n",
    "\n",
    "**Exemplo**\n",
    "\n",
    "Execute os códigos abaixo, e observe seus resultados.\n",
    "```python\n",
    "estado=['P','a','r','a','n','á']\n",
    "print(estado)\n",
    "print('len(estado)   :', len(estado))\n",
    "print('min(estado)   :', min(estado))\n",
    "print('max(estado)   :', max(estado))\n",
    "print('sorted(estado):', sorted(estado))\n",
    "for i in reversed(estado): \n",
    "    print(i)\n",
    "```\n",
    "**Atividade**\n",
    "\n",
    "- Execute o exemplo acima, e observe os resultados.\n",
    "    - Explique os resultados das operações `min(estado)` e `max(estado)`.\n",
    "    - Explique o resultado da operação `sorted(estado)`."
   ]
  },
  {
   "cell_type": "code",
   "execution_count": null,
   "metadata": {},
   "outputs": [],
   "source": []
  },
  {
   "cell_type": "code",
   "execution_count": null,
   "metadata": {},
   "outputs": [],
   "source": []
  },
  {
   "cell_type": "code",
   "execution_count": null,
   "metadata": {},
   "outputs": [],
   "source": []
  },
  {
   "cell_type": "markdown",
   "metadata": {},
   "source": [
    "**Exercício**\n",
    "- [Beecrowd 1013 - O Maior](https://www.beecrowd.com.br/judge/pt/problems/view/1013)"
   ]
  },
  {
   "cell_type": "markdown",
   "metadata": {},
   "source": [
    "> **Observação**\n",
    "> \n",
    "> Repare quendo os elementos são do tipo *string*, os caracteres são comparados de acordo com seu valor na tabela ASCII, onde letras maiúsculas, minúsculas e acentuadas possuem valores distintos. Perceba que quando a *string* 'Paraná' foi ordenada, o caractere 'P' aparece como primeira letra, e o caractere 'á' como último.\n"
   ]
  },
  {
   "cell_type": "code",
   "execution_count": null,
   "metadata": {},
   "outputs": [],
   "source": []
  },
  {
   "cell_type": "markdown",
   "metadata": {},
   "source": [
    "**Exemplo**\n",
    "\n",
    "```python\n",
    "tamanhos=['p','m','g']\n",
    "print(tamanhos)\n",
    "print('len(tamanhos)   :', len(tamanhos))\n",
    "print('min(tamanhos)   :', min(tamanhos))\n",
    "print('max(tamanhos)   :', max(tamanhos))\n",
    "print('sorted(tamanhos):',sorted(tamanhos))\n",
    "for i in reversed(tamanhos): \n",
    "    print(i)\n",
    "```\n",
    "\n",
    "**Atividade**\n",
    "\n",
    "- Execute o exemplo acima."
   ]
  },
  {
   "cell_type": "code",
   "execution_count": null,
   "metadata": {},
   "outputs": [],
   "source": []
  },
  {
   "cell_type": "code",
   "execution_count": null,
   "metadata": {},
   "outputs": [],
   "source": []
  },
  {
   "cell_type": "markdown",
   "metadata": {},
   "source": [
    "**Exemplo**\n",
    "\n",
    "```python\n",
    "idades = [23,11,50,4,12,37,35]\n",
    "print(idades)\n",
    "print('len(idades):', len(idades))\n",
    "print('min(idades)', min(idades))\n",
    "print('max(idades)',max(idades))\n",
    "print('sorted(idades):',sorted(idades))\n",
    "for i in reversed(idades): print(i)\n",
    "```\n",
    "\n",
    "**Atividade**\n",
    "\n",
    "- Execute o exemplo acima."
   ]
  },
  {
   "cell_type": "code",
   "execution_count": null,
   "metadata": {},
   "outputs": [],
   "source": []
  },
  {
   "cell_type": "markdown",
   "metadata": {},
   "source": [
    "**Exemplo**\n",
    "\n",
    "```python\n",
    "indices = [88,34,12,43,20]\n",
    "print(indices)\n",
    "print('len(indices):', len(indices))\n",
    "print('min(indices)', min(indices))\n",
    "print('max(indices)',max(indices))\n",
    "print('sorted(indices):',sorted(indices))\n",
    "for i in reversed(indices): print(i)\n",
    "```\n",
    "\n",
    "**Atividade**\n",
    "\n",
    "- Execute o exemplo acima."
   ]
  },
  {
   "cell_type": "code",
   "execution_count": null,
   "metadata": {},
   "outputs": [],
   "source": []
  },
  {
   "cell_type": "markdown",
   "metadata": {},
   "source": [
    "## Índices\n",
    "\n",
    "**Índices negativos**\n",
    "\n",
    "É possível acessar um elemento de uma sequência em ordem inversa. Basta utilizar índices negativos. O índice -1 indica o último elemento, -2 o penúltimo e assim sucessivamente.  \n",
    "\n",
    "**Exemplo**\n",
    "\n",
    "```python\n",
    "vogais=['a','b','c']\n",
    "print(vogais[-1])\n",
    "print(vogais[-2])\n",
    "print(vogais[-3])\n",
    "```\n",
    "\n",
    "**Atividade**\n",
    "\n",
    "- Execute o exemplo acima."
   ]
  },
  {
   "cell_type": "code",
   "execution_count": null,
   "metadata": {},
   "outputs": [],
   "source": []
  },
  {
   "cell_type": "markdown",
   "metadata": {},
   "source": [
    "### Acesso a índices não existentes\n",
    "Cada elemento em uma sequência pode ser acessado utilizando seu índice, como já mostrado anteriormente. Porém, perceba que acessar um elemento em uma posição que não existe indica um erro do tipo *index out of range*, tanto para operações de leitura como escrita do dado.  \n",
    "\n",
    "**Exemplo**  \n",
    "Acessar as posições 3, 4 e -4 da lista `valores` acarreta em erros, visto que estas posições são inexistentes na lista.\n",
    "```python\n",
    "valores=[10,20,30]\n",
    "print(valores[3])\n",
    "valores[4]=0\n",
    "print(valores[-4])\n",
    "```\n",
    "**Atividade**\n",
    "\n",
    "- Execute o exemplo acima."
   ]
  },
  {
   "cell_type": "code",
   "execution_count": null,
   "metadata": {},
   "outputs": [],
   "source": []
  },
  {
   "cell_type": "markdown",
   "metadata": {},
   "source": [
    "## Fatiamento\n",
    "Em sequências, é possível acessar um intervalo de elementos de uma única vez, utilizando o operador `:` no índice da sequência. Este operador pode ser utilizado da seguinte maneira:  \n",
    "\n",
    "|Formato|Resultado|\n",
    "|--|--|\n",
    "|`[:]`|Todos os elementos da sequência|\n",
    "|`[a:b]`| Da posição `a` até `b-1`|\n",
    "|`[a:]`|Da posição `a` até a posição final|\n",
    "|`[:b]`|Da posição inicial até a posição `b-1`|\n",
    "|`[a:b:c]`| Da posição `a` até a posição `b-1`, com incremento de `c`|\n",
    "\n",
    "**Observação**\n",
    "\n",
    "A posição final não é incluída, sendo apenas até seu elemento anterior.\n",
    "\n",
    "**Exemplo**\n",
    "\n",
    "```python\n",
    "letras=['a','b','c','d','e','f','g','h','i','j']\n",
    "print('[:]     :' , letras[:])    #Todos os elementos\n",
    "print('[:3]    :' , letras[:3])   # 'abc' (posições 0, 1 e 2)\n",
    "print('[5:]    :' , letras[5:])   # 'fghij' (posições 5, 6, 7, 8 e 9)\n",
    "print('[3:8]   :' , letras[3:8])  # 'defgh' (posições 3, 4, 5, 6 e 7)\n",
    "print('[2:9:2] :' , letras[2:9:2]) # 'cegi' (posições 2, 4, 6 e 8)\n",
    "```\n",
    "\n",
    "**Atividade**\n",
    "\n",
    "- Execute o exemplo acima."
   ]
  },
  {
   "cell_type": "code",
   "execution_count": null,
   "metadata": {},
   "outputs": [],
   "source": []
  },
  {
   "cell_type": "code",
   "execution_count": null,
   "metadata": {},
   "outputs": [],
   "source": []
  },
  {
   "cell_type": "code",
   "execution_count": null,
   "metadata": {},
   "outputs": [],
   "source": []
  },
  {
   "cell_type": "markdown",
   "metadata": {},
   "source": [
    "Também é possível modificar diversos elementos, informando o que será inserido em cada posição.  \n",
    "\n",
    "**Exemplo**\n",
    "\n",
    "```python\n",
    "numeros=[1,2,3,4,5]\n",
    "numeros[:3] = [10,20,30]\n",
    "print(numeros)\n",
    "```\n",
    "\n",
    "**Atividade**\n",
    "\n",
    "- Execute o exemplo acima."
   ]
  },
  {
   "cell_type": "code",
   "execution_count": null,
   "metadata": {},
   "outputs": [],
   "source": []
  },
  {
   "cell_type": "markdown",
   "metadata": {},
   "source": [
    "## Iteráveis\n",
    "Uma sequência pode ser utilizada como iterável (*iterable*), ou seja, podemos utilizar uma estrutura de repetição **for** para percorrer cada elemento da sequência, onde a variável de controle assume os elementos da sequência a cada iteração.  \n",
    "\n",
    "**Exemplo**\n",
    "\n",
    "```python\n",
    "nomes=['Jonas', 'João', 'Márcio']\n",
    "for i in nomes:\n",
    "    print(i)\n",
    "    \n",
    "primos = [2,3,5,7,11,13,17,19]\n",
    "for p in primos :\n",
    "    print(p)\n",
    "```\n",
    "\n",
    "**Atividade**\n",
    "\n",
    "- Execute os exemplos acima."
   ]
  },
  {
   "cell_type": "code",
   "execution_count": null,
   "metadata": {},
   "outputs": [],
   "source": []
  },
  {
   "cell_type": "code",
   "execution_count": null,
   "metadata": {},
   "outputs": [],
   "source": []
  },
  {
   "cell_type": "markdown",
   "metadata": {},
   "source": [
    "## Operações específicas\n",
    "Algumas sequências possuem métodos específicos. A lista completa de métodos é descrita na [API](https://docs.python.org/3/library/stdtypes.html) do Python"
   ]
  },
  {
   "cell_type": "markdown",
   "metadata": {},
   "source": [
    "**Listas**\n",
    "\n",
    "|Método|Descrição|\n",
    "|------|---------|\n",
    "|`.append(e)`  | Adiciona o elemento `e` ao final da lista|\n",
    "|`.insert(p,e)`| Adiciona na posição `p` da lista o elemento `e`|\n",
    "|`.extend(s)`| Adiciona à lista os elementos da sequência `s`|\n",
    "|`.pop()`| Retira o último elemento da lista|\n",
    "|`.remove(e)`| Remove da lista o elemento `e`|\n",
    "|`.count(e)`| Obtém o número de de vezes em que o elemento `e` aparece na lista|\n",
    "|`.index(e)`| Obtém a primeira posição em que o elemento `e` aparece|\n",
    "|`.sort()`| Ordena a lista|\n",
    "|`.reverse()`| Inverte a ordem dos elementos na lista|\n",
    "|`.clear()`| |\n",
    "|`.copy()`| obtém uma cópia dos elementos na lista|"
   ]
  },
  {
   "cell_type": "markdown",
   "metadata": {},
   "source": [
    "**Exemplo**\n",
    "- `.append()`\n",
    "\n",
    "```python\n",
    "l = [1,3,5,7]\n",
    "l.append(9)\n",
    "print(l)\n",
    "```\n",
    "\n",
    "**Atividade**\n",
    "\n",
    "- Execute o exemplo acima."
   ]
  },
  {
   "cell_type": "code",
   "execution_count": null,
   "metadata": {},
   "outputs": [],
   "source": []
  },
  {
   "cell_type": "code",
   "execution_count": null,
   "metadata": {},
   "outputs": [],
   "source": []
  },
  {
   "cell_type": "markdown",
   "metadata": {},
   "source": [
    "**Exemplo**\n",
    "- `.insert()`\n",
    "\n",
    "```python\n",
    "l = [1,3,5,7]\n",
    "l.insert(1,9) #Insere o elemento 9 na posição 1\n",
    "print(l)\n",
    "```\n",
    "\n",
    "**Atividade**\n",
    "\n",
    "- Execute o exemplo acima."
   ]
  },
  {
   "cell_type": "code",
   "execution_count": null,
   "metadata": {},
   "outputs": [],
   "source": []
  },
  {
   "cell_type": "markdown",
   "metadata": {},
   "source": [
    "**Exemplo**\n",
    "- `.extend()`\n",
    "\n",
    "Observe a diferença entre as funções `.append()` e `.extend()`:\n",
    "```python\n",
    "l=[1,2,3]\n",
    "m=[10,11,12]\n",
    "print('l          :', l)\n",
    "print('m          :', m)\n",
    "l.append(m)\n",
    "print('l.append(m):', l)\n",
    "l=[1,2,3]\n",
    "m=[10,11,12]\n",
    "l.extend(m)\n",
    "print('l.extend(m):',l)\n",
    "```\n",
    "\n",
    "**Atividade**\n",
    "\n",
    "- Execute o exemplo acima\n",
    "    - qual é a diferença entre os resultados?"
   ]
  },
  {
   "cell_type": "code",
   "execution_count": null,
   "metadata": {},
   "outputs": [],
   "source": []
  },
  {
   "cell_type": "markdown",
   "metadata": {},
   "source": [
    "**Exemplo**\n",
    "- `.pop()`\n",
    "\n",
    "```python\n",
    "frutas=['banana', 'melancia', 'caju']\n",
    "print(frutas)\n",
    "frutas.pop()\n",
    "print(frutas)\n",
    "frutas.pop()\n",
    "print(frutas)\n",
    "```\n",
    "\n",
    "**Atividade**\n",
    "\n",
    "- Execute o exemplo acima."
   ]
  },
  {
   "cell_type": "code",
   "execution_count": null,
   "metadata": {},
   "outputs": [],
   "source": []
  },
  {
   "cell_type": "markdown",
   "metadata": {},
   "source": [
    "**Exemplo**\n",
    "- `.remove()`\n",
    "\n",
    "```python\n",
    "frutas=['banana', 'melancia', 'caju']\n",
    "frutas.remove('melancia')\n",
    "print(frutas)\n",
    "```\n",
    "\n",
    "**Atividade**\n",
    "\n",
    "- Execute o exemplo acima."
   ]
  },
  {
   "cell_type": "code",
   "execution_count": null,
   "metadata": {},
   "outputs": [],
   "source": []
  },
  {
   "cell_type": "markdown",
   "metadata": {},
   "source": [
    "**Exemplo**\n",
    "- `.count()`\n",
    "\n",
    "```python\n",
    "valores=[1,4,3,1,1,2,4,6,3,6,8,1,5,8,7,9,7,7,5,4,2]\n",
    "print(valores.count(1)) #Número de vezes em que o elemento 1 aparece na lista\n",
    "```\n",
    "\n",
    "**Atividade**\n",
    "\n",
    "- Execute o exemplo acima."
   ]
  },
  {
   "cell_type": "code",
   "execution_count": null,
   "metadata": {},
   "outputs": [],
   "source": []
  },
  {
   "cell_type": "markdown",
   "metadata": {},
   "source": [
    "**Exemplo**\n",
    "- `.index()`\n",
    "\n",
    "```python\n",
    "alunos=['Maria', 'João', 'José', 'Vinícius']\n",
    "print(alunos.index('José'))\n",
    "```\n",
    "\n",
    "**Atividade**\n",
    "\n",
    "- Execute o exemplo acima."
   ]
  },
  {
   "cell_type": "code",
   "execution_count": null,
   "metadata": {},
   "outputs": [],
   "source": []
  },
  {
   "cell_type": "markdown",
   "metadata": {},
   "source": [
    "**Exemplo**\n",
    "- `.sort()`\n",
    "\n",
    "```python\n",
    "valores=[1,4,3,1,1,2,4,6,3,6,8,1,5,8,7,9,7,7,5,4,2]\n",
    "valores.sort()\n",
    "print(valores)\n",
    "```\n",
    "\n",
    "**Atividade**\n",
    "\n",
    "- Execute o exemplo acima."
   ]
  },
  {
   "cell_type": "code",
   "execution_count": null,
   "metadata": {},
   "outputs": [],
   "source": []
  },
  {
   "cell_type": "markdown",
   "metadata": {},
   "source": [
    "**Exemplo**\n",
    "- `.reverse()`\n",
    "\n",
    "```python\n",
    "seq = [1,5,2,7]\n",
    "seq.reverse()\n",
    "print(seq)\n",
    "```\n",
    "\n",
    "**Atividade**\n",
    "\n",
    "- Execute o exemplo acima."
   ]
  },
  {
   "cell_type": "code",
   "execution_count": null,
   "metadata": {},
   "outputs": [],
   "source": []
  },
  {
   "cell_type": "markdown",
   "metadata": {},
   "source": [
    "**Exemplo**\n",
    "- `.clear()`\n",
    "\n",
    "```python\n",
    "val = [5,8,8,1]\n",
    "print('val possui ', len(val), 'elementos')\n",
    "val.clear()\n",
    "print('val possui ', len(val), 'elementos')\n",
    "```\n",
    "\n",
    "**Atividade**\n",
    "\n",
    "- Execute o exemplo acima."
   ]
  },
  {
   "cell_type": "code",
   "execution_count": null,
   "metadata": {},
   "outputs": [],
   "source": []
  },
  {
   "cell_type": "markdown",
   "metadata": {},
   "source": [
    "**Exemplo**\n",
    "- `.copy()`\n",
    "\n",
    "O método `.copy()` torna-se necessário para manter o conteúdo da lista original, visto que o operador de atribuição realiza apenas uma **referência** à lista original. Este assunto será discutido com mais detalhes adiante.\n",
    "```python\n",
    "original = [1,2,3,4,5]\n",
    "ref = original #aqui ref é uma referência\n",
    "ref[0]=0\n",
    "print(original,'original') #Perceba que a lista original foi modificada\n",
    "print(ref,'ref')  #Original e referencia possuem o mesmo conteúdo. Alterar uma lista significa alterar a outra\n",
    "```\n",
    "\n",
    "```python\n",
    "original = [1,2,3,4,5]\n",
    "copia = original.copy() #aqui é realizada uma cópia dos elementos\n",
    "copia[0]=0\n",
    "print(original,'original') #Perceba que a lista original não foi foi modificada\n",
    "print(copia,'cópia') #original e copia são listas distintas\n",
    "```\n",
    "\n",
    "**Atividade**\n",
    "\n",
    "- Execute os exemplos acima e observe as diferenças."
   ]
  },
  {
   "cell_type": "code",
   "execution_count": null,
   "metadata": {},
   "outputs": [],
   "source": []
  },
  {
   "cell_type": "code",
   "execution_count": null,
   "metadata": {},
   "outputs": [],
   "source": []
  },
  {
   "cell_type": "code",
   "execution_count": null,
   "metadata": {},
   "outputs": [],
   "source": []
  },
  {
   "cell_type": "markdown",
   "metadata": {},
   "source": [
    "## Operações sobre sequências\n",
    "\n",
    "Algumas operações podem ser realizadas diretamente sobre sequências, não restrito às listas.\n",
    "\n",
    "|Operação|Função|\n",
    "|--------|------|\n",
    "|`+`     | concatena duas sequências|\n",
    "|`*`     | repete uma sequência diversas vezes|\n",
    "|`in`    | verifica se um item está em uma sequência|\n",
    "|`not in`| verifica se um item **não está** em uma sequência|\n",
    "\n",
    "**Exemplo**\n",
    "\n",
    "```python\n",
    "pares=[2,4,6,8]\n",
    "vogais=['a','e','i','o','u']\n",
    "print('pares           :', pares)\n",
    "print('vogais          :', vogais)\n",
    "print('pares + vogais  :', pares+vogais)\n",
    "print('vogais * 3      :', vogais*3)\n",
    "print('5 in pares      :', 5 in pares)\n",
    "print('a not in vogais :', 'a' not in vogais)\n",
    "```\n",
    "**Atividade**\n",
    "- Execute os exemplos apresentados acima.\n"
   ]
  },
  {
   "cell_type": "code",
   "execution_count": null,
   "metadata": {},
   "outputs": [],
   "source": []
  },
  {
   "cell_type": "markdown",
   "metadata": {},
   "source": [
    "**Exercícios**\n",
    "- [Beecrowd 3147 - A Batalha do  Cinco Exércitos](https://www.beecrowd.com.br/judge/pt/problems/view/3147)  \n",
    "- [Beecrowd 1259 - Pares e Ímpares](https://www.beecrowd.com.br/judge/pt/problems/view/1259)\n",
    "- [Beecrowd 1961 - Pula Sapo](https://www.beecrowd.com.br/judge/pt/problems/view/1961)"
   ]
  },
  {
   "cell_type": "markdown",
   "metadata": {},
   "source": [
    "## Referências\n",
    "\n",
    "**Outros materiais**\n",
    "\n",
    "[Python - Built-in types](https://docs.python.org/3/library/stdtypes.html#sequence-types-list-tuple-range)  \n",
    "[Python - Operadores e fatiamento de sequências](http://www.devfuria.com.br/python/sequencias-fatiamento/)  \n",
    "[Apostila Python e orientação a objetos - Capítulo 4: Estrutura de dados ](https://www.caelum.com.br/apostila-python-orientacao-objetos/estrutura-de-dados/)"
   ]
  },
  {
   "cell_type": "markdown",
   "metadata": {},
   "source": [
    " "
   ]
  }
 ],
 "metadata": {
  "kernelspec": {
   "display_name": "Python 3 (ipykernel)",
   "language": "python",
   "name": "python3"
  },
  "language_info": {
   "codemirror_mode": {
    "name": "ipython",
    "version": 3
   },
   "file_extension": ".py",
   "mimetype": "text/x-python",
   "name": "python",
   "nbconvert_exporter": "python",
   "pygments_lexer": "ipython3",
   "version": "3.8.10"
  }
 },
 "nbformat": 4,
 "nbformat_minor": 2
}
