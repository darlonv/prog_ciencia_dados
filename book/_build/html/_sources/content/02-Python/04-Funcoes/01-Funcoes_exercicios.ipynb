{
 "cells": [
  {
   "cell_type": "markdown",
   "metadata": {},
   "source": [
    "# Exercícios"
   ]
  },
  {
   "cell_type": "markdown",
   "metadata": {},
   "source": [
    "**Exercício**"
   ]
  },
  {
   "cell_type": "markdown",
   "metadata": {},
   "source": [
    "Implemente as funções `maior` e `menor`, que recebem como entrada 5 números. Uma delas retorna o maior valor e outra o menor valor.\n",
    "\n",
    "> **Exemplo**\n",
    "> ```python\n",
    "maior(1,2,5,4,3) #retorna 5\n",
    "maior(91,22,-5,14,109) #retorna 109\n",
    "menor(1,2,5,4,3) #retorna 1\n",
    "menor(91,22,-5,14,109) #retorna -5\n",
    "```"
   ]
  },
  {
   "cell_type": "code",
   "execution_count": null,
   "metadata": {},
   "outputs": [],
   "source": []
  },
  {
   "cell_type": "markdown",
   "metadata": {},
   "source": [
    "**Exercício**"
   ]
  },
  {
   "cell_type": "markdown",
   "metadata": {},
   "source": [
    "Implemente a função `minmax`, que retorna o maior e o menor número, considerando 5 valores de entrada.\n",
    "\n",
    "> **Exemplo**\n",
    "> ```python\n",
    "minmax(1,2,5,4,3) #retorna 1, 5\n",
    "minmax(91,22,-5,14,109) #retorna -5, 109\n",
    ">```"
   ]
  },
  {
   "cell_type": "code",
   "execution_count": null,
   "metadata": {},
   "outputs": [],
   "source": []
  },
  {
   "cell_type": "markdown",
   "metadata": {},
   "source": [
    "**Exercício**"
   ]
  },
  {
   "cell_type": "markdown",
   "metadata": {},
   "source": [
    "Faça uma função chamada `tabuada` que recebe um número `n`, e apresenta a tabuada desse número na tela, com seu múltiplos de 1 a 10.\n",
    "\n",
    "> **Exemplo**\n",
    "> - Entrada, com a chamada da função:\n",
    ">```python\n",
    "tabuada(5)\n",
    ">```\n",
    "> - Saída na tela:\n",
    ">```\n",
    "5x1 = 5\n",
    "5x2 = 10\n",
    "5x3 = 15\n",
    "5x4 = 20\n",
    "5x5 = 25\n",
    "5x6 = 30\n",
    "5x7 = 35\n",
    "5x8 = 40\n",
    "5x9 = 45\n",
    "5x10 = 50\n",
    ">```\n",
    "\n",
    "\n",
    "\n"
   ]
  },
  {
   "cell_type": "markdown",
   "metadata": {},
   "source": [
    "**Exercício**"
   ]
  },
  {
   "cell_type": "markdown",
   "metadata": {},
   "source": [
    "Implemente a função `fatorial`, que calcula e retorna o fatorial de um número. Considere que a entrada será sempre um número inteiro não negativo. Lembre também que por definição, $0!=0$.\n",
    "\n",
    "> **Exemplo**\n",
    "> ```python\n",
    "fatorial(5) #retorna 120\n",
    "fatorial(8) #retorna 40320\n",
    "fatorial(0) #retorna 1\n",
    "fatorial(1) #retorna 1\n",
    "> ```"
   ]
  },
  {
   "cell_type": "code",
   "execution_count": null,
   "metadata": {},
   "outputs": [],
   "source": []
  },
  {
   "cell_type": "markdown",
   "metadata": {},
   "source": [
    "**Exercício**"
   ]
  },
  {
   "cell_type": "markdown",
   "metadata": {},
   "source": [
    "Implemente um procedimento chamado `divdiv` que recebe dois inteiros: o dividendo e o divisor. O procedimento deve mostrar na tela:\n",
    "- o resultado inteiro da divisão,\n",
    "- o resto da divisão inteira e\n",
    "- o resultado da divisão, com precisão de 3 casas decimais.  \n",
    "\n",
    "> **Dica**\n",
    "> \n",
    "> Utilize a função `round(val,n)`, que arredonda `val` para `n` casas decimais.\n",
    "\n",
    "> **Exemplo**\n",
    "> - Entrada\n",
    "> ```python\n",
    "divdiv(11,3)\n",
    "> ```\n",
    "> - Saída\n",
    "> ```\n",
    "resultado inteiro: 3\n",
    "resto: 2\n",
    "resultado: 3.667\n",
    "> ```"
   ]
  },
  {
   "cell_type": "code",
   "execution_count": null,
   "metadata": {},
   "outputs": [],
   "source": []
  },
  {
   "cell_type": "markdown",
   "metadata": {},
   "source": [
    "**Exercício**"
   ]
  },
  {
   "cell_type": "markdown",
   "metadata": {},
   "source": [
    "Implemente uma função chamada `par`, que retorna `True` caso o valor passado por parâmetro seja par, e `False` caso contrário.\n",
    "\n",
    "> **Exemplo**\n",
    "> ```python\n",
    "> par(3) #retorna False\n",
    "> par(0) #retorna True\n",
    "> par(9) #retorna False\n",
    "> par(200) #retorna True\n",
    "> ```"
   ]
  },
  {
   "cell_type": "code",
   "execution_count": null,
   "metadata": {},
   "outputs": [],
   "source": []
  },
  {
   "cell_type": "markdown",
   "metadata": {},
   "source": [
    "**Exercício**"
   ]
  },
  {
   "cell_type": "markdown",
   "metadata": {},
   "source": [
    "Implemente uma função chamada `impar`, que retorna `True` caso o valor passado por parâmetro seja impar, e `False` caso o valor seja par.\n",
    "\n",
    "> **Exemplo**\n",
    "> ```python\n",
    "> impar(3) #retorna True\n",
    "> impar(0) #retorna False\n",
    "> impar(9) #retorna True\n",
    "> impar(200) #retorna False\n",
    "> ```"
   ]
  },
  {
   "cell_type": "code",
   "execution_count": null,
   "metadata": {},
   "outputs": [],
   "source": []
  },
  {
   "cell_type": "markdown",
   "metadata": {},
   "source": [
    "**Exercício**"
   ]
  },
  {
   "cell_type": "markdown",
   "metadata": {},
   "source": [
    "Implemente uma função chamada primo, que retorna `True` caso o valor passado por parâmetro seja um númeor primo, e `False` caso contrário.\n",
    "\n",
    "> **Exemplo**\n",
    "> ```python\n",
    "> primo(3) #retorna True\n",
    "> primo(9) #retorna False\n",
    "> primo(200) #retorna False\n",
    "> primo(15) #retorna False\n",
    "> primo(37) #retorna True\n",
    "> primo(2521) #retorna True\n",
    "> ```"
   ]
  },
  {
   "cell_type": "code",
   "execution_count": null,
   "metadata": {},
   "outputs": [],
   "source": []
  },
  {
   "cell_type": "markdown",
   "metadata": {},
   "source": [
    "**Exercício**"
   ]
  },
  {
   "cell_type": "markdown",
   "metadata": {},
   "source": [
    "Desenvolva uma função que calcula o número de combinações $C$ de $n$ elementos tomados $p$ a $p$.\n",
    "$$C^n_p = \\frac{n!}{p!(n-p)!}$$\n",
    "\n",
    "> **Exemplo**\n",
    "> ```python\n",
    "combinacao(7,2) #retorna 21\n",
    "combinacao(4,3) #retorna 4\n",
    "> ```"
   ]
  },
  {
   "cell_type": "code",
   "execution_count": null,
   "metadata": {},
   "outputs": [],
   "source": []
  },
  {
   "cell_type": "markdown",
   "metadata": {},
   "source": [
    "**Exercício**"
   ]
  },
  {
   "cell_type": "markdown",
   "metadata": {},
   "source": [
    "Implemente uma função chamada perfeito, que retorna `True` caso o valor passado por\n",
    "parâmetro seja um número perfeito, e `False` caso contrário. Um número perfeito é aquele que é igual à soma de todos os seus divisores, exceto ele próprio.  \n",
    "\n",
    "> **Exemplo**\n",
    ">\n",
    "> $6$ é um número perfeito, pois $6=1+2+3$.\n",
    "> ```python\n",
    "perfeito(6) #retorna True\n",
    "> ```"
   ]
  },
  {
   "cell_type": "code",
   "execution_count": null,
   "metadata": {},
   "outputs": [],
   "source": []
  },
  {
   "cell_type": "markdown",
   "metadata": {},
   "source": [
    "**Exercício**"
   ]
  },
  {
   "cell_type": "markdown",
   "metadata": {},
   "source": [
    "Implemente uma função chamada `perfeitos` que recebe dois números inteiros `ini` e `fim` como parâmetro, e exibe na tela todos os números perfeitos que estão no intervalo entre `ini` e `fim`.\n",
    "\n",
    "> **Exemplo**\n",
    "> ```\n",
    "perfeitos(2,10) #Mostra 6 na tela\n",
    "> ```"
   ]
  },
  {
   "cell_type": "code",
   "execution_count": null,
   "metadata": {},
   "outputs": [],
   "source": []
  },
  {
   "cell_type": "markdown",
   "metadata": {},
   "source": [
    "**Exercício**"
   ]
  },
  {
   "cell_type": "markdown",
   "metadata": {},
   "source": [
    "Implemente uma função chamada `circuloArea`, que recebe como entrada o raio de um círculo, e retorna a área desse círculo."
   ]
  },
  {
   "cell_type": "code",
   "execution_count": null,
   "metadata": {},
   "outputs": [],
   "source": []
  },
  {
   "cell_type": "markdown",
   "metadata": {},
   "source": [
    "**Exercício**"
   ]
  },
  {
   "cell_type": "markdown",
   "metadata": {},
   "source": [
    "Implemente uma função chamada `primos`, que retorna todos os números primos em um intervalo especificado."
   ]
  },
  {
   "cell_type": "code",
   "execution_count": null,
   "metadata": {},
   "outputs": [],
   "source": []
  },
  {
   "cell_type": "markdown",
   "metadata": {},
   "source": [
    "**Exercício**"
   ]
  },
  {
   "cell_type": "markdown",
   "metadata": {},
   "source": [
    "Implemente uma função chamada `conversor_temperatura`, que recebe três parâmetros como entrada: \n",
    "- um valor de temperatura (float), \n",
    "- a escala da temperatura de entrada (char) e \n",
    "- a escala da temperatura de saída (char).  \n",
    "Os possíveis valores para escala são C, F, K, R (maiúsculas ou minúsculas) que correspondem às escalas Celsius, Fahrenheit, Kelvin e Réaumur. A função deve retornar a temperatura informada na entrada para a temperatura na escala definida para saída.\n",
    "\n",
    "> **Exemplo**\n",
    "> ```python\n",
    "conversor_temperatura(100.0, 'C', 'K') #retorna 373.15, pois 100º Celsius equivale a 273.15 Kelvin.\n",
    "conversor_temperatura(22.0, 'R', 'c') #retorna 27.5, pois 22º Réaumur equivale a 27.5º Celsius.\n",
    "> ```"
   ]
  },
  {
   "cell_type": "code",
   "execution_count": null,
   "metadata": {},
   "outputs": [],
   "source": []
  },
  {
   "cell_type": "markdown",
   "metadata": {},
   "source": [
    "**Exercício**"
   ]
  },
  {
   "cell_type": "markdown",
   "metadata": {},
   "source": [
    "Faça uma função chamada `pot_2` que retorna `True` caso o parâmetro seja uma potência de 2.\n",
    "\n",
    "> **Exemplo**\n",
    "> ```python\n",
    "pot_2(10) #retorna False\n",
    "pot_2(64) #retorna True\n",
    "> ```"
   ]
  },
  {
   "cell_type": "code",
   "execution_count": null,
   "metadata": {},
   "outputs": [],
   "source": []
  },
  {
   "cell_type": "markdown",
   "metadata": {},
   "source": [
    "**Exercício**"
   ]
  },
  {
   "cell_type": "markdown",
   "metadata": {},
   "source": [
    "Desenvolva uma função chamada `pot_n`, que possui dois parâmetros $x$ e $n$. A função deve retornar `True` caso $x$ seja uma potência de $n$. Caso $n$ seja omitido, deve ser verificado se $x$ é uma potência de 2.\n",
    "\n",
    "> **Exemplo**\n",
    "> ```python\n",
    "pot_n(25,5) #Retorna True pois 25 é potência de 5. 5^2 = 25.\n",
    "pot_n(25,2) #Retorna False pois 25 não é potência de 2.\n",
    "pot_n(1000) #Retorna False pois 1000 não é potência de 2.\n",
    "pot_n(1024) #Retorna True pois 1024 é potência de 2. 2^10=1024.\n",
    "pot_n(81,3) #Retorna True pois 27 é potência de 3. 3^4=27.\n",
    "> ```"
   ]
  },
  {
   "cell_type": "code",
   "execution_count": null,
   "metadata": {},
   "outputs": [],
   "source": []
  },
  {
   "cell_type": "markdown",
   "metadata": {},
   "source": [
    "**Exercício**"
   ]
  },
  {
   "cell_type": "markdown",
   "metadata": {},
   "source": [
    "Implemente uma função chamada `distancia_pontos` que recebe dois pares de números, que correspondem a pontos em um plano cartesiano com coordenadas $x,y$. A função deve retornar a distância entre esses dois pontos. Não é necessário arredondar valores.\n",
    "\n",
    "> **Exemplo**\n",
    "> ```python\n",
    "distancia_pontos(0,0,0,1) # retorna 1.0, pois a distância do ponto (0,0) a (0,1) é 1.\n",
    "distancia_pontos(5,3,7,0) # retorna 3.605551275463989, pois esta é a distância do ponto (5,3) ao ponto (7,0).\n",
    "distancia_pontos(3,0,6,4) # retorna 5.0, pois a distância do ponto (3,0) a (6,4) é 5.\n",
    "> ```"
   ]
  },
  {
   "cell_type": "code",
   "execution_count": null,
   "metadata": {},
   "outputs": [],
   "source": []
  },
  {
   "cell_type": "markdown",
   "metadata": {},
   "source": [
    "**Exercício**"
   ]
  },
  {
   "cell_type": "markdown",
   "metadata": {},
   "source": [
    "Implemente uma função chamada `triangulo_perimetro`, que recebe três pares de números, que correspondem a coordenadas em um plano cartesiano. Tais coordenadas correspondem aos vértices de um triângulo. Calcule e retorno o perímetro do triângulo formado pelos pontos. Os parâmetros devem ser identificados como `x0`, `y0`, `x1`, `y1`, `x2` e `y2`.\n",
    "\n",
    "> **Exemplo**\n",
    "> ```python\n",
    "triangulo_perimetro(0,0,1,1,1,0) # retorna 3.414213562373095, pois é o perímetro do triângulo formado pelos pontos (0,0), (1,1) e (1,0)\n",
    "triangulo_perimetro(0,0,3,4,3,0) # retorna 12.0, pois é o perímetro do triângulo formado pelos pontos (0,0), (3,4) e (3,0)\n",
    "> ```"
   ]
  },
  {
   "cell_type": "code",
   "execution_count": null,
   "metadata": {},
   "outputs": [],
   "source": []
  },
  {
   "cell_type": "markdown",
   "metadata": {},
   "source": [
    "**Exercício**"
   ]
  },
  {
   "cell_type": "markdown",
   "metadata": {},
   "source": [
    "Faça um procedimento que recebe a idade de um nadador. Deve ser mostrado na tela a categoria em que o nadador deve competir, de acordo com a tabela apresentada.\n",
    "\n",
    "|Idade (anos)|Categoria|\n",
    "|------------|---------|\n",
    "|5 a 7| Infantil A|\n",
    "|8 a 10|Infantil B|\n",
    "|11 a 13| Juvenil A|\n",
    "|14 a 17| Juvenil B|\n",
    "|18 e acima de 18| Adulto|\n",
    "\n",
    "Fonte: Adaptado de [PINHO](https://www.inf.pucrs.br/~pinho/LaproI/Exercicios/Funcoes/lista.htm).  "
   ]
  },
  {
   "cell_type": "code",
   "execution_count": null,
   "metadata": {},
   "outputs": [],
   "source": []
  },
  {
   "cell_type": "markdown",
   "metadata": {},
   "source": [
    "**Exercício**"
   ]
  },
  {
   "cell_type": "markdown",
   "metadata": {},
   "source": [
    "Escreva uma função chamada `soma_s` que tem como entrada um valor $n$, tal que $n$ pertence aos inteiros positivos. A função deve retornar o valor da soma S, onde:\n",
    "$$S = \\frac{1}{1}+\\frac{1}{2}+\\frac{1}{3}+...+\\frac{1}{n-1}+\\frac{1}{n}$$\n",
    "\n"
   ]
  },
  {
   "cell_type": "code",
   "execution_count": null,
   "metadata": {},
   "outputs": [],
   "source": []
  },
  {
   "cell_type": "markdown",
   "metadata": {},
   "source": [
    "**Exercício**"
   ]
  },
  {
   "cell_type": "markdown",
   "metadata": {},
   "source": [
    "Desenvolva um procedimento que \"desenha\" na tela um retângulo, com valores especificados pelo usuário. Devem ser passados os valores das dimensões (largura e altura), e os caracteres que compõem a borda e o preenchimento. Largura e altura devem ser sempre maiores que 2.\n",
    "\n",
    ">**Exemplo**\n",
    ">\n",
    ">- Entrada:\n",
    "    - Largura=20\n",
    "    - Altura=5\n",
    "    - Borda=`X`\n",
    "    - Preenchimento=`_`\n",
    ">- Saída:\n",
    "> ```python\n",
    "XXXXXXXXXXXXXXXXXXXX\n",
    "X__________________X\n",
    "X__________________X\n",
    "X__________________X\n",
    "XXXXXXXXXXXXXXXXXXXX\n",
    "> ```\n",
    "\n",
    "\n",
    "Fonte: Adaptado de [OLIVEIRA](http://professor.pucgoias.edu.br/SiteDocente/admin/arquivosUpload/17504/material/cmp1048-lista_exercicios-01.pdf).  "
   ]
  },
  {
   "cell_type": "code",
   "execution_count": null,
   "metadata": {},
   "outputs": [],
   "source": []
  },
  {
   "cell_type": "markdown",
   "metadata": {},
   "source": [
    "**Exercício**"
   ]
  },
  {
   "cell_type": "markdown",
   "metadata": {},
   "source": [
    "Implemente uma função para verificar se determinado valor é ou não regular. Um número é dito regular se sua decomposição em fatores primos apresenta apenas potências de 2, 3 e 5.\n",
    "\n",
    "Fonte: Adaptado de [OLIVEIRA](http://professor.pucgoias.edu.br/SiteDocente/admin/arquivosUpload/17504/material/cmp1048-lista_exercicios-01.pdf).  "
   ]
  },
  {
   "cell_type": "code",
   "execution_count": null,
   "metadata": {},
   "outputs": [],
   "source": []
  },
  {
   "cell_type": "markdown",
   "metadata": {},
   "source": [
    "**Exercício**"
   ]
  },
  {
   "cell_type": "markdown",
   "metadata": {},
   "source": [
    "Implemente uma função chamada `raiz_n`, que retorna a enésima raiz $r$ de um número, tendo como parâmetros o número $n$ e a raiz $x$. Caso o valor de $x$ não seja informado, a função deve retornar a raíz quadrada do número.   \n",
    "\n",
    "$$r = \\sqrt[n]{x}$$\n",
    "\n",
    ">**Dica**\n",
    ">\n",
    ">$$\\sqrt[n]{x} = x^\\frac{1}{n}$$\n",
    "\n",
    "> **Exemplo**\n",
    "> ```python\n",
    "raiz_n(27,3) #retorna 3.0\n",
    "raiz_n(15,4) #retorna 1.9679896712654303\n",
    "raiz_n(16,4) #retorna 2.0\n",
    "raiz_n(16) #retorna 4.0\n",
    "> ```"
   ]
  },
  {
   "cell_type": "markdown",
   "metadata": {},
   "source": [
    "## Referências\n",
    "\n",
    "[MORAES, S., PINHO, M.S., TERRA, E. Exercícios sobre Funções e Procedimentos. Escola Politécnica da PUCRS.](https://www.inf.pucrs.br/~pinho/LaproI/Exercicios/Funcoes/lista.htm)  \n",
    "[OLIVEIRA, M.G. Lista de exercícios: Funções.](http://professor.pucgoias.edu.br/SiteDocente/admin/arquivosUpload/17504/material/cmp1048-lista_exercicios-01.pdf)  \n",
    "\n"
   ]
  }
 ],
 "metadata": {
  "kernelspec": {
   "display_name": "Python 3 (ipykernel)",
   "language": "python",
   "name": "python3"
  },
  "language_info": {
   "codemirror_mode": {
    "name": "ipython",
    "version": 3
   },
   "file_extension": ".py",
   "mimetype": "text/x-python",
   "name": "python",
   "nbconvert_exporter": "python",
   "pygments_lexer": "ipython3",
   "version": "3.8.10"
  }
 },
 "nbformat": 4,
 "nbformat_minor": 4
}
