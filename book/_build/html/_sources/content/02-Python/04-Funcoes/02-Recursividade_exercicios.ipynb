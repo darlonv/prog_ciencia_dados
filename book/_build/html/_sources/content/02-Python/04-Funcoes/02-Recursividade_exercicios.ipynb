{
 "cells": [
  {
   "cell_type": "markdown",
   "metadata": {},
   "source": [
    "# Exercícios\n",
    "\n",
    "Implemente os exercícios a seguir utilizando recursividade."
   ]
  },
  {
   "cell_type": "markdown",
   "metadata": {},
   "source": [
    "**Exercício**"
   ]
  },
  {
   "cell_type": "markdown",
   "metadata": {},
   "source": [
    "Implemente o cálculo do Fatorial.\n",
    "\n",
    "$$F(x) = x! = 1\\times2\\times3\\times...\\times(x-1)\\times x$$"
   ]
  },
  {
   "cell_type": "code",
   "execution_count": null,
   "metadata": {},
   "outputs": [],
   "source": []
  },
  {
   "cell_type": "markdown",
   "metadata": {},
   "source": [
    "**Exercício**"
   ]
  },
  {
   "cell_type": "markdown",
   "metadata": {},
   "source": [
    "Calcule a potência de qualquer número inteiro positivo elevado a qualquer número inteiro positivo, utilizando recursividade."
   ]
  },
  {
   "cell_type": "code",
   "execution_count": null,
   "metadata": {},
   "outputs": [],
   "source": []
  },
  {
   "cell_type": "markdown",
   "metadata": {},
   "source": [
    "**Exercício**"
   ]
  },
  {
   "cell_type": "markdown",
   "metadata": {},
   "source": [
    "Calcule o resultado da função $E(n)$,tal que\n",
    "\n",
    "$$E(n) = \\frac{1}{1}+\\frac{1}{2}+\\frac{1}{}+\\frac{1}{3}+...+\\frac{1}{}+\\frac{1}{n-1}+\\frac{1}{}+\\frac{1}{n}$$"
   ]
  },
  {
   "cell_type": "code",
   "execution_count": null,
   "metadata": {},
   "outputs": [],
   "source": []
  },
  {
   "cell_type": "markdown",
   "metadata": {},
   "source": [
    "**Exercício**"
   ]
  },
  {
   "cell_type": "markdown",
   "metadata": {},
   "source": [
    "Implemente uma função para verificar se determinado valor é ou não regular. Um número é dito regular se sua decomposição em fatores primos apresenta apenas potências de 2, 3 e 5.\n",
    "\n",
    "Fonte: Adaptado de [OLIVEIRA](http://professor.pucgoias.edu.br/SiteDocente/admin/arquivosUpload/17504/material/cmp1048-lista_exercicios-01.pdf).  "
   ]
  },
  {
   "cell_type": "code",
   "execution_count": null,
   "metadata": {},
   "outputs": [],
   "source": []
  },
  {
   "cell_type": "markdown",
   "metadata": {},
   "source": [
    "**Exercício**"
   ]
  },
  {
   "cell_type": "markdown",
   "metadata": {},
   "source": [
    "Desenhe um triângulo seguindo o seguinte formato, onde $n$ define a quantidade de linhas utilizadas:\n",
    "```\n",
    "*\n",
    "* *\n",
    "* * *\n",
    "* * * *\n",
    "* * * * *\n",
    "* * * * * *\n",
    "```\n"
   ]
  },
  {
   "cell_type": "code",
   "execution_count": null,
   "metadata": {},
   "outputs": [],
   "source": []
  },
  {
   "cell_type": "markdown",
   "metadata": {},
   "source": [
    "**Exercício**"
   ]
  },
  {
   "cell_type": "markdown",
   "metadata": {},
   "source": [
    "Desenhe uma pirâmide, seguindo o formato abaixo, perguntando ao usuário o número de linhas que ele deseja para o padrão.\n",
    "```\n",
    "- - - - * - - - -\n",
    "- - - * * * - - -\n",
    "- - * * * * * - -\n",
    "- * * * * * * * -\n",
    "* * * * * * * * *\n",
    "```"
   ]
  },
  {
   "cell_type": "code",
   "execution_count": null,
   "metadata": {},
   "outputs": [],
   "source": []
  },
  {
   "cell_type": "markdown",
   "metadata": {},
   "source": [
    "**Exercício**"
   ]
  },
  {
   "cell_type": "markdown",
   "metadata": {},
   "source": [
    "Desenhe um triângulo, seguindo o formato apresentado abaixo, perguntando `n` ao usuário. No caso do exemplo, `n=5`.\n",
    "```\n",
    "*\n",
    "* *\n",
    "* * *\n",
    "* * * * \n",
    "* * * * *\n",
    "* * * *\n",
    "* * *\n",
    "* *\n",
    "*\n",
    "```"
   ]
  },
  {
   "cell_type": "code",
   "execution_count": null,
   "metadata": {},
   "outputs": [],
   "source": []
  },
  {
   "cell_type": "markdown",
   "metadata": {},
   "source": [
    "**Exercício**"
   ]
  },
  {
   "cell_type": "markdown",
   "metadata": {},
   "source": [
    "Calcule o enésimo termo da sequência de Fibonacci para x, sabendo que cada termo é composto da soma dos dois termos anteriores. Para `F(n)`, tem-se:\n",
    "```py\n",
    "F(0) = 0\n",
    "F(1) = 1\n",
    "F(n) = F(n-1) + F(n-2)\n",
    "```"
   ]
  },
  {
   "cell_type": "code",
   "execution_count": null,
   "metadata": {},
   "outputs": [],
   "source": []
  },
  {
   "cell_type": "markdown",
   "metadata": {},
   "source": [
    "**Exercício**"
   ]
  },
  {
   "cell_type": "markdown",
   "metadata": {},
   "source": [
    "Calcule o número Euler $e$, que é dado pela equação\n",
    "$$\n",
    "e = \\frac{1}{1!} + \\frac{1}{2!} + \\frac{1}{3!} + … + \\frac{1}{(n-1)!} + \\frac{1}{n!}!\n",
    "$$\n",
    "\n",
    "**Observação**\n",
    "\n",
    "Implemente sem utilizar nenhuma estrutura de repetição.\n",
    "\n",
    "**Para conhecer:**\n",
    "\n",
    "- [Número de Euler](https://pt.wikipedia.org/wiki/Número_de_Euler)\n"
   ]
  },
  {
   "cell_type": "code",
   "execution_count": null,
   "metadata": {},
   "outputs": [],
   "source": []
  },
  {
   "cell_type": "markdown",
   "metadata": {},
   "source": [
    "**Exercício**"
   ]
  },
  {
   "cell_type": "markdown",
   "metadata": {},
   "source": [
    "Calcule o resto da divisão inteira (mod), utilizando recursividade. Sabe-se que:\n",
    "```\n",
    "mod(x,y) = mod(x-y, y) se x > y\n",
    "mod(x,y) = x se x < y\n",
    "mod(x,y) = 0 se x = y\n",
    "```\n"
   ]
  },
  {
   "cell_type": "code",
   "execution_count": null,
   "metadata": {},
   "outputs": [],
   "source": []
  },
  {
   "cell_type": "markdown",
   "metadata": {},
   "source": [
    "**Exercício**"
   ]
  },
  {
   "cell_type": "markdown",
   "metadata": {},
   "source": [
    "Calcule o máximo divisor comum (mdc) de dois números inteiros x e y. Sabe-se que:\n",
    "```\n",
    "mdc(x,y) = mdc(x-y,y) se x>y\n",
    "mdc(x,y) = mdc(y,x)\n",
    "mdc(x,x) = x\n",
    "```"
   ]
  },
  {
   "cell_type": "code",
   "execution_count": null,
   "metadata": {},
   "outputs": [],
   "source": []
  }
 ],
 "metadata": {
  "kernelspec": {
   "display_name": "Python 3 (ipykernel)",
   "language": "python",
   "name": "python3"
  },
  "language_info": {
   "codemirror_mode": {
    "name": "ipython",
    "version": 3
   },
   "file_extension": ".py",
   "mimetype": "text/x-python",
   "name": "python",
   "nbconvert_exporter": "python",
   "pygments_lexer": "ipython3",
   "version": "3.8.10"
  }
 },
 "nbformat": 4,
 "nbformat_minor": 4
}
