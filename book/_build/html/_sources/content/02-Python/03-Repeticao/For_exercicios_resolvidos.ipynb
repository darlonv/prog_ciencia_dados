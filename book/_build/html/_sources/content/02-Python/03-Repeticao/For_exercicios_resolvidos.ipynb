{
 "cells": [
  {
   "cell_type": "markdown",
   "metadata": {
    "slideshow": {
     "slide_type": "slide"
    }
   },
   "source": [
    "# Exercícios"
   ]
  },
  {
   "cell_type": "markdown",
   "metadata": {
    "slideshow": {
     "slide_type": "subslide"
    }
   },
   "source": [
    "**Exercício**\n",
    "\n",
    "Qual é a saída do trecho de código abaixo? Tente responder antes de executar.\n",
    "\n",
    "```py\n",
    "for i in 1,2,3 :\n",
    "    print(1, end='')\n",
    "```\n",
    "\n",
    "1. `3`\n",
    "1. `i`\n",
    "1. `123`\n",
    "1. `ERRO`\n",
    "1. `111`"
   ]
  },
  {
   "cell_type": "code",
   "execution_count": 83,
   "metadata": {
    "slideshow": {
     "slide_type": "skip"
    }
   },
   "outputs": [],
   "source": [
    "#111"
   ]
  },
  {
   "cell_type": "markdown",
   "metadata": {
    "slideshow": {
     "slide_type": "subslide"
    }
   },
   "source": [
    "**Exercício**\n",
    "\n",
    "Qual é a saída do trecho de código abaixo? Tente responder antes de executar.\n",
    "\n",
    "```py\n",
    "for i in 1,2,3 :\n",
    "print(i, end='')\n",
    "```\n",
    "\n",
    "1. `3`\n",
    "1. `i`\n",
    "1. `1 2 3`\n",
    "1. `IndentationError`\n",
    "1. `123`"
   ]
  },
  {
   "cell_type": "code",
   "execution_count": 3,
   "metadata": {
    "slideshow": {
     "slide_type": "skip"
    }
   },
   "outputs": [],
   "source": [
    "#IndentationError"
   ]
  },
  {
   "cell_type": "markdown",
   "metadata": {
    "slideshow": {
     "slide_type": "subslide"
    }
   },
   "source": [
    "**Exercício**\n",
    "\n",
    "Peça o usuário que digite $5$ números, com valores que podem ser entre $0$ e $1000$. Mostre o maior e menor número digitados."
   ]
  },
  {
   "cell_type": "code",
   "execution_count": 19,
   "metadata": {
    "slideshow": {
     "slide_type": "skip"
    }
   },
   "outputs": [
    {
     "name": "stdout",
     "output_type": "stream",
     "text": [
      "Menor:  55\n",
      "Maior:  853\n"
     ]
    }
   ],
   "source": [
    "import random\n",
    "\n",
    "n = 5\n",
    "menor = 1000\n",
    "maior = 0\n",
    "\n",
    "for i in range(n):\n",
    "    val = r = random.randint(0,1000)\n",
    "    if val < menor:\n",
    "        menor = val\n",
    "    if val > maior:\n",
    "        maior = val\n",
    "print('Menor: ', menor)\n",
    "print('Maior: ', maior)\n"
   ]
  },
  {
   "cell_type": "markdown",
   "metadata": {
    "slideshow": {
     "slide_type": "subslide"
    }
   },
   "source": [
    "**Exercício**\n",
    "\n",
    "Mostre os números de $n$ a $1$, na ordem do maior para o menor."
   ]
  },
  {
   "cell_type": "code",
   "execution_count": 87,
   "metadata": {
    "slideshow": {
     "slide_type": "skip"
    }
   },
   "outputs": [
    {
     "name": "stdout",
     "output_type": "stream",
     "text": [
      "5 4 3 2 1 "
     ]
    }
   ],
   "source": [
    "n = 5\n",
    "for i in range(n,0, -1):\n",
    "    print(i, end=' ')"
   ]
  },
  {
   "cell_type": "markdown",
   "metadata": {
    "slideshow": {
     "slide_type": "subslide"
    }
   },
   "source": [
    "**Exercício**\n",
    "\n",
    "Pergunte um número $k$ ao usuário, e mostre a tabuada desse número, com múltiplos de $1$ a $20$."
   ]
  },
  {
   "cell_type": "code",
   "execution_count": 22,
   "metadata": {
    "slideshow": {
     "slide_type": "skip"
    }
   },
   "outputs": [
    {
     "name": "stdout",
     "output_type": "stream",
     "text": [
      "10x1=10\n",
      "10x2=20\n",
      "10x3=30\n",
      "10x4=40\n",
      "10x5=50\n",
      "10x6=60\n",
      "10x7=70\n",
      "10x8=80\n",
      "10x9=90\n",
      "10x10=100\n",
      "10x11=110\n",
      "10x12=120\n",
      "10x13=130\n",
      "10x14=140\n",
      "10x15=150\n",
      "10x16=160\n",
      "10x17=170\n",
      "10x18=180\n",
      "10x19=190\n",
      "10x20=200\n"
     ]
    }
   ],
   "source": [
    "k=10\n",
    "for i in range(1,21):\n",
    "    print(f'{k}x{i}={k*i}')"
   ]
  },
  {
   "cell_type": "markdown",
   "metadata": {
    "slideshow": {
     "slide_type": "subslide"
    }
   },
   "source": [
    "**Exercício**\n",
    "\n",
    "\n",
    "Calcule a soma $s$ e a média $m$ dos primeiros $n$ números, começando por $1$, de forma que $n$ é digitado pelo usuário.  \n",
    "Matematicamente, isto é equivalente a:\n",
    "\n",
    "$$s = \\sum_{i=1}^ni$$\n",
    "\n",
    "$$m = \\frac{\\sum_{i=1}^ni}{n} = \\frac{s}{n}$$ "
   ]
  },
  {
   "cell_type": "code",
   "execution_count": 25,
   "metadata": {
    "slideshow": {
     "slide_type": "skip"
    }
   },
   "outputs": [
    {
     "name": "stdout",
     "output_type": "stream",
     "text": [
      "Soma : 55\n",
      "Média: 5.5\n"
     ]
    }
   ],
   "source": [
    "n = 10\n",
    "S = 0\n",
    "for i in range(1,n+1):\n",
    "    S+=i\n",
    "M = S/n\n",
    "\n",
    "print('Soma :', S)\n",
    "print('Média:', M)"
   ]
  },
  {
   "cell_type": "markdown",
   "metadata": {
    "slideshow": {
     "slide_type": "subslide"
    }
   },
   "source": [
    "**Exercício**\n",
    "\n",
    "Calcula a soma $s$ e a média $m$ de todos os números inteiros no intervalo $[a,b]$, de forma que $a$ e $b$ são digitados pelo usuário.  \n",
    "\n",
    "De forma matemática:  \n",
    "\n",
    "$$s = \\sum_{i=a}^{b}i$$\n",
    "\n",
    "$$m = \\frac{\\sum_{i=a}^{b}i}{b-a+1} = \\frac{s}{b-a+1}$$ "
   ]
  },
  {
   "cell_type": "code",
   "execution_count": 31,
   "metadata": {
    "slideshow": {
     "slide_type": "skip"
    }
   },
   "outputs": [
    {
     "name": "stdout",
     "output_type": "stream",
     "text": [
      "Soma : 9\n",
      "Média: 4.5\n"
     ]
    }
   ],
   "source": [
    "ini = 4\n",
    "fim = 5\n",
    "n = fim - ini + 1\n",
    "\n",
    "S = 0\n",
    "for i in range(ini,fim+1):\n",
    "    S+=i\n",
    "M = S/n\n",
    "\n",
    "print('Soma :', S)\n",
    "print('Média:', M)"
   ]
  },
  {
   "cell_type": "markdown",
   "metadata": {
    "slideshow": {
     "slide_type": "subslide"
    }
   },
   "source": [
    "**Exercício**\n",
    "\n",
    "Pergunte um número $x$ ao usuário, e então mostre todos os números de $1$ a $100$ que são divisíveis por $x$."
   ]
  },
  {
   "cell_type": "code",
   "execution_count": 35,
   "metadata": {
    "slideshow": {
     "slide_type": "skip"
    }
   },
   "outputs": [
    {
     "name": "stdout",
     "output_type": "stream",
     "text": [
      "15\n",
      "30\n",
      "45\n",
      "60\n",
      "75\n",
      "90\n"
     ]
    }
   ],
   "source": [
    "x = 15\n",
    "for i in range(1,100+1):\n",
    "    if i%x == 0:\n",
    "        print(i)"
   ]
  },
  {
   "cell_type": "markdown",
   "metadata": {
    "slideshow": {
     "slide_type": "subslide"
    }
   },
   "source": [
    "**Exercício**\n",
    "\n",
    "Calcule o fatorial $f$ de um número $x$, tal que $x$ é digitado pelo usuário.  \n",
    "De forma matemática:\n",
    "\n",
    "$$f=x!$$\n",
    "$$f= x\\times(x-1)\\times(x-2)\\times...\\times2\\times1$$"
   ]
  },
  {
   "cell_type": "code",
   "execution_count": 40,
   "metadata": {
    "slideshow": {
     "slide_type": "skip"
    }
   },
   "outputs": [
    {
     "name": "stdout",
     "output_type": "stream",
     "text": [
      "F(5)=120\n"
     ]
    }
   ],
   "source": [
    "x = 5\n",
    "F = 1\n",
    "for i in range(1,x+1):\n",
    "    F*=i\n",
    "print(f'F({x})={F}')"
   ]
  },
  {
   "cell_type": "markdown",
   "metadata": {
    "slideshow": {
     "slide_type": "subslide"
    }
   },
   "source": [
    "**Exercício**\n",
    "\n",
    "Faça um programa para calcular a soma dos números pares no intervalo $[a,b]$, tal que $a$ e $b$ são digitados pelo usuário."
   ]
  },
  {
   "cell_type": "code",
   "execution_count": 44,
   "metadata": {
    "slideshow": {
     "slide_type": "skip"
    }
   },
   "outputs": [
    {
     "name": "stdout",
     "output_type": "stream",
     "text": [
      "Soma : 18\n"
     ]
    }
   ],
   "source": [
    "ini = 4\n",
    "fim = 8\n",
    "\n",
    "S = 0\n",
    "for i in range(ini,fim+1):\n",
    "    if i%2 == 0:\n",
    "        S+=i\n",
    "\n",
    "print('Soma :', S)"
   ]
  },
  {
   "cell_type": "markdown",
   "metadata": {
    "slideshow": {
     "slide_type": "subslide"
    }
   },
   "source": [
    "**Exercício**\n",
    "\n",
    "Pergunte $n$ ao usuário, e informe se $n$ é ou não um número primo. Considere que o primeiro número primo é $2$."
   ]
  },
  {
   "cell_type": "code",
   "execution_count": 54,
   "metadata": {
    "slideshow": {
     "slide_type": "skip"
    }
   },
   "outputs": [
    {
     "name": "stdout",
     "output_type": "stream",
     "text": [
      "True\n"
     ]
    }
   ],
   "source": [
    "primo = True\n",
    "n = 13\n",
    "\n",
    "for i in range(2,n):\n",
    "    if n%i==0:\n",
    "        primo=False\n",
    "        break\n",
    "\n",
    "print(primo)"
   ]
  },
  {
   "cell_type": "markdown",
   "metadata": {
    "slideshow": {
     "slide_type": "subslide"
    }
   },
   "source": [
    "**Exercício**\n",
    "\n",
    "Mostre todos os números entre $500$ e $2000$ que, quando divididos por $11$, possuem resto da divisão igual a $5$."
   ]
  },
  {
   "cell_type": "code",
   "execution_count": 56,
   "metadata": {
    "slideshow": {
     "slide_type": "skip"
    }
   },
   "outputs": [
    {
     "name": "stdout",
     "output_type": "stream",
     "text": [
      "506,517,528,539,550,561,572,583,594,605,616,627,638,649,660,671,682,693,704,715,726,737,748,759,770,781,792,803,814,825,836,847,858,869,880,891,902,913,924,935,946,957,968,979,990,1001,1012,1023,1034,1045,1056,1067,1078,1089,1100,1111,1122,1133,1144,1155,1166,1177,1188,1199,1210,1221,1232,1243,1254,1265,1276,1287,1298,1309,1320,1331,1342,1353,1364,1375,1386,1397,1408,1419,1430,1441,1452,1463,1474,1485,1496,1507,1518,1529,1540,1551,1562,1573,1584,1595,1606,1617,1628,1639,1650,1661,1672,1683,1694,1705,1716,1727,1738,1749,1760,1771,1782,1793,1804,1815,1826,1837,1848,1859,1870,1881,1892,1903,1914,1925,1936,1947,1958,1969,1980,1991,"
     ]
    }
   ],
   "source": [
    "for i in range(500,2000+1):\n",
    "    if i%11==0:\n",
    "        print(i, end=',')"
   ]
  },
  {
   "cell_type": "markdown",
   "metadata": {
    "slideshow": {
     "slide_type": "subslide"
    }
   },
   "source": [
    "**Exercício**\n",
    "\n",
    "Pergunte $n$ ao usuário, e mostre a seguinte soma $s$, de forma que:\n",
    "\n",
    "$$\n",
    "s = 1/1 + 1/2 + 1/2 + 1/n\n",
    "$$  \n",
    "\n",
    "que, matematicamente é:\n",
    "\n",
    "$$\n",
    "\\sum_{i=1}^{n}\\frac{1}{i}\n",
    "$$"
   ]
  },
  {
   "cell_type": "code",
   "execution_count": 59,
   "metadata": {
    "slideshow": {
     "slide_type": "skip"
    }
   },
   "outputs": [
    {
     "name": "stdout",
     "output_type": "stream",
     "text": [
      "S=1.5\n"
     ]
    }
   ],
   "source": [
    "n=2\n",
    "S=0\n",
    "for i in range(1,n+1):\n",
    "    S+=(1/i)\n",
    "print(f'S={S}')"
   ]
  },
  {
   "cell_type": "markdown",
   "metadata": {
    "slideshow": {
     "slide_type": "subslide"
    }
   },
   "source": [
    "**Exercício**\n",
    "\n",
    "Desenvolva um algoritmo que mostra todos os divisores de um número que são menores que ele.\n",
    "\n",
    "**Exemplo**\n",
    "\n",
    "Para `n=20`:\n",
    "```\n",
    "Divisores:\n",
    "1\n",
    "2\n",
    "4\n",
    "5\n",
    "10\n",
    "```\n",
    "Para `n=81`:\n",
    "```\n",
    "Divisores:\n",
    "1\n",
    "3\n",
    "9\n",
    "27\n",
    "```"
   ]
  },
  {
   "cell_type": "code",
   "execution_count": 61,
   "metadata": {
    "slideshow": {
     "slide_type": "skip"
    }
   },
   "outputs": [
    {
     "name": "stdout",
     "output_type": "stream",
     "text": [
      "1\n",
      "3\n",
      "9\n",
      "27\n"
     ]
    }
   ],
   "source": [
    "n = 81\n",
    "for i in range(1,n):\n",
    "    if n%i==0:\n",
    "        print(i)"
   ]
  },
  {
   "cell_type": "markdown",
   "metadata": {
    "slideshow": {
     "slide_type": "subslide"
    }
   },
   "source": [
    "**Exercício**\n",
    "\n",
    "Dado um número $n$, inteiro e positivo, dizemos que $n$ é perfeito se $n$ for igual à soma de seus divisores positivos e diferentes de $n$. Desenvolva um algoritmo que verifica se determinado número é perfeito.  \n",
    "\n",
    "**Exemplo**\n",
    "\n",
    "Para `n=6`:\n",
    "```\n",
    "True\n",
    "```\n",
    "\n",
    "$6$ é perfeito, pois $6=3+2+1$.\n",
    "\n",
    "Para `n=15`:\n",
    "```\n",
    "False\n",
    "```\n",
    "\n",
    "$15$ não é perfeito, pois $15\\neq5+3+1$."
   ]
  },
  {
   "cell_type": "code",
   "execution_count": 74,
   "metadata": {
    "slideshow": {
     "slide_type": "skip"
    }
   },
   "outputs": [
    {
     "name": "stdout",
     "output_type": "stream",
     "text": [
      "True\n"
     ]
    }
   ],
   "source": [
    "n=6\n",
    "S=0\n",
    "\n",
    "for i in range(1,n):\n",
    "    if n%i==0:\n",
    "        S+=i\n",
    "\n",
    "if S==n:\n",
    "    print(True)\n",
    "else:\n",
    "    print(False)"
   ]
  },
  {
   "cell_type": "markdown",
   "metadata": {
    "slideshow": {
     "slide_type": "subslide"
    }
   },
   "source": [
    "**Exercício**\n",
    "\n",
    "Pergunte ao usuário dois números, $x$ e $y$, e mostre todos os números perfeitos no intervalo $[x,y]$."
   ]
  },
  {
   "cell_type": "code",
   "execution_count": 70,
   "metadata": {
    "slideshow": {
     "slide_type": "skip"
    }
   },
   "outputs": [
    {
     "name": "stdout",
     "output_type": "stream",
     "text": [
      "6\n",
      "28\n",
      "496\n"
     ]
    }
   ],
   "source": [
    "ini=4\n",
    "fim=1000\n",
    "for k in range(ini,fim+1):\n",
    "    n=k\n",
    "    S=0\n",
    "\n",
    "    for i in range(1,n):\n",
    "        if n%i==0:\n",
    "            S+=i\n",
    "\n",
    "    if S==n:\n",
    "        print(k)"
   ]
  },
  {
   "cell_type": "markdown",
   "metadata": {
    "slideshow": {
     "slide_type": "subslide"
    }
   },
   "source": [
    "**Exercício**\n",
    "\n",
    "Calcule e mostre a sequência de Fibonacci $F$, de $1$ até $n$.  \n",
    "Considere:  \n",
    "\n",
    "$$\n",
    "F(1)=1\\\\\n",
    "F(2)=1\\\\\n",
    "F(n) = F(n-1)+F(n-2)\\\\\n",
    "$$\n",
    "\n",
    "**Exemplo**\n",
    "\n",
    "Para `n=11`:\n",
    "```\n",
    "1 1 2 3 5 8 13 21 34 55 89 \n",
    "```"
   ]
  },
  {
   "cell_type": "code",
   "execution_count": 82,
   "metadata": {
    "slideshow": {
     "slide_type": "skip"
    }
   },
   "outputs": [
    {
     "name": "stdout",
     "output_type": "stream",
     "text": [
      "1 1 2 3 5 8 13 21 34 55 89 \n"
     ]
    }
   ],
   "source": [
    "n=11\n",
    "for i in range(1,n+1):\n",
    "    if i == 1:\n",
    "        F = 1\n",
    "    elif i == 2:\n",
    "        F2 = 1\n",
    "        F = 1\n",
    "    else:\n",
    "        nF = F2 + F\n",
    "        F2 = F\n",
    "        F = nF\n",
    "    \n",
    "    print(F,end=' ')\n",
    "print('')\n"
   ]
  },
  {
   "cell_type": "markdown",
   "metadata": {
    "slideshow": {
     "slide_type": "subslide"
    }
   },
   "source": [
    "**Exercício**\n",
    "\n",
    "Faça um programa que pergunte $n$ ao usuário, tal que $n$ corresponde ao número de linhas, que devem ser impressas de acordo com o padrão mostrado no exemplo.\n",
    "\n",
    "**Exemplo**\n",
    "\n",
    "Para `n=5`: \n",
    "```\n",
    "*\n",
    "**\n",
    "***\n",
    "****\n",
    "*****\n",
    "```"
   ]
  },
  {
   "cell_type": "code",
   "execution_count": 81,
   "metadata": {
    "slideshow": {
     "slide_type": "skip"
    }
   },
   "outputs": [
    {
     "name": "stdout",
     "output_type": "stream",
     "text": [
      "*\n",
      "**\n",
      "***\n",
      "****\n",
      "*****\n"
     ]
    }
   ],
   "source": [
    "n=5\n",
    "for k in range(n):\n",
    "    for j in range(0,k+1):\n",
    "        print('*', end='')\n",
    "    print('')"
   ]
  },
  {
   "cell_type": "markdown",
   "metadata": {
    "slideshow": {
     "slide_type": "skip"
    }
   },
   "source": [
    " "
   ]
  }
 ],
 "metadata": {
  "kernelspec": {
   "display_name": "Python 3",
   "language": "python",
   "name": "python3"
  },
  "language_info": {
   "codemirror_mode": {
    "name": "ipython",
    "version": 3
   },
   "file_extension": ".py",
   "mimetype": "text/x-python",
   "name": "python",
   "nbconvert_exporter": "python",
   "pygments_lexer": "ipython3",
   "version": "3.6.8"
  }
 },
 "nbformat": 4,
 "nbformat_minor": 2
}
