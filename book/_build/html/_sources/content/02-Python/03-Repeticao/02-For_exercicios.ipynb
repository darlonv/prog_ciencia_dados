{
 "cells": [
  {
   "cell_type": "markdown",
   "metadata": {
    "slideshow": {
     "slide_type": "slide"
    }
   },
   "source": [
    "# Exercícios"
   ]
  },
  {
   "cell_type": "markdown",
   "metadata": {
    "slideshow": {
     "slide_type": "subslide"
    }
   },
   "source": [
    "**Exercício**\n",
    "\n",
    "Qual é a saída do trecho de código abaixo? Tente responder antes de executar.\n",
    "\n",
    "```py\n",
    "for i in 1,2,3 :\n",
    "    print(1, end='')\n",
    "```\n",
    "\n",
    "1. `3`\n",
    "1. `i`\n",
    "1. `123`\n",
    "1. `ERRO`\n",
    "1. `111`"
   ]
  },
  {
   "cell_type": "code",
   "execution_count": null,
   "metadata": {
    "slideshow": {
     "slide_type": "skip"
    }
   },
   "outputs": [],
   "source": []
  },
  {
   "cell_type": "markdown",
   "metadata": {
    "slideshow": {
     "slide_type": "subslide"
    }
   },
   "source": [
    "**Exercício**\n",
    "\n",
    "Qual é a saída do trecho de código abaixo? Tente responder antes de executar.\n",
    "\n",
    "```py\n",
    "for i in 1,2,3 :\n",
    "print(i, end='')\n",
    "```\n",
    "\n",
    "1. `3`\n",
    "1. `i`\n",
    "1. `1 2 3`\n",
    "1. `IndentationError`\n",
    "1. `123`"
   ]
  },
  {
   "cell_type": "code",
   "execution_count": null,
   "metadata": {
    "slideshow": {
     "slide_type": "skip"
    }
   },
   "outputs": [],
   "source": []
  },
  {
   "cell_type": "markdown",
   "metadata": {
    "slideshow": {
     "slide_type": "subslide"
    }
   },
   "source": [
    "**Exercício**\n",
    "\n",
    "Peça o usuário que digite $5$ números, com valores que podem ser entre $0$ e $1000$. Mostre o maior e menor número digitados."
   ]
  },
  {
   "cell_type": "code",
   "execution_count": null,
   "metadata": {
    "slideshow": {
     "slide_type": "skip"
    }
   },
   "outputs": [],
   "source": []
  },
  {
   "cell_type": "markdown",
   "metadata": {
    "slideshow": {
     "slide_type": "subslide"
    }
   },
   "source": [
    "**Exercício**\n",
    "\n",
    "Mostre os números de $n$ a $1$, na ordem do maior para o menor."
   ]
  },
  {
   "cell_type": "code",
   "execution_count": null,
   "metadata": {
    "slideshow": {
     "slide_type": "skip"
    }
   },
   "outputs": [],
   "source": []
  },
  {
   "cell_type": "markdown",
   "metadata": {
    "slideshow": {
     "slide_type": "subslide"
    }
   },
   "source": [
    "**Exercício**\n",
    "\n",
    "Pergunte um número $k$ ao usuário, e mostre a tabuada desse número, com múltiplos de $1$ a $20$."
   ]
  },
  {
   "cell_type": "code",
   "execution_count": null,
   "metadata": {
    "slideshow": {
     "slide_type": "skip"
    }
   },
   "outputs": [],
   "source": []
  },
  {
   "cell_type": "markdown",
   "metadata": {
    "slideshow": {
     "slide_type": "subslide"
    }
   },
   "source": [
    "**Exercício**\n",
    "\n",
    "\n",
    "Calcule a soma $s$ e a média $m$ dos primeiros $n$ números, começando por $1$, de forma que $n$ é digitado pelo usuário.  \n",
    "Matematicamente, isto é equivalente a:\n",
    "\n",
    "$$s = \\sum_{i=1}^ni$$\n",
    "\n",
    "$$m = \\frac{\\sum_{i=1}^ni}{n} = \\frac{s}{n}$$ "
   ]
  },
  {
   "cell_type": "code",
   "execution_count": null,
   "metadata": {
    "slideshow": {
     "slide_type": "skip"
    }
   },
   "outputs": [],
   "source": []
  },
  {
   "cell_type": "markdown",
   "metadata": {
    "slideshow": {
     "slide_type": "subslide"
    }
   },
   "source": [
    "**Exercício**\n",
    "\n",
    "Calcula a soma $s$ e a média $m$ de todos os números inteiros no intervalo $[a,b]$, de forma que $a$ e $b$ são digitados pelo usuário.  \n",
    "\n",
    "De forma matemática:  \n",
    "\n",
    "$$s = \\sum_{i=a}^{b}i$$\n",
    "\n",
    "$$m = \\frac{\\sum_{i=a}^{b}i}{b-a} = \\frac{s}{b-a}$$ "
   ]
  },
  {
   "cell_type": "code",
   "execution_count": null,
   "metadata": {
    "slideshow": {
     "slide_type": "skip"
    }
   },
   "outputs": [],
   "source": []
  },
  {
   "cell_type": "markdown",
   "metadata": {
    "slideshow": {
     "slide_type": "subslide"
    }
   },
   "source": [
    "**Exercício**\n",
    "\n",
    "Pergunte um número $x$ ao usuário, e então mostre todos os números de $1$ a $100$ que são divisíveis por $x$."
   ]
  },
  {
   "cell_type": "code",
   "execution_count": null,
   "metadata": {
    "slideshow": {
     "slide_type": "skip"
    }
   },
   "outputs": [],
   "source": []
  },
  {
   "cell_type": "markdown",
   "metadata": {
    "slideshow": {
     "slide_type": "subslide"
    }
   },
   "source": [
    "**Exercício**\n",
    "\n",
    "Calcule o fatorial $f$ de um número $x$, tal que $x$ é digitado pelo usuário.  \n",
    "De forma matemática:\n",
    "\n",
    "$$f=x!$$\n",
    "$$f= x\\times(x-1)\\times(x-2)\\times...\\times2\\times1$$"
   ]
  },
  {
   "cell_type": "code",
   "execution_count": null,
   "metadata": {
    "slideshow": {
     "slide_type": "skip"
    }
   },
   "outputs": [],
   "source": []
  },
  {
   "cell_type": "markdown",
   "metadata": {
    "slideshow": {
     "slide_type": "subslide"
    }
   },
   "source": [
    "**Exercício**\n",
    "\n",
    "Faça um programa para calcular a soma dos números pares no intervalo $[a,b]$, tal que $a$ e $b$ são digitados pelo usuário."
   ]
  },
  {
   "cell_type": "code",
   "execution_count": null,
   "metadata": {
    "slideshow": {
     "slide_type": "skip"
    }
   },
   "outputs": [],
   "source": []
  },
  {
   "cell_type": "markdown",
   "metadata": {
    "slideshow": {
     "slide_type": "subslide"
    }
   },
   "source": [
    "**Exercício**\n",
    "\n",
    "Pergunte $n$ ao usuário, e informe se $n$ é ou não um número primo. Considere que o primeiro número primo é $2$."
   ]
  },
  {
   "cell_type": "code",
   "execution_count": null,
   "metadata": {
    "slideshow": {
     "slide_type": "skip"
    }
   },
   "outputs": [],
   "source": []
  },
  {
   "cell_type": "markdown",
   "metadata": {
    "slideshow": {
     "slide_type": "subslide"
    }
   },
   "source": [
    "**Exercício**\n",
    "\n",
    "Mostre todos os números entre $500$ e $2000$ que, quando divididos por $11$, possuem resto da divisão igual a $5$."
   ]
  },
  {
   "cell_type": "code",
   "execution_count": null,
   "metadata": {
    "slideshow": {
     "slide_type": "skip"
    }
   },
   "outputs": [],
   "source": []
  },
  {
   "cell_type": "markdown",
   "metadata": {
    "slideshow": {
     "slide_type": "subslide"
    }
   },
   "source": [
    "**Exercício**\n",
    "\n",
    "Pergunte $n$ ao usuário, e mostre a seguinte soma $s$, de forma que:\n",
    "\n",
    "$$\n",
    "s = 1/1 + 1/2 + 1/3 + ... + 1/(n-1) + 1/n\n",
    "$$  \n",
    "\n",
    "que, matematicamente é:\n",
    "\n",
    "$$\n",
    "\\sum_{i=1}^{n}\\frac{1}{i}\n",
    "$$"
   ]
  },
  {
   "cell_type": "code",
   "execution_count": null,
   "metadata": {
    "slideshow": {
     "slide_type": "skip"
    }
   },
   "outputs": [],
   "source": []
  },
  {
   "cell_type": "markdown",
   "metadata": {
    "slideshow": {
     "slide_type": "subslide"
    }
   },
   "source": [
    "**Exercício**\n",
    "\n",
    "Desenvolva um algoritmo que mostra todos os divisores de um número que são menores que ele.\n",
    "\n",
    "**Exemplo**\n",
    "\n",
    "Para `n=20`:\n",
    "```\n",
    "Divisores:\n",
    "1\n",
    "2\n",
    "4\n",
    "5\n",
    "10\n",
    "```\n",
    "Para `n=81`:\n",
    "```\n",
    "Divisores:\n",
    "1\n",
    "3\n",
    "9\n",
    "27\n",
    "```"
   ]
  },
  {
   "cell_type": "code",
   "execution_count": null,
   "metadata": {
    "slideshow": {
     "slide_type": "skip"
    }
   },
   "outputs": [],
   "source": []
  },
  {
   "cell_type": "markdown",
   "metadata": {
    "slideshow": {
     "slide_type": "subslide"
    }
   },
   "source": [
    "**Exercício**\n",
    "\n",
    "Dado um número $n$, inteiro e positivo, dizemos que $n$ é perfeito se $n$ for igual à soma de seus divisores positivos e diferentes de $n$. Desenvolva um algoritmo que verifica se determinado número é perfeito.  \n",
    "\n",
    "**Exemplo**\n",
    "\n",
    "Para `n=6`:\n",
    "```\n",
    "True\n",
    "```\n",
    "\n",
    "$6$ é perfeito, pois $6=3+2+1$.\n",
    "\n",
    "Para `n=15`:\n",
    "```\n",
    "False\n",
    "```\n",
    "\n",
    "$15$ não é perfeito, pois $15\\neq5+3+1$."
   ]
  },
  {
   "cell_type": "code",
   "execution_count": null,
   "metadata": {
    "slideshow": {
     "slide_type": "skip"
    }
   },
   "outputs": [],
   "source": []
  },
  {
   "cell_type": "markdown",
   "metadata": {
    "slideshow": {
     "slide_type": "subslide"
    }
   },
   "source": [
    "**Exercício**\n",
    "\n",
    "Pergunte ao usuário dois números, $x$ e $y$, e mostre todos os números perfeitos no intervalo $[x,y]$."
   ]
  },
  {
   "cell_type": "code",
   "execution_count": null,
   "metadata": {
    "slideshow": {
     "slide_type": "skip"
    }
   },
   "outputs": [],
   "source": []
  },
  {
   "cell_type": "markdown",
   "metadata": {
    "slideshow": {
     "slide_type": "subslide"
    }
   },
   "source": [
    "**Exercício**\n",
    "\n",
    "Calcule e mostre a sequência de Fibonacci $F$, de $1$ até $n$.  \n",
    "Considere:  \n",
    "\n",
    "$$\n",
    "F(1)=1\\\\\n",
    "F(2)=1\\\\\n",
    "F(n) = F(n-1)+F(n-2)\\\\\n",
    "$$\n",
    "\n",
    "**Exemplo**\n",
    "\n",
    "Para `n=11`:\n",
    "```\n",
    "1 1 2 3 5 8 13 21 34 55 89 \n",
    "```"
   ]
  },
  {
   "cell_type": "code",
   "execution_count": null,
   "metadata": {
    "slideshow": {
     "slide_type": "skip"
    }
   },
   "outputs": [],
   "source": []
  },
  {
   "cell_type": "markdown",
   "metadata": {
    "slideshow": {
     "slide_type": "subslide"
    }
   },
   "source": [
    "**Exercício**\n",
    "\n",
    "Faça um programa que pergunte $n$ ao usuário, tal que $n$ corresponde ao número de linhas, que devem ser impressas de acordo com o padrão mostrado no exemplo.\n",
    "\n",
    "**Exemplo**\n",
    "\n",
    "Para `n=5`: \n",
    "```\n",
    "*\n",
    "**\n",
    "***\n",
    "****\n",
    "*****\n",
    "```"
   ]
  },
  {
   "cell_type": "code",
   "execution_count": null,
   "metadata": {
    "slideshow": {
     "slide_type": "skip"
    }
   },
   "outputs": [],
   "source": []
  },
  {
   "cell_type": "markdown",
   "metadata": {
    "slideshow": {
     "slide_type": "skip"
    }
   },
   "source": [
    " "
   ]
  }
 ],
 "metadata": {
  "kernelspec": {
   "display_name": "Python 3 (ipykernel)",
   "language": "python",
   "name": "python3"
  },
  "language_info": {
   "codemirror_mode": {
    "name": "ipython",
    "version": 3
   },
   "file_extension": ".py",
   "mimetype": "text/x-python",
   "name": "python",
   "nbconvert_exporter": "python",
   "pygments_lexer": "ipython3",
   "version": "3.8.10"
  }
 },
 "nbformat": 4,
 "nbformat_minor": 2
}
