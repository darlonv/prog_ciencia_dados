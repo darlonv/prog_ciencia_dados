{
 "cells": [
  {
   "cell_type": "markdown",
   "metadata": {},
   "source": [
    "# Exercícios"
   ]
  },
  {
   "cell_type": "markdown",
   "metadata": {},
   "source": [
    "**Exercício**\n",
    "\n",
    "Pergunte um número $x$ ao usuário, e então mostre todos os números de $1$ a $100$ que são divisíveis por $x$."
   ]
  },
  {
   "cell_type": "code",
   "execution_count": null,
   "metadata": {},
   "outputs": [],
   "source": []
  },
  {
   "cell_type": "markdown",
   "metadata": {},
   "source": [
    "**Exercício**\n",
    "\n",
    "Qual é a saída do trecho de código abaixo?  \n",
    "Primeiro responda apenas observando o código, e só então execute.\n",
    "\n",
    "```py\n",
    "x=3\n",
    "i=0\n",
    "while i < x:\n",
    "    print('-')\n",
    "    i=i+1\n",
    "```\n",
    "\n"
   ]
  },
  {
   "cell_type": "code",
   "execution_count": null,
   "metadata": {},
   "outputs": [],
   "source": []
  },
  {
   "cell_type": "markdown",
   "metadata": {},
   "source": [
    "**Exercício**\n",
    "\n",
    "Qual é a saída do trecho de código abaixo? Primeiro responda apenas observando o código, e só então execute.\n",
    "\n",
    "```py\n",
    "x=3\n",
    "i=5\n",
    "while i < x:\n",
    "    print('-')\n",
    "    i=i+1\n",
    "```\n",
    "\n"
   ]
  },
  {
   "cell_type": "code",
   "execution_count": null,
   "metadata": {},
   "outputs": [],
   "source": []
  },
  {
   "cell_type": "markdown",
   "metadata": {},
   "source": [
    "**Exercício**\n",
    "\n",
    "\n",
    "Pergunte um número $n$ ao usuário, e mostre de maneira ordenada todos os valores $r=x^x$, de forma que $0<r<n$. \n",
    "\n",
    "**Exemplo**\n",
    "\n",
    "Para `n=50`:\n",
    "```\n",
    "1\n",
    "4\n",
    "27\n",
    "```\n",
    "Observe que:\n",
    "\n",
    "$1^1=1$\n",
    "\n",
    "$2^2=4$\n",
    "\n",
    "$3^3=27$\n",
    "\n",
    "$4^4=256$ "
   ]
  },
  {
   "cell_type": "code",
   "execution_count": null,
   "metadata": {},
   "outputs": [],
   "source": []
  },
  {
   "cell_type": "markdown",
   "metadata": {},
   "source": [
    "**Exercício**\n",
    "\n",
    "Peça ao usuário que digite números, parando quando o número $0$ for digitado. Ao final, mostre o maior e o menor número digitados."
   ]
  },
  {
   "cell_type": "code",
   "execution_count": null,
   "metadata": {},
   "outputs": [],
   "source": []
  },
  {
   "cell_type": "markdown",
   "metadata": {},
   "source": [
    "**Exercício**\n",
    "\n",
    "Peça ao usuário que digite $n$ valores, que correspondem às idade de pessoas. Com isso, motre a quantidade de pessoas de acordo com sua faixa etária. A leitura de idades deve ser parada quando for digitada uma idade negativa. As faixas etárias são:\n",
    "\n",
    "|Faixa etária| idade|\n",
    "|---|---|\n",
    "|Bebê|[0,2[|\n",
    "|Criança|[2,11[|\n",
    "|Adolescente|[11,18[|\n",
    "|Jovem|[18-21[|\n",
    "|Adulto|[21-60[|\n",
    "|Melhor idade|>=60|"
   ]
  },
  {
   "cell_type": "code",
   "execution_count": null,
   "metadata": {},
   "outputs": [],
   "source": []
  },
  {
   "cell_type": "markdown",
   "metadata": {},
   "source": [
    "**Exercício**\n",
    "\n",
    "Dado um número $n$, inteiro e positivo, dizemos que $n$ é perfeito se $n$ for igual à soma de seus divisores positivos e diferentes de $n$. Desenvolva um algoritmo que mostra os primeiros 4 números perfeitos.\n",
    "\n",
    "**Exemplo:**\n",
    "\n",
    "$6$ é perfeito, pois $6=3+2+1$."
   ]
  },
  {
   "cell_type": "code",
   "execution_count": null,
   "metadata": {},
   "outputs": [],
   "source": []
  },
  {
   "cell_type": "markdown",
   "metadata": {},
   "source": [
    "**Exercício**\n",
    "\n",
    "Um determinado material radiativo perde metade da sua massa a cada $50$ segundos. Dada a massa inicial, em gramas, fazer um programa que calcule o tempo necessário para que essa massa se torne menor que $0,5$ gramas. O programa deve apresentar como resultado a massa inicial, a massa final e o tempo (mostrado em horas, minutos e segundos, no formato `hh:mm:ss`).\n",
    "\n",
    "Fonte: Exercício adaptado de (SANTIAGO, K)."
   ]
  },
  {
   "cell_type": "code",
   "execution_count": null,
   "metadata": {},
   "outputs": [],
   "source": []
  },
  {
   "cell_type": "markdown",
   "metadata": {},
   "source": [
    "**Exercício**\n",
    "\n",
    "Faça um programa que calcula se um número é ou não primo."
   ]
  },
  {
   "cell_type": "code",
   "execution_count": null,
   "metadata": {},
   "outputs": [],
   "source": []
  },
  {
   "cell_type": "markdown",
   "metadata": {},
   "source": [
    "**Exercício**\n",
    "\n",
    "Pergunte um número $n$ ao usuário, e mostre os primeiros $n$ números primos, iniciando pelo número $2$."
   ]
  },
  {
   "cell_type": "code",
   "execution_count": null,
   "metadata": {},
   "outputs": [],
   "source": []
  },
  {
   "cell_type": "markdown",
   "metadata": {},
   "source": [
    "**Exercício**\n",
    "\n",
    "Pergunte um número $k$ ao usuário, e mostre os 20 próximos números primos seguintes à $k$."
   ]
  },
  {
   "cell_type": "code",
   "execution_count": null,
   "metadata": {},
   "outputs": [],
   "source": []
  },
  {
   "cell_type": "markdown",
   "metadata": {},
   "source": [
    "# Referências\n",
    "\n",
    "[SANTIAGO, K. Exercícios Resolvidos em Linguagem C](https://www.kelvinsantiago.com.br/exercicios-resolvidos-em-linguagem-c-lista-c/)"
   ]
  },
  {
   "cell_type": "markdown",
   "metadata": {},
   "source": [
    " "
   ]
  }
 ],
 "metadata": {
  "kernelspec": {
   "display_name": "Python 3 (ipykernel)",
   "language": "python",
   "name": "python3"
  },
  "language_info": {
   "codemirror_mode": {
    "name": "ipython",
    "version": 3
   },
   "file_extension": ".py",
   "mimetype": "text/x-python",
   "name": "python",
   "nbconvert_exporter": "python",
   "pygments_lexer": "ipython3",
   "version": "3.8.10"
  }
 },
 "nbformat": 4,
 "nbformat_minor": 4
}
