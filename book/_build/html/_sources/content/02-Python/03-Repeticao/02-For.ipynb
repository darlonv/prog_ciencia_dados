{
 "cells": [
  {
   "cell_type": "markdown",
   "metadata": {
    "slideshow": {
     "slide_type": "slide"
    }
   },
   "source": [
    "# For"
   ]
  },
  {
   "cell_type": "markdown",
   "metadata": {
    "slideshow": {
     "slide_type": "subslide"
    }
   },
   "source": [
    "Outra maneira de apresentar este resultado é utilizando uma *estrutura de repetição*, como o `for`. Neste caso, basta informarmos a variável que queremos utilizar e os valores que queremos.\n",
    "\n",
    "**Exemplo**\n",
    "\n",
    "```python\n",
    "for var in 0,1,2,3,4,5:\n",
    "    print(var)\n",
    "```\n",
    "No exemplo, utilizamos a variável `var`, e em seguida informamos quais valores serão armazenados na variável ($0$,$1$,$2$,$3$,$4$ e $5$).\n",
    "\n",
    "**Atividade**\n",
    "\n",
    "- Execute o exemplo utilizando a estrutura de repetição `for`"
   ]
  },
  {
   "cell_type": "code",
   "execution_count": null,
   "metadata": {
    "slideshow": {
     "slide_type": "skip"
    }
   },
   "outputs": [],
   "source": []
  },
  {
   "cell_type": "markdown",
   "metadata": {
    "slideshow": {
     "slide_type": "subslide"
    }
   },
   "source": [
    "**Sintaxe**\n",
    "\n",
    "```python\n",
    "for <variável> in <valores>:\n",
    "    <código>\n",
    "```\n",
    "onde: \n",
    "- <variável> corresponde a uma variável que terá seu valor alterado a cada execução, a **variável de controle**\n",
    "- <valores> são os valores que serão utilizados, e armazenados na variável de controle\n",
    "- <código> corresponde ao código que será executado para cada valor passado.\n",
    "    - Chamamos de **iteração** a cada vez que o código foi executado.\n",
    "    \n",
    "    \n",
    "**Observação**\n",
    "    \n",
    "- A indentação define qual será o bloco abrangido pelo `for`\n",
    "- ao final da primeira linha do `for` há dois pontos (`:`)"
   ]
  },
  {
   "cell_type": "markdown",
   "metadata": {
    "slideshow": {
     "slide_type": "subslide"
    }
   },
   "source": [
    "**Exercício**\n",
    "\n",
    "- Faça uma aplicação que apresente uma sequência de números de 5 a 9 utilizando `for`."
   ]
  },
  {
   "cell_type": "code",
   "execution_count": null,
   "metadata": {
    "slideshow": {
     "slide_type": "skip"
    }
   },
   "outputs": [],
   "source": []
  },
  {
   "cell_type": "markdown",
   "metadata": {
    "slideshow": {
     "slide_type": "subslide"
    }
   },
   "source": [
    "**Exercício**\n",
    "\n",
    "- Utilizando `for`, faça uma aplicação que apresente uma sequência de números em ordem decrescente, de 7 a 3.\n",
    "- Faça uma aplicação utilizando `for` que apresente uma sequência com as palavras 'batata', 'abacaxi', 'pessego' e 'beterraba'."
   ]
  },
  {
   "cell_type": "code",
   "execution_count": null,
   "metadata": {
    "slideshow": {
     "slide_type": "skip"
    }
   },
   "outputs": [],
   "source": []
  },
  {
   "cell_type": "code",
   "execution_count": null,
   "metadata": {
    "slideshow": {
     "slide_type": "skip"
    }
   },
   "outputs": [],
   "source": []
  },
  {
   "cell_type": "markdown",
   "metadata": {
    "slideshow": {
     "slide_type": "slide"
    }
   },
   "source": [
    "## A função `range()`\n",
    "Até aqui todos os valores a serem utilizados nas iterações foram apresentados explicitamente, visto que sempre colocamos diretamente no código cada valor a ser assumido pela variável. \n",
    "\n",
    "Porém, podemos utilizar algumas funções do Python para gerar esses valores. Para gerar sequências de números, pode-se utilizar a função `range()`.\n",
    "\n",
    "**Exemplo**\n",
    "\n",
    "Para mostrar os números de 0 a 5:\n",
    "```python\n",
    "for i in range(6):\n",
    "    print(i)\n",
    "```\n",
    "\n",
    "Observe que o último valor gerado pelo `range()` é um número menor que a entrada dada à função. Ao omitirmos o valor inicial, $0$ é assumido.\n",
    "\n",
    "**Atividade**\n",
    "\n",
    "- Execute o exemplo acima"
   ]
  },
  {
   "cell_type": "code",
   "execution_count": null,
   "metadata": {
    "slideshow": {
     "slide_type": "skip"
    }
   },
   "outputs": [],
   "source": []
  },
  {
   "cell_type": "markdown",
   "metadata": {
    "slideshow": {
     "slide_type": "subslide"
    }
   },
   "source": [
    "**Exercício**\n",
    "\n",
    "- Peça ao usuário que digite um número, e mostre a sequência de valores de 0 até o número imediatamente inferior ao número que ele digitou\n",
    "- Peça ao usuário que digite um número, e mostre a sequência de valores de 0 até o número que ele digitou"
   ]
  },
  {
   "cell_type": "code",
   "execution_count": null,
   "metadata": {
    "slideshow": {
     "slide_type": "skip"
    }
   },
   "outputs": [],
   "source": []
  },
  {
   "cell_type": "code",
   "execution_count": null,
   "metadata": {
    "slideshow": {
     "slide_type": "skip"
    }
   },
   "outputs": [],
   "source": []
  },
  {
   "cell_type": "markdown",
   "metadata": {},
   "source": [
    "**Exercícios**\n",
    "- [Beecrowd 1060 - Números Positivos ](https://www.beecrowd.com.br/judge/pt/problems/view/1060)  \n",
    "- [Beecrowd 1066 - Ímpares, Positivos e Negativos](https://www.beecrowd.com.br/judge/pt/problems/view/1066)  \n",
    "- [Beecrowd 2862 - Inseto!](https://www.beecrowd.com.br/judge/pt/problems/view/2862)\n",
    "- [Beecrowd 1133 - Resto da Divisão](https://www.beecrowd.com.br/judge/pt/problems/view/1133)"
   ]
  },
  {
   "cell_type": "code",
   "execution_count": null,
   "metadata": {},
   "outputs": [],
   "source": []
  },
  {
   "cell_type": "markdown",
   "metadata": {
    "slideshow": {
     "slide_type": "subslide"
    }
   },
   "source": [
    "A função `range()` também pode ser utilizada de outras maneiras, passando diferentes valores como entrada para a função.  \n",
    "\n",
    "**Exemplo**\n",
    "\n",
    "Especificando os valores inicial e final da sequência, como números de 5 a 8.\n",
    "```python\n",
    "for i in range(5,9):\n",
    "    print(i)\n",
    "```\n",
    "\n",
    "**Atividade**\n",
    "\n",
    "- Execute o exemplo acima"
   ]
  },
  {
   "cell_type": "code",
   "execution_count": null,
   "metadata": {
    "slideshow": {
     "slide_type": "skip"
    }
   },
   "outputs": [],
   "source": []
  },
  {
   "cell_type": "markdown",
   "metadata": {
    "slideshow": {
     "slide_type": "subslide"
    }
   },
   "source": [
    "**Exemplo**\n",
    "\n",
    "Especificando o incremento, como números de 5 a 29, incrementando de 3 em 3.\n",
    "```python\n",
    "for i in range(5,30,3):\n",
    "    print(i)\n",
    "```\n",
    "\n",
    "**Atividade**\n",
    "\n",
    "- Execute o exemplo acima"
   ]
  },
  {
   "cell_type": "code",
   "execution_count": null,
   "metadata": {
    "slideshow": {
     "slide_type": "skip"
    }
   },
   "outputs": [],
   "source": []
  },
  {
   "cell_type": "markdown",
   "metadata": {
    "slideshow": {
     "slide_type": "subslide"
    }
   },
   "source": [
    "**Exemplo**\n",
    "\n",
    "Sequência com incremento negativo (decremento), como números de 15 a 9.\n",
    "```python\n",
    "for i in range(15,8,-1):\n",
    "    print(i)\n",
    "```\n",
    "\n",
    "**Atividade**\n",
    "\n",
    "- Execute o exemplo acima"
   ]
  },
  {
   "cell_type": "code",
   "execution_count": null,
   "metadata": {
    "slideshow": {
     "slide_type": "skip"
    }
   },
   "outputs": [],
   "source": []
  },
  {
   "cell_type": "markdown",
   "metadata": {},
   "source": [
    "**Exercícios**    \n",
    "- [Beecrowd 1067 - Números Ímpares ](https://www.beecrowd.com.br/judge/pt/problems/view/1067)\n",
    "- [Beecrowd 1073 - Quadrado de Pares](https://www.beecrowd.com.br/judge/pt/problems/view/1073)"
   ]
  },
  {
   "cell_type": "code",
   "execution_count": null,
   "metadata": {},
   "outputs": [],
   "source": []
  },
  {
   "cell_type": "markdown",
   "metadata": {
    "slideshow": {
     "slide_type": "slide"
    }
   },
   "source": [
    "## Estratégias"
   ]
  },
  {
   "cell_type": "markdown",
   "metadata": {
    "slideshow": {
     "slide_type": "subslide"
    }
   },
   "source": [
    "### Acumuladores\n",
    "Um **acumulador** é uma variável que *acumula* um valor, sendo utilizada em várias iterações.\n",
    "\n",
    "**Exemplo**\n",
    "\n",
    "Soma de uma sequência de números:\n",
    "```python\n",
    "S=0\n",
    "for i in range(5,10+1):\n",
    "    S=S+i\n",
    "print('Soma:', S)\n",
    "```\n",
    "\n",
    "**Atividade**\n",
    "\n",
    "- Execute o exemplo acima"
   ]
  },
  {
   "cell_type": "code",
   "execution_count": null,
   "metadata": {
    "slideshow": {
     "slide_type": "skip"
    }
   },
   "outputs": [],
   "source": []
  },
  {
   "cell_type": "markdown",
   "metadata": {
    "slideshow": {
     "slide_type": "subslide"
    }
   },
   "source": [
    "### Estruturas aninhadas\n",
    "É possível utilizar `for` ou `if` dentro de um `for` (e vice-versa).\n",
    "\n",
    "**Exemplo**\n",
    "\n",
    "- Faça um programa que gere a seguinte saída na tela:\n",
    "```python\n",
    "1\n",
    "12\n",
    "123\n",
    "1234\n",
    "12345\n",
    "```\n",
    "```python\n",
    "nlinhas=5\n",
    "for linha in range(1,nlinhas+1):\n",
    "    for col in range(1,linha+1):\n",
    "        print(col,end='')\n",
    "    print('')\n",
    "```\n",
    "\n",
    "**Atividade**\n",
    "\n",
    "- Execute o exemplo acima, e explique o ocorrido"
   ]
  },
  {
   "cell_type": "code",
   "execution_count": null,
   "metadata": {
    "slideshow": {
     "slide_type": "skip"
    }
   },
   "outputs": [],
   "source": []
  },
  {
   "cell_type": "markdown",
   "metadata": {
    "slideshow": {
     "slide_type": "subslide"
    }
   },
   "source": [
    "**Exemplo**\n",
    "\n",
    "Procure dois valores que quando multiplicados resultam em um valor especificado.\n",
    "```python\n",
    "val = 56\n",
    "for i in range(11):\n",
    "    for j in range(11):\n",
    "        mult = i*j\n",
    "        if mult == val:\n",
    "            print(i,'*',j,'=',mult)\n",
    "```\n",
    "\n",
    "**Atividade**\n",
    "\n",
    "- Execute o exemplo."
   ]
  },
  {
   "cell_type": "code",
   "execution_count": null,
   "metadata": {
    "slideshow": {
     "slide_type": "skip"
    }
   },
   "outputs": [],
   "source": []
  },
  {
   "cell_type": "markdown",
   "metadata": {
    "slideshow": {
     "slide_type": "subslide"
    }
   },
   "source": [
    "Neste caso, é necessário atenção ao nível em que cada estrutura está. Observe as diferenças:\n",
    "```python\n",
    "val = 56\n",
    "for i in range(11):\n",
    "    for j in range(11):\n",
    "        mult = i*j\n",
    "    if mult == val:\n",
    "        print(i,'*',j,'=',mult)\n",
    "```\n",
    "```python\n",
    "val = 56\n",
    "for i in range(11):\n",
    "    for j in range(11):\n",
    "        mult = i*j\n",
    "if mult == val:\n",
    "    print(i,'*',j,'=',mult)\n",
    "```\n",
    "\n",
    "**Atividade**\n",
    "\n",
    "- Execute os exemplos, e mostre a diferença destes com o exemplo anterior\n",
    "- Qual dos códigos apresenta o resultado correto?\n",
    "- O que há de errado?"
   ]
  },
  {
   "cell_type": "code",
   "execution_count": null,
   "metadata": {
    "slideshow": {
     "slide_type": "skip"
    }
   },
   "outputs": [],
   "source": []
  },
  {
   "cell_type": "code",
   "execution_count": null,
   "metadata": {
    "slideshow": {
     "slide_type": "skip"
    }
   },
   "outputs": [],
   "source": []
  },
  {
   "cell_type": "markdown",
   "metadata": {
    "slideshow": {
     "slide_type": "slide"
    }
   },
   "source": [
    "## Erros comuns"
   ]
  },
  {
   "cell_type": "markdown",
   "metadata": {
    "slideshow": {
     "slide_type": "subslide"
    }
   },
   "source": [
    "Alguns erros comuns ao utilizar a estrutura de repetição `for` estão descritos a seguir.\n",
    "### Indentação incorreta\n",
    "```python\n",
    "for j in range(0,10):\n",
    "print(j)\n",
    "```\n",
    "\n",
    "**Atividade**\n",
    "\n",
    "- Execute o exemplo e observe a saída"
   ]
  },
  {
   "cell_type": "code",
   "execution_count": null,
   "metadata": {
    "slideshow": {
     "slide_type": "skip"
    }
   },
   "outputs": [],
   "source": []
  },
  {
   "cell_type": "markdown",
   "metadata": {
    "slideshow": {
     "slide_type": "subslide"
    }
   },
   "source": [
    "### Sintaxe incorreta\n",
    "```python\n",
    "for k in range(5,10,2)\n",
    "    print(k)\n",
    "```\n",
    "\n",
    "**Atividade**\n",
    "\n",
    "- Execute o exemplo e observe a saída"
   ]
  },
  {
   "cell_type": "code",
   "execution_count": null,
   "metadata": {
    "slideshow": {
     "slide_type": "skip"
    }
   },
   "outputs": [],
   "source": []
  },
  {
   "cell_type": "markdown",
   "metadata": {
    "slideshow": {
     "slide_type": "subslide"
    }
   },
   "source": [
    "### Valores incorretos\n",
    "```python\n",
    "for k in range(10,5,2)\n",
    "    print(k)\n",
    "```\n",
    "\n",
    "**Atividade**\n",
    "\n",
    "- Execute o exemplo e observe a saída"
   ]
  },
  {
   "cell_type": "code",
   "execution_count": null,
   "metadata": {
    "slideshow": {
     "slide_type": "skip"
    }
   },
   "outputs": [],
   "source": []
  },
  {
   "cell_type": "markdown",
   "metadata": {
    "slideshow": {
     "slide_type": "subslide"
    }
   },
   "source": [
    "### Uso incorreto da variável de controle\n",
    "```python\n",
    "for j in range(0,10):\n",
    "    print(k)\n",
    "```\n",
    "\n",
    "**Atividade**\n",
    "\n",
    "- Execute o exemplo e observe a saída"
   ]
  },
  {
   "cell_type": "code",
   "execution_count": null,
   "metadata": {
    "slideshow": {
     "slide_type": "skip"
    }
   },
   "outputs": [],
   "source": []
  },
  {
   "cell_type": "markdown",
   "metadata": {
    "slideshow": {
     "slide_type": "slide"
    }
   },
   "source": [
    "**Exercícios**"
   ]
  },
  {
   "cell_type": "markdown",
   "metadata": {
    "slideshow": {
     "slide_type": "subslide"
    }
   },
   "source": [
    "Resolva os exercícios a seguir, utilizando `for`.\n",
    "1. Peça ao usuário que digite dois números A e B, de forma que A < B. Mostre a sequência de valores de A até B.\n",
    "1. Peça ao usuário que digite dois números: A e B. Mostre a sequência de valores, do menor número até o maior.\n",
    "1. Peça ao usuário que digite dois números: A e B. Mostre a sequência inversa de valores, do maior até o menor número.\n",
    "1. Peça ao usuário que digite um número par. Mostre na tela os 10 números pares seguintes.\n",
    "1. Peça ao usuário que digite um número. Mostre na tela os 10 números pares seguintes.\n",
    "1. Calcule e mostre na tela a soma dos números de 1 a 10.\n",
    "1. Calcule e mostre na tela a soma dos números de 1 a 100.\n",
    "1. Solicite ao usuário que digite dois números A e B. Calcule e mostre a soma de todos os números no intervalo de A a B.\n",
    "1. Não execute o código abaixo. Apenas observe-o e informe qual será a saída dele.\n",
    "```python\n",
    "for j in range(8):\n",
    "print(j)\n",
    "```\n",
    "1. Não execute o código abaixo. Apenas observe-o e informe qual será a saída dele.\n",
    "```python\n",
    "for j in range(5,10,-1):\n",
    "        print(j)\n",
    "```"
   ]
  },
  {
   "cell_type": "code",
   "execution_count": null,
   "metadata": {
    "slideshow": {
     "slide_type": "skip"
    }
   },
   "outputs": [],
   "source": []
  },
  {
   "cell_type": "markdown",
   "metadata": {
    "slideshow": {
     "slide_type": "slide"
    }
   },
   "source": [
    "## Referências\n",
    "\n",
    "[FORBELLONE, A. L. V.; EBERSPÄCHER, H. F. Lógica de programação a construção de algoritmos e estruturas de dados. 3. ed. -. São Paulo: Prentice Hall, 2005. ISBN 9788576050247.](https://plataforma.bvirtual.com.br/Leitor/Publicacao/323/pdf/11?code=DUT9ceW6cevP76Zo+EZuhLshlFiipf6bm1qH+Er9IE2FR2aabpwRBUFHWBQY+ppEDI1u1phvX3Bo9xII7UTG/g==)  \n",
    "\n",
    "[ASCENCIO, A. F. G.; CAMPOS, E. A. V. Fundamentos da programação de computadores algoritmos, Pascal e C/C++. São Paulo: Prentice Hall, 2002. ISBN 9788587918369.](https://plataforma.bvirtual.com.br/Leitor/Publicacao/474/pdf/17?code=5aKNgQDVA1oGkIID/Mxq/5biXE3mV+4408hOmSg69vmeXo0W9VHrtyzrwyezUND1EQo7jhOxxg2X7UCNFBYZHg==)  \n",
    "\n",
    "MATTHES, E. Curso intensivo de Python: uma introdução à prática e baseada em projetos à programação. São Paulo: Novatec, 2015.  \n",
    "\n",
    "MENEZES, N. N. C. Introdução à programação com Python: algoritmos e lógica de programação para iniciantes. 3.ed. São Paulo: Novatec, 2019.  \n",
    "\n",
    "\n",
    "\n",
    "### Outros materiais\n",
    "\n",
    "[Python. ForLoop - Python Wiki.](https://wiki.python.org/moin/ForLoop)  \n"
   ]
  },
  {
   "cell_type": "code",
   "execution_count": null,
   "metadata": {},
   "outputs": [],
   "source": []
  },
  {
   "cell_type": "markdown",
   "metadata": {
    "slideshow": {
     "slide_type": "subslide"
    }
   },
   "source": [
    " "
   ]
  }
 ],
 "metadata": {
  "kernelspec": {
   "display_name": "Python 3 (ipykernel)",
   "language": "python",
   "name": "python3"
  },
  "language_info": {
   "codemirror_mode": {
    "name": "ipython",
    "version": 3
   },
   "file_extension": ".py",
   "mimetype": "text/x-python",
   "name": "python",
   "nbconvert_exporter": "python",
   "pygments_lexer": "ipython3",
   "version": "3.8.10"
  }
 },
 "nbformat": 4,
 "nbformat_minor": 4
}
