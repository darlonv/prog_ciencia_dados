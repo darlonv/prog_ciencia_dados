{
 "cells": [
  {
   "cell_type": "markdown",
   "metadata": {},
   "source": [
    "# T1-2"
   ]
  },
  {
   "cell_type": "markdown",
   "metadata": {},
   "source": [
    "Responda às questões abaixo, utilizando a linguagem de programação Python. Utilize apenas estruturas e operações trabalhadas nas atividades de aula.\n",
    "\n",
    "Entre as atividades código executado, de maneira que seja possível visualizar as entradas utilizadas e as saídas geradas pelo seu código."
   ]
  },
  {
   "cell_type": "markdown",
   "metadata": {},
   "source": [
    "## Item 1\n",
    "\n",
    "Desenvolva uma aplicação que pergunta `n` valores inteiros ao usuário. Após a entrada dos dados, a aplicação deve informar se os dados estão ordenados de maneira crescente, ordenados de maneira decrescente ou desordenados. Caso haja dois valores iguais em sequência, os valores são considerados como ordenados."
   ]
  },
  {
   "cell_type": "markdown",
   "metadata": {},
   "source": [
    "Nos exemplos apresentados abaixo, o primeiro valor corresponde ao número `n`, que indica a quantidade de valores que serão digitados.  \n",
    "\n",
    "**Exemplo**  \n",
    "- Entrada:\n",
    "```\n",
    "10\n",
    "1\n",
    "3\n",
    "5\n",
    "7\n",
    "9\n",
    "10\n",
    "13\n",
    "15\n",
    "17\n",
    "19\n",
    "```\n",
    "- Saída:\n",
    "```\n",
    "Os valores estão ordenados numericamente de maneira crescente.\n",
    "```\n",
    "\n",
    "**Exemplo**  \n",
    "- Entrada:\n",
    "```\n",
    "5\n",
    "9\n",
    "8\n",
    "7\n",
    "3\n",
    "2\n",
    "```\n",
    "- Saída:\n",
    "```\n",
    "Os valores estão ordenados numericamente de maneira decrescente.\n",
    "```\n",
    "\n",
    "**Exemplo**  \n",
    "- Entrada:\n",
    "```\n",
    "7\n",
    "1\n",
    "2\n",
    "3\n",
    "4\n",
    "2\n",
    "6\n",
    "7\n",
    "```\n",
    "- Saída:\n",
    "```\n",
    "Os valores estão desordenados numericamente.\n",
    "```\n",
    "\n",
    "**Exemplo**  \n",
    "- Entrada:\n",
    "```\n",
    "4\n",
    "1\n",
    "3\n",
    "3\n",
    "5\n",
    "```\n",
    "- Saída:\n",
    "```\n",
    "Os valores estão ordenados numericamente de maneira crescente.\n",
    "```"
   ]
  },
  {
   "cell_type": "code",
   "execution_count": null,
   "metadata": {},
   "outputs": [],
   "source": []
  },
  {
   "cell_type": "markdown",
   "metadata": {
    "slideshow": {
     "slide_type": "subslide"
    }
   },
   "source": [
    "## Item 2\n",
    "Pergunte ao usuário dois números inteiros, $x$ e $y$, e mostre todos os números perfeitos no intervalo $[x,y]$.  \n",
    "Um número `n` é dito perfeito, se `n` for inteiro, positivo, e se $n$ for igual à soma de seus divisores positivos e diferentes de $n$. Exemplo: O número $6$ é perfeito, pois $6=3+2+1$.\n",
    "\n",
    "**Exemplo**\n",
    "- Entrada:\n",
    "```\n",
    "2\n",
    "10\n",
    "```\n",
    "- Saída:\n",
    "```\n",
    "Os números perfeitos no intervalo [ 2 , 10 ] são:\n",
    "6\n",
    "```\n",
    "\n",
    "**Exemplo**\n",
    "- Entrada:\n",
    "```\n",
    "8\n",
    "20\n",
    "```\n",
    "- Saída:\n",
    "```\n",
    "Os números perfeitos no intervalo [ 8 , 20 ] são:\n",
    "não há números perfeitos no intervalo.\n",
    "```"
   ]
  },
  {
   "cell_type": "code",
   "execution_count": null,
   "metadata": {},
   "outputs": [],
   "source": []
  },
  {
   "cell_type": "markdown",
   "metadata": {
    "slideshow": {
     "slide_type": "subslide"
    }
   },
   "source": [
    "## Item 3\n",
    "\n",
    "Faça um programa que pergunte $n$ ao usuário, tal que $n$ corresponde ao número de linhas, que devem ser impressas de acordo com o padrão mostrado no exemplo.\n",
    "\n",
    "**Dica**:\n",
    "Pode ser utilizado parâmetro `end=''` na função `print` para que não seja feita a quebra da linha na saída do `print`. \n",
    "```\n",
    "print(1)\n",
    "print(2)\n",
    "saída:\n",
    "1\n",
    "2\n",
    "print(1,end='')\n",
    "print(2)\n",
    "saída:\n",
    "12\n",
    "```\n",
    "\n",
    "**Exemplo**\n",
    "- Entrada:\n",
    "```\n",
    "10\n",
    "```\n",
    "- Saída:\n",
    "\n",
    "```\n",
    "*\n",
    "*-\n",
    "*-*\n",
    "*-*-\n",
    "*-*-*\n",
    "*-*-*-\n",
    "*-*-*-*\n",
    "*-*-*-*-\n",
    "*-*-*-*-*\n",
    "*-*-*-*-*-\n",
    "```"
   ]
  },
  {
   "cell_type": "code",
   "execution_count": null,
   "metadata": {},
   "outputs": [],
   "source": []
  }
 ],
 "metadata": {
  "kernelspec": {
   "display_name": "Python 3 (ipykernel)",
   "language": "python",
   "name": "python3"
  },
  "language_info": {
   "codemirror_mode": {
    "name": "ipython",
    "version": 3
   },
   "file_extension": ".py",
   "mimetype": "text/x-python",
   "name": "python",
   "nbconvert_exporter": "python",
   "pygments_lexer": "ipython3",
   "version": "3.8.10"
  }
 },
 "nbformat": 4,
 "nbformat_minor": 4
}
