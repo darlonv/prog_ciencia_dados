{
 "cells": [
  {
   "cell_type": "markdown",
   "id": "a461dc70",
   "metadata": {},
   "source": [
    "# Planejamento\n",
    "- Curso: Especialização em Ciência de Dados e Inteligência Competitiva para Negócios\n",
    "- Docente: Darlon Vasata\n",
    "- Carga horária: 40 horas"
   ]
  },
  {
   "cell_type": "markdown",
   "id": "6d744485",
   "metadata": {},
   "source": [
    "## Objetivo\n",
    "Desenvolver as características fundamentais e importantes apresentados por linguagem de programação adotadas em projetos de ciência de dados, incluindo os paradigmas e ambientes de programação. Introduzir uma linguagem de programação matricial para apoiar o desenvolvimento de projetos de ciência de dados, incluindo: tipos de dados, estruturas de controle, bibliotecas tipicamente usadas para manipulação, processamento e visualização de dados, manipulação de conjunto de caracteres, processamento de dados massivos, e processamento paralelo."
   ]
  },
  {
   "cell_type": "markdown",
   "id": "7787fa36",
   "metadata": {},
   "source": [
    "## Programação\n",
    "- Linguagens de programação para ciência de dados\n",
    "- Ambiente de programação\n",
    "- Python: Tipos de dados e estruturas de controle\n",
    "- Processamento matricial: Introdução à biblioteca numpy\n",
    "- Pré-processamento e análise exploratória de dados: Pandas e Matplotlib\n",
    "- Programação paralela em Python\n",
    "- Noções de processamento de dados massivos usando Python"
   ]
  },
  {
   "cell_type": "markdown",
   "id": "65f0a578",
   "metadata": {},
   "source": [
    "### Encontro 1\n",
    "Carga horária: 10 horas\n",
    "\n",
    "#### Manhã\n",
    "- Linguagens de programação para ciência de dados\n",
    "    - Linguagens de programação estruturada x orientada a objetos\n",
    "- Ambiente de programação\n",
    "    - Virtualenv\n",
    "    - Jupyter\n",
    "    - Jupyter Lab\n",
    "    - Google Colaboratory\n",
    "        - Google Drive\n",
    "- Python: Tipos de dados e estruturas de controle\n",
    "    - Python\n",
    "        - Estruturada\n",
    "        - Orientada a objetos\n",
    "    - Estruturas de seleção\n",
    "    - Estruturas de repetição\n",
    "    \n",
    "#### Tarde\n",
    "- Python: Estruturas de dados\n",
    "    - Sequências\n",
    "        - Listas\n",
    "        - Tuplas\n",
    "    - Conjuntos e dicionários\n",
    "        - Conjuntos\n",
    "        - Dicionários\n",
    "    - Arquivos\n",
    "        - Texto\n",
    "        - Json\n",
    "        - Serialização de estruturas\n",
    "        \n",
    "        \n",
    "#### Trabalho"
   ]
  },
  {
   "cell_type": "markdown",
   "id": "fc8f5f46",
   "metadata": {},
   "source": [
    "### Encontro 2\n",
    "Carga horária: 10 horas\n",
    "\n",
    "#### Manhã\n",
    "- Processamento matricial: Introdução à biblioteca numpy\n",
    "    - Numpy\n",
    "        - Arrays\n",
    "        - Inicialização\n",
    "    - Estruturas\n",
    "        - Múltiplas dimensões\n",
    "        - *shape* e *reshape*\n",
    "    - Operações\n",
    "    - Dimensões\n",
    "    - Slices\n",
    "    - Filtros\n",
    "    \n",
    "#### Tarde\n",
    "- Pré-processamento e análise exploratória de dados: Pandas e matplotlib\n",
    "    - Pandas\n",
    "         - Series\n",
    "         - Dataframes\n",
    "    - Operações\n",
    "    - Gráficos\n",
    "        - Matplotlib\n",
    "        - Seaborn\n",
    "    - Apresentação\n",
    "        - Streamlit\n",
    "        - Dash\n",
    "        \n",
    "#### Trabalho"
   ]
  },
  {
   "cell_type": "markdown",
   "id": "6e2c36df",
   "metadata": {},
   "source": [
    "### Encontro 3\n",
    "\n",
    "Carga horária: 10 horas\n",
    "\n",
    "- Prática Pandas\n",
    "        \n",
    "#### Tarde\n",
    "\n",
    "- Outras bibliotecas\n",
    "    - Scikit-Learn\n",
    "    - GeoPandas\n",
    "\n",
    "#### Trabalho"
   ]
  },
  {
   "cell_type": "markdown",
   "id": "3af28de8",
   "metadata": {},
   "source": [
    "### Encontro 4\n",
    "\n",
    "Carga horária: 10 horas\n",
    "\n",
    "#### Manhã\n",
    "- Programação paralela em Python\n",
    "    - Bibliotecas voltadas para exploração de paralelismo\n",
    "    - Pandas: processamento paralelo de DataFrames\n",
    "        - Pandas\n",
    "        - Dask\n",
    "        - Modin\n",
    "- Noções de processamento de dados massivos usando Python\n",
    "    - Estruturas de dados probabilísticas\n",
    "    - Pandas: processamento de grandes arquivos\n",
    "    - Spark\n",
    "        - Pyspark\n",
    "        - Koalas\n",
    "        \n",
    "#### Tarde\n",
    "- Apresentação de trabalhos\n",
    "    \n",
    "#### Trabalho\n",
    "- Apresentação"
   ]
  },
  {
   "cell_type": "markdown",
   "id": "37869113",
   "metadata": {},
   "source": []
  },
  {
   "cell_type": "markdown",
   "id": "31cd1b76",
   "metadata": {},
   "source": []
  }
 ],
 "metadata": {
  "kernelspec": {
   "display_name": "Python 3 (ipykernel)",
   "language": "python",
   "name": "python3"
  },
  "language_info": {
   "codemirror_mode": {
    "name": "ipython",
    "version": 3
   },
   "file_extension": ".py",
   "mimetype": "text/x-python",
   "name": "python",
   "nbconvert_exporter": "python",
   "pygments_lexer": "ipython3",
   "version": "3.8.10"
  }
 },
 "nbformat": 4,
 "nbformat_minor": 5
}
